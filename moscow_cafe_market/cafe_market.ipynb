{
 "cells": [
  {
   "cell_type": "markdown",
   "metadata": {},
   "source": [
    "# Рынок заведений общественного питания Москвы"
   ]
  },
  {
   "cell_type": "markdown",
   "metadata": {},
   "source": [
    "<a id=\"contents\"></a>\n",
    "### *Оглавление:*"
   ]
  },
  {
   "cell_type": "markdown",
   "metadata": {},
   "source": [
    "1. [Загрузка данных](#loading)\n",
    "2. [Цель работы](#goal)\n",
    "3. [Задачи работы](#tasks)\n",
    "4. [Предобработка данных](#cleaning)\n",
    "5. [Анализ данных](#analysis)\n",
    "    * [Соотношение видов объектов общественного питания по количеству](#analysis_1_1)\n",
    "    * [Соотношение сетевых и несетевых заведений](#analysis_1_2)\n",
    "    * [Распределение сетевых и несетевых заведений по типам](#analysis_1_3)\n",
    "    * [Среднее количество посадочных мест по типам заведений](#analysis_1_4)\n",
    "    * [Распределение посадочных мест сетевых заведений](#analysis_1_5)\n",
    "    * [Выделение улиц, топ 10 улиц по количеству заведений и их принадленость районам](#analysis_1_6)\n",
    "    * [Число улиц с одним объектом общественного питания](#analysis_1_7)\n",
    "    * [Распределение количества посадочных мест на улицах с большим количеством заведений.](#analysis_1_8)\n",
    "6. [Выводы](#conclusion)\n",
    "7. [Презентация исследования](#presentation)"
   ]
  },
  {
   "cell_type": "markdown",
   "metadata": {},
   "source": [
    "<a id=\"loading\"></a>\n",
    "## Загрузка данных\n",
    "[К оглавлению](#contents)"
   ]
  },
  {
   "cell_type": "code",
   "execution_count": 1,
   "metadata": {},
   "outputs": [],
   "source": [
    "import pandas as pd\n",
    "import seaborn as sns\n",
    "import matplotlib.pyplot as plt\n",
    "import numpy as np\n",
    "from io import BytesIO\n",
    "import requests\n",
    "spreadsheet_id = '1fLuGYw6Vsa1v86EipgmHF6ouVfySVYwVzQBn7cOk3pQ'\n",
    "file_name = 'https://docs.google.com/spreadsheets/d/{}/export?format=csv'.format(spreadsheet_id)\n",
    "r = requests.get(file_name)\n",
    "districts = pd.read_csv(BytesIO(r.content))"
   ]
  },
  {
   "cell_type": "code",
   "execution_count": 2,
   "metadata": {
    "scrolled": false
   },
   "outputs": [
    {
     "data": {
      "text/html": [
       "<div>\n",
       "<style scoped>\n",
       "    .dataframe tbody tr th:only-of-type {\n",
       "        vertical-align: middle;\n",
       "    }\n",
       "\n",
       "    .dataframe tbody tr th {\n",
       "        vertical-align: top;\n",
       "    }\n",
       "\n",
       "    .dataframe thead th {\n",
       "        text-align: right;\n",
       "    }\n",
       "</style>\n",
       "<table border=\"1\" class=\"dataframe\">\n",
       "  <thead>\n",
       "    <tr style=\"text-align: right;\">\n",
       "      <th></th>\n",
       "      <th>id</th>\n",
       "      <th>object_name</th>\n",
       "      <th>chain</th>\n",
       "      <th>object_type</th>\n",
       "      <th>address</th>\n",
       "      <th>number</th>\n",
       "    </tr>\n",
       "  </thead>\n",
       "  <tbody>\n",
       "    <tr>\n",
       "      <td>0</td>\n",
       "      <td>151635</td>\n",
       "      <td>СМЕТАНА</td>\n",
       "      <td>нет</td>\n",
       "      <td>кафе</td>\n",
       "      <td>город Москва, улица Егора Абакумова, дом 9</td>\n",
       "      <td>48</td>\n",
       "    </tr>\n",
       "    <tr>\n",
       "      <td>1</td>\n",
       "      <td>77874</td>\n",
       "      <td>Родник</td>\n",
       "      <td>нет</td>\n",
       "      <td>кафе</td>\n",
       "      <td>город Москва, улица Талалихина, дом 2/1, корпус 1</td>\n",
       "      <td>35</td>\n",
       "    </tr>\n",
       "    <tr>\n",
       "      <td>2</td>\n",
       "      <td>24309</td>\n",
       "      <td>Кафе «Академия»</td>\n",
       "      <td>нет</td>\n",
       "      <td>кафе</td>\n",
       "      <td>город Москва, Абельмановская улица, дом 6</td>\n",
       "      <td>95</td>\n",
       "    </tr>\n",
       "    <tr>\n",
       "      <td>3</td>\n",
       "      <td>21894</td>\n",
       "      <td>ПИЦЦЕТОРИЯ</td>\n",
       "      <td>да</td>\n",
       "      <td>кафе</td>\n",
       "      <td>город Москва, Абрамцевская улица, дом 1</td>\n",
       "      <td>40</td>\n",
       "    </tr>\n",
       "    <tr>\n",
       "      <td>4</td>\n",
       "      <td>119365</td>\n",
       "      <td>Кафе «Вишневая метель»</td>\n",
       "      <td>нет</td>\n",
       "      <td>кафе</td>\n",
       "      <td>город Москва, Абрамцевская улица, дом 9, корпус 1</td>\n",
       "      <td>50</td>\n",
       "    </tr>\n",
       "    <tr>\n",
       "      <td>...</td>\n",
       "      <td>...</td>\n",
       "      <td>...</td>\n",
       "      <td>...</td>\n",
       "      <td>...</td>\n",
       "      <td>...</td>\n",
       "      <td>...</td>\n",
       "    </tr>\n",
       "    <tr>\n",
       "      <td>15361</td>\n",
       "      <td>208537</td>\n",
       "      <td>Шоколадница</td>\n",
       "      <td>да</td>\n",
       "      <td>кафе</td>\n",
       "      <td>город Москва, 3-й Крутицкий переулок, дом 18</td>\n",
       "      <td>50</td>\n",
       "    </tr>\n",
       "    <tr>\n",
       "      <td>15362</td>\n",
       "      <td>209264</td>\n",
       "      <td>Шоколадница</td>\n",
       "      <td>да</td>\n",
       "      <td>кафе</td>\n",
       "      <td>город Москва, улица Земляной Вал, дом 33</td>\n",
       "      <td>10</td>\n",
       "    </tr>\n",
       "    <tr>\n",
       "      <td>15363</td>\n",
       "      <td>209186</td>\n",
       "      <td>Шоколадница</td>\n",
       "      <td>да</td>\n",
       "      <td>кафе</td>\n",
       "      <td>город Москва, улица Земляной Вал, дом 33</td>\n",
       "      <td>20</td>\n",
       "    </tr>\n",
       "    <tr>\n",
       "      <td>15364</td>\n",
       "      <td>221900</td>\n",
       "      <td>Шоколадница</td>\n",
       "      <td>да</td>\n",
       "      <td>кафе</td>\n",
       "      <td>город Москва, поселение Московский, Киевское ш...</td>\n",
       "      <td>36</td>\n",
       "    </tr>\n",
       "    <tr>\n",
       "      <td>15365</td>\n",
       "      <td>222535</td>\n",
       "      <td>Шоколадница</td>\n",
       "      <td>да</td>\n",
       "      <td>кафе</td>\n",
       "      <td>город Москва, Ходынский бульвар, дом 4</td>\n",
       "      <td>10</td>\n",
       "    </tr>\n",
       "  </tbody>\n",
       "</table>\n",
       "<p>15366 rows × 6 columns</p>\n",
       "</div>"
      ],
      "text/plain": [
       "           id             object_name chain object_type  \\\n",
       "0      151635                 СМЕТАНА   нет        кафе   \n",
       "1       77874                  Родник   нет        кафе   \n",
       "2       24309         Кафе «Академия»   нет        кафе   \n",
       "3       21894              ПИЦЦЕТОРИЯ    да        кафе   \n",
       "4      119365  Кафе «Вишневая метель»   нет        кафе   \n",
       "...       ...                     ...   ...         ...   \n",
       "15361  208537             Шоколадница    да        кафе   \n",
       "15362  209264             Шоколадница    да        кафе   \n",
       "15363  209186             Шоколадница    да        кафе   \n",
       "15364  221900             Шоколадница    да        кафе   \n",
       "15365  222535             Шоколадница    да        кафе   \n",
       "\n",
       "                                                 address  number  \n",
       "0             город Москва, улица Егора Абакумова, дом 9      48  \n",
       "1      город Москва, улица Талалихина, дом 2/1, корпус 1      35  \n",
       "2              город Москва, Абельмановская улица, дом 6      95  \n",
       "3                город Москва, Абрамцевская улица, дом 1      40  \n",
       "4      город Москва, Абрамцевская улица, дом 9, корпус 1      50  \n",
       "...                                                  ...     ...  \n",
       "15361       город Москва, 3-й Крутицкий переулок, дом 18      50  \n",
       "15362           город Москва, улица Земляной Вал, дом 33      10  \n",
       "15363           город Москва, улица Земляной Вал, дом 33      20  \n",
       "15364  город Москва, поселение Московский, Киевское ш...      36  \n",
       "15365             город Москва, Ходынский бульвар, дом 4      10  \n",
       "\n",
       "[15366 rows x 6 columns]"
      ]
     },
     "execution_count": 2,
     "metadata": {},
     "output_type": "execute_result"
    }
   ],
   "source": [
    "rest = pd.read_csv('/datasets/rest_data.csv')\n",
    "rest"
   ]
  },
  {
   "cell_type": "code",
   "execution_count": 3,
   "metadata": {},
   "outputs": [
    {
     "data": {
      "text/html": [
       "<div>\n",
       "<style scoped>\n",
       "    .dataframe tbody tr th:only-of-type {\n",
       "        vertical-align: middle;\n",
       "    }\n",
       "\n",
       "    .dataframe tbody tr th {\n",
       "        vertical-align: top;\n",
       "    }\n",
       "\n",
       "    .dataframe thead th {\n",
       "        text-align: right;\n",
       "    }\n",
       "</style>\n",
       "<table border=\"1\" class=\"dataframe\">\n",
       "  <thead>\n",
       "    <tr style=\"text-align: right;\">\n",
       "      <th></th>\n",
       "      <th>streetname</th>\n",
       "      <th>areaid</th>\n",
       "      <th>okrug</th>\n",
       "      <th>area</th>\n",
       "    </tr>\n",
       "  </thead>\n",
       "  <tbody>\n",
       "    <tr>\n",
       "      <td>0</td>\n",
       "      <td>Выставочный переулок</td>\n",
       "      <td>17</td>\n",
       "      <td>ЦАО</td>\n",
       "      <td>Пресненский район</td>\n",
       "    </tr>\n",
       "    <tr>\n",
       "      <td>1</td>\n",
       "      <td>улица Гашека</td>\n",
       "      <td>17</td>\n",
       "      <td>ЦАО</td>\n",
       "      <td>Пресненский район</td>\n",
       "    </tr>\n",
       "    <tr>\n",
       "      <td>2</td>\n",
       "      <td>Большая Никитская улица</td>\n",
       "      <td>17</td>\n",
       "      <td>ЦАО</td>\n",
       "      <td>Пресненский район</td>\n",
       "    </tr>\n",
       "    <tr>\n",
       "      <td>3</td>\n",
       "      <td>Глубокий переулок</td>\n",
       "      <td>17</td>\n",
       "      <td>ЦАО</td>\n",
       "      <td>Пресненский район</td>\n",
       "    </tr>\n",
       "    <tr>\n",
       "      <td>4</td>\n",
       "      <td>Большой Гнездниковский переулок</td>\n",
       "      <td>17</td>\n",
       "      <td>ЦАО</td>\n",
       "      <td>Пресненский район</td>\n",
       "    </tr>\n",
       "    <tr>\n",
       "      <td>...</td>\n",
       "      <td>...</td>\n",
       "      <td>...</td>\n",
       "      <td>...</td>\n",
       "      <td>...</td>\n",
       "    </tr>\n",
       "    <tr>\n",
       "      <td>4393</td>\n",
       "      <td>Вознесенский проезд</td>\n",
       "      <td>17</td>\n",
       "      <td>ЦАО</td>\n",
       "      <td>Пресненский район</td>\n",
       "    </tr>\n",
       "    <tr>\n",
       "      <td>4394</td>\n",
       "      <td>Волков переулок</td>\n",
       "      <td>17</td>\n",
       "      <td>ЦАО</td>\n",
       "      <td>Пресненский район</td>\n",
       "    </tr>\n",
       "    <tr>\n",
       "      <td>4395</td>\n",
       "      <td>Поварская улица</td>\n",
       "      <td>17</td>\n",
       "      <td>ЦАО</td>\n",
       "      <td>Пресненский район</td>\n",
       "    </tr>\n",
       "    <tr>\n",
       "      <td>4396</td>\n",
       "      <td>Кудринская площадь</td>\n",
       "      <td>17</td>\n",
       "      <td>ЦАО</td>\n",
       "      <td>Пресненский район</td>\n",
       "    </tr>\n",
       "    <tr>\n",
       "      <td>4397</td>\n",
       "      <td>Вспольный переулок</td>\n",
       "      <td>17</td>\n",
       "      <td>ЦАО</td>\n",
       "      <td>Пресненский район</td>\n",
       "    </tr>\n",
       "  </tbody>\n",
       "</table>\n",
       "<p>4398 rows × 4 columns</p>\n",
       "</div>"
      ],
      "text/plain": [
       "                           streetname  areaid okrug               area\n",
       "0                Выставочный переулок      17   ЦАО  Пресненский район\n",
       "1                        улица Гашека      17   ЦАО  Пресненский район\n",
       "2             Большая Никитская улица      17   ЦАО  Пресненский район\n",
       "3                   Глубокий переулок      17   ЦАО  Пресненский район\n",
       "4     Большой Гнездниковский переулок      17   ЦАО  Пресненский район\n",
       "...                               ...     ...   ...                ...\n",
       "4393              Вознесенский проезд      17   ЦАО  Пресненский район\n",
       "4394                  Волков переулок      17   ЦАО  Пресненский район\n",
       "4395                  Поварская улица      17   ЦАО  Пресненский район\n",
       "4396               Кудринская площадь      17   ЦАО  Пресненский район\n",
       "4397               Вспольный переулок      17   ЦАО  Пресненский район\n",
       "\n",
       "[4398 rows x 4 columns]"
      ]
     },
     "execution_count": 3,
     "metadata": {},
     "output_type": "execute_result"
    }
   ],
   "source": [
    "districts"
   ]
  },
  {
   "cell_type": "markdown",
   "metadata": {},
   "source": [
    "<a id=\"goal\"></a> \n",
    "## Цель работы \n",
    "[К оглавлению](#contents)"
   ]
  },
  {
   "cell_type": "markdown",
   "metadata": {},
   "source": [
    "*Дать рекомендации по открытию нового кафе.*"
   ]
  },
  {
   "cell_type": "markdown",
   "metadata": {},
   "source": [
    "<a id=\"tasks\"></a> \n",
    "## Задачи работы:"
   ]
  },
  {
   "cell_type": "markdown",
   "metadata": {},
   "source": [
    "1. Проанализировать соотношение разных типов объектов общественного питания\n",
    "2. Найти соотношение сетевых и несетевых заведений\n",
    "3. Разобраться для какого объекта характерно сетевое распространение\n",
    "4. Посмотреть, какое количество завежений характерно для сетевых заведений\n",
    "5. Показать среднее количество посадочных мест для разного вида объектов\n",
    "6. Найти топ 10 улиц по количеству объектов и соотвествующие им районы\n",
    "7. Найти количество объектов с одной улицей и ответить на вопрос,в  каких районах находятся эти улицы\n",
    "8. Посмотреть на распределение количества посадочных мест для топ 10 улиц."
   ]
  },
  {
   "cell_type": "markdown",
   "metadata": {},
   "source": [
    "<a id=\"cleaning\"></a> \n",
    "## Предобработка данных\n",
    "[К оглавлению](#contents)"
   ]
  },
  {
   "cell_type": "code",
   "execution_count": 4,
   "metadata": {},
   "outputs": [
    {
     "data": {
      "text/plain": [
       "0"
      ]
     },
     "execution_count": 4,
     "metadata": {},
     "output_type": "execute_result"
    }
   ],
   "source": [
    "rest.duplicated().sum()"
   ]
  },
  {
   "cell_type": "code",
   "execution_count": 5,
   "metadata": {},
   "outputs": [
    {
     "data": {
      "text/plain": [
       "id             0\n",
       "object_name    0\n",
       "chain          0\n",
       "object_type    0\n",
       "address        0\n",
       "number         0\n",
       "dtype: int64"
      ]
     },
     "execution_count": 5,
     "metadata": {},
     "output_type": "execute_result"
    }
   ],
   "source": [
    "rest.isnull().sum()"
   ]
  },
  {
   "cell_type": "markdown",
   "metadata": {},
   "source": [
    "Пропущенные значения и дубликаты отсутствуют"
   ]
  },
  {
   "cell_type": "code",
   "execution_count": 6,
   "metadata": {},
   "outputs": [
    {
     "name": "stdout",
     "output_type": "stream",
     "text": [
      "<class 'pandas.core.frame.DataFrame'>\n",
      "RangeIndex: 15366 entries, 0 to 15365\n",
      "Data columns (total 6 columns):\n",
      "id             15366 non-null int64\n",
      "object_name    15366 non-null object\n",
      "chain          15366 non-null object\n",
      "object_type    15366 non-null object\n",
      "address        15366 non-null object\n",
      "number         15366 non-null int64\n",
      "dtypes: int64(2), object(4)\n",
      "memory usage: 720.4+ KB\n"
     ]
    }
   ],
   "source": [
    "rest.info()"
   ]
  },
  {
   "cell_type": "markdown",
   "metadata": {},
   "source": [
    "С типом данных всё в порядке"
   ]
  },
  {
   "cell_type": "code",
   "execution_count": 7,
   "metadata": {},
   "outputs": [
    {
     "data": {
      "text/plain": [
       "кафе                                 6099\n",
       "столовая                             2587\n",
       "ресторан                             2285\n",
       "предприятие быстрого обслуживания    1923\n",
       "бар                                   856\n",
       "буфет                                 585\n",
       "кафетерий                             398\n",
       "закусочная                            360\n",
       "магазин (отдел кулинарии)             273\n",
       "Name: object_type, dtype: int64"
      ]
     },
     "execution_count": 7,
     "metadata": {},
     "output_type": "execute_result"
    }
   ],
   "source": [
    "rest['object_type'].value_counts()"
   ]
  },
  {
   "cell_type": "markdown",
   "metadata": {},
   "source": [
    "Заменим несколько названий типов объектов питания на более короткие и поменяем названия сетевых и несетевых заведений"
   ]
  },
  {
   "cell_type": "code",
   "execution_count": 8,
   "metadata": {},
   "outputs": [],
   "source": [
    "rest['object_type'] = rest['object_type'].str.replace('предприятие быстрого обслуживания', 'фаст-фуд')\n",
    "rest['object_type'] = rest['object_type'].str.replace('магазин \\(отдел кулинарии\\)', 'кулинария')\n",
    "rest['chain'] = rest['chain'].str.replace('нет', 'несетевое').str.replace('да', 'сетевое')"
   ]
  },
  {
   "cell_type": "code",
   "execution_count": 9,
   "metadata": {
    "scrolled": true
   },
   "outputs": [
    {
     "data": {
      "text/plain": [
       "кафе          6099\n",
       "столовая      2587\n",
       "ресторан      2285\n",
       "фаст-фуд      1923\n",
       "бар            856\n",
       "буфет          585\n",
       "кафетерий      398\n",
       "закусочная     360\n",
       "кулинария      273\n",
       "Name: object_type, dtype: int64"
      ]
     },
     "execution_count": 9,
     "metadata": {},
     "output_type": "execute_result"
    }
   ],
   "source": [
    "rest['object_type'].value_counts()"
   ]
  },
  {
   "cell_type": "code",
   "execution_count": 10,
   "metadata": {},
   "outputs": [
    {
     "data": {
      "text/plain": [
       "несетевое    12398\n",
       "сетевое       2968\n",
       "Name: chain, dtype: int64"
      ]
     },
     "execution_count": 10,
     "metadata": {},
     "output_type": "execute_result"
    }
   ],
   "source": [
    "rest['chain'].value_counts()"
   ]
  },
  {
   "cell_type": "code",
   "execution_count": 11,
   "metadata": {
    "scrolled": false
   },
   "outputs": [
    {
     "data": {
      "text/html": [
       "<div>\n",
       "<style scoped>\n",
       "    .dataframe tbody tr th:only-of-type {\n",
       "        vertical-align: middle;\n",
       "    }\n",
       "\n",
       "    .dataframe tbody tr th {\n",
       "        vertical-align: top;\n",
       "    }\n",
       "\n",
       "    .dataframe thead th {\n",
       "        text-align: right;\n",
       "    }\n",
       "</style>\n",
       "<table border=\"1\" class=\"dataframe\">\n",
       "  <thead>\n",
       "    <tr style=\"text-align: right;\">\n",
       "      <th></th>\n",
       "      <th>id</th>\n",
       "      <th>object_name</th>\n",
       "      <th>chain</th>\n",
       "      <th>object_type</th>\n",
       "      <th>address</th>\n",
       "      <th>number</th>\n",
       "    </tr>\n",
       "  </thead>\n",
       "  <tbody>\n",
       "    <tr>\n",
       "      <td>0</td>\n",
       "      <td>151635</td>\n",
       "      <td>СМЕТАНА</td>\n",
       "      <td>несетевое</td>\n",
       "      <td>кафе</td>\n",
       "      <td>город Москва, улица Егора Абакумова, дом 9</td>\n",
       "      <td>48</td>\n",
       "    </tr>\n",
       "    <tr>\n",
       "      <td>1</td>\n",
       "      <td>77874</td>\n",
       "      <td>Родник</td>\n",
       "      <td>несетевое</td>\n",
       "      <td>кафе</td>\n",
       "      <td>город Москва, улица Талалихина, дом 2/1, корпус 1</td>\n",
       "      <td>35</td>\n",
       "    </tr>\n",
       "    <tr>\n",
       "      <td>2</td>\n",
       "      <td>24309</td>\n",
       "      <td>Кафе «Академия»</td>\n",
       "      <td>несетевое</td>\n",
       "      <td>кафе</td>\n",
       "      <td>город Москва, Абельмановская улица, дом 6</td>\n",
       "      <td>95</td>\n",
       "    </tr>\n",
       "    <tr>\n",
       "      <td>3</td>\n",
       "      <td>21894</td>\n",
       "      <td>ПИЦЦЕТОРИЯ</td>\n",
       "      <td>сетевое</td>\n",
       "      <td>кафе</td>\n",
       "      <td>город Москва, Абрамцевская улица, дом 1</td>\n",
       "      <td>40</td>\n",
       "    </tr>\n",
       "    <tr>\n",
       "      <td>4</td>\n",
       "      <td>119365</td>\n",
       "      <td>Кафе «Вишневая метель»</td>\n",
       "      <td>несетевое</td>\n",
       "      <td>кафе</td>\n",
       "      <td>город Москва, Абрамцевская улица, дом 9, корпус 1</td>\n",
       "      <td>50</td>\n",
       "    </tr>\n",
       "    <tr>\n",
       "      <td>...</td>\n",
       "      <td>...</td>\n",
       "      <td>...</td>\n",
       "      <td>...</td>\n",
       "      <td>...</td>\n",
       "      <td>...</td>\n",
       "      <td>...</td>\n",
       "    </tr>\n",
       "    <tr>\n",
       "      <td>15361</td>\n",
       "      <td>208537</td>\n",
       "      <td>Шоколадница</td>\n",
       "      <td>сетевое</td>\n",
       "      <td>кафе</td>\n",
       "      <td>город Москва, 3-й Крутицкий переулок, дом 18</td>\n",
       "      <td>50</td>\n",
       "    </tr>\n",
       "    <tr>\n",
       "      <td>15362</td>\n",
       "      <td>209264</td>\n",
       "      <td>Шоколадница</td>\n",
       "      <td>сетевое</td>\n",
       "      <td>кафе</td>\n",
       "      <td>город Москва, улица Земляной Вал, дом 33</td>\n",
       "      <td>10</td>\n",
       "    </tr>\n",
       "    <tr>\n",
       "      <td>15363</td>\n",
       "      <td>209186</td>\n",
       "      <td>Шоколадница</td>\n",
       "      <td>сетевое</td>\n",
       "      <td>кафе</td>\n",
       "      <td>город Москва, улица Земляной Вал, дом 33</td>\n",
       "      <td>20</td>\n",
       "    </tr>\n",
       "    <tr>\n",
       "      <td>15364</td>\n",
       "      <td>221900</td>\n",
       "      <td>Шоколадница</td>\n",
       "      <td>сетевое</td>\n",
       "      <td>кафе</td>\n",
       "      <td>город Москва, поселение Московский, Киевское ш...</td>\n",
       "      <td>36</td>\n",
       "    </tr>\n",
       "    <tr>\n",
       "      <td>15365</td>\n",
       "      <td>222535</td>\n",
       "      <td>Шоколадница</td>\n",
       "      <td>сетевое</td>\n",
       "      <td>кафе</td>\n",
       "      <td>город Москва, Ходынский бульвар, дом 4</td>\n",
       "      <td>10</td>\n",
       "    </tr>\n",
       "  </tbody>\n",
       "</table>\n",
       "<p>15366 rows × 6 columns</p>\n",
       "</div>"
      ],
      "text/plain": [
       "           id             object_name      chain object_type  \\\n",
       "0      151635                 СМЕТАНА  несетевое        кафе   \n",
       "1       77874                  Родник  несетевое        кафе   \n",
       "2       24309         Кафе «Академия»  несетевое        кафе   \n",
       "3       21894              ПИЦЦЕТОРИЯ    сетевое        кафе   \n",
       "4      119365  Кафе «Вишневая метель»  несетевое        кафе   \n",
       "...       ...                     ...        ...         ...   \n",
       "15361  208537             Шоколадница    сетевое        кафе   \n",
       "15362  209264             Шоколадница    сетевое        кафе   \n",
       "15363  209186             Шоколадница    сетевое        кафе   \n",
       "15364  221900             Шоколадница    сетевое        кафе   \n",
       "15365  222535             Шоколадница    сетевое        кафе   \n",
       "\n",
       "                                                 address  number  \n",
       "0             город Москва, улица Егора Абакумова, дом 9      48  \n",
       "1      город Москва, улица Талалихина, дом 2/1, корпус 1      35  \n",
       "2              город Москва, Абельмановская улица, дом 6      95  \n",
       "3                город Москва, Абрамцевская улица, дом 1      40  \n",
       "4      город Москва, Абрамцевская улица, дом 9, корпус 1      50  \n",
       "...                                                  ...     ...  \n",
       "15361       город Москва, 3-й Крутицкий переулок, дом 18      50  \n",
       "15362           город Москва, улица Земляной Вал, дом 33      10  \n",
       "15363           город Москва, улица Земляной Вал, дом 33      20  \n",
       "15364  город Москва, поселение Московский, Киевское ш...      36  \n",
       "15365             город Москва, Ходынский бульвар, дом 4      10  \n",
       "\n",
       "[15366 rows x 6 columns]"
      ]
     },
     "execution_count": 11,
     "metadata": {},
     "output_type": "execute_result"
    }
   ],
   "source": [
    "rest"
   ]
  },
  {
   "cell_type": "markdown",
   "metadata": {},
   "source": [
    "В данном разделе проверили данные на дубликаты и пропущенные значения, чего обнаружено не было. Также произвели проверку типов данных - с ними всё в порядке. И заменили длинные названия столбца object_type на короткие: \"предприятие быстрого обслуживания\" на \"фаст-фуд\" и \"магазин (отдел кулинарии)\" на \"кулинария\". В столбце chain заменили \"нет\" на \"несетевые\" и \"да\" на \"сетевые\". Последние два действия совершили, чтобы в дальнейшем подписи к графикам были более понятными и не накладывались друг на друга."
   ]
  },
  {
   "cell_type": "markdown",
   "metadata": {},
   "source": [
    "<a id=\"analysis\"></a> \n",
    "## Анализ данных\n",
    "[К оглавлению](#contents)"
   ]
  },
  {
   "cell_type": "markdown",
   "metadata": {},
   "source": [
    "<a id=\"analysis_1_1\"></a> \n",
    "### Соотношение видов объектов общественного питания по количеству."
   ]
  },
  {
   "cell_type": "code",
   "execution_count": 12,
   "metadata": {},
   "outputs": [
    {
     "data": {
      "image/png": "[encoded data removed]",
      "text/plain": [
       "<Figure size 864x720 with 1 Axes>"
      ]
     },
     "metadata": {
      "needs_background": "light"
     },
     "output_type": "display_data"
    }
   ],
   "source": [
    "plt.subplots(figsize=(12, 10))\n",
    "sns.countplot(x=rest['object_type'], data=rest, order=rest['object_type'].value_counts().index)\n",
    "plt.title('Распределение количества заведений по типам', fontsize=18)\n",
    "plt.xlabel('Типы заведений', fontsize=15)\n",
    "plt.ylabel('Количество заведений', fontsize=15)\n",
    "plt.xticks(rotation=315)\n",
    "plt.yticks(np.arange(0, 6500, step=500))\n",
    "plt.show()"
   ]
  },
  {
   "cell_type": "markdown",
   "metadata": {},
   "source": [
    "Видим наибольшее количество заведений типа \"кафе\" в количестве более 6000, на втором месте столовая с количеством заведений чуть больше 2500, на третьем месте ресторан в количестве примерно 2300. На последнем месте отдел кулинарии магазина с около 300 заведений"
   ]
  },
  {
   "cell_type": "markdown",
   "metadata": {},
   "source": [
    "По информации из википедии в кафе могут входить кофейни, которые имеют крайне ограниченный набор напитков и блюд, а значит их проще открыть. И кофейни не подпадают ни под одну другую категорию. Поэтому, вероятно, такой перекос в сторону кафе."
   ]
  },
  {
   "cell_type": "markdown",
   "metadata": {},
   "source": [
    "<a id=\"analysis_1_2\"></a> \n",
    "### Соотношение сетевых и несетевых заведений\n",
    "[К оглавлению](#contents)"
   ]
  },
  {
   "cell_type": "code",
   "execution_count": 13,
   "metadata": {},
   "outputs": [
    {
     "data": {
      "image/png": "[encoded data removed]",
      "text/plain": [
       "<Figure size 360x360 with 1 Axes>"
      ]
     },
     "metadata": {
      "needs_background": "light"
     },
     "output_type": "display_data"
    }
   ],
   "source": [
    "plt.subplots(figsize=(5, 5))\n",
    "sns.countplot(x=rest['chain'], data=rest, order=rest['chain'].value_counts().index)\n",
    "plt.title('Распределение сетевых и несетевых заведений', fontsize=12)\n",
    "plt.xlabel('Типы заведений', fontsize=10)\n",
    "plt.ylabel('Количество заведений', fontsize=10)\n",
    "plt.show()"
   ]
  },
  {
   "cell_type": "markdown",
   "metadata": {},
   "source": [
    "Количество несетевых заведений - чуть более 12000, сетевых же - чуть менее 3000. "
   ]
  },
  {
   "cell_type": "markdown",
   "metadata": {},
   "source": [
    "Вероятно, чтобы называться сетевым нужно открыть, минимум, два заведения под одним названием, что могут позволить себе далеко не все или не сразу. Другой вариант купить франшизу, но хотят открыть просто небольшое заведение, что скорее всего потребует меньших вложений. "
   ]
  },
  {
   "cell_type": "markdown",
   "metadata": {},
   "source": [
    "<a id=\"analysis_1_3\"></a> \n",
    "### Распределение сетевых и несетевых заведений по типам\n",
    "[К оглавлению](#contents)"
   ]
  },
  {
   "cell_type": "code",
   "execution_count": 14,
   "metadata": {
    "scrolled": false
   },
   "outputs": [
    {
     "data": {
      "image/png": "[encoded data removed]",
      "text/plain": [
       "<Figure size 864x720 with 1 Axes>"
      ]
     },
     "metadata": {
      "needs_background": "light"
     },
     "output_type": "display_data"
    }
   ],
   "source": [
    "plt.subplots(figsize=(12, 10))\n",
    "sns.countplot(x=rest['object_type'],hue='chain', data=rest, order=rest['object_type'].value_counts().index)\n",
    "plt.title('Распределение количества сетевых и несетевых заведений по типам', fontsize=18)\n",
    "plt.xlabel('Типы заведений', fontsize=15)\n",
    "plt.ylabel('Количество заведений', fontsize=15)\n",
    "plt.xticks(rotation=45)\n",
    "plt.yticks(np.arange(0, 5000, step=500))\n",
    "plt.show()"
   ]
  },
  {
   "cell_type": "markdown",
   "metadata": {},
   "source": [
    "Наибольшее количество сетевых заведений у кафе, фаст-фуда и ресторанов"
   ]
  },
  {
   "cell_type": "markdown",
   "metadata": {},
   "source": [
    "Посмотрим на соотношение сетевых к несетевым заведениям на разных видах объектов"
   ]
  },
  {
   "cell_type": "code",
   "execution_count": 15,
   "metadata": {},
   "outputs": [],
   "source": [
    "not_chain = rest[rest['chain']=='несетевое']\n",
    "chain = rest[rest['chain']=='сетевое']\n",
    "not_chain_grouped = not_chain.groupby('object_type')['object_type'].count()\n",
    "chain_grouped = chain.groupby('object_type')['object_type'].count()"
   ]
  },
  {
   "cell_type": "code",
   "execution_count": 16,
   "metadata": {},
   "outputs": [
    {
     "data": {
      "text/plain": [
       "object_type\n",
       "фаст-фуд      0.699\n",
       "кулинария     0.400\n",
       "ресторан      0.312\n",
       "кафе          0.297\n",
       "закусочная    0.184\n",
       "кафетерий     0.150\n",
       "бар           0.045\n",
       "буфет         0.019\n",
       "столовая      0.001\n",
       "Name: object_type, dtype: float64"
      ]
     },
     "execution_count": 16,
     "metadata": {},
     "output_type": "execute_result"
    }
   ],
   "source": [
    "ratio = (chain_grouped/not_chain_grouped).round(3).sort_values(ascending=False)\n",
    "ratio"
   ]
  },
  {
   "cell_type": "markdown",
   "metadata": {},
   "source": [
    "Наибольшее соотношение сетевых к несетевых заведениям у фаст-фуда, на втором месте кулинария. Ресторан и кафе - на третьем и четвёртом местах, соотвественно. Значит наиболее всего сетевое распространение характерно для фаст-фуда. В таких заведениях проще всего создать формулы готовых блюд с их быстрым приготовлением и снижением издержек на поставке продуктов."
   ]
  },
  {
   "cell_type": "markdown",
   "metadata": {},
   "source": [
    "Если говорить о столовых, то люди идут туда, в первую очередь, за недорогой едой, поэтому для владельцев было бы расточительством приводить разные заведения к одному виду. И с большой вероятностью в этих заведениях пытаются снизить расходы на всё, кроме продуктов. \"Столовая\" уже сообщает нам, что там недорого, и даже если заведение не будет узнаваемым, туда всё равно будут ходить. У баров же можно выделить несколько типов: заведения, в которые просто идут выпить, - такие бары не нуждаются в узнаваемости, и заведения, в которые идут на новыми напитками, коктейлями - таким барам сетевое распространение бы только вредило. Буфеты то, вероятно, не нуждаются в сетевом распространении, так как часто приурочены к другим заведениям или жилым домам, а значит посещать их в любом случае будут. "
   ]
  },
  {
   "cell_type": "markdown",
   "metadata": {},
   "source": [
    "<a id=\"analysis_1_4\"></a> \n",
    "### Среднее количество посадочных мест по типам заведений\n",
    "[К оглавлению](#contents)"
   ]
  },
  {
   "cell_type": "code",
   "execution_count": 17,
   "metadata": {
    "scrolled": false
   },
   "outputs": [
    {
     "data": {
      "text/html": [
       "<div>\n",
       "<style scoped>\n",
       "    .dataframe tbody tr th:only-of-type {\n",
       "        vertical-align: middle;\n",
       "    }\n",
       "\n",
       "    .dataframe tbody tr th {\n",
       "        vertical-align: top;\n",
       "    }\n",
       "\n",
       "    .dataframe thead th {\n",
       "        text-align: right;\n",
       "    }\n",
       "</style>\n",
       "<table border=\"1\" class=\"dataframe\">\n",
       "  <thead>\n",
       "    <tr style=\"text-align: right;\">\n",
       "      <th></th>\n",
       "      <th>id</th>\n",
       "      <th>object_name</th>\n",
       "      <th>chain</th>\n",
       "      <th>object_type</th>\n",
       "      <th>address</th>\n",
       "      <th>number</th>\n",
       "    </tr>\n",
       "  </thead>\n",
       "  <tbody>\n",
       "    <tr>\n",
       "      <td>3</td>\n",
       "      <td>21894</td>\n",
       "      <td>ПИЦЦЕТОРИЯ</td>\n",
       "      <td>сетевое</td>\n",
       "      <td>кафе</td>\n",
       "      <td>город Москва, Абрамцевская улица, дом 1</td>\n",
       "      <td>40</td>\n",
       "    </tr>\n",
       "    <tr>\n",
       "      <td>6</td>\n",
       "      <td>148815</td>\n",
       "      <td>Брусника</td>\n",
       "      <td>сетевое</td>\n",
       "      <td>кафе</td>\n",
       "      <td>город Москва, переулок Сивцев Вражек, дом 6/2</td>\n",
       "      <td>10</td>\n",
       "    </tr>\n",
       "    <tr>\n",
       "      <td>13</td>\n",
       "      <td>22579</td>\n",
       "      <td>Алло Пицца</td>\n",
       "      <td>сетевое</td>\n",
       "      <td>кафе</td>\n",
       "      <td>город Москва, улица Авиаторов, дом 14</td>\n",
       "      <td>32</td>\n",
       "    </tr>\n",
       "    <tr>\n",
       "      <td>16</td>\n",
       "      <td>144107</td>\n",
       "      <td>Суши Wok</td>\n",
       "      <td>сетевое</td>\n",
       "      <td>фаст-фуд</td>\n",
       "      <td>город Москва, Азовская улица, дом 3</td>\n",
       "      <td>7</td>\n",
       "    </tr>\n",
       "    <tr>\n",
       "      <td>18</td>\n",
       "      <td>58565</td>\n",
       "      <td>Тануки</td>\n",
       "      <td>сетевое</td>\n",
       "      <td>ресторан</td>\n",
       "      <td>город Москва, Большая Академическая улица, дом 65</td>\n",
       "      <td>160</td>\n",
       "    </tr>\n",
       "    <tr>\n",
       "      <td>...</td>\n",
       "      <td>...</td>\n",
       "      <td>...</td>\n",
       "      <td>...</td>\n",
       "      <td>...</td>\n",
       "      <td>...</td>\n",
       "      <td>...</td>\n",
       "    </tr>\n",
       "    <tr>\n",
       "      <td>15361</td>\n",
       "      <td>208537</td>\n",
       "      <td>Шоколадница</td>\n",
       "      <td>сетевое</td>\n",
       "      <td>кафе</td>\n",
       "      <td>город Москва, 3-й Крутицкий переулок, дом 18</td>\n",
       "      <td>50</td>\n",
       "    </tr>\n",
       "    <tr>\n",
       "      <td>15362</td>\n",
       "      <td>209264</td>\n",
       "      <td>Шоколадница</td>\n",
       "      <td>сетевое</td>\n",
       "      <td>кафе</td>\n",
       "      <td>город Москва, улица Земляной Вал, дом 33</td>\n",
       "      <td>10</td>\n",
       "    </tr>\n",
       "    <tr>\n",
       "      <td>15363</td>\n",
       "      <td>209186</td>\n",
       "      <td>Шоколадница</td>\n",
       "      <td>сетевое</td>\n",
       "      <td>кафе</td>\n",
       "      <td>город Москва, улица Земляной Вал, дом 33</td>\n",
       "      <td>20</td>\n",
       "    </tr>\n",
       "    <tr>\n",
       "      <td>15364</td>\n",
       "      <td>221900</td>\n",
       "      <td>Шоколадница</td>\n",
       "      <td>сетевое</td>\n",
       "      <td>кафе</td>\n",
       "      <td>город Москва, поселение Московский, Киевское ш...</td>\n",
       "      <td>36</td>\n",
       "    </tr>\n",
       "    <tr>\n",
       "      <td>15365</td>\n",
       "      <td>222535</td>\n",
       "      <td>Шоколадница</td>\n",
       "      <td>сетевое</td>\n",
       "      <td>кафе</td>\n",
       "      <td>город Москва, Ходынский бульвар, дом 4</td>\n",
       "      <td>10</td>\n",
       "    </tr>\n",
       "  </tbody>\n",
       "</table>\n",
       "<p>2968 rows × 6 columns</p>\n",
       "</div>"
      ],
      "text/plain": [
       "           id  object_name    chain object_type  \\\n",
       "3       21894   ПИЦЦЕТОРИЯ  сетевое        кафе   \n",
       "6      148815     Брусника  сетевое        кафе   \n",
       "13      22579   Алло Пицца  сетевое        кафе   \n",
       "16     144107     Суши Wok  сетевое    фаст-фуд   \n",
       "18      58565       Тануки  сетевое    ресторан   \n",
       "...       ...          ...      ...         ...   \n",
       "15361  208537  Шоколадница  сетевое        кафе   \n",
       "15362  209264  Шоколадница  сетевое        кафе   \n",
       "15363  209186  Шоколадница  сетевое        кафе   \n",
       "15364  221900  Шоколадница  сетевое        кафе   \n",
       "15365  222535  Шоколадница  сетевое        кафе   \n",
       "\n",
       "                                                 address  number  \n",
       "3                город Москва, Абрамцевская улица, дом 1      40  \n",
       "6          город Москва, переулок Сивцев Вражек, дом 6/2      10  \n",
       "13                 город Москва, улица Авиаторов, дом 14      32  \n",
       "16                   город Москва, Азовская улица, дом 3       7  \n",
       "18     город Москва, Большая Академическая улица, дом 65     160  \n",
       "...                                                  ...     ...  \n",
       "15361       город Москва, 3-й Крутицкий переулок, дом 18      50  \n",
       "15362           город Москва, улица Земляной Вал, дом 33      10  \n",
       "15363           город Москва, улица Земляной Вал, дом 33      20  \n",
       "15364  город Москва, поселение Московский, Киевское ш...      36  \n",
       "15365             город Москва, Ходынский бульвар, дом 4      10  \n",
       "\n",
       "[2968 rows x 6 columns]"
      ]
     },
     "execution_count": 17,
     "metadata": {},
     "output_type": "execute_result"
    }
   ],
   "source": [
    "chain"
   ]
  },
  {
   "cell_type": "code",
   "execution_count": 18,
   "metadata": {},
   "outputs": [
    {
     "data": {
      "text/plain": [
       "object_type\n",
       "столовая      103\n",
       "ресторан       80\n",
       "бар            35\n",
       "буфет          32\n",
       "кафе           30\n",
       "кафетерий       6\n",
       "фаст-фуд        5\n",
       "кулинария       0\n",
       "закусочная      0\n",
       "Name: number, dtype: int64"
      ]
     },
     "execution_count": 18,
     "metadata": {},
     "output_type": "execute_result"
    }
   ],
   "source": [
    "rest.groupby('object_type')['number'].median().sort_values(ascending=False)"
   ]
  },
  {
   "cell_type": "code",
   "execution_count": 19,
   "metadata": {},
   "outputs": [
    {
     "data": {
      "image/png": "[encoded data removed]",
      "text/plain": [
       "<Figure size 576x576 with 1 Axes>"
      ]
     },
     "metadata": {
      "needs_background": "light"
     },
     "output_type": "display_data"
    }
   ],
   "source": [
    "plt.subplots(figsize=(8, 8))\n",
    "sns.boxplot(x='object_type', y='number', data=rest)\n",
    "plt.title('Распределение посадочных мест по типам заведений', fontsize=14)\n",
    "plt.xlabel('Типы заведений', fontsize=15)\n",
    "plt.ylabel('Количество посадочных мест', fontsize=15)\n",
    "plt.xticks(rotation=45)\n",
    "plt.yticks(np.arange(0, 210, step=10))\n",
    "plt.ylim([0, 210])\n",
    "plt.show()"
   ]
  },
  {
   "cell_type": "markdown",
   "metadata": {},
   "source": [
    "У столовых наблюдаем самое широкое типичное распределение посадочных мест - 50 процентов значений укладываются в промежуток 50 - 200 посадочных мест, - при этом медиана укладывается в 100 посадочных мест - это самое высокое значение среди всех типов заведений. На втором месте идут рестораны с основным количеством посадочных мест в 45 - 115 и медианой - 80. У кафе, бара и буфета медиана - 30 посадочных мест. Но буфеты могут достигать и 80 мест. При этом у закусочных и магазинов, по большей части нет посадочных мест или не больше 10. "
   ]
  },
  {
   "cell_type": "markdown",
   "metadata": {},
   "source": [
    "Теперь поговорим о возможных причинах такого распределения посадочных мест. \n",
    "У столовых наибольшее количество мест по причине наиболее широкого круга потребителей: туда ходят люди бедные и те, кто не хочет тратиться на еду, также туда могут выходить, чтобы поесть в обеденный перерыв, что может создавать большой единовременный поток людей. \n",
    "Рестораны же предлагают возможность неспешного размеренного отдыха, иногда, с длительным приготовлением эстетично выглядящей еды. В рестораны приходят, чтобы расслабиться, поговорить. И вся эта неспешная обстановка может требовать большого количества мест. \n",
    "В противовес ресторанам идут фаст-фуды с маленьким количеством мест. В них часто играет быстрая музыка, может быть достаточно тесно, и атмосфера часто располагает к тому, чтобы быстро поесть и уйти, а основной мотив зайти для человека - быстро поесть конкретной еды. Невысокая цена блюд требует от владельцев экономить на количестве мест, а психологические уловки вынуждают людей не задерживаться.\n",
    "Буфеты могут быть схожи со столовыми с той разницей, что еда там воспринимается менее здоровой и больше предназначена для перекуса, поэтому в час-пик не требуется много мест. Или еда может быть куплена, чтобы съесть её в ближайшее время где-то у себя.\n",
    "Кафе занимает нишу между столовой и рестораном. Туда приходят, чтобы поесть что-то необычное для привычной жизни и не спешить, как в фаст-фудах и столовых, но заплатить меньше, чем в ресторане. Поэтому приходится снижать количество мест относительно ресторана.\n",
    "Если говорить и обарах, то их час-пик приходится на вечер пятницы и выходные. Нахождение посетителей регулируется уровнем их опьянения и желанием попробовать что-то новое. Последнее может вынуждать людей идти в другие бары, чтобы попробовать что-то ещё. С одной стороны такое количество мест продиктовано контролем издерже, а с другой стороны небольшим временем нахождения людей в конкретном месте. \n",
    "Кафетерий, закусочнаяи кулинария магазина предполагают очень короткое время нахождения в этих заведениях. Буквально, купил и ушёл, поэтому мест либо очень мало, либо их нет."
   ]
  },
  {
   "cell_type": "markdown",
   "metadata": {},
   "source": [
    "<a id=\"analysis_1_5\"></a> \n",
    "### Распределение посадочных мест сетевых заведений\n",
    "[К оглавлению](#contents)"
   ]
  },
  {
   "cell_type": "code",
   "execution_count": 20,
   "metadata": {
    "scrolled": false
   },
   "outputs": [
    {
     "data": {
      "image/png": "[encoded data removed]",
      "text/plain": [
       "<Figure size 576x576 with 1 Axes>"
      ]
     },
     "metadata": {
      "needs_background": "light"
     },
     "output_type": "display_data"
    }
   ],
   "source": [
    "plt.subplots(figsize=(8, 8))\n",
    "sns.stripplot(x='object_type', y='number', data=chain, alpha= 0.1)\n",
    "plt.title('Распределение посадочных мест сетевых заведений по типам', fontsize=14)\n",
    "plt.xlabel('Типы заведений', fontsize=15)\n",
    "plt.ylabel('Количество посадочных мест', fontsize=15)\n",
    "plt.xticks(rotation=45)\n",
    "plt.show()"
   ]
  },
  {
   "cell_type": "markdown",
   "metadata": {},
   "source": [
    "Посмотрели на распределение посадочных мест по разным типам сетевых заведений. У кафе, фаст-фудов и ресторанов больше других заведений плотность посадочных мест выше до 100 мест. У кулинарии, кафетерия и закусоынх большиснтво значений находится около нуля. У баров видим небольшое количество заведений с 50 местами. Сетевых буфетов, столовых почти нет, поэтому и значений нет."
   ]
  },
  {
   "cell_type": "code",
   "execution_count": 21,
   "metadata": {
    "scrolled": false
   },
   "outputs": [
    {
     "data": {
      "image/png": "[encoded data removed]",
      "text/plain": [
       "<Figure size 576x576 with 1 Axes>"
      ]
     },
     "metadata": {
      "needs_background": "light"
     },
     "output_type": "display_data"
    }
   ],
   "source": [
    "plt.subplots(figsize=(8, 8))\n",
    "sns.stripplot(x='object_type', y='number', data=chain, alpha= 0.1)\n",
    "plt.title('Распределение посадочных мест сетевых заведений по типам', fontsize=14)\n",
    "plt.xlabel('Типы заведений', fontsize=15)\n",
    "plt.ylabel('Количество посадочных мест', fontsize=15)\n",
    "plt.xticks(rotation=45)\n",
    "plt.yticks(np.arange(0, 200, step=20))\n",
    "plt.ylim([0, 200])\n",
    "plt.show()"
   ]
  },
  {
   "cell_type": "markdown",
   "metadata": {},
   "source": [
    "Взглянули на распределение поближе. У кафе видим много значений до 50-60, у фаст-фудов после 40 наблюдаем снижение. У ресторанов основное распрееделение находится на уровне 50 - 100. У остальных картина  та же, что и на прошлом графике."
   ]
  },
  {
   "cell_type": "code",
   "execution_count": 22,
   "metadata": {},
   "outputs": [
    {
     "data": {
      "image/png": "[encoded data removed]",
      "text/plain": [
       "<Figure size 576x576 with 1 Axes>"
      ]
     },
     "metadata": {
      "needs_background": "light"
     },
     "output_type": "display_data"
    }
   ],
   "source": [
    "plt.subplots(figsize=(8, 8))\n",
    "plt.hist(chain['number'], bins=30, ec='black')\n",
    "plt.title('Распределение посадочных мест сетевых заведений', fontsize=14)\n",
    "plt.xlim([0, 200])\n",
    "plt.xlabel('Количество посадочных мест', fontsize=15)\n",
    "plt.ylabel('Количество заведений', fontsize=15)\n",
    "plt.show()"
   ]
  },
  {
   "cell_type": "markdown",
   "metadata": {},
   "source": [
    "Большинство заведений укладываются в 100 посадочных мест, при этом видим резкое падение количества заведений после 60 посадочных мест. Также видим разницу разных типов заведений по количеству посадочных мест. В максимальные 60 мест укладываются кафе, предприятия быстрого обслуживания и рестораны, что является малым показателем для этих типов, если учитывать что в промежутке от 60 до 300 посадочных мест существует большое количество заведений этого типа. Остальные типы заведений имеют не более 30 посадочных мест. Поэтому можем заключить, что большинство сетевых заведений имеют небольшое количество посадочных мест."
   ]
  },
  {
   "cell_type": "markdown",
   "metadata": {},
   "source": [
    "<a id=\"analysis_1_6\"></a> \n",
    "### Выделение улиц, топ 10 улиц по количеству заведений и их принадленость районам\n",
    "[К оглавлению](#contents)"
   ]
  },
  {
   "cell_type": "markdown",
   "metadata": {},
   "source": [
    "Добавим столбцы с городом и улицей, разделив столбец с адресом."
   ]
  },
  {
   "cell_type": "code",
   "execution_count": 23,
   "metadata": {},
   "outputs": [
    {
     "data": {
      "text/html": [
       "<div>\n",
       "<style scoped>\n",
       "    .dataframe tbody tr th:only-of-type {\n",
       "        vertical-align: middle;\n",
       "    }\n",
       "\n",
       "    .dataframe tbody tr th {\n",
       "        vertical-align: top;\n",
       "    }\n",
       "\n",
       "    .dataframe thead th {\n",
       "        text-align: right;\n",
       "    }\n",
       "</style>\n",
       "<table border=\"1\" class=\"dataframe\">\n",
       "  <thead>\n",
       "    <tr style=\"text-align: right;\">\n",
       "      <th></th>\n",
       "      <th>id</th>\n",
       "      <th>object_name</th>\n",
       "      <th>chain</th>\n",
       "      <th>object_type</th>\n",
       "      <th>address</th>\n",
       "      <th>number</th>\n",
       "    </tr>\n",
       "  </thead>\n",
       "  <tbody>\n",
       "    <tr>\n",
       "      <td>0</td>\n",
       "      <td>151635</td>\n",
       "      <td>СМЕТАНА</td>\n",
       "      <td>несетевое</td>\n",
       "      <td>кафе</td>\n",
       "      <td>город Москва, улица Егора Абакумова, дом 9</td>\n",
       "      <td>48</td>\n",
       "    </tr>\n",
       "    <tr>\n",
       "      <td>1</td>\n",
       "      <td>77874</td>\n",
       "      <td>Родник</td>\n",
       "      <td>несетевое</td>\n",
       "      <td>кафе</td>\n",
       "      <td>город Москва, улица Талалихина, дом 2/1, корпус 1</td>\n",
       "      <td>35</td>\n",
       "    </tr>\n",
       "    <tr>\n",
       "      <td>2</td>\n",
       "      <td>24309</td>\n",
       "      <td>Кафе «Академия»</td>\n",
       "      <td>несетевое</td>\n",
       "      <td>кафе</td>\n",
       "      <td>город Москва, Абельмановская улица, дом 6</td>\n",
       "      <td>95</td>\n",
       "    </tr>\n",
       "    <tr>\n",
       "      <td>3</td>\n",
       "      <td>21894</td>\n",
       "      <td>ПИЦЦЕТОРИЯ</td>\n",
       "      <td>сетевое</td>\n",
       "      <td>кафе</td>\n",
       "      <td>город Москва, Абрамцевская улица, дом 1</td>\n",
       "      <td>40</td>\n",
       "    </tr>\n",
       "    <tr>\n",
       "      <td>4</td>\n",
       "      <td>119365</td>\n",
       "      <td>Кафе «Вишневая метель»</td>\n",
       "      <td>несетевое</td>\n",
       "      <td>кафе</td>\n",
       "      <td>город Москва, Абрамцевская улица, дом 9, корпус 1</td>\n",
       "      <td>50</td>\n",
       "    </tr>\n",
       "    <tr>\n",
       "      <td>...</td>\n",
       "      <td>...</td>\n",
       "      <td>...</td>\n",
       "      <td>...</td>\n",
       "      <td>...</td>\n",
       "      <td>...</td>\n",
       "      <td>...</td>\n",
       "    </tr>\n",
       "    <tr>\n",
       "      <td>15361</td>\n",
       "      <td>208537</td>\n",
       "      <td>Шоколадница</td>\n",
       "      <td>сетевое</td>\n",
       "      <td>кафе</td>\n",
       "      <td>город Москва, 3-й Крутицкий переулок, дом 18</td>\n",
       "      <td>50</td>\n",
       "    </tr>\n",
       "    <tr>\n",
       "      <td>15362</td>\n",
       "      <td>209264</td>\n",
       "      <td>Шоколадница</td>\n",
       "      <td>сетевое</td>\n",
       "      <td>кафе</td>\n",
       "      <td>город Москва, улица Земляной Вал, дом 33</td>\n",
       "      <td>10</td>\n",
       "    </tr>\n",
       "    <tr>\n",
       "      <td>15363</td>\n",
       "      <td>209186</td>\n",
       "      <td>Шоколадница</td>\n",
       "      <td>сетевое</td>\n",
       "      <td>кафе</td>\n",
       "      <td>город Москва, улица Земляной Вал, дом 33</td>\n",
       "      <td>20</td>\n",
       "    </tr>\n",
       "    <tr>\n",
       "      <td>15364</td>\n",
       "      <td>221900</td>\n",
       "      <td>Шоколадница</td>\n",
       "      <td>сетевое</td>\n",
       "      <td>кафе</td>\n",
       "      <td>город Москва, поселение Московский, Киевское ш...</td>\n",
       "      <td>36</td>\n",
       "    </tr>\n",
       "    <tr>\n",
       "      <td>15365</td>\n",
       "      <td>222535</td>\n",
       "      <td>Шоколадница</td>\n",
       "      <td>сетевое</td>\n",
       "      <td>кафе</td>\n",
       "      <td>город Москва, Ходынский бульвар, дом 4</td>\n",
       "      <td>10</td>\n",
       "    </tr>\n",
       "  </tbody>\n",
       "</table>\n",
       "<p>15366 rows × 6 columns</p>\n",
       "</div>"
      ],
      "text/plain": [
       "           id             object_name      chain object_type  \\\n",
       "0      151635                 СМЕТАНА  несетевое        кафе   \n",
       "1       77874                  Родник  несетевое        кафе   \n",
       "2       24309         Кафе «Академия»  несетевое        кафе   \n",
       "3       21894              ПИЦЦЕТОРИЯ    сетевое        кафе   \n",
       "4      119365  Кафе «Вишневая метель»  несетевое        кафе   \n",
       "...       ...                     ...        ...         ...   \n",
       "15361  208537             Шоколадница    сетевое        кафе   \n",
       "15362  209264             Шоколадница    сетевое        кафе   \n",
       "15363  209186             Шоколадница    сетевое        кафе   \n",
       "15364  221900             Шоколадница    сетевое        кафе   \n",
       "15365  222535             Шоколадница    сетевое        кафе   \n",
       "\n",
       "                                                 address  number  \n",
       "0             город Москва, улица Егора Абакумова, дом 9      48  \n",
       "1      город Москва, улица Талалихина, дом 2/1, корпус 1      35  \n",
       "2              город Москва, Абельмановская улица, дом 6      95  \n",
       "3                город Москва, Абрамцевская улица, дом 1      40  \n",
       "4      город Москва, Абрамцевская улица, дом 9, корпус 1      50  \n",
       "...                                                  ...     ...  \n",
       "15361       город Москва, 3-й Крутицкий переулок, дом 18      50  \n",
       "15362           город Москва, улица Земляной Вал, дом 33      10  \n",
       "15363           город Москва, улица Земляной Вал, дом 33      20  \n",
       "15364  город Москва, поселение Московский, Киевское ш...      36  \n",
       "15365             город Москва, Ходынский бульвар, дом 4      10  \n",
       "\n",
       "[15366 rows x 6 columns]"
      ]
     },
     "execution_count": 23,
     "metadata": {},
     "output_type": "execute_result"
    }
   ],
   "source": [
    "rest"
   ]
  },
  {
   "cell_type": "code",
   "execution_count": 24,
   "metadata": {},
   "outputs": [],
   "source": [
    "rest['street'] = rest['address'].apply(lambda x: x.split(', ')[1])"
   ]
  },
  {
   "cell_type": "code",
   "execution_count": 25,
   "metadata": {},
   "outputs": [
    {
     "data": {
      "text/html": [
       "<div>\n",
       "<style scoped>\n",
       "    .dataframe tbody tr th:only-of-type {\n",
       "        vertical-align: middle;\n",
       "    }\n",
       "\n",
       "    .dataframe tbody tr th {\n",
       "        vertical-align: top;\n",
       "    }\n",
       "\n",
       "    .dataframe thead th {\n",
       "        text-align: right;\n",
       "    }\n",
       "</style>\n",
       "<table border=\"1\" class=\"dataframe\">\n",
       "  <thead>\n",
       "    <tr style=\"text-align: right;\">\n",
       "      <th></th>\n",
       "      <th>id</th>\n",
       "      <th>object_name</th>\n",
       "      <th>chain</th>\n",
       "      <th>object_type</th>\n",
       "      <th>address</th>\n",
       "      <th>number</th>\n",
       "      <th>street</th>\n",
       "    </tr>\n",
       "  </thead>\n",
       "  <tbody>\n",
       "    <tr>\n",
       "      <td>0</td>\n",
       "      <td>151635</td>\n",
       "      <td>СМЕТАНА</td>\n",
       "      <td>несетевое</td>\n",
       "      <td>кафе</td>\n",
       "      <td>город Москва, улица Егора Абакумова, дом 9</td>\n",
       "      <td>48</td>\n",
       "      <td>улица Егора Абакумова</td>\n",
       "    </tr>\n",
       "    <tr>\n",
       "      <td>1</td>\n",
       "      <td>77874</td>\n",
       "      <td>Родник</td>\n",
       "      <td>несетевое</td>\n",
       "      <td>кафе</td>\n",
       "      <td>город Москва, улица Талалихина, дом 2/1, корпус 1</td>\n",
       "      <td>35</td>\n",
       "      <td>улица Талалихина</td>\n",
       "    </tr>\n",
       "    <tr>\n",
       "      <td>2</td>\n",
       "      <td>24309</td>\n",
       "      <td>Кафе «Академия»</td>\n",
       "      <td>несетевое</td>\n",
       "      <td>кафе</td>\n",
       "      <td>город Москва, Абельмановская улица, дом 6</td>\n",
       "      <td>95</td>\n",
       "      <td>Абельмановская улица</td>\n",
       "    </tr>\n",
       "    <tr>\n",
       "      <td>3</td>\n",
       "      <td>21894</td>\n",
       "      <td>ПИЦЦЕТОРИЯ</td>\n",
       "      <td>сетевое</td>\n",
       "      <td>кафе</td>\n",
       "      <td>город Москва, Абрамцевская улица, дом 1</td>\n",
       "      <td>40</td>\n",
       "      <td>Абрамцевская улица</td>\n",
       "    </tr>\n",
       "    <tr>\n",
       "      <td>4</td>\n",
       "      <td>119365</td>\n",
       "      <td>Кафе «Вишневая метель»</td>\n",
       "      <td>несетевое</td>\n",
       "      <td>кафе</td>\n",
       "      <td>город Москва, Абрамцевская улица, дом 9, корпус 1</td>\n",
       "      <td>50</td>\n",
       "      <td>Абрамцевская улица</td>\n",
       "    </tr>\n",
       "    <tr>\n",
       "      <td>...</td>\n",
       "      <td>...</td>\n",
       "      <td>...</td>\n",
       "      <td>...</td>\n",
       "      <td>...</td>\n",
       "      <td>...</td>\n",
       "      <td>...</td>\n",
       "      <td>...</td>\n",
       "    </tr>\n",
       "    <tr>\n",
       "      <td>15361</td>\n",
       "      <td>208537</td>\n",
       "      <td>Шоколадница</td>\n",
       "      <td>сетевое</td>\n",
       "      <td>кафе</td>\n",
       "      <td>город Москва, 3-й Крутицкий переулок, дом 18</td>\n",
       "      <td>50</td>\n",
       "      <td>3-й Крутицкий переулок</td>\n",
       "    </tr>\n",
       "    <tr>\n",
       "      <td>15362</td>\n",
       "      <td>209264</td>\n",
       "      <td>Шоколадница</td>\n",
       "      <td>сетевое</td>\n",
       "      <td>кафе</td>\n",
       "      <td>город Москва, улица Земляной Вал, дом 33</td>\n",
       "      <td>10</td>\n",
       "      <td>улица Земляной Вал</td>\n",
       "    </tr>\n",
       "    <tr>\n",
       "      <td>15363</td>\n",
       "      <td>209186</td>\n",
       "      <td>Шоколадница</td>\n",
       "      <td>сетевое</td>\n",
       "      <td>кафе</td>\n",
       "      <td>город Москва, улица Земляной Вал, дом 33</td>\n",
       "      <td>20</td>\n",
       "      <td>улица Земляной Вал</td>\n",
       "    </tr>\n",
       "    <tr>\n",
       "      <td>15364</td>\n",
       "      <td>221900</td>\n",
       "      <td>Шоколадница</td>\n",
       "      <td>сетевое</td>\n",
       "      <td>кафе</td>\n",
       "      <td>город Москва, поселение Московский, Киевское ш...</td>\n",
       "      <td>36</td>\n",
       "      <td>поселение Московский</td>\n",
       "    </tr>\n",
       "    <tr>\n",
       "      <td>15365</td>\n",
       "      <td>222535</td>\n",
       "      <td>Шоколадница</td>\n",
       "      <td>сетевое</td>\n",
       "      <td>кафе</td>\n",
       "      <td>город Москва, Ходынский бульвар, дом 4</td>\n",
       "      <td>10</td>\n",
       "      <td>Ходынский бульвар</td>\n",
       "    </tr>\n",
       "  </tbody>\n",
       "</table>\n",
       "<p>15366 rows × 7 columns</p>\n",
       "</div>"
      ],
      "text/plain": [
       "           id             object_name      chain object_type  \\\n",
       "0      151635                 СМЕТАНА  несетевое        кафе   \n",
       "1       77874                  Родник  несетевое        кафе   \n",
       "2       24309         Кафе «Академия»  несетевое        кафе   \n",
       "3       21894              ПИЦЦЕТОРИЯ    сетевое        кафе   \n",
       "4      119365  Кафе «Вишневая метель»  несетевое        кафе   \n",
       "...       ...                     ...        ...         ...   \n",
       "15361  208537             Шоколадница    сетевое        кафе   \n",
       "15362  209264             Шоколадница    сетевое        кафе   \n",
       "15363  209186             Шоколадница    сетевое        кафе   \n",
       "15364  221900             Шоколадница    сетевое        кафе   \n",
       "15365  222535             Шоколадница    сетевое        кафе   \n",
       "\n",
       "                                                 address  number  \\\n",
       "0             город Москва, улица Егора Абакумова, дом 9      48   \n",
       "1      город Москва, улица Талалихина, дом 2/1, корпус 1      35   \n",
       "2              город Москва, Абельмановская улица, дом 6      95   \n",
       "3                город Москва, Абрамцевская улица, дом 1      40   \n",
       "4      город Москва, Абрамцевская улица, дом 9, корпус 1      50   \n",
       "...                                                  ...     ...   \n",
       "15361       город Москва, 3-й Крутицкий переулок, дом 18      50   \n",
       "15362           город Москва, улица Земляной Вал, дом 33      10   \n",
       "15363           город Москва, улица Земляной Вал, дом 33      20   \n",
       "15364  город Москва, поселение Московский, Киевское ш...      36   \n",
       "15365             город Москва, Ходынский бульвар, дом 4      10   \n",
       "\n",
       "                       street  \n",
       "0       улица Егора Абакумова  \n",
       "1            улица Талалихина  \n",
       "2        Абельмановская улица  \n",
       "3          Абрамцевская улица  \n",
       "4          Абрамцевская улица  \n",
       "...                       ...  \n",
       "15361  3-й Крутицкий переулок  \n",
       "15362      улица Земляной Вал  \n",
       "15363      улица Земляной Вал  \n",
       "15364    поселение Московский  \n",
       "15365       Ходынский бульвар  \n",
       "\n",
       "[15366 rows x 7 columns]"
      ]
     },
     "execution_count": 25,
     "metadata": {},
     "output_type": "execute_result"
    }
   ],
   "source": [
    "rest"
   ]
  },
  {
   "cell_type": "code",
   "execution_count": 26,
   "metadata": {},
   "outputs": [
    {
     "data": {
      "text/plain": [
       "1900"
      ]
     },
     "execution_count": 26,
     "metadata": {},
     "output_type": "execute_result"
    }
   ],
   "source": [
    "rest['street'].nunique()"
   ]
  },
  {
   "cell_type": "code",
   "execution_count": 27,
   "metadata": {},
   "outputs": [
    {
     "name": "stdout",
     "output_type": "stream",
     "text": [
      "<class 'pandas.core.frame.DataFrame'>\n",
      "RangeIndex: 4398 entries, 0 to 4397\n",
      "Data columns (total 4 columns):\n",
      "streetname    4398 non-null object\n",
      "areaid        4398 non-null int64\n",
      "okrug         4398 non-null object\n",
      "area          4398 non-null object\n",
      "dtypes: int64(1), object(3)\n",
      "memory usage: 137.6+ KB\n"
     ]
    }
   ],
   "source": [
    "districts.info()"
   ]
  },
  {
   "cell_type": "code",
   "execution_count": 28,
   "metadata": {},
   "outputs": [
    {
     "data": {
      "text/html": [
       "<div>\n",
       "<style scoped>\n",
       "    .dataframe tbody tr th:only-of-type {\n",
       "        vertical-align: middle;\n",
       "    }\n",
       "\n",
       "    .dataframe tbody tr th {\n",
       "        vertical-align: top;\n",
       "    }\n",
       "\n",
       "    .dataframe thead th {\n",
       "        text-align: right;\n",
       "    }\n",
       "</style>\n",
       "<table border=\"1\" class=\"dataframe\">\n",
       "  <thead>\n",
       "    <tr style=\"text-align: right;\">\n",
       "      <th></th>\n",
       "      <th>streetname</th>\n",
       "      <th>areaid</th>\n",
       "      <th>okrug</th>\n",
       "      <th>area</th>\n",
       "    </tr>\n",
       "  </thead>\n",
       "  <tbody>\n",
       "    <tr>\n",
       "      <td>0</td>\n",
       "      <td>Выставочный переулок</td>\n",
       "      <td>17</td>\n",
       "      <td>ЦАО</td>\n",
       "      <td>Пресненский район</td>\n",
       "    </tr>\n",
       "    <tr>\n",
       "      <td>1</td>\n",
       "      <td>улица Гашека</td>\n",
       "      <td>17</td>\n",
       "      <td>ЦАО</td>\n",
       "      <td>Пресненский район</td>\n",
       "    </tr>\n",
       "    <tr>\n",
       "      <td>2</td>\n",
       "      <td>Большая Никитская улица</td>\n",
       "      <td>17</td>\n",
       "      <td>ЦАО</td>\n",
       "      <td>Пресненский район</td>\n",
       "    </tr>\n",
       "    <tr>\n",
       "      <td>3</td>\n",
       "      <td>Глубокий переулок</td>\n",
       "      <td>17</td>\n",
       "      <td>ЦАО</td>\n",
       "      <td>Пресненский район</td>\n",
       "    </tr>\n",
       "    <tr>\n",
       "      <td>4</td>\n",
       "      <td>Большой Гнездниковский переулок</td>\n",
       "      <td>17</td>\n",
       "      <td>ЦАО</td>\n",
       "      <td>Пресненский район</td>\n",
       "    </tr>\n",
       "    <tr>\n",
       "      <td>...</td>\n",
       "      <td>...</td>\n",
       "      <td>...</td>\n",
       "      <td>...</td>\n",
       "      <td>...</td>\n",
       "    </tr>\n",
       "    <tr>\n",
       "      <td>4393</td>\n",
       "      <td>Вознесенский проезд</td>\n",
       "      <td>17</td>\n",
       "      <td>ЦАО</td>\n",
       "      <td>Пресненский район</td>\n",
       "    </tr>\n",
       "    <tr>\n",
       "      <td>4394</td>\n",
       "      <td>Волков переулок</td>\n",
       "      <td>17</td>\n",
       "      <td>ЦАО</td>\n",
       "      <td>Пресненский район</td>\n",
       "    </tr>\n",
       "    <tr>\n",
       "      <td>4395</td>\n",
       "      <td>Поварская улица</td>\n",
       "      <td>17</td>\n",
       "      <td>ЦАО</td>\n",
       "      <td>Пресненский район</td>\n",
       "    </tr>\n",
       "    <tr>\n",
       "      <td>4396</td>\n",
       "      <td>Кудринская площадь</td>\n",
       "      <td>17</td>\n",
       "      <td>ЦАО</td>\n",
       "      <td>Пресненский район</td>\n",
       "    </tr>\n",
       "    <tr>\n",
       "      <td>4397</td>\n",
       "      <td>Вспольный переулок</td>\n",
       "      <td>17</td>\n",
       "      <td>ЦАО</td>\n",
       "      <td>Пресненский район</td>\n",
       "    </tr>\n",
       "  </tbody>\n",
       "</table>\n",
       "<p>4398 rows × 4 columns</p>\n",
       "</div>"
      ],
      "text/plain": [
       "                           streetname  areaid okrug               area\n",
       "0                Выставочный переулок      17   ЦАО  Пресненский район\n",
       "1                        улица Гашека      17   ЦАО  Пресненский район\n",
       "2             Большая Никитская улица      17   ЦАО  Пресненский район\n",
       "3                   Глубокий переулок      17   ЦАО  Пресненский район\n",
       "4     Большой Гнездниковский переулок      17   ЦАО  Пресненский район\n",
       "...                               ...     ...   ...                ...\n",
       "4393              Вознесенский проезд      17   ЦАО  Пресненский район\n",
       "4394                  Волков переулок      17   ЦАО  Пресненский район\n",
       "4395                  Поварская улица      17   ЦАО  Пресненский район\n",
       "4396               Кудринская площадь      17   ЦАО  Пресненский район\n",
       "4397               Вспольный переулок      17   ЦАО  Пресненский район\n",
       "\n",
       "[4398 rows x 4 columns]"
      ]
     },
     "execution_count": 28,
     "metadata": {},
     "output_type": "execute_result"
    }
   ],
   "source": [
    "districts"
   ]
  },
  {
   "cell_type": "code",
   "execution_count": 29,
   "metadata": {},
   "outputs": [],
   "source": [
    "rest['street'] = rest['street'].str.lower()\n",
    "districts['streetname'] = districts['streetname'].str.lower()"
   ]
  },
  {
   "cell_type": "code",
   "execution_count": 30,
   "metadata": {},
   "outputs": [
    {
     "data": {
      "text/plain": [
       "street\n",
       "город зеленоград          232\n",
       "проспект мира             204\n",
       "профсоюзная улица         182\n",
       "ленинградский проспект    171\n",
       "пресненская набережная    167\n",
       "Name: object_name, dtype: int64"
      ]
     },
     "execution_count": 30,
     "metadata": {},
     "output_type": "execute_result"
    }
   ],
   "source": [
    "rest.groupby('street')['object_name'].count().sort_values(ascending=False).head()"
   ]
  },
  {
   "cell_type": "markdown",
   "metadata": {},
   "source": [
    "Зеленоград и поселение сосенское всё же не будем включать в анализ, так как они не являются улицами Москвы."
   ]
  },
  {
   "cell_type": "code",
   "execution_count": 31,
   "metadata": {},
   "outputs": [],
   "source": [
    "top10 = rest[(rest['street']!='поселение сосенское') & (rest['street']!='город зеленоград')]\\\n",
    ".groupby('street')['object_name'].count().sort_values(ascending=False).reset_index()\\\n",
    ".rename(columns={'object_name' : 'object_count'}).head(10)"
   ]
  },
  {
   "cell_type": "code",
   "execution_count": 32,
   "metadata": {
    "scrolled": false
   },
   "outputs": [
    {
     "data": {
      "text/html": [
       "<div>\n",
       "<style scoped>\n",
       "    .dataframe tbody tr th:only-of-type {\n",
       "        vertical-align: middle;\n",
       "    }\n",
       "\n",
       "    .dataframe tbody tr th {\n",
       "        vertical-align: top;\n",
       "    }\n",
       "\n",
       "    .dataframe thead th {\n",
       "        text-align: right;\n",
       "    }\n",
       "</style>\n",
       "<table border=\"1\" class=\"dataframe\">\n",
       "  <thead>\n",
       "    <tr style=\"text-align: right;\">\n",
       "      <th></th>\n",
       "      <th>street</th>\n",
       "      <th>object_count</th>\n",
       "    </tr>\n",
       "  </thead>\n",
       "  <tbody>\n",
       "    <tr>\n",
       "      <td>0</td>\n",
       "      <td>проспект мира</td>\n",
       "      <td>204</td>\n",
       "    </tr>\n",
       "    <tr>\n",
       "      <td>1</td>\n",
       "      <td>профсоюзная улица</td>\n",
       "      <td>182</td>\n",
       "    </tr>\n",
       "    <tr>\n",
       "      <td>2</td>\n",
       "      <td>ленинградский проспект</td>\n",
       "      <td>171</td>\n",
       "    </tr>\n",
       "    <tr>\n",
       "      <td>3</td>\n",
       "      <td>пресненская набережная</td>\n",
       "      <td>167</td>\n",
       "    </tr>\n",
       "    <tr>\n",
       "      <td>4</td>\n",
       "      <td>варшавское шоссе</td>\n",
       "      <td>161</td>\n",
       "    </tr>\n",
       "    <tr>\n",
       "      <td>5</td>\n",
       "      <td>ленинский проспект</td>\n",
       "      <td>147</td>\n",
       "    </tr>\n",
       "    <tr>\n",
       "      <td>6</td>\n",
       "      <td>проспект вернадского</td>\n",
       "      <td>132</td>\n",
       "    </tr>\n",
       "    <tr>\n",
       "      <td>7</td>\n",
       "      <td>кутузовский проспект</td>\n",
       "      <td>114</td>\n",
       "    </tr>\n",
       "    <tr>\n",
       "      <td>8</td>\n",
       "      <td>каширское шоссе</td>\n",
       "      <td>112</td>\n",
       "    </tr>\n",
       "    <tr>\n",
       "      <td>9</td>\n",
       "      <td>кировоградская улица</td>\n",
       "      <td>110</td>\n",
       "    </tr>\n",
       "  </tbody>\n",
       "</table>\n",
       "</div>"
      ],
      "text/plain": [
       "                   street  object_count\n",
       "0           проспект мира           204\n",
       "1       профсоюзная улица           182\n",
       "2  ленинградский проспект           171\n",
       "3  пресненская набережная           167\n",
       "4        варшавское шоссе           161\n",
       "5      ленинский проспект           147\n",
       "6    проспект вернадского           132\n",
       "7    кутузовский проспект           114\n",
       "8         каширское шоссе           112\n",
       "9    кировоградская улица           110"
      ]
     },
     "execution_count": 32,
     "metadata": {},
     "output_type": "execute_result"
    }
   ],
   "source": [
    "top10"
   ]
  },
  {
   "cell_type": "code",
   "execution_count": 33,
   "metadata": {
    "scrolled": false
   },
   "outputs": [
    {
     "data": {
      "image/png": "[encoded data removed]",
      "text/plain": [
       "<Figure size 576x576 with 1 Axes>"
      ]
     },
     "metadata": {
      "needs_background": "light"
     },
     "output_type": "display_data"
    }
   ],
   "source": [
    "plt.subplots(figsize=(8, 8))\n",
    "sns.barplot(x=top10['object_count'], y=top10['street'])\n",
    "plt.title('Топ 10 улиц по количеству посадочных мест', fontsize=16)\n",
    "plt.xlabel('Количество заведений', fontsize=15)\n",
    "plt.ylabel('Улица', fontsize=15)\n",
    "plt.show()"
   ]
  },
  {
   "cell_type": "markdown",
   "metadata": {},
   "source": [
    "На первом месте по количеству заведений находится проспект мира с 204 заведениями. На втором месте профсоюзная улица с 182 заведениями, на третьем ленинградский проспект - 171 заведение. На трёх последних местах идут кутузовский проспект, каширское шоссе и кировоградская улица с примерно одним результатом в 110 - 115 заведений. Количество заведений на улицу зависит, вероятно, от протяжённости и близости к памятным местам. Но точно сказать сложно - это бы потребовало отдельного исследования."
   ]
  },
  {
   "cell_type": "code",
   "execution_count": 34,
   "metadata": {
    "scrolled": false
   },
   "outputs": [
    {
     "data": {
      "text/html": [
       "<div>\n",
       "<style scoped>\n",
       "    .dataframe tbody tr th:only-of-type {\n",
       "        vertical-align: middle;\n",
       "    }\n",
       "\n",
       "    .dataframe tbody tr th {\n",
       "        vertical-align: top;\n",
       "    }\n",
       "\n",
       "    .dataframe thead th {\n",
       "        text-align: right;\n",
       "    }\n",
       "</style>\n",
       "<table border=\"1\" class=\"dataframe\">\n",
       "  <thead>\n",
       "    <tr style=\"text-align: right;\">\n",
       "      <th></th>\n",
       "      <th>street</th>\n",
       "      <th>area</th>\n",
       "    </tr>\n",
       "  </thead>\n",
       "  <tbody>\n",
       "    <tr>\n",
       "      <td>0</td>\n",
       "      <td>проспект мира</td>\n",
       "      <td>Алексеевский район</td>\n",
       "    </tr>\n",
       "    <tr>\n",
       "      <td>1</td>\n",
       "      <td>проспект мира</td>\n",
       "      <td>Ярославский Район</td>\n",
       "    </tr>\n",
       "    <tr>\n",
       "      <td>2</td>\n",
       "      <td>проспект мира</td>\n",
       "      <td>Район Марьина роща</td>\n",
       "    </tr>\n",
       "    <tr>\n",
       "      <td>3</td>\n",
       "      <td>проспект мира</td>\n",
       "      <td>Останкинский район</td>\n",
       "    </tr>\n",
       "    <tr>\n",
       "      <td>4</td>\n",
       "      <td>проспект мира</td>\n",
       "      <td>Район Ростокино</td>\n",
       "    </tr>\n",
       "    <tr>\n",
       "      <td>5</td>\n",
       "      <td>проспект мира</td>\n",
       "      <td>Район Свиблово</td>\n",
       "    </tr>\n",
       "    <tr>\n",
       "      <td>6</td>\n",
       "      <td>проспект мира</td>\n",
       "      <td>Мещанский район</td>\n",
       "    </tr>\n",
       "  </tbody>\n",
       "</table>\n",
       "</div>"
      ],
      "text/plain": [
       "          street                area\n",
       "0  проспект мира  Алексеевский район\n",
       "1  проспект мира   Ярославский Район\n",
       "2  проспект мира  Район Марьина роща\n",
       "3  проспект мира  Останкинский район\n",
       "4  проспект мира     Район Ростокино\n",
       "5  проспект мира      Район Свиблово\n",
       "6  проспект мира     Мещанский район"
      ]
     },
     "execution_count": 34,
     "metadata": {},
     "output_type": "execute_result"
    }
   ],
   "source": [
    "top10_distr = top10.merge(districts, left_on='street', right_on='streetname', how='left')\n",
    "top10_distr = top10_distr.drop(['object_count', 'streetname'], 1)\n",
    "top10_distr[top10_distr['street']=='проспект мира'][['street','area']]"
   ]
  },
  {
   "cell_type": "markdown",
   "metadata": {},
   "source": [
    "Построим сводную таблицу по улицам и районам для наглядности"
   ]
  },
  {
   "cell_type": "code",
   "execution_count": 35,
   "metadata": {
    "scrolled": false
   },
   "outputs": [
    {
     "data": {
      "text/html": [
       "<div>\n",
       "<style scoped>\n",
       "    .dataframe tbody tr th:only-of-type {\n",
       "        vertical-align: middle;\n",
       "    }\n",
       "\n",
       "    .dataframe tbody tr th {\n",
       "        vertical-align: top;\n",
       "    }\n",
       "\n",
       "    .dataframe thead th {\n",
       "        text-align: right;\n",
       "    }\n",
       "</style>\n",
       "<table border=\"1\" class=\"dataframe\">\n",
       "  <thead>\n",
       "    <tr style=\"text-align: right;\">\n",
       "      <th></th>\n",
       "      <th></th>\n",
       "    </tr>\n",
       "    <tr>\n",
       "      <th>street</th>\n",
       "      <th>area</th>\n",
       "    </tr>\n",
       "  </thead>\n",
       "  <tbody>\n",
       "    <tr>\n",
       "      <td rowspan=\"8\" valign=\"top\">варшавское шоссе</td>\n",
       "      <td>Донской район</td>\n",
       "    </tr>\n",
       "    <tr>\n",
       "      <td>Нагорный район</td>\n",
       "    </tr>\n",
       "    <tr>\n",
       "      <td>Район Нагатино-Садовники</td>\n",
       "    </tr>\n",
       "    <tr>\n",
       "      <td>Район Северное Бутово</td>\n",
       "    </tr>\n",
       "    <tr>\n",
       "      <td>Район Чертаново Северное</td>\n",
       "    </tr>\n",
       "    <tr>\n",
       "      <td>Район Чертаново Центральное</td>\n",
       "    </tr>\n",
       "    <tr>\n",
       "      <td>Район Чертаново Южное</td>\n",
       "    </tr>\n",
       "    <tr>\n",
       "      <td>Район Южное Бутово</td>\n",
       "    </tr>\n",
       "    <tr>\n",
       "      <td rowspan=\"4\" valign=\"top\">каширское шоссе</td>\n",
       "      <td>Район Москворечье-Сабурово</td>\n",
       "    </tr>\n",
       "    <tr>\n",
       "      <td>Район Нагатино-Садовники</td>\n",
       "    </tr>\n",
       "    <tr>\n",
       "      <td>Район Орехово-Борисово Северное</td>\n",
       "    </tr>\n",
       "    <tr>\n",
       "      <td>Район Орехово-Борисово Южное</td>\n",
       "    </tr>\n",
       "    <tr>\n",
       "      <td rowspan=\"3\" valign=\"top\">кировоградская улица</td>\n",
       "      <td>Район Чертаново Северное</td>\n",
       "    </tr>\n",
       "    <tr>\n",
       "      <td>Район Чертаново Центральное</td>\n",
       "    </tr>\n",
       "    <tr>\n",
       "      <td>Район Чертаново Южное</td>\n",
       "    </tr>\n",
       "    <tr>\n",
       "      <td rowspan=\"2\" valign=\"top\">кутузовский проспект</td>\n",
       "      <td>Район Дорогомилово</td>\n",
       "    </tr>\n",
       "    <tr>\n",
       "      <td>Район Фили-Давыдково</td>\n",
       "    </tr>\n",
       "    <tr>\n",
       "      <td rowspan=\"4\" valign=\"top\">ленинградский проспект</td>\n",
       "      <td>Район Аэропорт</td>\n",
       "    </tr>\n",
       "    <tr>\n",
       "      <td>Район Беговой</td>\n",
       "    </tr>\n",
       "    <tr>\n",
       "      <td>Район Сокол</td>\n",
       "    </tr>\n",
       "    <tr>\n",
       "      <td>Хорошевский район</td>\n",
       "    </tr>\n",
       "    <tr>\n",
       "      <td rowspan=\"8\" valign=\"top\">ленинский проспект</td>\n",
       "      <td>Донской район</td>\n",
       "    </tr>\n",
       "    <tr>\n",
       "      <td>Ломоносовский район</td>\n",
       "    </tr>\n",
       "    <tr>\n",
       "      <td>Обручевский район</td>\n",
       "    </tr>\n",
       "    <tr>\n",
       "      <td>Район Гагаринский</td>\n",
       "    </tr>\n",
       "    <tr>\n",
       "      <td>Район Проспект Вернадского</td>\n",
       "    </tr>\n",
       "    <tr>\n",
       "      <td>Район Теплый Стан</td>\n",
       "    </tr>\n",
       "    <tr>\n",
       "      <td>Район Тропарево-Никулино</td>\n",
       "    </tr>\n",
       "    <tr>\n",
       "      <td>Район Якиманка</td>\n",
       "    </tr>\n",
       "    <tr>\n",
       "      <td>пресненская набережная</td>\n",
       "      <td>Пресненский район</td>\n",
       "    </tr>\n",
       "    <tr>\n",
       "      <td rowspan=\"5\" valign=\"top\">проспект вернадского</td>\n",
       "      <td>Ломоносовский район</td>\n",
       "    </tr>\n",
       "    <tr>\n",
       "      <td>Район Гагаринский</td>\n",
       "    </tr>\n",
       "    <tr>\n",
       "      <td>Район Проспект Вернадского</td>\n",
       "    </tr>\n",
       "    <tr>\n",
       "      <td>Район Раменки</td>\n",
       "    </tr>\n",
       "    <tr>\n",
       "      <td>Район Тропарево-Никулино</td>\n",
       "    </tr>\n",
       "    <tr>\n",
       "      <td rowspan=\"7\" valign=\"top\">проспект мира</td>\n",
       "      <td>Алексеевский район</td>\n",
       "    </tr>\n",
       "    <tr>\n",
       "      <td>Мещанский район</td>\n",
       "    </tr>\n",
       "    <tr>\n",
       "      <td>Останкинский район</td>\n",
       "    </tr>\n",
       "    <tr>\n",
       "      <td>Район Марьина роща</td>\n",
       "    </tr>\n",
       "    <tr>\n",
       "      <td>Район Ростокино</td>\n",
       "    </tr>\n",
       "    <tr>\n",
       "      <td>Район Свиблово</td>\n",
       "    </tr>\n",
       "    <tr>\n",
       "      <td>Ярославский Район</td>\n",
       "    </tr>\n",
       "    <tr>\n",
       "      <td rowspan=\"6\" valign=\"top\">профсоюзная улица</td>\n",
       "      <td>Академический район</td>\n",
       "    </tr>\n",
       "    <tr>\n",
       "      <td>Обручевский район</td>\n",
       "    </tr>\n",
       "    <tr>\n",
       "      <td>Район Коньково</td>\n",
       "    </tr>\n",
       "    <tr>\n",
       "      <td>Район Теплый Стан</td>\n",
       "    </tr>\n",
       "    <tr>\n",
       "      <td>Район Черемушки</td>\n",
       "    </tr>\n",
       "    <tr>\n",
       "      <td>Район Ясенево</td>\n",
       "    </tr>\n",
       "  </tbody>\n",
       "</table>\n",
       "</div>"
      ],
      "text/plain": [
       "Empty DataFrame\n",
       "Columns: []\n",
       "Index: [(варшавское шоссе, Донской район), (варшавское шоссе, Нагорный район), (варшавское шоссе, Район Нагатино-Садовники), (варшавское шоссе, Район Северное Бутово), (варшавское шоссе, Район Чертаново Северное), (варшавское шоссе, Район Чертаново Центральное), (варшавское шоссе, Район Чертаново Южное), (варшавское шоссе, Район Южное Бутово), (каширское шоссе, Район Москворечье-Сабурово), (каширское шоссе, Район Нагатино-Садовники), (каширское шоссе, Район Орехово-Борисово Северное), (каширское шоссе, Район Орехово-Борисово Южное), (кировоградская улица, Район Чертаново Северное), (кировоградская улица, Район Чертаново Центральное), (кировоградская улица, Район Чертаново Южное), (кутузовский проспект, Район Дорогомилово), (кутузовский проспект, Район Фили-Давыдково), (ленинградский проспект, Район Аэропорт), (ленинградский проспект, Район Беговой), (ленинградский проспект, Район Сокол), (ленинградский проспект, Хорошевский район), (ленинский проспект, Донской район), (ленинский проспект, Ломоносовский район), (ленинский проспект, Обручевский район), (ленинский проспект, Район Гагаринский), (ленинский проспект, Район Проспект Вернадского), (ленинский проспект, Район Теплый Стан), (ленинский проспект, Район Тропарево-Никулино), (ленинский проспект, Район Якиманка), (пресненская набережная, Пресненский район), (проспект вернадского, Ломоносовский район), (проспект вернадского, Район Гагаринский), (проспект вернадского, Район Проспект Вернадского), (проспект вернадского, Район Раменки), (проспект вернадского, Район Тропарево-Никулино), (проспект мира, Алексеевский район), (проспект мира, Мещанский район), (проспект мира, Останкинский район), (проспект мира, Район Марьина роща), (проспект мира, Район Ростокино), (проспект мира, Район Свиблово), (проспект мира, Ярославский Район), (профсоюзная улица, Академический район), (профсоюзная улица, Обручевский район), (профсоюзная улица, Район Коньково), (профсоюзная улица, Район Теплый Стан), (профсоюзная улица, Район Черемушки), (профсоюзная улица, Район Ясенево)]"
      ]
     },
     "execution_count": 35,
     "metadata": {},
     "output_type": "execute_result"
    }
   ],
   "source": [
    "top10_pivot = top10_distr.pivot_table(index=['street','area'])\n",
    "del top10_pivot['areaid']\n",
    "top10_pivot"
   ]
  },
  {
   "cell_type": "markdown",
   "metadata": {},
   "source": [
    "<a id=\"analysis_1_7\"></a> \n",
    "### Число улиц с одним объектом общественного питания:\n",
    "[К оглавлению](#contents)"
   ]
  },
  {
   "cell_type": "code",
   "execution_count": 36,
   "metadata": {
    "scrolled": false
   },
   "outputs": [
    {
     "data": {
      "text/html": [
       "<div>\n",
       "<style scoped>\n",
       "    .dataframe tbody tr th:only-of-type {\n",
       "        vertical-align: middle;\n",
       "    }\n",
       "\n",
       "    .dataframe tbody tr th {\n",
       "        vertical-align: top;\n",
       "    }\n",
       "\n",
       "    .dataframe thead th {\n",
       "        text-align: right;\n",
       "    }\n",
       "</style>\n",
       "<table border=\"1\" class=\"dataframe\">\n",
       "  <thead>\n",
       "    <tr style=\"text-align: right;\">\n",
       "      <th></th>\n",
       "      <th>id</th>\n",
       "      <th>object_name</th>\n",
       "      <th>chain</th>\n",
       "      <th>object_type</th>\n",
       "      <th>address</th>\n",
       "      <th>number</th>\n",
       "      <th>street</th>\n",
       "    </tr>\n",
       "  </thead>\n",
       "  <tbody>\n",
       "    <tr>\n",
       "      <td>0</td>\n",
       "      <td>151635</td>\n",
       "      <td>СМЕТАНА</td>\n",
       "      <td>несетевое</td>\n",
       "      <td>кафе</td>\n",
       "      <td>город Москва, улица Егора Абакумова, дом 9</td>\n",
       "      <td>48</td>\n",
       "      <td>улица егора абакумова</td>\n",
       "    </tr>\n",
       "    <tr>\n",
       "      <td>1</td>\n",
       "      <td>77874</td>\n",
       "      <td>Родник</td>\n",
       "      <td>несетевое</td>\n",
       "      <td>кафе</td>\n",
       "      <td>город Москва, улица Талалихина, дом 2/1, корпус 1</td>\n",
       "      <td>35</td>\n",
       "      <td>улица талалихина</td>\n",
       "    </tr>\n",
       "    <tr>\n",
       "      <td>2</td>\n",
       "      <td>24309</td>\n",
       "      <td>Кафе «Академия»</td>\n",
       "      <td>несетевое</td>\n",
       "      <td>кафе</td>\n",
       "      <td>город Москва, Абельмановская улица, дом 6</td>\n",
       "      <td>95</td>\n",
       "      <td>абельмановская улица</td>\n",
       "    </tr>\n",
       "    <tr>\n",
       "      <td>3</td>\n",
       "      <td>21894</td>\n",
       "      <td>ПИЦЦЕТОРИЯ</td>\n",
       "      <td>сетевое</td>\n",
       "      <td>кафе</td>\n",
       "      <td>город Москва, Абрамцевская улица, дом 1</td>\n",
       "      <td>40</td>\n",
       "      <td>абрамцевская улица</td>\n",
       "    </tr>\n",
       "    <tr>\n",
       "      <td>4</td>\n",
       "      <td>119365</td>\n",
       "      <td>Кафе «Вишневая метель»</td>\n",
       "      <td>несетевое</td>\n",
       "      <td>кафе</td>\n",
       "      <td>город Москва, Абрамцевская улица, дом 9, корпус 1</td>\n",
       "      <td>50</td>\n",
       "      <td>абрамцевская улица</td>\n",
       "    </tr>\n",
       "    <tr>\n",
       "      <td>...</td>\n",
       "      <td>...</td>\n",
       "      <td>...</td>\n",
       "      <td>...</td>\n",
       "      <td>...</td>\n",
       "      <td>...</td>\n",
       "      <td>...</td>\n",
       "      <td>...</td>\n",
       "    </tr>\n",
       "    <tr>\n",
       "      <td>15361</td>\n",
       "      <td>208537</td>\n",
       "      <td>Шоколадница</td>\n",
       "      <td>сетевое</td>\n",
       "      <td>кафе</td>\n",
       "      <td>город Москва, 3-й Крутицкий переулок, дом 18</td>\n",
       "      <td>50</td>\n",
       "      <td>3-й крутицкий переулок</td>\n",
       "    </tr>\n",
       "    <tr>\n",
       "      <td>15362</td>\n",
       "      <td>209264</td>\n",
       "      <td>Шоколадница</td>\n",
       "      <td>сетевое</td>\n",
       "      <td>кафе</td>\n",
       "      <td>город Москва, улица Земляной Вал, дом 33</td>\n",
       "      <td>10</td>\n",
       "      <td>улица земляной вал</td>\n",
       "    </tr>\n",
       "    <tr>\n",
       "      <td>15363</td>\n",
       "      <td>209186</td>\n",
       "      <td>Шоколадница</td>\n",
       "      <td>сетевое</td>\n",
       "      <td>кафе</td>\n",
       "      <td>город Москва, улица Земляной Вал, дом 33</td>\n",
       "      <td>20</td>\n",
       "      <td>улица земляной вал</td>\n",
       "    </tr>\n",
       "    <tr>\n",
       "      <td>15364</td>\n",
       "      <td>221900</td>\n",
       "      <td>Шоколадница</td>\n",
       "      <td>сетевое</td>\n",
       "      <td>кафе</td>\n",
       "      <td>город Москва, поселение Московский, Киевское ш...</td>\n",
       "      <td>36</td>\n",
       "      <td>поселение московский</td>\n",
       "    </tr>\n",
       "    <tr>\n",
       "      <td>15365</td>\n",
       "      <td>222535</td>\n",
       "      <td>Шоколадница</td>\n",
       "      <td>сетевое</td>\n",
       "      <td>кафе</td>\n",
       "      <td>город Москва, Ходынский бульвар, дом 4</td>\n",
       "      <td>10</td>\n",
       "      <td>ходынский бульвар</td>\n",
       "    </tr>\n",
       "  </tbody>\n",
       "</table>\n",
       "<p>15366 rows × 7 columns</p>\n",
       "</div>"
      ],
      "text/plain": [
       "           id             object_name      chain object_type  \\\n",
       "0      151635                 СМЕТАНА  несетевое        кафе   \n",
       "1       77874                  Родник  несетевое        кафе   \n",
       "2       24309         Кафе «Академия»  несетевое        кафе   \n",
       "3       21894              ПИЦЦЕТОРИЯ    сетевое        кафе   \n",
       "4      119365  Кафе «Вишневая метель»  несетевое        кафе   \n",
       "...       ...                     ...        ...         ...   \n",
       "15361  208537             Шоколадница    сетевое        кафе   \n",
       "15362  209264             Шоколадница    сетевое        кафе   \n",
       "15363  209186             Шоколадница    сетевое        кафе   \n",
       "15364  221900             Шоколадница    сетевое        кафе   \n",
       "15365  222535             Шоколадница    сетевое        кафе   \n",
       "\n",
       "                                                 address  number  \\\n",
       "0             город Москва, улица Егора Абакумова, дом 9      48   \n",
       "1      город Москва, улица Талалихина, дом 2/1, корпус 1      35   \n",
       "2              город Москва, Абельмановская улица, дом 6      95   \n",
       "3                город Москва, Абрамцевская улица, дом 1      40   \n",
       "4      город Москва, Абрамцевская улица, дом 9, корпус 1      50   \n",
       "...                                                  ...     ...   \n",
       "15361       город Москва, 3-й Крутицкий переулок, дом 18      50   \n",
       "15362           город Москва, улица Земляной Вал, дом 33      10   \n",
       "15363           город Москва, улица Земляной Вал, дом 33      20   \n",
       "15364  город Москва, поселение Московский, Киевское ш...      36   \n",
       "15365             город Москва, Ходынский бульвар, дом 4      10   \n",
       "\n",
       "                       street  \n",
       "0       улица егора абакумова  \n",
       "1            улица талалихина  \n",
       "2        абельмановская улица  \n",
       "3          абрамцевская улица  \n",
       "4          абрамцевская улица  \n",
       "...                       ...  \n",
       "15361  3-й крутицкий переулок  \n",
       "15362      улица земляной вал  \n",
       "15363      улица земляной вал  \n",
       "15364    поселение московский  \n",
       "15365       ходынский бульвар  \n",
       "\n",
       "[15366 rows x 7 columns]"
      ]
     },
     "execution_count": 36,
     "metadata": {},
     "output_type": "execute_result"
    }
   ],
   "source": [
    "rest"
   ]
  },
  {
   "cell_type": "code",
   "execution_count": 37,
   "metadata": {},
   "outputs": [
    {
     "data": {
      "text/html": [
       "<div>\n",
       "<style scoped>\n",
       "    .dataframe tbody tr th:only-of-type {\n",
       "        vertical-align: middle;\n",
       "    }\n",
       "\n",
       "    .dataframe tbody tr th {\n",
       "        vertical-align: top;\n",
       "    }\n",
       "\n",
       "    .dataframe thead th {\n",
       "        text-align: right;\n",
       "    }\n",
       "</style>\n",
       "<table border=\"1\" class=\"dataframe\">\n",
       "  <thead>\n",
       "    <tr style=\"text-align: right;\">\n",
       "      <th></th>\n",
       "      <th>street</th>\n",
       "      <th>object_name</th>\n",
       "    </tr>\n",
       "  </thead>\n",
       "  <tbody>\n",
       "    <tr>\n",
       "      <td>2</td>\n",
       "      <td>1-й балтийский переулок</td>\n",
       "      <td>1</td>\n",
       "    </tr>\n",
       "    <tr>\n",
       "      <td>3</td>\n",
       "      <td>1-й басманный переулок</td>\n",
       "      <td>1</td>\n",
       "    </tr>\n",
       "    <tr>\n",
       "      <td>4</td>\n",
       "      <td>1-й ботанический проезд</td>\n",
       "      <td>1</td>\n",
       "    </tr>\n",
       "    <tr>\n",
       "      <td>7</td>\n",
       "      <td>1-й вешняковский проезд</td>\n",
       "      <td>1</td>\n",
       "    </tr>\n",
       "    <tr>\n",
       "      <td>9</td>\n",
       "      <td>1-й голутвинский переулок</td>\n",
       "      <td>1</td>\n",
       "    </tr>\n",
       "    <tr>\n",
       "      <td>...</td>\n",
       "      <td>...</td>\n",
       "      <td>...</td>\n",
       "    </tr>\n",
       "    <tr>\n",
       "      <td>1889</td>\n",
       "      <td>ялтинская улица</td>\n",
       "      <td>1</td>\n",
       "    </tr>\n",
       "    <tr>\n",
       "      <td>1890</td>\n",
       "      <td>янтарный проезд</td>\n",
       "      <td>1</td>\n",
       "    </tr>\n",
       "    <tr>\n",
       "      <td>1895</td>\n",
       "      <td>ясногорская улица</td>\n",
       "      <td>1</td>\n",
       "    </tr>\n",
       "    <tr>\n",
       "      <td>1898</td>\n",
       "      <td>яузский бульвар</td>\n",
       "      <td>1</td>\n",
       "    </tr>\n",
       "    <tr>\n",
       "      <td>1899</td>\n",
       "      <td>яхромская улица</td>\n",
       "      <td>1</td>\n",
       "    </tr>\n",
       "  </tbody>\n",
       "</table>\n",
       "<p>579 rows × 2 columns</p>\n",
       "</div>"
      ],
      "text/plain": [
       "                         street  object_name\n",
       "2       1-й балтийский переулок            1\n",
       "3        1-й басманный переулок            1\n",
       "4       1-й ботанический проезд            1\n",
       "7       1-й вешняковский проезд            1\n",
       "9     1-й голутвинский переулок            1\n",
       "...                         ...          ...\n",
       "1889            ялтинская улица            1\n",
       "1890            янтарный проезд            1\n",
       "1895          ясногорская улица            1\n",
       "1898            яузский бульвар            1\n",
       "1899            яхромская улица            1\n",
       "\n",
       "[579 rows x 2 columns]"
      ]
     },
     "execution_count": 37,
     "metadata": {},
     "output_type": "execute_result"
    }
   ],
   "source": [
    "objects_count = rest.groupby('street')['object_name'].count().reset_index().rename({'object_name':'object_count'})\n",
    "one_object_streets = objects_count[objects_count['object_name']==1]\n",
    "one_object_streets"
   ]
  },
  {
   "cell_type": "code",
   "execution_count": 38,
   "metadata": {},
   "outputs": [
    {
     "data": {
      "text/html": [
       "<div>\n",
       "<style scoped>\n",
       "    .dataframe tbody tr th:only-of-type {\n",
       "        vertical-align: middle;\n",
       "    }\n",
       "\n",
       "    .dataframe tbody tr th {\n",
       "        vertical-align: top;\n",
       "    }\n",
       "\n",
       "    .dataframe thead th {\n",
       "        text-align: right;\n",
       "    }\n",
       "</style>\n",
       "<table border=\"1\" class=\"dataframe\">\n",
       "  <thead>\n",
       "    <tr style=\"text-align: right;\">\n",
       "      <th></th>\n",
       "      <th>street</th>\n",
       "      <th>object_name</th>\n",
       "      <th>streetname</th>\n",
       "      <th>areaid</th>\n",
       "      <th>okrug</th>\n",
       "      <th>area</th>\n",
       "    </tr>\n",
       "  </thead>\n",
       "  <tbody>\n",
       "    <tr>\n",
       "      <td>0</td>\n",
       "      <td>1-й балтийский переулок</td>\n",
       "      <td>1</td>\n",
       "      <td>1-й балтийский переулок</td>\n",
       "      <td>54.0</td>\n",
       "      <td>САО</td>\n",
       "      <td>Район Аэропорт</td>\n",
       "    </tr>\n",
       "    <tr>\n",
       "      <td>1</td>\n",
       "      <td>1-й басманный переулок</td>\n",
       "      <td>1</td>\n",
       "      <td>1-й басманный переулок</td>\n",
       "      <td>13.0</td>\n",
       "      <td>ЦАО</td>\n",
       "      <td>Басманный район</td>\n",
       "    </tr>\n",
       "    <tr>\n",
       "      <td>2</td>\n",
       "      <td>1-й басманный переулок</td>\n",
       "      <td>1</td>\n",
       "      <td>1-й басманный переулок</td>\n",
       "      <td>15.0</td>\n",
       "      <td>ЦАО</td>\n",
       "      <td>Красносельский район</td>\n",
       "    </tr>\n",
       "    <tr>\n",
       "      <td>3</td>\n",
       "      <td>1-й ботанический проезд</td>\n",
       "      <td>1</td>\n",
       "      <td>1-й ботанический проезд</td>\n",
       "      <td>82.0</td>\n",
       "      <td>СВАО</td>\n",
       "      <td>Район Свиблово</td>\n",
       "    </tr>\n",
       "    <tr>\n",
       "      <td>4</td>\n",
       "      <td>1-й вешняковский проезд</td>\n",
       "      <td>1</td>\n",
       "      <td>1-й вешняковский проезд</td>\n",
       "      <td>120.0</td>\n",
       "      <td>ЮВАО</td>\n",
       "      <td>Рязанский район</td>\n",
       "    </tr>\n",
       "    <tr>\n",
       "      <td>...</td>\n",
       "      <td>...</td>\n",
       "      <td>...</td>\n",
       "      <td>...</td>\n",
       "      <td>...</td>\n",
       "      <td>...</td>\n",
       "      <td>...</td>\n",
       "    </tr>\n",
       "    <tr>\n",
       "      <td>617</td>\n",
       "      <td>ялтинская улица</td>\n",
       "      <td>1</td>\n",
       "      <td>ялтинская улица</td>\n",
       "      <td>104.0</td>\n",
       "      <td>ЮАО</td>\n",
       "      <td>Нагорный район</td>\n",
       "    </tr>\n",
       "    <tr>\n",
       "      <td>618</td>\n",
       "      <td>янтарный проезд</td>\n",
       "      <td>1</td>\n",
       "      <td>янтарный проезд</td>\n",
       "      <td>76.0</td>\n",
       "      <td>СВАО</td>\n",
       "      <td>Лосиноостровский район</td>\n",
       "    </tr>\n",
       "    <tr>\n",
       "      <td>619</td>\n",
       "      <td>ясногорская улица</td>\n",
       "      <td>1</td>\n",
       "      <td>ясногорская улица</td>\n",
       "      <td>134.0</td>\n",
       "      <td>ЮЗАО</td>\n",
       "      <td>Район Ясенево</td>\n",
       "    </tr>\n",
       "    <tr>\n",
       "      <td>620</td>\n",
       "      <td>яузский бульвар</td>\n",
       "      <td>1</td>\n",
       "      <td>яузский бульвар</td>\n",
       "      <td>18.0</td>\n",
       "      <td>ЦАО</td>\n",
       "      <td>Таганский район</td>\n",
       "    </tr>\n",
       "    <tr>\n",
       "      <td>621</td>\n",
       "      <td>яхромская улица</td>\n",
       "      <td>1</td>\n",
       "      <td>яхромская улица</td>\n",
       "      <td>60.0</td>\n",
       "      <td>САО</td>\n",
       "      <td>Дмитровский район</td>\n",
       "    </tr>\n",
       "  </tbody>\n",
       "</table>\n",
       "<p>622 rows × 6 columns</p>\n",
       "</div>"
      ],
      "text/plain": [
       "                      street  object_name               streetname  areaid  \\\n",
       "0    1-й балтийский переулок            1  1-й балтийский переулок    54.0   \n",
       "1     1-й басманный переулок            1   1-й басманный переулок    13.0   \n",
       "2     1-й басманный переулок            1   1-й басманный переулок    15.0   \n",
       "3    1-й ботанический проезд            1  1-й ботанический проезд    82.0   \n",
       "4    1-й вешняковский проезд            1  1-й вешняковский проезд   120.0   \n",
       "..                       ...          ...                      ...     ...   \n",
       "617          ялтинская улица            1          ялтинская улица   104.0   \n",
       "618          янтарный проезд            1          янтарный проезд    76.0   \n",
       "619        ясногорская улица            1        ясногорская улица   134.0   \n",
       "620          яузский бульвар            1          яузский бульвар    18.0   \n",
       "621          яхромская улица            1          яхромская улица    60.0   \n",
       "\n",
       "    okrug                    area  \n",
       "0     САО          Район Аэропорт  \n",
       "1     ЦАО         Басманный район  \n",
       "2     ЦАО    Красносельский район  \n",
       "3    СВАО          Район Свиблово  \n",
       "4    ЮВАО         Рязанский район  \n",
       "..    ...                     ...  \n",
       "617   ЮАО          Нагорный район  \n",
       "618  СВАО  Лосиноостровский район  \n",
       "619  ЮЗАО           Район Ясенево  \n",
       "620   ЦАО         Таганский район  \n",
       "621   САО       Дмитровский район  \n",
       "\n",
       "[622 rows x 6 columns]"
      ]
     },
     "execution_count": 38,
     "metadata": {},
     "output_type": "execute_result"
    }
   ],
   "source": [
    "one_object_str_distr = one_object_streets.merge(districts, left_on='street', right_on='streetname', how='left')\n",
    "one_object_str_distr"
   ]
  },
  {
   "cell_type": "code",
   "execution_count": 39,
   "metadata": {},
   "outputs": [
    {
     "name": "stdout",
     "output_type": "stream",
     "text": [
      "Количество улиц с одним заведение: 579\n",
      "\n",
      "Районы, на которых располагаются улицы с содним заведением: ['Район Аэропорт' 'Басманный район' 'Красносельский район'\n",
      " 'Район Свиблово' 'Рязанский район' 'Район Якиманка' 'Район Хамовники'\n",
      " 'Район Соколиная Гора' 'Даниловский район' 'Мещанский район'\n",
      " 'Таганский район' 'Район Лефортово' 'Район Печатники' 'Район Сокольники'\n",
      " 'Район Замоскворечье' 'Хорошевский район' 'Район Арбат'\n",
      " 'Район Марьина роща' 'Алексеевский район' 'Район Текстильщики'\n",
      " 'Район Ростокино' 'Район Раменки' 'Район Хорошево-Мневники'\n",
      " 'Район Покровское-Стрешнево' 'Район Богородское' 'Нижегородский район'\n",
      " 'Тверской район' 'Лосиноостровский район' 'Район Преображенское'\n",
      " 'Район Ново-Переделкино' nan 'Район Измайлово' 'Район Северное Измайлово'\n",
      " 'Район Восточное Измайлово' 'Район Беговой' 'Донской район'\n",
      " 'Район Гольяново' 'Войковский Район' 'Савеловский район' 'Район Перово'\n",
      " 'Район Филевский Парк' 'Район Чертаново Южное' 'Южнопортовый Район'\n",
      " 'Головинский район' 'Район Южное Бутово' 'Останкинский район'\n",
      " 'Район Сокол' 'Район Северный' 'Район Кунцево' 'Район Люблино'\n",
      " 'Тимирязевский Район' 'Район Внуково' 'Бескудниковский Район'\n",
      " 'Район Зюзино' 'Пресненский район' 'Район Солнцево' 'Дмитровский район'\n",
      " 'Район Метрогородок' 'Район Митино' 'Район Нагатино-Садовники'\n",
      " 'Можайский Район' 'Район Кузьминки' 'Район Черемушки'\n",
      " 'Район Косино-Ухтомский' 'Район Коптево' 'Район Выхино-Жулебино'\n",
      " 'Район Куркино' 'Ярославский Район' 'Район Бирюлево Восточное'\n",
      " 'Район Гагаринский' 'Район Котловка' 'Район Южное Тушино'\n",
      " 'Район Строгино' 'Район Отрадное' 'Бабушкинский район'\n",
      " 'Район Дорогомилово' 'Район Марьино' 'Район Восточный'\n",
      " 'Район Левобережный' 'Молжаниновский район' 'Бутырский район'\n",
      " 'Район Ивановское' 'Район Западное Дегунино' 'Район Северное Медведково'\n",
      " 'Нагорный район' 'Район Матушкино-Савелки' 'Район Новогиреево'\n",
      " 'Алтуфьевский район' 'Район Чертаново Северное' 'Район Ясенево'\n",
      " 'Район Коньково' 'Район Марфино' 'Обручевский район' 'Район Щукино'\n",
      " 'Район Северное Бутово' 'Район Фили-Давыдково'\n",
      " 'Район Москворечье-Сабурово' 'Район Царицыно' 'Район Очаково-Матвеевское'\n",
      " 'Район Южное Медведково']\n"
     ]
    }
   ],
   "source": [
    "print('Количество улиц с одним заведение:', len(one_object_streets))\n",
    "print('')\n",
    "print('Районы, на которых располагаются улицы с содним заведением: {}'.format(one_object_str_distr['area'].unique()))"
   ]
  },
  {
   "cell_type": "markdown",
   "metadata": {},
   "source": [
    "Если судить по карте, эти улицы могут быть, в первую очередь, короткими либо иметь другие причины притяжения людей. Там уже располагаются поликлиники или другие места для решения каких-то повседневных задач. "
   ]
  },
  {
   "cell_type": "markdown",
   "metadata": {},
   "source": [
    "<a id=\"analysis_1_8\"></a> \n",
    "### Распределение количества посадочных мест на улицах с большим количеством заведений.\n",
    "[К оглавлению](#contents)"
   ]
  },
  {
   "cell_type": "code",
   "execution_count": 40,
   "metadata": {
    "scrolled": true
   },
   "outputs": [
    {
     "data": {
      "image/png": "[encoded data removed]",
      "text/plain": [
       "<Figure size 360x360 with 1 Axes>"
      ]
     },
     "metadata": {
      "needs_background": "light"
     },
     "output_type": "display_data"
    }
   ],
   "source": [
    "plt.subplots(figsize=(5, 5))\n",
    "sns.boxplot(y='number', data=rest[rest['street'].isin(top10['street'])])\n",
    "plt.title('Распределение посадочных мест заведений из топ 10 улиц', fontsize=14)\n",
    "plt.ylabel('Количество посадочных мест', fontsize=15)\n",
    "plt.xticks(rotation=45)\n",
    "plt.ylim([0, 100])\n",
    "plt.show()"
   ]
  },
  {
   "cell_type": "markdown",
   "metadata": {},
   "source": [
    "Медиана посадочных мест - 40. Большиство значений укладываются в 10 - 75 посадочных мест."
   ]
  },
  {
   "cell_type": "code",
   "execution_count": 41,
   "metadata": {},
   "outputs": [
    {
     "data": {
      "image/png": "[encoded data removed]",
      "text/plain": [
       "<Figure size 576x576 with 1 Axes>"
      ]
     },
     "metadata": {
      "needs_background": "light"
     },
     "output_type": "display_data"
    }
   ],
   "source": [
    "plt.subplots(figsize=(8, 8))\n",
    "sns.boxplot(x='street', y='number', data=rest[rest['street'].isin(top10['street'])])\n",
    "plt.title('Распределение посадочных мест заведений из топ 10 улиц', fontsize=14)\n",
    "plt.xlabel('Типы заведений', fontsize=15)\n",
    "plt.ylabel('Количество посадочных мест', fontsize=15)\n",
    "plt.xticks(rotation=90)\n",
    "plt.ylim([0, 100])\n",
    "plt.yticks(np.arange(0, 100, step=10))\n",
    "plt.show()"
   ]
  },
  {
   "cell_type": "markdown",
   "metadata": {},
   "source": [
    "По всем заведениям медиана распределения посадочных мест находится на уровне 40, а основное количество заведений имеет 10 - 75 посадочных мест. Самая высокая медиана посадочных мест у проспекта вернадского, кутузовского проспекта, ленинградского проспекта, ленинского проспекта, проспекта мира в районе 40-45. На всех остальных улицах медиана не превышает 30."
   ]
  },
  {
   "cell_type": "markdown",
   "metadata": {},
   "source": [
    "<a id=\"conclusion\"></a> \n",
    "# Выводы\n",
    "[К оглавлению](#contents)"
   ]
  },
  {
   "cell_type": "markdown",
   "metadata": {},
   "source": [
    "1. Перед нами стояла задача сделать обзор рынка маленких кафе, чтобы в дальнейшем этим можно было пользоваться при открытии собственного проекта\n",
    "2. В нашем распоряжении были данные о заведениях общественного питания Москвы, в которых мы не нашли пропусков или дубликатов. Но заменили некоторые названия типов заведений на более короткие: предприятия быстрого обслуживания на фаст-фуд, и магазины (отдел кулинарии) на кулинарию. И в столбце принадлежности к сетевым заведения заменили значения \"нет\" и \"да\" на более полные, чтобы было проще работать с графиками.\n",
    "3. В пункте анализа данных мы, в первую очередь, посмотрели на соотношение разных типов заведений. Наибольшее количество в районе 6000 занимают кафе, столовая и ресторан идут на третьем месте с результатами в 2500, фаст-фуд на четвёртом месте с  результатом в 2000, затем идут бары в количестве 600 и остальные заведения не поднимаются выше 500. \n",
    "   * Далее мы посмотрели на стооношение сетевых и несетевых заведений. Количество первых значительно превышает вторых: 12000 против 3000. Если говорить и разных типах заведений, то наибольший процент сетевых заведений мы обнаружили у фаст-фудов - 70 процентов, затем идут отдел кулинарии - 40  процентов, рестораны - 31 процент и кафе 30 процентов. У всех остальных заведений процент сетевых заведений не больше 19 процентов.\n",
    "   * В следующем подпункте посмотрели на количество посадочных мест в разных типах заведений. У столовых самое широкое типичное распределение посадочных мест - 50 процентов значений укладываются в промежуток 50 - 200 посадочных мест, - при этом медиана укладывается в 100 посадочных мест - это самое высокое значение среди всех типов заведений. На втором месте идут рестораны с основным количеством посадочных мест в 45 - 115 и медианой - 80. У кафе, бара и буфета медиана - 30 посадочных мест. У кафе и бара количество посадочных мест варьируется в промежутке 15 -50. А буфеты могут достигать и 80 мест. При этом у закусочных и магазинов, по большей части нет посадочных мест или не больше 10. У фаст-фудов же количество посадочных мест не превышает 25, а медиана и вовсе на уровне 5\n",
    "   * Далее посмотрели на распределения посадочных мест в сетевых заведениях. Большинство укладываются в 100 посадочных мест, при этом после 60 посадочных мест наблюдаем резкое падение. Также видим разницу разных типов заведений по количеству посадочных мест. В максимальные 60 мест укладываются кафе, предприятия быстрого обслуживания и рестораны, что является малым показателем для этих типов, если учитывать что в промежутке от 60 до 300 посадочных мест существует большое количество заведений этого типа. Остальные типы заведений имеют не более 30 посадочных мест. Поэтому можем заключить, что большинство сетевых заведений имеют небольшое количество посадочных мест.\n",
    "   * В следующем шаге выделили топ10 улиц Москвы по количеству заведений. Список с количеством заведений представлен ниже. Далее посмотрели в каких районах Москвы эти улицы располагаются. Списки представлены ниже.\n",
    "   * Затем обнаружили 579 улиц с одним заведением. И посмотрели районы в которых эти улицы располагаются. Список так же есть ниже.\n",
    "   * И, наконец, посмотрели распределение посадочных мест для топ 10 улиц. По всем заведениям медиана распределения посадочных мест находится на уровне 40, а основное количество заведений имеет 10 - 75 посадочных мест. Самая высокая медиана посадочных мест у проспекта вернадского, кутузовского проспекта, ленинградского проспекта, ленинского проспекта, проспекта мира в районе 40-45. На всех остальных улицах медиана не превышает 30."
   ]
  },
  {
   "cell_type": "markdown",
   "metadata": {},
   "source": [
    "##### Рекомендации по открытию нового кафе: \n",
    "Из топ 10 улиц для открытия кафе лучше всего, по всей видимости, подойдут Ленинский проспект и проспект Вернадского, так как по количеству заведений эти улицы идут на 6 и 7 местах, то есть конкуренция будет не самой высокой. Но при этом рядом распологается МГУ, а интересная идея с роботами может заинтересовать студентов, которые рспространят сведения о кафе дальше. Кафе должно быть 30-40 мест, так как на этих улицах среднее количество мест у кафе 40, а по общей информации по всему городу - 30. Кафе находится на четвёртом месте по сетевому распространению. Всего сетевое распространение получили около 30 процентов кафе. Поэтому стоит ли открывать в дальнейшем ещё одно кафе под таким же именем требует более детального рассмотрения."
   ]
  },
  {
   "cell_type": "code",
   "execution_count": 42,
   "metadata": {},
   "outputs": [
    {
     "name": "stdout",
     "output_type": "stream",
     "text": [
      "Топ 10 улиц по количеству заведений                    street  object_count\n",
      "0           проспект мира           204\n",
      "1       профсоюзная улица           182\n",
      "2  ленинградский проспект           171\n",
      "3  пресненская набережная           167\n",
      "4        варшавское шоссе           161\n",
      "5      ленинский проспект           147\n",
      "6    проспект вернадского           132\n",
      "7    кутузовский проспект           114\n",
      "8         каширское шоссе           112\n",
      "9    кировоградская улица           110\n"
     ]
    }
   ],
   "source": [
    "print('Топ 10 улиц по количеству заведений', top10)"
   ]
  },
  {
   "cell_type": "code",
   "execution_count": 43,
   "metadata": {},
   "outputs": [
    {
     "data": {
      "text/html": [
       "<div>\n",
       "<style scoped>\n",
       "    .dataframe tbody tr th:only-of-type {\n",
       "        vertical-align: middle;\n",
       "    }\n",
       "\n",
       "    .dataframe tbody tr th {\n",
       "        vertical-align: top;\n",
       "    }\n",
       "\n",
       "    .dataframe thead th {\n",
       "        text-align: right;\n",
       "    }\n",
       "</style>\n",
       "<table border=\"1\" class=\"dataframe\">\n",
       "  <thead>\n",
       "    <tr style=\"text-align: right;\">\n",
       "      <th></th>\n",
       "      <th></th>\n",
       "    </tr>\n",
       "    <tr>\n",
       "      <th>street</th>\n",
       "      <th>area</th>\n",
       "    </tr>\n",
       "  </thead>\n",
       "  <tbody>\n",
       "    <tr>\n",
       "      <td rowspan=\"8\" valign=\"top\">варшавское шоссе</td>\n",
       "      <td>Донской район</td>\n",
       "    </tr>\n",
       "    <tr>\n",
       "      <td>Нагорный район</td>\n",
       "    </tr>\n",
       "    <tr>\n",
       "      <td>Район Нагатино-Садовники</td>\n",
       "    </tr>\n",
       "    <tr>\n",
       "      <td>Район Северное Бутово</td>\n",
       "    </tr>\n",
       "    <tr>\n",
       "      <td>Район Чертаново Северное</td>\n",
       "    </tr>\n",
       "    <tr>\n",
       "      <td>Район Чертаново Центральное</td>\n",
       "    </tr>\n",
       "    <tr>\n",
       "      <td>Район Чертаново Южное</td>\n",
       "    </tr>\n",
       "    <tr>\n",
       "      <td>Район Южное Бутово</td>\n",
       "    </tr>\n",
       "    <tr>\n",
       "      <td rowspan=\"4\" valign=\"top\">каширское шоссе</td>\n",
       "      <td>Район Москворечье-Сабурово</td>\n",
       "    </tr>\n",
       "    <tr>\n",
       "      <td>Район Нагатино-Садовники</td>\n",
       "    </tr>\n",
       "    <tr>\n",
       "      <td>Район Орехово-Борисово Северное</td>\n",
       "    </tr>\n",
       "    <tr>\n",
       "      <td>Район Орехово-Борисово Южное</td>\n",
       "    </tr>\n",
       "    <tr>\n",
       "      <td rowspan=\"3\" valign=\"top\">кировоградская улица</td>\n",
       "      <td>Район Чертаново Северное</td>\n",
       "    </tr>\n",
       "    <tr>\n",
       "      <td>Район Чертаново Центральное</td>\n",
       "    </tr>\n",
       "    <tr>\n",
       "      <td>Район Чертаново Южное</td>\n",
       "    </tr>\n",
       "    <tr>\n",
       "      <td rowspan=\"2\" valign=\"top\">кутузовский проспект</td>\n",
       "      <td>Район Дорогомилово</td>\n",
       "    </tr>\n",
       "    <tr>\n",
       "      <td>Район Фили-Давыдково</td>\n",
       "    </tr>\n",
       "    <tr>\n",
       "      <td rowspan=\"4\" valign=\"top\">ленинградский проспект</td>\n",
       "      <td>Район Аэропорт</td>\n",
       "    </tr>\n",
       "    <tr>\n",
       "      <td>Район Беговой</td>\n",
       "    </tr>\n",
       "    <tr>\n",
       "      <td>Район Сокол</td>\n",
       "    </tr>\n",
       "    <tr>\n",
       "      <td>Хорошевский район</td>\n",
       "    </tr>\n",
       "    <tr>\n",
       "      <td rowspan=\"8\" valign=\"top\">ленинский проспект</td>\n",
       "      <td>Донской район</td>\n",
       "    </tr>\n",
       "    <tr>\n",
       "      <td>Ломоносовский район</td>\n",
       "    </tr>\n",
       "    <tr>\n",
       "      <td>Обручевский район</td>\n",
       "    </tr>\n",
       "    <tr>\n",
       "      <td>Район Гагаринский</td>\n",
       "    </tr>\n",
       "    <tr>\n",
       "      <td>Район Проспект Вернадского</td>\n",
       "    </tr>\n",
       "    <tr>\n",
       "      <td>Район Теплый Стан</td>\n",
       "    </tr>\n",
       "    <tr>\n",
       "      <td>Район Тропарево-Никулино</td>\n",
       "    </tr>\n",
       "    <tr>\n",
       "      <td>Район Якиманка</td>\n",
       "    </tr>\n",
       "    <tr>\n",
       "      <td>пресненская набережная</td>\n",
       "      <td>Пресненский район</td>\n",
       "    </tr>\n",
       "    <tr>\n",
       "      <td rowspan=\"5\" valign=\"top\">проспект вернадского</td>\n",
       "      <td>Ломоносовский район</td>\n",
       "    </tr>\n",
       "    <tr>\n",
       "      <td>Район Гагаринский</td>\n",
       "    </tr>\n",
       "    <tr>\n",
       "      <td>Район Проспект Вернадского</td>\n",
       "    </tr>\n",
       "    <tr>\n",
       "      <td>Район Раменки</td>\n",
       "    </tr>\n",
       "    <tr>\n",
       "      <td>Район Тропарево-Никулино</td>\n",
       "    </tr>\n",
       "    <tr>\n",
       "      <td rowspan=\"7\" valign=\"top\">проспект мира</td>\n",
       "      <td>Алексеевский район</td>\n",
       "    </tr>\n",
       "    <tr>\n",
       "      <td>Мещанский район</td>\n",
       "    </tr>\n",
       "    <tr>\n",
       "      <td>Останкинский район</td>\n",
       "    </tr>\n",
       "    <tr>\n",
       "      <td>Район Марьина роща</td>\n",
       "    </tr>\n",
       "    <tr>\n",
       "      <td>Район Ростокино</td>\n",
       "    </tr>\n",
       "    <tr>\n",
       "      <td>Район Свиблово</td>\n",
       "    </tr>\n",
       "    <tr>\n",
       "      <td>Ярославский Район</td>\n",
       "    </tr>\n",
       "    <tr>\n",
       "      <td rowspan=\"6\" valign=\"top\">профсоюзная улица</td>\n",
       "      <td>Академический район</td>\n",
       "    </tr>\n",
       "    <tr>\n",
       "      <td>Обручевский район</td>\n",
       "    </tr>\n",
       "    <tr>\n",
       "      <td>Район Коньково</td>\n",
       "    </tr>\n",
       "    <tr>\n",
       "      <td>Район Теплый Стан</td>\n",
       "    </tr>\n",
       "    <tr>\n",
       "      <td>Район Черемушки</td>\n",
       "    </tr>\n",
       "    <tr>\n",
       "      <td>Район Ясенево</td>\n",
       "    </tr>\n",
       "  </tbody>\n",
       "</table>\n",
       "</div>"
      ],
      "text/plain": [
       "Empty DataFrame\n",
       "Columns: []\n",
       "Index: [(варшавское шоссе, Донской район), (варшавское шоссе, Нагорный район), (варшавское шоссе, Район Нагатино-Садовники), (варшавское шоссе, Район Северное Бутово), (варшавское шоссе, Район Чертаново Северное), (варшавское шоссе, Район Чертаново Центральное), (варшавское шоссе, Район Чертаново Южное), (варшавское шоссе, Район Южное Бутово), (каширское шоссе, Район Москворечье-Сабурово), (каширское шоссе, Район Нагатино-Садовники), (каширское шоссе, Район Орехово-Борисово Северное), (каширское шоссе, Район Орехово-Борисово Южное), (кировоградская улица, Район Чертаново Северное), (кировоградская улица, Район Чертаново Центральное), (кировоградская улица, Район Чертаново Южное), (кутузовский проспект, Район Дорогомилово), (кутузовский проспект, Район Фили-Давыдково), (ленинградский проспект, Район Аэропорт), (ленинградский проспект, Район Беговой), (ленинградский проспект, Район Сокол), (ленинградский проспект, Хорошевский район), (ленинский проспект, Донской район), (ленинский проспект, Ломоносовский район), (ленинский проспект, Обручевский район), (ленинский проспект, Район Гагаринский), (ленинский проспект, Район Проспект Вернадского), (ленинский проспект, Район Теплый Стан), (ленинский проспект, Район Тропарево-Никулино), (ленинский проспект, Район Якиманка), (пресненская набережная, Пресненский район), (проспект вернадского, Ломоносовский район), (проспект вернадского, Район Гагаринский), (проспект вернадского, Район Проспект Вернадского), (проспект вернадского, Район Раменки), (проспект вернадского, Район Тропарево-Никулино), (проспект мира, Алексеевский район), (проспект мира, Мещанский район), (проспект мира, Останкинский район), (проспект мира, Район Марьина роща), (проспект мира, Район Ростокино), (проспект мира, Район Свиблово), (проспект мира, Ярославский Район), (профсоюзная улица, Академический район), (профсоюзная улица, Обручевский район), (профсоюзная улица, Район Коньково), (профсоюзная улица, Район Теплый Стан), (профсоюзная улица, Район Черемушки), (профсоюзная улица, Район Ясенево)]"
      ]
     },
     "metadata": {},
     "output_type": "display_data"
    }
   ],
   "source": [
    "display(top10_pivot)"
   ]
  },
  {
   "cell_type": "code",
   "execution_count": 44,
   "metadata": {
    "scrolled": false
   },
   "outputs": [
    {
     "name": "stdout",
     "output_type": "stream",
     "text": [
      "Районы, на которых располагаются улицы с содним заведением: ['Район Аэропорт' 'Басманный район' 'Красносельский район'\n",
      " 'Район Свиблово' 'Рязанский район' 'Район Якиманка' 'Район Хамовники'\n",
      " 'Район Соколиная Гора' 'Даниловский район' 'Мещанский район'\n",
      " 'Таганский район' 'Район Лефортово' 'Район Печатники' 'Район Сокольники'\n",
      " 'Район Замоскворечье' 'Хорошевский район' 'Район Арбат'\n",
      " 'Район Марьина роща' 'Алексеевский район' 'Район Текстильщики'\n",
      " 'Район Ростокино' 'Район Раменки' 'Район Хорошево-Мневники'\n",
      " 'Район Покровское-Стрешнево' 'Район Богородское' 'Нижегородский район'\n",
      " 'Тверской район' 'Лосиноостровский район' 'Район Преображенское'\n",
      " 'Район Ново-Переделкино' nan 'Район Измайлово' 'Район Северное Измайлово'\n",
      " 'Район Восточное Измайлово' 'Район Беговой' 'Донской район'\n",
      " 'Район Гольяново' 'Войковский Район' 'Савеловский район' 'Район Перово'\n",
      " 'Район Филевский Парк' 'Район Чертаново Южное' 'Южнопортовый Район'\n",
      " 'Головинский район' 'Район Южное Бутово' 'Останкинский район'\n",
      " 'Район Сокол' 'Район Северный' 'Район Кунцево' 'Район Люблино'\n",
      " 'Тимирязевский Район' 'Район Внуково' 'Бескудниковский Район'\n",
      " 'Район Зюзино' 'Пресненский район' 'Район Солнцево' 'Дмитровский район'\n",
      " 'Район Метрогородок' 'Район Митино' 'Район Нагатино-Садовники'\n",
      " 'Можайский Район' 'Район Кузьминки' 'Район Черемушки'\n",
      " 'Район Косино-Ухтомский' 'Район Коптево' 'Район Выхино-Жулебино'\n",
      " 'Район Куркино' 'Ярославский Район' 'Район Бирюлево Восточное'\n",
      " 'Район Гагаринский' 'Район Котловка' 'Район Южное Тушино'\n",
      " 'Район Строгино' 'Район Отрадное' 'Бабушкинский район'\n",
      " 'Район Дорогомилово' 'Район Марьино' 'Район Восточный'\n",
      " 'Район Левобережный' 'Молжаниновский район' 'Бутырский район'\n",
      " 'Район Ивановское' 'Район Западное Дегунино' 'Район Северное Медведково'\n",
      " 'Нагорный район' 'Район Матушкино-Савелки' 'Район Новогиреево'\n",
      " 'Алтуфьевский район' 'Район Чертаново Северное' 'Район Ясенево'\n",
      " 'Район Коньково' 'Район Марфино' 'Обручевский район' 'Район Щукино'\n",
      " 'Район Северное Бутово' 'Район Фили-Давыдково'\n",
      " 'Район Москворечье-Сабурово' 'Район Царицыно' 'Район Очаково-Матвеевское'\n",
      " 'Район Южное Медведково']\n"
     ]
    }
   ],
   "source": [
    "print('Районы, на которых располагаются улицы с содним заведением: {}'.format(one_object_str_distr['area'].unique()))"
   ]
  },
  {
   "cell_type": "markdown",
   "metadata": {},
   "source": [
    "<a id=\"presentation\"></a>\n",
    "## Презентация исследования"
   ]
  },
  {
   "cell_type": "markdown",
   "metadata": {},
   "source": [
    "Новая презентация\n",
    "https://drive.google.com/file/d/1i5zd_XbJaP4-Ts5gdZ1cXcxHk2IhCkqH/view?usp=sharing"
   ]
  }
 ],
 "metadata": {
  "ExecuteTimeLog": [
   {
    "duration": 207,
    "start_time": "2021-07-01T12:20:26.640Z"
   },
   {
    "duration": 2344,
    "start_time": "2021-07-01T12:20:37.641Z"
   },
   {
    "duration": 242,
    "start_time": "2021-07-01T12:20:39.987Z"
   },
   {
    "duration": 9,
    "start_time": "2021-07-01T12:20:40.231Z"
   },
   {
    "duration": 34,
    "start_time": "2021-07-01T12:20:40.242Z"
   },
   {
    "duration": 6,
    "start_time": "2021-07-01T12:20:40.278Z"
   },
   {
    "duration": 9,
    "start_time": "2021-07-01T12:20:40.285Z"
   },
   {
    "duration": 6,
    "start_time": "2021-07-01T12:20:40.296Z"
   },
   {
    "duration": 32,
    "start_time": "2021-07-01T12:20:40.304Z"
   },
   {
    "duration": 6,
    "start_time": "2021-07-01T12:20:40.338Z"
   },
   {
    "duration": 8,
    "start_time": "2021-07-01T12:20:40.345Z"
   },
   {
    "duration": 35,
    "start_time": "2021-07-01T12:20:40.354Z"
   },
   {
    "duration": 308,
    "start_time": "2021-07-01T12:20:40.391Z"
   },
   {
    "duration": 162,
    "start_time": "2021-07-01T12:20:40.701Z"
   },
   {
    "duration": 325,
    "start_time": "2021-07-01T12:20:40.865Z"
   },
   {
    "duration": 11,
    "start_time": "2021-07-01T12:20:41.191Z"
   },
   {
    "duration": 7,
    "start_time": "2021-07-01T12:20:41.203Z"
   },
   {
    "duration": 12,
    "start_time": "2021-07-01T12:20:41.211Z"
   },
   {
    "duration": 9,
    "start_time": "2021-07-01T12:20:41.224Z"
   },
   {
    "duration": 453,
    "start_time": "2021-07-01T12:20:41.235Z"
   },
   {
    "duration": 411,
    "start_time": "2021-07-01T12:20:41.689Z"
   },
   {
    "duration": 452,
    "start_time": "2021-07-01T12:20:42.102Z"
   },
   {
    "duration": 277,
    "start_time": "2021-07-01T12:20:42.556Z"
   },
   {
    "duration": 13,
    "start_time": "2021-07-01T12:20:42.837Z"
   },
   {
    "duration": 12,
    "start_time": "2021-07-01T12:20:42.852Z"
   },
   {
    "duration": 28,
    "start_time": "2021-07-01T12:20:42.866Z"
   },
   {
    "duration": 8,
    "start_time": "2021-07-01T12:20:42.896Z"
   },
   {
    "duration": 6,
    "start_time": "2021-07-01T12:20:42.905Z"
   },
   {
    "duration": 13,
    "start_time": "2021-07-01T12:20:42.913Z"
   },
   {
    "duration": 13,
    "start_time": "2021-07-01T12:20:42.928Z"
   },
   {
    "duration": 42,
    "start_time": "2021-07-01T12:20:42.943Z"
   },
   {
    "duration": 14,
    "start_time": "2021-07-01T12:20:42.986Z"
   },
   {
    "duration": 6,
    "start_time": "2021-07-01T12:20:43.001Z"
   },
   {
    "duration": 286,
    "start_time": "2021-07-01T12:20:43.009Z"
   },
   {
    "duration": 12,
    "start_time": "2021-07-01T12:20:43.297Z"
   },
   {
    "duration": 18,
    "start_time": "2021-07-01T12:20:43.311Z"
   },
   {
    "duration": 19,
    "start_time": "2021-07-01T12:20:43.330Z"
   },
   {
    "duration": 38,
    "start_time": "2021-07-01T12:20:43.351Z"
   },
   {
    "duration": 16,
    "start_time": "2021-07-01T12:20:43.391Z"
   },
   {
    "duration": 4,
    "start_time": "2021-07-01T12:20:43.409Z"
   },
   {
    "duration": 158,
    "start_time": "2021-07-01T12:20:43.414Z"
   },
   {
    "duration": 379,
    "start_time": "2021-07-01T12:20:43.574Z"
   },
   {
    "duration": 4,
    "start_time": "2021-07-01T12:20:43.955Z"
   },
   {
    "duration": 12,
    "start_time": "2021-07-01T12:20:43.961Z"
   },
   {
    "duration": 3,
    "start_time": "2021-07-01T12:20:43.985Z"
   },
   {
    "duration": 3671,
    "start_time": "2021-07-01T20:17:50.544Z"
   },
   {
    "duration": 78,
    "start_time": "2021-07-01T20:17:54.217Z"
   },
   {
    "duration": 16,
    "start_time": "2021-07-01T20:17:54.299Z"
   },
   {
    "duration": 37,
    "start_time": "2021-07-01T20:17:54.318Z"
   },
   {
    "duration": 27,
    "start_time": "2021-07-01T20:17:54.358Z"
   },
   {
    "duration": 12,
    "start_time": "2021-07-01T20:17:54.388Z"
   },
   {
    "duration": 13,
    "start_time": "2021-07-01T20:17:54.402Z"
   },
   {
    "duration": 78,
    "start_time": "2021-07-01T20:17:54.419Z"
   },
   {
    "duration": 11,
    "start_time": "2021-07-01T20:17:54.500Z"
   },
   {
    "duration": 14,
    "start_time": "2021-07-01T20:17:54.514Z"
   },
   {
    "duration": 21,
    "start_time": "2021-07-01T20:17:54.531Z"
   },
   {
    "duration": 507,
    "start_time": "2021-07-01T20:17:54.586Z"
   },
   {
    "duration": 251,
    "start_time": "2021-07-01T20:17:55.096Z"
   },
   {
    "duration": 556,
    "start_time": "2021-07-01T20:17:55.349Z"
   },
   {
    "duration": 14,
    "start_time": "2021-07-01T20:17:55.908Z"
   },
   {
    "duration": 15,
    "start_time": "2021-07-01T20:17:55.924Z"
   },
   {
    "duration": 18,
    "start_time": "2021-07-01T20:17:55.941Z"
   },
   {
    "duration": 11,
    "start_time": "2021-07-01T20:17:55.985Z"
   },
   {
    "duration": 696,
    "start_time": "2021-07-01T20:17:55.999Z"
   },
   {
    "duration": 654,
    "start_time": "2021-07-01T20:17:56.699Z"
   },
   {
    "duration": 687,
    "start_time": "2021-07-01T20:17:57.356Z"
   },
   {
    "duration": 439,
    "start_time": "2021-07-01T20:17:58.046Z"
   },
   {
    "duration": 19,
    "start_time": "2021-07-01T20:17:58.492Z"
   },
   {
    "duration": 23,
    "start_time": "2021-07-01T20:17:58.515Z"
   },
   {
    "duration": 57,
    "start_time": "2021-07-01T20:17:58.541Z"
   },
   {
    "duration": 13,
    "start_time": "2021-07-01T20:17:58.601Z"
   },
   {
    "duration": 11,
    "start_time": "2021-07-01T20:17:58.617Z"
   },
   {
    "duration": 20,
    "start_time": "2021-07-01T20:17:58.631Z"
   },
   {
    "duration": 54,
    "start_time": "2021-07-01T20:17:58.653Z"
   },
   {
    "duration": 21,
    "start_time": "2021-07-01T20:17:58.710Z"
   },
   {
    "duration": 20,
    "start_time": "2021-07-01T20:17:58.733Z"
   },
   {
    "duration": 38,
    "start_time": "2021-07-01T20:17:58.755Z"
   },
   {
    "duration": 446,
    "start_time": "2021-07-01T20:17:58.795Z"
   },
   {
    "duration": 21,
    "start_time": "2021-07-01T20:17:59.243Z"
   },
   {
    "duration": 31,
    "start_time": "2021-07-01T20:17:59.285Z"
   },
   {
    "duration": 26,
    "start_time": "2021-07-01T20:17:59.318Z"
   },
   {
    "duration": 49,
    "start_time": "2021-07-01T20:17:59.347Z"
   },
   {
    "duration": 28,
    "start_time": "2021-07-01T20:17:59.399Z"
   },
   {
    "duration": 6,
    "start_time": "2021-07-01T20:17:59.429Z"
   },
   {
    "duration": 254,
    "start_time": "2021-07-01T20:17:59.437Z"
   },
   {
    "duration": 606,
    "start_time": "2021-07-01T20:17:59.694Z"
   },
   {
    "duration": 7,
    "start_time": "2021-07-01T20:18:00.302Z"
   },
   {
    "duration": 42,
    "start_time": "2021-07-01T20:18:00.312Z"
   },
   {
    "duration": 15,
    "start_time": "2021-07-01T20:18:00.357Z"
   },
   {
    "duration": 2590,
    "start_time": "2021-07-04T20:51:00.723Z"
   },
   {
    "duration": 57,
    "start_time": "2021-07-04T20:51:03.315Z"
   },
   {
    "duration": 10,
    "start_time": "2021-07-04T20:51:03.374Z"
   },
   {
    "duration": 20,
    "start_time": "2021-07-04T20:51:03.386Z"
   },
   {
    "duration": 7,
    "start_time": "2021-07-04T20:51:03.408Z"
   },
   {
    "duration": 8,
    "start_time": "2021-07-04T20:51:03.417Z"
   },
   {
    "duration": 9,
    "start_time": "2021-07-04T20:51:03.427Z"
   },
   {
    "duration": 49,
    "start_time": "2021-07-04T20:51:03.438Z"
   },
   {
    "duration": 6,
    "start_time": "2021-07-04T20:51:03.489Z"
   },
   {
    "duration": 9,
    "start_time": "2021-07-04T20:51:03.497Z"
   },
   {
    "duration": 13,
    "start_time": "2021-07-04T20:51:03.507Z"
   },
   {
    "duration": 315,
    "start_time": "2021-07-04T20:51:03.521Z"
   },
   {
    "duration": 161,
    "start_time": "2021-07-04T20:51:03.838Z"
   },
   {
    "duration": 349,
    "start_time": "2021-07-04T20:51:04.001Z"
   },
   {
    "duration": 11,
    "start_time": "2021-07-04T20:51:04.352Z"
   },
   {
    "duration": 7,
    "start_time": "2021-07-04T20:51:04.364Z"
   },
   {
    "duration": 12,
    "start_time": "2021-07-04T20:51:04.385Z"
   },
   {
    "duration": 8,
    "start_time": "2021-07-04T20:51:04.398Z"
   },
   {
    "duration": 454,
    "start_time": "2021-07-04T20:51:04.407Z"
   },
   {
    "duration": 431,
    "start_time": "2021-07-04T20:51:04.863Z"
   },
   {
    "duration": 430,
    "start_time": "2021-07-04T20:51:05.296Z"
   },
   {
    "duration": 283,
    "start_time": "2021-07-04T20:51:05.727Z"
   },
   {
    "duration": 13,
    "start_time": "2021-07-04T20:51:06.013Z"
   },
   {
    "duration": 13,
    "start_time": "2021-07-04T20:51:06.028Z"
   },
   {
    "duration": 17,
    "start_time": "2021-07-04T20:51:06.042Z"
   },
   {
    "duration": 27,
    "start_time": "2021-07-04T20:51:06.061Z"
   },
   {
    "duration": 10,
    "start_time": "2021-07-04T20:51:06.089Z"
   },
   {
    "duration": 13,
    "start_time": "2021-07-04T20:51:06.101Z"
   },
   {
    "duration": 13,
    "start_time": "2021-07-04T20:51:06.116Z"
   },
   {
    "duration": 16,
    "start_time": "2021-07-04T20:51:06.130Z"
   },
   {
    "duration": 43,
    "start_time": "2021-07-04T20:51:06.147Z"
   },
   {
    "duration": 7,
    "start_time": "2021-07-04T20:51:06.191Z"
   },
   {
    "duration": 287,
    "start_time": "2021-07-04T20:51:06.200Z"
   },
   {
    "duration": 13,
    "start_time": "2021-07-04T20:51:06.489Z"
   },
   {
    "duration": 18,
    "start_time": "2021-07-04T20:51:06.503Z"
   },
   {
    "duration": 19,
    "start_time": "2021-07-04T20:51:06.522Z"
   },
   {
    "duration": 16,
    "start_time": "2021-07-04T20:51:06.542Z"
   },
   {
    "duration": 17,
    "start_time": "2021-07-04T20:51:06.585Z"
   },
   {
    "duration": 5,
    "start_time": "2021-07-04T20:51:06.603Z"
   },
   {
    "duration": 156,
    "start_time": "2021-07-04T20:51:06.609Z"
   },
   {
    "duration": 373,
    "start_time": "2021-07-04T20:51:06.767Z"
   },
   {
    "duration": 5,
    "start_time": "2021-07-04T20:51:07.142Z"
   },
   {
    "duration": 12,
    "start_time": "2021-07-04T20:51:07.149Z"
   },
   {
    "duration": 21,
    "start_time": "2021-07-04T20:51:07.163Z"
   }
  ],
  "kernelspec": {
   "display_name": "Python 3",
   "language": "python",
   "name": "python3"
  },
  "language_info": {
   "codemirror_mode": {
    "name": "ipython",
    "version": 3
   },
   "file_extension": ".py",
   "mimetype": "text/x-python",
   "name": "python",
   "nbconvert_exporter": "python",
   "pygments_lexer": "ipython3",
   "version": "3.7.8"
  },
  "toc": {
   "base_numbering": 1,
   "nav_menu": {},
   "number_sections": true,
   "sideBar": true,
   "skip_h1_title": true,
   "title_cell": "Table of Contents",
   "title_sidebar": "Contents",
   "toc_cell": false,
   "toc_position": {},
   "toc_section_display": true,
   "toc_window_display": false
  }
 },
 "nbformat": 4,
 "nbformat_minor": 2
}
