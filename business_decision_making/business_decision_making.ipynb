{
 "cells": [
  {
   "cell_type": "markdown",
   "metadata": {},
   "source": [
    "# Принятие решений в бизнесе на основе данных"
   ]
  },
  {
   "cell_type": "markdown",
   "metadata": {},
   "source": [
    "# Описание проекта:"
   ]
  },
  {
   "cell_type": "markdown",
   "metadata": {},
   "source": [
    "Подготовлен список гипотез для увеличения выручки в интернет-магазине. Необходимо их приоритизировать, запустить A/B-тест и проанализировать результаты."
   ]
  },
  {
   "cell_type": "markdown",
   "metadata": {},
   "source": [
    "# Цели работы:"
   ]
  },
  {
   "cell_type": "markdown",
   "metadata": {},
   "source": [
    "1. Научиться приоритизировать гипотезы\n",
    "2. Принять решение о успешности/неуспешности A/B-теста."
   ]
  },
  {
   "cell_type": "markdown",
   "metadata": {},
   "source": [
    "# Задачи работы:"
   ]
  },
  {
   "cell_type": "markdown",
   "metadata": {},
   "source": [
    "## Часть 1:"
   ]
  },
  {
   "cell_type": "markdown",
   "metadata": {},
   "source": [
    "1. Применить фреймворк ICE для приоритизации гипотез. Отсортировать их по убыванию приоритета.\n",
    "2. Применить фреймворк RICE для приоритизации гипотез. Отсортировать их по убыванию приоритета.\n",
    "3. Указать, как изменилась приоритизация гипотез при применении RICE вместо ICE. Объяснить, почему так произошло."
   ]
  },
  {
   "cell_type": "markdown",
   "metadata": {},
   "source": [
    "## Часть 2:"
   ]
  },
  {
   "cell_type": "markdown",
   "metadata": {},
   "source": [
    "Проанализировать A/B-тест:\n",
    "1. Построить график кумулятивной выручки по группам. Сделать выводы и предположения.\n",
    "2. Построить  график кумулятивного среднего чека по группам. Сделайте выводы и предположения.\n",
    "3. Постройте график относительного изменения кумулятивного среднего чека группы B к группе A. Сделайте выводы и предположения.\n",
    "4. Постройте график кумулятивной конверсии по группам. Сделайте выводы и предположения.\n",
    "5. Постройте график относительного изменения кумулятивной конверсии группы B к группе A. Сделайте выводы и предположения.\n",
    "6. Постройте точечный график количества заказов по пользователям. Сделайте выводы и предположения.\n",
    "7. Посчитайте 95-й и 99-й перцентили количества заказов на пользователя. Выберите границу для определения аномальных пользователей.\n",
    "8. Постройте точечный график стоимостей заказов. Сделайте выводы и предположения.\n",
    "9. Посчитайте 95-й и 99-й перцентили стоимости заказов. Выберите границу для определения аномальных заказов.\n",
    "10. Посчитайте статистическую значимость различий в конверсии между группами по «сырым» данным. Сделайте выводы и предположения.\n",
    "11. Посчитайте статистическую значимость различий в среднем чеке заказа между группами по «сырым» данным. Сделайте выводы и предположения.\n",
    "12. Посчитайте статистическую значимость различий в конверсии между группами по «очищенным» данным. Сделайте выводы и предположения.\n",
    "13. Посчитайте статистическую значимость различий в среднем чеке заказа между группами по «очищенным» данным. Сделайте выводы и предположения.\n",
    "14. Примите решение по результатам теста и объясните его. Варианты решений: 1. Остановить тест, зафиксировать победу одной из групп. 2. Остановить тест, зафиксировать отсутствие различий между группами. 3. Продолжить тест."
   ]
  },
  {
   "cell_type": "code",
   "execution_count": 1,
   "metadata": {},
   "outputs": [],
   "source": [
    "import pandas as pd\n",
    "import numpy as np\n",
    "import matplotlib.pyplot as plt\n",
    "from scipy import stats as st\n",
    "pd.set_option('display.max_colwidth', 150)\n",
    "import datetime as dt\n",
    "from pandas.plotting import register_matplotlib_converters\n",
    "register_matplotlib_converters()"
   ]
  },
  {
   "cell_type": "markdown",
   "metadata": {},
   "source": [
    "# Первая часть"
   ]
  },
  {
   "cell_type": "code",
   "execution_count": 2,
   "metadata": {},
   "outputs": [],
   "source": [
    "hps = pd.read_csv('/datasets/hypothesis.csv')"
   ]
  },
  {
   "cell_type": "code",
   "execution_count": 3,
   "metadata": {
    "scrolled": true
   },
   "outputs": [
    {
     "data": {
      "text/html": [
       "<div>\n",
       "<style scoped>\n",
       "    .dataframe tbody tr th:only-of-type {\n",
       "        vertical-align: middle;\n",
       "    }\n",
       "\n",
       "    .dataframe tbody tr th {\n",
       "        vertical-align: top;\n",
       "    }\n",
       "\n",
       "    .dataframe thead th {\n",
       "        text-align: right;\n",
       "    }\n",
       "</style>\n",
       "<table border=\"1\" class=\"dataframe\">\n",
       "  <thead>\n",
       "    <tr style=\"text-align: right;\">\n",
       "      <th></th>\n",
       "      <th>Hypothesis</th>\n",
       "      <th>Reach</th>\n",
       "      <th>Impact</th>\n",
       "      <th>Confidence</th>\n",
       "      <th>Efforts</th>\n",
       "    </tr>\n",
       "  </thead>\n",
       "  <tbody>\n",
       "    <tr>\n",
       "      <td>0</td>\n",
       "      <td>Добавить два новых канала привлечения трафика, что позволит привлекать на 30% больше пользователей</td>\n",
       "      <td>3</td>\n",
       "      <td>10</td>\n",
       "      <td>8</td>\n",
       "      <td>6</td>\n",
       "    </tr>\n",
       "    <tr>\n",
       "      <td>1</td>\n",
       "      <td>Запустить собственную службу доставки, что сократит срок доставки заказов</td>\n",
       "      <td>2</td>\n",
       "      <td>5</td>\n",
       "      <td>4</td>\n",
       "      <td>10</td>\n",
       "    </tr>\n",
       "    <tr>\n",
       "      <td>2</td>\n",
       "      <td>Добавить блоки рекомендаций товаров на сайт интернет магазина, чтобы повысить конверсию и средний чек заказа</td>\n",
       "      <td>8</td>\n",
       "      <td>3</td>\n",
       "      <td>7</td>\n",
       "      <td>3</td>\n",
       "    </tr>\n",
       "    <tr>\n",
       "      <td>3</td>\n",
       "      <td>Изменить структура категорий, что увеличит конверсию, т.к. пользователи быстрее найдут нужный товар</td>\n",
       "      <td>8</td>\n",
       "      <td>3</td>\n",
       "      <td>3</td>\n",
       "      <td>8</td>\n",
       "    </tr>\n",
       "    <tr>\n",
       "      <td>4</td>\n",
       "      <td>Изменить цвет фона главной страницы, чтобы увеличить вовлеченность пользователей</td>\n",
       "      <td>3</td>\n",
       "      <td>1</td>\n",
       "      <td>1</td>\n",
       "      <td>1</td>\n",
       "    </tr>\n",
       "    <tr>\n",
       "      <td>5</td>\n",
       "      <td>Добавить страницу отзывов клиентов о магазине, что позволит увеличить количество заказов</td>\n",
       "      <td>3</td>\n",
       "      <td>2</td>\n",
       "      <td>2</td>\n",
       "      <td>3</td>\n",
       "    </tr>\n",
       "    <tr>\n",
       "      <td>6</td>\n",
       "      <td>Показать на главной странице баннеры с актуальными акциями и распродажами, чтобы увеличить конверсию</td>\n",
       "      <td>5</td>\n",
       "      <td>3</td>\n",
       "      <td>8</td>\n",
       "      <td>3</td>\n",
       "    </tr>\n",
       "    <tr>\n",
       "      <td>7</td>\n",
       "      <td>Добавить форму подписки на все основные страницы, чтобы собрать базу клиентов для email-рассылок</td>\n",
       "      <td>10</td>\n",
       "      <td>7</td>\n",
       "      <td>8</td>\n",
       "      <td>5</td>\n",
       "    </tr>\n",
       "    <tr>\n",
       "      <td>8</td>\n",
       "      <td>Запустить акцию, дающую скидку на товар в день рождения</td>\n",
       "      <td>1</td>\n",
       "      <td>9</td>\n",
       "      <td>9</td>\n",
       "      <td>5</td>\n",
       "    </tr>\n",
       "  </tbody>\n",
       "</table>\n",
       "</div>"
      ],
      "text/plain": [
       "                                                                                                     Hypothesis  \\\n",
       "0            Добавить два новых канала привлечения трафика, что позволит привлекать на 30% больше пользователей   \n",
       "1                                     Запустить собственную службу доставки, что сократит срок доставки заказов   \n",
       "2  Добавить блоки рекомендаций товаров на сайт интернет магазина, чтобы повысить конверсию и средний чек заказа   \n",
       "3           Изменить структура категорий, что увеличит конверсию, т.к. пользователи быстрее найдут нужный товар   \n",
       "4                              Изменить цвет фона главной страницы, чтобы увеличить вовлеченность пользователей   \n",
       "5                      Добавить страницу отзывов клиентов о магазине, что позволит увеличить количество заказов   \n",
       "6          Показать на главной странице баннеры с актуальными акциями и распродажами, чтобы увеличить конверсию   \n",
       "7              Добавить форму подписки на все основные страницы, чтобы собрать базу клиентов для email-рассылок   \n",
       "8                                                       Запустить акцию, дающую скидку на товар в день рождения   \n",
       "\n",
       "   Reach  Impact  Confidence  Efforts  \n",
       "0      3      10           8        6  \n",
       "1      2       5           4       10  \n",
       "2      8       3           7        3  \n",
       "3      8       3           3        8  \n",
       "4      3       1           1        1  \n",
       "5      3       2           2        3  \n",
       "6      5       3           8        3  \n",
       "7     10       7           8        5  \n",
       "8      1       9           9        5  "
      ]
     },
     "execution_count": 3,
     "metadata": {},
     "output_type": "execute_result"
    }
   ],
   "source": [
    "hps"
   ]
  },
  {
   "cell_type": "code",
   "execution_count": 4,
   "metadata": {},
   "outputs": [],
   "source": [
    "hps.columns = hps.columns.str.lower()"
   ]
  },
  {
   "cell_type": "code",
   "execution_count": 5,
   "metadata": {},
   "outputs": [],
   "source": [
    "# Вычислим результат фреймворка ICE  и Rice в отдельных столбцах \n",
    "hps['ice'] = ((hps['impact'] * hps['confidence'])/hps['efforts']).round(2)"
   ]
  },
  {
   "cell_type": "code",
   "execution_count": 6,
   "metadata": {},
   "outputs": [],
   "source": [
    "hps['rice'] = (hps['reach'] * hps['impact'] * hps['confidence'])/hps['efforts']"
   ]
  },
  {
   "cell_type": "code",
   "execution_count": 7,
   "metadata": {},
   "outputs": [
    {
     "data": {
      "text/html": [
       "<div>\n",
       "<style scoped>\n",
       "    .dataframe tbody tr th:only-of-type {\n",
       "        vertical-align: middle;\n",
       "    }\n",
       "\n",
       "    .dataframe tbody tr th {\n",
       "        vertical-align: top;\n",
       "    }\n",
       "\n",
       "    .dataframe thead th {\n",
       "        text-align: right;\n",
       "    }\n",
       "</style>\n",
       "<table border=\"1\" class=\"dataframe\">\n",
       "  <thead>\n",
       "    <tr style=\"text-align: right;\">\n",
       "      <th></th>\n",
       "      <th>hypothesis</th>\n",
       "      <th>reach</th>\n",
       "      <th>impact</th>\n",
       "      <th>confidence</th>\n",
       "      <th>efforts</th>\n",
       "      <th>ice</th>\n",
       "      <th>rice</th>\n",
       "    </tr>\n",
       "  </thead>\n",
       "  <tbody>\n",
       "    <tr>\n",
       "      <td>0</td>\n",
       "      <td>Добавить два новых канала привлечения трафика, что позволит привлекать на 30% больше пользователей</td>\n",
       "      <td>3</td>\n",
       "      <td>10</td>\n",
       "      <td>8</td>\n",
       "      <td>6</td>\n",
       "      <td>13.33</td>\n",
       "      <td>40.0</td>\n",
       "    </tr>\n",
       "    <tr>\n",
       "      <td>1</td>\n",
       "      <td>Запустить собственную службу доставки, что сократит срок доставки заказов</td>\n",
       "      <td>2</td>\n",
       "      <td>5</td>\n",
       "      <td>4</td>\n",
       "      <td>10</td>\n",
       "      <td>2.00</td>\n",
       "      <td>4.0</td>\n",
       "    </tr>\n",
       "    <tr>\n",
       "      <td>2</td>\n",
       "      <td>Добавить блоки рекомендаций товаров на сайт интернет магазина, чтобы повысить конверсию и средний чек заказа</td>\n",
       "      <td>8</td>\n",
       "      <td>3</td>\n",
       "      <td>7</td>\n",
       "      <td>3</td>\n",
       "      <td>7.00</td>\n",
       "      <td>56.0</td>\n",
       "    </tr>\n",
       "    <tr>\n",
       "      <td>3</td>\n",
       "      <td>Изменить структура категорий, что увеличит конверсию, т.к. пользователи быстрее найдут нужный товар</td>\n",
       "      <td>8</td>\n",
       "      <td>3</td>\n",
       "      <td>3</td>\n",
       "      <td>8</td>\n",
       "      <td>1.12</td>\n",
       "      <td>9.0</td>\n",
       "    </tr>\n",
       "    <tr>\n",
       "      <td>4</td>\n",
       "      <td>Изменить цвет фона главной страницы, чтобы увеличить вовлеченность пользователей</td>\n",
       "      <td>3</td>\n",
       "      <td>1</td>\n",
       "      <td>1</td>\n",
       "      <td>1</td>\n",
       "      <td>1.00</td>\n",
       "      <td>3.0</td>\n",
       "    </tr>\n",
       "    <tr>\n",
       "      <td>5</td>\n",
       "      <td>Добавить страницу отзывов клиентов о магазине, что позволит увеличить количество заказов</td>\n",
       "      <td>3</td>\n",
       "      <td>2</td>\n",
       "      <td>2</td>\n",
       "      <td>3</td>\n",
       "      <td>1.33</td>\n",
       "      <td>4.0</td>\n",
       "    </tr>\n",
       "    <tr>\n",
       "      <td>6</td>\n",
       "      <td>Показать на главной странице баннеры с актуальными акциями и распродажами, чтобы увеличить конверсию</td>\n",
       "      <td>5</td>\n",
       "      <td>3</td>\n",
       "      <td>8</td>\n",
       "      <td>3</td>\n",
       "      <td>8.00</td>\n",
       "      <td>40.0</td>\n",
       "    </tr>\n",
       "    <tr>\n",
       "      <td>7</td>\n",
       "      <td>Добавить форму подписки на все основные страницы, чтобы собрать базу клиентов для email-рассылок</td>\n",
       "      <td>10</td>\n",
       "      <td>7</td>\n",
       "      <td>8</td>\n",
       "      <td>5</td>\n",
       "      <td>11.20</td>\n",
       "      <td>112.0</td>\n",
       "    </tr>\n",
       "    <tr>\n",
       "      <td>8</td>\n",
       "      <td>Запустить акцию, дающую скидку на товар в день рождения</td>\n",
       "      <td>1</td>\n",
       "      <td>9</td>\n",
       "      <td>9</td>\n",
       "      <td>5</td>\n",
       "      <td>16.20</td>\n",
       "      <td>16.2</td>\n",
       "    </tr>\n",
       "  </tbody>\n",
       "</table>\n",
       "</div>"
      ],
      "text/plain": [
       "                                                                                                     hypothesis  \\\n",
       "0            Добавить два новых канала привлечения трафика, что позволит привлекать на 30% больше пользователей   \n",
       "1                                     Запустить собственную службу доставки, что сократит срок доставки заказов   \n",
       "2  Добавить блоки рекомендаций товаров на сайт интернет магазина, чтобы повысить конверсию и средний чек заказа   \n",
       "3           Изменить структура категорий, что увеличит конверсию, т.к. пользователи быстрее найдут нужный товар   \n",
       "4                              Изменить цвет фона главной страницы, чтобы увеличить вовлеченность пользователей   \n",
       "5                      Добавить страницу отзывов клиентов о магазине, что позволит увеличить количество заказов   \n",
       "6          Показать на главной странице баннеры с актуальными акциями и распродажами, чтобы увеличить конверсию   \n",
       "7              Добавить форму подписки на все основные страницы, чтобы собрать базу клиентов для email-рассылок   \n",
       "8                                                       Запустить акцию, дающую скидку на товар в день рождения   \n",
       "\n",
       "   reach  impact  confidence  efforts    ice   rice  \n",
       "0      3      10           8        6  13.33   40.0  \n",
       "1      2       5           4       10   2.00    4.0  \n",
       "2      8       3           7        3   7.00   56.0  \n",
       "3      8       3           3        8   1.12    9.0  \n",
       "4      3       1           1        1   1.00    3.0  \n",
       "5      3       2           2        3   1.33    4.0  \n",
       "6      5       3           8        3   8.00   40.0  \n",
       "7     10       7           8        5  11.20  112.0  \n",
       "8      1       9           9        5  16.20   16.2  "
      ]
     },
     "execution_count": 7,
     "metadata": {},
     "output_type": "execute_result"
    }
   ],
   "source": [
    "hps"
   ]
  },
  {
   "cell_type": "code",
   "execution_count": 8,
   "metadata": {},
   "outputs": [
    {
     "data": {
      "text/plain": [
       "'Добавить два новых канала привлечения трафика, что позволит привлекать на 30% больше пользователей'"
      ]
     },
     "execution_count": 8,
     "metadata": {},
     "output_type": "execute_result"
    }
   ],
   "source": [
    "hps['hypothesis'][0]"
   ]
  },
  {
   "cell_type": "code",
   "execution_count": 9,
   "metadata": {},
   "outputs": [],
   "source": [
    "ice = hps[['hypothesis', 'ice']].sort_values(by='ice', ascending=False)\n",
    "rice = hps[['hypothesis', 'rice']].sort_values(by='rice', ascending=False)"
   ]
  },
  {
   "cell_type": "code",
   "execution_count": 10,
   "metadata": {
    "scrolled": false
   },
   "outputs": [
    {
     "data": {
      "text/html": [
       "<div>\n",
       "<style scoped>\n",
       "    .dataframe tbody tr th:only-of-type {\n",
       "        vertical-align: middle;\n",
       "    }\n",
       "\n",
       "    .dataframe tbody tr th {\n",
       "        vertical-align: top;\n",
       "    }\n",
       "\n",
       "    .dataframe thead th {\n",
       "        text-align: right;\n",
       "    }\n",
       "</style>\n",
       "<table border=\"1\" class=\"dataframe\">\n",
       "  <thead>\n",
       "    <tr style=\"text-align: right;\">\n",
       "      <th></th>\n",
       "      <th>hypothesis</th>\n",
       "      <th>ice</th>\n",
       "    </tr>\n",
       "  </thead>\n",
       "  <tbody>\n",
       "    <tr>\n",
       "      <td>8</td>\n",
       "      <td>Запустить акцию, дающую скидку на товар в день рождения</td>\n",
       "      <td>16.20</td>\n",
       "    </tr>\n",
       "    <tr>\n",
       "      <td>0</td>\n",
       "      <td>Добавить два новых канала привлечения трафика, что позволит привлекать на 30% больше пользователей</td>\n",
       "      <td>13.33</td>\n",
       "    </tr>\n",
       "    <tr>\n",
       "      <td>7</td>\n",
       "      <td>Добавить форму подписки на все основные страницы, чтобы собрать базу клиентов для email-рассылок</td>\n",
       "      <td>11.20</td>\n",
       "    </tr>\n",
       "    <tr>\n",
       "      <td>6</td>\n",
       "      <td>Показать на главной странице баннеры с актуальными акциями и распродажами, чтобы увеличить конверсию</td>\n",
       "      <td>8.00</td>\n",
       "    </tr>\n",
       "    <tr>\n",
       "      <td>2</td>\n",
       "      <td>Добавить блоки рекомендаций товаров на сайт интернет магазина, чтобы повысить конверсию и средний чек заказа</td>\n",
       "      <td>7.00</td>\n",
       "    </tr>\n",
       "    <tr>\n",
       "      <td>1</td>\n",
       "      <td>Запустить собственную службу доставки, что сократит срок доставки заказов</td>\n",
       "      <td>2.00</td>\n",
       "    </tr>\n",
       "    <tr>\n",
       "      <td>5</td>\n",
       "      <td>Добавить страницу отзывов клиентов о магазине, что позволит увеличить количество заказов</td>\n",
       "      <td>1.33</td>\n",
       "    </tr>\n",
       "    <tr>\n",
       "      <td>3</td>\n",
       "      <td>Изменить структура категорий, что увеличит конверсию, т.к. пользователи быстрее найдут нужный товар</td>\n",
       "      <td>1.12</td>\n",
       "    </tr>\n",
       "    <tr>\n",
       "      <td>4</td>\n",
       "      <td>Изменить цвет фона главной страницы, чтобы увеличить вовлеченность пользователей</td>\n",
       "      <td>1.00</td>\n",
       "    </tr>\n",
       "  </tbody>\n",
       "</table>\n",
       "</div>"
      ],
      "text/plain": [
       "                                                                                                     hypothesis  \\\n",
       "8                                                       Запустить акцию, дающую скидку на товар в день рождения   \n",
       "0            Добавить два новых канала привлечения трафика, что позволит привлекать на 30% больше пользователей   \n",
       "7              Добавить форму подписки на все основные страницы, чтобы собрать базу клиентов для email-рассылок   \n",
       "6          Показать на главной странице баннеры с актуальными акциями и распродажами, чтобы увеличить конверсию   \n",
       "2  Добавить блоки рекомендаций товаров на сайт интернет магазина, чтобы повысить конверсию и средний чек заказа   \n",
       "1                                     Запустить собственную службу доставки, что сократит срок доставки заказов   \n",
       "5                      Добавить страницу отзывов клиентов о магазине, что позволит увеличить количество заказов   \n",
       "3           Изменить структура категорий, что увеличит конверсию, т.к. пользователи быстрее найдут нужный товар   \n",
       "4                              Изменить цвет фона главной страницы, чтобы увеличить вовлеченность пользователей   \n",
       "\n",
       "     ice  \n",
       "8  16.20  \n",
       "0  13.33  \n",
       "7  11.20  \n",
       "6   8.00  \n",
       "2   7.00  \n",
       "1   2.00  \n",
       "5   1.33  \n",
       "3   1.12  \n",
       "4   1.00  "
      ]
     },
     "execution_count": 10,
     "metadata": {},
     "output_type": "execute_result"
    }
   ],
   "source": [
    "ice"
   ]
  },
  {
   "cell_type": "markdown",
   "metadata": {},
   "source": [
    "Согласно метрике ice в первой четвёрке оказались гипотезы 8, 0, 7 и 6."
   ]
  },
  {
   "cell_type": "code",
   "execution_count": 11,
   "metadata": {
    "scrolled": true
   },
   "outputs": [
    {
     "data": {
      "text/html": [
       "<div>\n",
       "<style scoped>\n",
       "    .dataframe tbody tr th:only-of-type {\n",
       "        vertical-align: middle;\n",
       "    }\n",
       "\n",
       "    .dataframe tbody tr th {\n",
       "        vertical-align: top;\n",
       "    }\n",
       "\n",
       "    .dataframe thead th {\n",
       "        text-align: right;\n",
       "    }\n",
       "</style>\n",
       "<table border=\"1\" class=\"dataframe\">\n",
       "  <thead>\n",
       "    <tr style=\"text-align: right;\">\n",
       "      <th></th>\n",
       "      <th>hypothesis</th>\n",
       "      <th>rice</th>\n",
       "    </tr>\n",
       "  </thead>\n",
       "  <tbody>\n",
       "    <tr>\n",
       "      <td>7</td>\n",
       "      <td>Добавить форму подписки на все основные страницы, чтобы собрать базу клиентов для email-рассылок</td>\n",
       "      <td>112.0</td>\n",
       "    </tr>\n",
       "    <tr>\n",
       "      <td>2</td>\n",
       "      <td>Добавить блоки рекомендаций товаров на сайт интернет магазина, чтобы повысить конверсию и средний чек заказа</td>\n",
       "      <td>56.0</td>\n",
       "    </tr>\n",
       "    <tr>\n",
       "      <td>0</td>\n",
       "      <td>Добавить два новых канала привлечения трафика, что позволит привлекать на 30% больше пользователей</td>\n",
       "      <td>40.0</td>\n",
       "    </tr>\n",
       "    <tr>\n",
       "      <td>6</td>\n",
       "      <td>Показать на главной странице баннеры с актуальными акциями и распродажами, чтобы увеличить конверсию</td>\n",
       "      <td>40.0</td>\n",
       "    </tr>\n",
       "    <tr>\n",
       "      <td>8</td>\n",
       "      <td>Запустить акцию, дающую скидку на товар в день рождения</td>\n",
       "      <td>16.2</td>\n",
       "    </tr>\n",
       "    <tr>\n",
       "      <td>3</td>\n",
       "      <td>Изменить структура категорий, что увеличит конверсию, т.к. пользователи быстрее найдут нужный товар</td>\n",
       "      <td>9.0</td>\n",
       "    </tr>\n",
       "    <tr>\n",
       "      <td>1</td>\n",
       "      <td>Запустить собственную службу доставки, что сократит срок доставки заказов</td>\n",
       "      <td>4.0</td>\n",
       "    </tr>\n",
       "    <tr>\n",
       "      <td>5</td>\n",
       "      <td>Добавить страницу отзывов клиентов о магазине, что позволит увеличить количество заказов</td>\n",
       "      <td>4.0</td>\n",
       "    </tr>\n",
       "    <tr>\n",
       "      <td>4</td>\n",
       "      <td>Изменить цвет фона главной страницы, чтобы увеличить вовлеченность пользователей</td>\n",
       "      <td>3.0</td>\n",
       "    </tr>\n",
       "  </tbody>\n",
       "</table>\n",
       "</div>"
      ],
      "text/plain": [
       "                                                                                                     hypothesis  \\\n",
       "7              Добавить форму подписки на все основные страницы, чтобы собрать базу клиентов для email-рассылок   \n",
       "2  Добавить блоки рекомендаций товаров на сайт интернет магазина, чтобы повысить конверсию и средний чек заказа   \n",
       "0            Добавить два новых канала привлечения трафика, что позволит привлекать на 30% больше пользователей   \n",
       "6          Показать на главной странице баннеры с актуальными акциями и распродажами, чтобы увеличить конверсию   \n",
       "8                                                       Запустить акцию, дающую скидку на товар в день рождения   \n",
       "3           Изменить структура категорий, что увеличит конверсию, т.к. пользователи быстрее найдут нужный товар   \n",
       "1                                     Запустить собственную службу доставки, что сократит срок доставки заказов   \n",
       "5                      Добавить страницу отзывов клиентов о магазине, что позволит увеличить количество заказов   \n",
       "4                              Изменить цвет фона главной страницы, чтобы увеличить вовлеченность пользователей   \n",
       "\n",
       "    rice  \n",
       "7  112.0  \n",
       "2   56.0  \n",
       "0   40.0  \n",
       "6   40.0  \n",
       "8   16.2  \n",
       "3    9.0  \n",
       "1    4.0  \n",
       "5    4.0  \n",
       "4    3.0  "
      ]
     },
     "execution_count": 11,
     "metadata": {},
     "output_type": "execute_result"
    }
   ],
   "source": [
    "rice"
   ]
  },
  {
   "cell_type": "markdown",
   "metadata": {},
   "source": [
    "Согласно метрике rice  в первой четвёрке оказываются гипотезы 7, 2, 0 ,6. Отличие этих метрих заключается в охвате пользователей. И хотя гипотеза 8 в ice занимает первое место, повлияет она на небольшое количество людей, поэтому в rice она находится уже на 5 месте. Гипотеза 6 в обеих метриках занимает четвёртое место. А гипотеза 2 с пятого места перешла на второе, это означает значительный охват пользователей. Для дальнейшего анализа точно стоило бы выбрать гипотезы под номерами 7 и 2. Гипотезы 0 и 6 стоит проверить сейчас, при достаточном объёме средств, или оставить их на будущее."
   ]
  },
  {
   "cell_type": "markdown",
   "metadata": {},
   "source": [
    "# Часть 2. Анализ A/B-теста"
   ]
  },
  {
   "cell_type": "markdown",
   "metadata": {},
   "source": [
    "## Предобработка данных"
   ]
  },
  {
   "cell_type": "code",
   "execution_count": 12,
   "metadata": {},
   "outputs": [
    {
     "data": {
      "text/html": [
       "<div>\n",
       "<style scoped>\n",
       "    .dataframe tbody tr th:only-of-type {\n",
       "        vertical-align: middle;\n",
       "    }\n",
       "\n",
       "    .dataframe tbody tr th {\n",
       "        vertical-align: top;\n",
       "    }\n",
       "\n",
       "    .dataframe thead th {\n",
       "        text-align: right;\n",
       "    }\n",
       "</style>\n",
       "<table border=\"1\" class=\"dataframe\">\n",
       "  <thead>\n",
       "    <tr style=\"text-align: right;\">\n",
       "      <th></th>\n",
       "      <th>transactionId</th>\n",
       "      <th>visitorId</th>\n",
       "      <th>date</th>\n",
       "      <th>revenue</th>\n",
       "      <th>group</th>\n",
       "    </tr>\n",
       "  </thead>\n",
       "  <tbody>\n",
       "    <tr>\n",
       "      <td>0</td>\n",
       "      <td>3667963787</td>\n",
       "      <td>3312258926</td>\n",
       "      <td>2019-08-15</td>\n",
       "      <td>1650</td>\n",
       "      <td>B</td>\n",
       "    </tr>\n",
       "    <tr>\n",
       "      <td>1</td>\n",
       "      <td>2804400009</td>\n",
       "      <td>3642806036</td>\n",
       "      <td>2019-08-15</td>\n",
       "      <td>730</td>\n",
       "      <td>B</td>\n",
       "    </tr>\n",
       "    <tr>\n",
       "      <td>2</td>\n",
       "      <td>2961555356</td>\n",
       "      <td>4069496402</td>\n",
       "      <td>2019-08-15</td>\n",
       "      <td>400</td>\n",
       "      <td>A</td>\n",
       "    </tr>\n",
       "    <tr>\n",
       "      <td>3</td>\n",
       "      <td>3797467345</td>\n",
       "      <td>1196621759</td>\n",
       "      <td>2019-08-15</td>\n",
       "      <td>9759</td>\n",
       "      <td>B</td>\n",
       "    </tr>\n",
       "    <tr>\n",
       "      <td>4</td>\n",
       "      <td>2282983706</td>\n",
       "      <td>2322279887</td>\n",
       "      <td>2019-08-15</td>\n",
       "      <td>2308</td>\n",
       "      <td>B</td>\n",
       "    </tr>\n",
       "    <tr>\n",
       "      <td>...</td>\n",
       "      <td>...</td>\n",
       "      <td>...</td>\n",
       "      <td>...</td>\n",
       "      <td>...</td>\n",
       "      <td>...</td>\n",
       "    </tr>\n",
       "    <tr>\n",
       "      <td>1192</td>\n",
       "      <td>2662137336</td>\n",
       "      <td>3733762160</td>\n",
       "      <td>2019-08-14</td>\n",
       "      <td>6490</td>\n",
       "      <td>B</td>\n",
       "    </tr>\n",
       "    <tr>\n",
       "      <td>1193</td>\n",
       "      <td>2203539145</td>\n",
       "      <td>370388673</td>\n",
       "      <td>2019-08-14</td>\n",
       "      <td>3190</td>\n",
       "      <td>A</td>\n",
       "    </tr>\n",
       "    <tr>\n",
       "      <td>1194</td>\n",
       "      <td>1807773912</td>\n",
       "      <td>573423106</td>\n",
       "      <td>2019-08-14</td>\n",
       "      <td>10550</td>\n",
       "      <td>A</td>\n",
       "    </tr>\n",
       "    <tr>\n",
       "      <td>1195</td>\n",
       "      <td>1947021204</td>\n",
       "      <td>1614305549</td>\n",
       "      <td>2019-08-14</td>\n",
       "      <td>100</td>\n",
       "      <td>A</td>\n",
       "    </tr>\n",
       "    <tr>\n",
       "      <td>1196</td>\n",
       "      <td>3936777065</td>\n",
       "      <td>2108080724</td>\n",
       "      <td>2019-08-15</td>\n",
       "      <td>202740</td>\n",
       "      <td>B</td>\n",
       "    </tr>\n",
       "  </tbody>\n",
       "</table>\n",
       "<p>1197 rows × 5 columns</p>\n",
       "</div>"
      ],
      "text/plain": [
       "      transactionId   visitorId        date  revenue group\n",
       "0        3667963787  3312258926  2019-08-15     1650     B\n",
       "1        2804400009  3642806036  2019-08-15      730     B\n",
       "2        2961555356  4069496402  2019-08-15      400     A\n",
       "3        3797467345  1196621759  2019-08-15     9759     B\n",
       "4        2282983706  2322279887  2019-08-15     2308     B\n",
       "...             ...         ...         ...      ...   ...\n",
       "1192     2662137336  3733762160  2019-08-14     6490     B\n",
       "1193     2203539145   370388673  2019-08-14     3190     A\n",
       "1194     1807773912   573423106  2019-08-14    10550     A\n",
       "1195     1947021204  1614305549  2019-08-14      100     A\n",
       "1196     3936777065  2108080724  2019-08-15   202740     B\n",
       "\n",
       "[1197 rows x 5 columns]"
      ]
     },
     "execution_count": 12,
     "metadata": {},
     "output_type": "execute_result"
    }
   ],
   "source": [
    "order = pd.read_csv('/datasets/orders.csv')\n",
    "order"
   ]
  },
  {
   "cell_type": "code",
   "execution_count": 13,
   "metadata": {
    "scrolled": false
   },
   "outputs": [
    {
     "name": "stdout",
     "output_type": "stream",
     "text": [
      "<class 'pandas.core.frame.DataFrame'>\n",
      "RangeIndex: 1197 entries, 0 to 1196\n",
      "Data columns (total 5 columns):\n",
      "transactionId    1197 non-null int64\n",
      "visitorId        1197 non-null int64\n",
      "date             1197 non-null object\n",
      "revenue          1197 non-null int64\n",
      "group            1197 non-null object\n",
      "dtypes: int64(3), object(2)\n",
      "memory usage: 46.9+ KB\n"
     ]
    }
   ],
   "source": [
    "order.info()"
   ]
  },
  {
   "cell_type": "code",
   "execution_count": 14,
   "metadata": {},
   "outputs": [
    {
     "data": {
      "text/plain": [
       "0"
      ]
     },
     "execution_count": 14,
     "metadata": {},
     "output_type": "execute_result"
    }
   ],
   "source": [
    "order.duplicated().sum()"
   ]
  },
  {
   "cell_type": "code",
   "execution_count": 15,
   "metadata": {},
   "outputs": [
    {
     "data": {
      "text/html": [
       "<div>\n",
       "<style scoped>\n",
       "    .dataframe tbody tr th:only-of-type {\n",
       "        vertical-align: middle;\n",
       "    }\n",
       "\n",
       "    .dataframe tbody tr th {\n",
       "        vertical-align: top;\n",
       "    }\n",
       "\n",
       "    .dataframe thead th {\n",
       "        text-align: right;\n",
       "    }\n",
       "</style>\n",
       "<table border=\"1\" class=\"dataframe\">\n",
       "  <thead>\n",
       "    <tr style=\"text-align: right;\">\n",
       "      <th></th>\n",
       "      <th>date</th>\n",
       "      <th>group</th>\n",
       "      <th>visitors</th>\n",
       "    </tr>\n",
       "  </thead>\n",
       "  <tbody>\n",
       "    <tr>\n",
       "      <td>0</td>\n",
       "      <td>2019-08-01</td>\n",
       "      <td>A</td>\n",
       "      <td>719</td>\n",
       "    </tr>\n",
       "    <tr>\n",
       "      <td>1</td>\n",
       "      <td>2019-08-02</td>\n",
       "      <td>A</td>\n",
       "      <td>619</td>\n",
       "    </tr>\n",
       "    <tr>\n",
       "      <td>2</td>\n",
       "      <td>2019-08-03</td>\n",
       "      <td>A</td>\n",
       "      <td>507</td>\n",
       "    </tr>\n",
       "    <tr>\n",
       "      <td>3</td>\n",
       "      <td>2019-08-04</td>\n",
       "      <td>A</td>\n",
       "      <td>717</td>\n",
       "    </tr>\n",
       "    <tr>\n",
       "      <td>4</td>\n",
       "      <td>2019-08-05</td>\n",
       "      <td>A</td>\n",
       "      <td>756</td>\n",
       "    </tr>\n",
       "    <tr>\n",
       "      <td>...</td>\n",
       "      <td>...</td>\n",
       "      <td>...</td>\n",
       "      <td>...</td>\n",
       "    </tr>\n",
       "    <tr>\n",
       "      <td>57</td>\n",
       "      <td>2019-08-27</td>\n",
       "      <td>B</td>\n",
       "      <td>720</td>\n",
       "    </tr>\n",
       "    <tr>\n",
       "      <td>58</td>\n",
       "      <td>2019-08-28</td>\n",
       "      <td>B</td>\n",
       "      <td>654</td>\n",
       "    </tr>\n",
       "    <tr>\n",
       "      <td>59</td>\n",
       "      <td>2019-08-29</td>\n",
       "      <td>B</td>\n",
       "      <td>531</td>\n",
       "    </tr>\n",
       "    <tr>\n",
       "      <td>60</td>\n",
       "      <td>2019-08-30</td>\n",
       "      <td>B</td>\n",
       "      <td>490</td>\n",
       "    </tr>\n",
       "    <tr>\n",
       "      <td>61</td>\n",
       "      <td>2019-08-31</td>\n",
       "      <td>B</td>\n",
       "      <td>718</td>\n",
       "    </tr>\n",
       "  </tbody>\n",
       "</table>\n",
       "<p>62 rows × 3 columns</p>\n",
       "</div>"
      ],
      "text/plain": [
       "          date group  visitors\n",
       "0   2019-08-01     A       719\n",
       "1   2019-08-02     A       619\n",
       "2   2019-08-03     A       507\n",
       "3   2019-08-04     A       717\n",
       "4   2019-08-05     A       756\n",
       "..         ...   ...       ...\n",
       "57  2019-08-27     B       720\n",
       "58  2019-08-28     B       654\n",
       "59  2019-08-29     B       531\n",
       "60  2019-08-30     B       490\n",
       "61  2019-08-31     B       718\n",
       "\n",
       "[62 rows x 3 columns]"
      ]
     },
     "execution_count": 15,
     "metadata": {},
     "output_type": "execute_result"
    }
   ],
   "source": [
    "visitor = pd.read_csv('/datasets/visitors.csv')\n",
    "visitor"
   ]
  },
  {
   "cell_type": "code",
   "execution_count": 16,
   "metadata": {
    "scrolled": true
   },
   "outputs": [
    {
     "name": "stdout",
     "output_type": "stream",
     "text": [
      "<class 'pandas.core.frame.DataFrame'>\n",
      "RangeIndex: 62 entries, 0 to 61\n",
      "Data columns (total 3 columns):\n",
      "date        62 non-null object\n",
      "group       62 non-null object\n",
      "visitors    62 non-null int64\n",
      "dtypes: int64(1), object(2)\n",
      "memory usage: 1.6+ KB\n"
     ]
    }
   ],
   "source": [
    "visitor.info()"
   ]
  },
  {
   "cell_type": "code",
   "execution_count": 17,
   "metadata": {
    "scrolled": true
   },
   "outputs": [
    {
     "data": {
      "text/plain": [
       "0"
      ]
     },
     "execution_count": 17,
     "metadata": {},
     "output_type": "execute_result"
    }
   ],
   "source": [
    "visitor.duplicated().sum()"
   ]
  },
  {
   "cell_type": "markdown",
   "metadata": {},
   "source": [
    "Пропуски и повторы в таблицах order и visitor отсутствуют. Изменим тип столбцов в с датами на datetime. И приведём отдельные колонки к общепринятому виду."
   ]
  },
  {
   "cell_type": "code",
   "execution_count": 18,
   "metadata": {},
   "outputs": [],
   "source": [
    "order = order.rename(columns = {'transactionId' : 'transaction_id', 'visitorId':'visitor_id'})"
   ]
  },
  {
   "cell_type": "code",
   "execution_count": 19,
   "metadata": {},
   "outputs": [],
   "source": [
    "order['date'] = pd.to_datetime(order['date'])"
   ]
  },
  {
   "cell_type": "code",
   "execution_count": 20,
   "metadata": {},
   "outputs": [],
   "source": [
    "visitor['date'] = pd.to_datetime(visitor['date'])"
   ]
  },
  {
   "cell_type": "code",
   "execution_count": 21,
   "metadata": {},
   "outputs": [
    {
     "data": {
      "text/plain": [
       "group\n",
       "A    557\n",
       "B    640\n",
       "Name: visitor_id, dtype: int64"
      ]
     },
     "execution_count": 21,
     "metadata": {},
     "output_type": "execute_result"
    }
   ],
   "source": [
    "order.groupby('group')['visitor_id'].count()"
   ]
  },
  {
   "cell_type": "markdown",
   "metadata": {},
   "source": [
    "Посмотрим, есть ли пользователи, попавшие в обе группы теста"
   ]
  },
  {
   "cell_type": "code",
   "execution_count": 22,
   "metadata": {},
   "outputs": [],
   "source": [
    "group_a = order[order['group']=='A'][['date', 'visitor_id']]\n",
    "group_b = order[order['group']=='B'][['date', 'visitor_id']]"
   ]
  },
  {
   "cell_type": "code",
   "execution_count": 23,
   "metadata": {},
   "outputs": [],
   "source": [
    "# Так как пользователи могут совершать несколько покупок, удалим возможные дубликаты\n",
    "group_a['visitor_id'] = group_a['visitor_id'].drop_duplicates()\n",
    "group_b['visitor_id'] = group_b['visitor_id'].drop_duplicates()"
   ]
  },
  {
   "cell_type": "code",
   "execution_count": 24,
   "metadata": {},
   "outputs": [],
   "source": [
    "group_a = group_a.dropna(subset=['visitor_id']).reset_index(drop=True)\n",
    "group_b = group_b.dropna(subset=['visitor_id']).reset_index(drop=True)"
   ]
  },
  {
   "cell_type": "code",
   "execution_count": 25,
   "metadata": {
    "scrolled": true
   },
   "outputs": [],
   "source": [
    "group_a['visitor_id'] = group_a['visitor_id'].astype('int')\n",
    "group_b['visitor_id'] = group_b['visitor_id'].astype('int')"
   ]
  },
  {
   "cell_type": "code",
   "execution_count": 26,
   "metadata": {},
   "outputs": [],
   "source": [
    "# Соединяем полчившиеся таблицы групп, чтобы посмотреть, присутствуют ли пользователи, попавшиие в обе группы\n",
    "cross_group = group_a.merge(group_b, on='visitor_id', how='inner', suffixes=['_a', '_b'])"
   ]
  },
  {
   "cell_type": "code",
   "execution_count": 27,
   "metadata": {
    "scrolled": false
   },
   "outputs": [
    {
     "data": {
      "text/html": [
       "<div>\n",
       "<style scoped>\n",
       "    .dataframe tbody tr th:only-of-type {\n",
       "        vertical-align: middle;\n",
       "    }\n",
       "\n",
       "    .dataframe tbody tr th {\n",
       "        vertical-align: top;\n",
       "    }\n",
       "\n",
       "    .dataframe thead th {\n",
       "        text-align: right;\n",
       "    }\n",
       "</style>\n",
       "<table border=\"1\" class=\"dataframe\">\n",
       "  <thead>\n",
       "    <tr style=\"text-align: right;\">\n",
       "      <th></th>\n",
       "      <th>date_a</th>\n",
       "      <th>visitor_id</th>\n",
       "      <th>date_b</th>\n",
       "    </tr>\n",
       "  </thead>\n",
       "  <tbody>\n",
       "    <tr>\n",
       "      <td>0</td>\n",
       "      <td>2019-08-15</td>\n",
       "      <td>4069496402</td>\n",
       "      <td>2019-08-12</td>\n",
       "    </tr>\n",
       "    <tr>\n",
       "      <td>1</td>\n",
       "      <td>2019-08-15</td>\n",
       "      <td>199603092</td>\n",
       "      <td>2019-08-02</td>\n",
       "    </tr>\n",
       "    <tr>\n",
       "      <td>2</td>\n",
       "      <td>2019-08-15</td>\n",
       "      <td>3803269165</td>\n",
       "      <td>2019-08-23</td>\n",
       "    </tr>\n",
       "    <tr>\n",
       "      <td>3</td>\n",
       "      <td>2019-08-15</td>\n",
       "      <td>2378935119</td>\n",
       "      <td>2019-08-25</td>\n",
       "    </tr>\n",
       "    <tr>\n",
       "      <td>4</td>\n",
       "      <td>2019-08-15</td>\n",
       "      <td>237748145</td>\n",
       "      <td>2019-08-15</td>\n",
       "    </tr>\n",
       "  </tbody>\n",
       "</table>\n",
       "</div>"
      ],
      "text/plain": [
       "      date_a  visitor_id     date_b\n",
       "0 2019-08-15  4069496402 2019-08-12\n",
       "1 2019-08-15   199603092 2019-08-02\n",
       "2 2019-08-15  3803269165 2019-08-23\n",
       "3 2019-08-15  2378935119 2019-08-25\n",
       "4 2019-08-15   237748145 2019-08-15"
      ]
     },
     "execution_count": 27,
     "metadata": {},
     "output_type": "execute_result"
    }
   ],
   "source": [
    "cross_group.head()"
   ]
  },
  {
   "cell_type": "code",
   "execution_count": 28,
   "metadata": {},
   "outputs": [
    {
     "data": {
      "text/plain": [
       "date_a        58\n",
       "visitor_id    58\n",
       "date_b        58\n",
       "dtype: int64"
      ]
     },
     "execution_count": 28,
     "metadata": {},
     "output_type": "execute_result"
    }
   ],
   "source": [
    "cross_group.count()"
   ]
  },
  {
   "cell_type": "markdown",
   "metadata": {},
   "source": [
    "Получили 58 пользователей, попавших в обе группы. Исключим их из дальнейшего анализа, так как они могут сильно зашумлять результаты при данном количестве всех пользователей."
   ]
  },
  {
   "cell_type": "code",
   "execution_count": 29,
   "metadata": {},
   "outputs": [],
   "source": [
    "order_clean = order[~order['visitor_id'].isin(cross_group['visitor_id'])]"
   ]
  },
  {
   "cell_type": "code",
   "execution_count": 30,
   "metadata": {},
   "outputs": [
    {
     "data": {
      "text/plain": [
       "group\n",
       "A    468\n",
       "B    548\n",
       "Name: visitor_id, dtype: int64"
      ]
     },
     "execution_count": 30,
     "metadata": {},
     "output_type": "execute_result"
    }
   ],
   "source": [
    "order_clean.groupby('group')['visitor_id'].count()"
   ]
  },
  {
   "cell_type": "markdown",
   "metadata": {},
   "source": [
    "## Анализ и построение графиков"
   ]
  },
  {
   "cell_type": "code",
   "execution_count": 31,
   "metadata": {
    "scrolled": true
   },
   "outputs": [
    {
     "data": {
      "text/html": [
       "<div>\n",
       "<style scoped>\n",
       "    .dataframe tbody tr th:only-of-type {\n",
       "        vertical-align: middle;\n",
       "    }\n",
       "\n",
       "    .dataframe tbody tr th {\n",
       "        vertical-align: top;\n",
       "    }\n",
       "\n",
       "    .dataframe thead th {\n",
       "        text-align: right;\n",
       "    }\n",
       "</style>\n",
       "<table border=\"1\" class=\"dataframe\">\n",
       "  <thead>\n",
       "    <tr style=\"text-align: right;\">\n",
       "      <th></th>\n",
       "      <th>transaction_id</th>\n",
       "      <th>visitor_id</th>\n",
       "      <th>date</th>\n",
       "      <th>revenue</th>\n",
       "      <th>group</th>\n",
       "    </tr>\n",
       "  </thead>\n",
       "  <tbody>\n",
       "    <tr>\n",
       "      <td>0</td>\n",
       "      <td>3667963787</td>\n",
       "      <td>3312258926</td>\n",
       "      <td>2019-08-15</td>\n",
       "      <td>1650</td>\n",
       "      <td>B</td>\n",
       "    </tr>\n",
       "    <tr>\n",
       "      <td>1</td>\n",
       "      <td>2804400009</td>\n",
       "      <td>3642806036</td>\n",
       "      <td>2019-08-15</td>\n",
       "      <td>730</td>\n",
       "      <td>B</td>\n",
       "    </tr>\n",
       "    <tr>\n",
       "      <td>3</td>\n",
       "      <td>3797467345</td>\n",
       "      <td>1196621759</td>\n",
       "      <td>2019-08-15</td>\n",
       "      <td>9759</td>\n",
       "      <td>B</td>\n",
       "    </tr>\n",
       "    <tr>\n",
       "      <td>4</td>\n",
       "      <td>2282983706</td>\n",
       "      <td>2322279887</td>\n",
       "      <td>2019-08-15</td>\n",
       "      <td>2308</td>\n",
       "      <td>B</td>\n",
       "    </tr>\n",
       "    <tr>\n",
       "      <td>5</td>\n",
       "      <td>182168103</td>\n",
       "      <td>935554773</td>\n",
       "      <td>2019-08-15</td>\n",
       "      <td>2210</td>\n",
       "      <td>B</td>\n",
       "    </tr>\n",
       "    <tr>\n",
       "      <td>...</td>\n",
       "      <td>...</td>\n",
       "      <td>...</td>\n",
       "      <td>...</td>\n",
       "      <td>...</td>\n",
       "      <td>...</td>\n",
       "    </tr>\n",
       "    <tr>\n",
       "      <td>1191</td>\n",
       "      <td>3592955527</td>\n",
       "      <td>608641596</td>\n",
       "      <td>2019-08-14</td>\n",
       "      <td>16490</td>\n",
       "      <td>B</td>\n",
       "    </tr>\n",
       "    <tr>\n",
       "      <td>1192</td>\n",
       "      <td>2662137336</td>\n",
       "      <td>3733762160</td>\n",
       "      <td>2019-08-14</td>\n",
       "      <td>6490</td>\n",
       "      <td>B</td>\n",
       "    </tr>\n",
       "    <tr>\n",
       "      <td>1193</td>\n",
       "      <td>2203539145</td>\n",
       "      <td>370388673</td>\n",
       "      <td>2019-08-14</td>\n",
       "      <td>3190</td>\n",
       "      <td>A</td>\n",
       "    </tr>\n",
       "    <tr>\n",
       "      <td>1194</td>\n",
       "      <td>1807773912</td>\n",
       "      <td>573423106</td>\n",
       "      <td>2019-08-14</td>\n",
       "      <td>10550</td>\n",
       "      <td>A</td>\n",
       "    </tr>\n",
       "    <tr>\n",
       "      <td>1196</td>\n",
       "      <td>3936777065</td>\n",
       "      <td>2108080724</td>\n",
       "      <td>2019-08-15</td>\n",
       "      <td>202740</td>\n",
       "      <td>B</td>\n",
       "    </tr>\n",
       "  </tbody>\n",
       "</table>\n",
       "<p>1016 rows × 5 columns</p>\n",
       "</div>"
      ],
      "text/plain": [
       "      transaction_id  visitor_id       date  revenue group\n",
       "0         3667963787  3312258926 2019-08-15     1650     B\n",
       "1         2804400009  3642806036 2019-08-15      730     B\n",
       "3         3797467345  1196621759 2019-08-15     9759     B\n",
       "4         2282983706  2322279887 2019-08-15     2308     B\n",
       "5          182168103   935554773 2019-08-15     2210     B\n",
       "...              ...         ...        ...      ...   ...\n",
       "1191      3592955527   608641596 2019-08-14    16490     B\n",
       "1192      2662137336  3733762160 2019-08-14     6490     B\n",
       "1193      2203539145   370388673 2019-08-14     3190     A\n",
       "1194      1807773912   573423106 2019-08-14    10550     A\n",
       "1196      3936777065  2108080724 2019-08-15   202740     B\n",
       "\n",
       "[1016 rows x 5 columns]"
      ]
     },
     "execution_count": 31,
     "metadata": {},
     "output_type": "execute_result"
    }
   ],
   "source": [
    "order_clean"
   ]
  },
  {
   "cell_type": "markdown",
   "metadata": {},
   "source": [
    "### Кумулятивная выручка"
   ]
  },
  {
   "cell_type": "code",
   "execution_count": 32,
   "metadata": {},
   "outputs": [],
   "source": [
    "# Найдём суммарную выручку по каждой дате и группе, а затем накопительную выручку по каждой группе\n",
    "cum_rev = (order_clean\n",
    "    .groupby(['date', 'group'])[['revenue']]\n",
    "           .sum()\n",
    "           .groupby('group')[['revenue']]\n",
    "           .cumsum()\n",
    "           .reset_index())"
   ]
  },
  {
   "cell_type": "code",
   "execution_count": 33,
   "metadata": {
    "scrolled": true
   },
   "outputs": [
    {
     "data": {
      "text/html": [
       "<div>\n",
       "<style scoped>\n",
       "    .dataframe tbody tr th:only-of-type {\n",
       "        vertical-align: middle;\n",
       "    }\n",
       "\n",
       "    .dataframe tbody tr th {\n",
       "        vertical-align: top;\n",
       "    }\n",
       "\n",
       "    .dataframe thead th {\n",
       "        text-align: right;\n",
       "    }\n",
       "</style>\n",
       "<table border=\"1\" class=\"dataframe\">\n",
       "  <thead>\n",
       "    <tr style=\"text-align: right;\">\n",
       "      <th></th>\n",
       "      <th>date</th>\n",
       "      <th>group</th>\n",
       "      <th>revenue</th>\n",
       "    </tr>\n",
       "  </thead>\n",
       "  <tbody>\n",
       "    <tr>\n",
       "      <td>0</td>\n",
       "      <td>2019-08-01</td>\n",
       "      <td>A</td>\n",
       "      <td>142779</td>\n",
       "    </tr>\n",
       "    <tr>\n",
       "      <td>1</td>\n",
       "      <td>2019-08-01</td>\n",
       "      <td>B</td>\n",
       "      <td>59758</td>\n",
       "    </tr>\n",
       "    <tr>\n",
       "      <td>2</td>\n",
       "      <td>2019-08-02</td>\n",
       "      <td>A</td>\n",
       "      <td>234381</td>\n",
       "    </tr>\n",
       "    <tr>\n",
       "      <td>3</td>\n",
       "      <td>2019-08-02</td>\n",
       "      <td>B</td>\n",
       "      <td>221801</td>\n",
       "    </tr>\n",
       "    <tr>\n",
       "      <td>4</td>\n",
       "      <td>2019-08-03</td>\n",
       "      <td>A</td>\n",
       "      <td>346854</td>\n",
       "    </tr>\n",
       "    <tr>\n",
       "      <td>...</td>\n",
       "      <td>...</td>\n",
       "      <td>...</td>\n",
       "      <td>...</td>\n",
       "    </tr>\n",
       "    <tr>\n",
       "      <td>57</td>\n",
       "      <td>2019-08-29</td>\n",
       "      <td>B</td>\n",
       "      <td>4746610</td>\n",
       "    </tr>\n",
       "    <tr>\n",
       "      <td>58</td>\n",
       "      <td>2019-08-30</td>\n",
       "      <td>A</td>\n",
       "      <td>3311413</td>\n",
       "    </tr>\n",
       "    <tr>\n",
       "      <td>59</td>\n",
       "      <td>2019-08-30</td>\n",
       "      <td>B</td>\n",
       "      <td>4955833</td>\n",
       "    </tr>\n",
       "    <tr>\n",
       "      <td>60</td>\n",
       "      <td>2019-08-31</td>\n",
       "      <td>A</td>\n",
       "      <td>3364656</td>\n",
       "    </tr>\n",
       "    <tr>\n",
       "      <td>61</td>\n",
       "      <td>2019-08-31</td>\n",
       "      <td>B</td>\n",
       "      <td>5068972</td>\n",
       "    </tr>\n",
       "  </tbody>\n",
       "</table>\n",
       "<p>62 rows × 3 columns</p>\n",
       "</div>"
      ],
      "text/plain": [
       "         date group  revenue\n",
       "0  2019-08-01     A   142779\n",
       "1  2019-08-01     B    59758\n",
       "2  2019-08-02     A   234381\n",
       "3  2019-08-02     B   221801\n",
       "4  2019-08-03     A   346854\n",
       "..        ...   ...      ...\n",
       "57 2019-08-29     B  4746610\n",
       "58 2019-08-30     A  3311413\n",
       "59 2019-08-30     B  4955833\n",
       "60 2019-08-31     A  3364656\n",
       "61 2019-08-31     B  5068972\n",
       "\n",
       "[62 rows x 3 columns]"
      ]
     },
     "execution_count": 33,
     "metadata": {},
     "output_type": "execute_result"
    }
   ],
   "source": [
    "cum_rev"
   ]
  },
  {
   "cell_type": "code",
   "execution_count": 34,
   "metadata": {},
   "outputs": [],
   "source": [
    "cum_rev_a = cum_rev[cum_rev['group']=='A']\n",
    "cum_rev_b = cum_rev[cum_rev['group']=='B']"
   ]
  },
  {
   "cell_type": "code",
   "execution_count": 35,
   "metadata": {
    "scrolled": true
   },
   "outputs": [
    {
     "data": {
      "image/png": "[encoded data removed]",
      "text/plain": [
       "<Figure size 1440x720 with 1 Axes>"
      ]
     },
     "metadata": {
      "needs_background": "light"
     },
     "output_type": "display_data"
    }
   ],
   "source": [
    "plt.subplots(figsize=(20, 10))\n",
    "plt.plot(cum_rev_a['date'], cum_rev_a['revenue'], label='A')\n",
    "plt.plot(cum_rev_b['date'], cum_rev_b['revenue'], label='B')\n",
    "plt.legend()\n",
    "plt.xticks(cum_rev_a['date'], rotation =90)\n",
    "plt.grid()\n",
    "plt.yticks(np.arange(0, 5000000, step=200000))\n",
    "plt.title('Кумулятивная выручка по группам', fontsize = 25)\n",
    "plt.xlabel('Даты', fontsize=20)\n",
    "plt.ylabel('Накопительная выручка', fontsize=18)\n",
    "plt.show()"
   ]
  },
  {
   "cell_type": "markdown",
   "metadata": {},
   "source": [
    "Общая выручка группы A достигает 3 миллионов 400 тысяч, а группа B к концу теста достигла 5 миллионов. Причём резкий скачок по  выручке в группе B произошёл с 18 на 19 числа. А далее идёт стабильный рост, особенно не отличающийся от группы A. Можем предположить, что произошла единичная большая покупка. "
   ]
  },
  {
   "cell_type": "code",
   "execution_count": 36,
   "metadata": {},
   "outputs": [],
   "source": [
    "# Объединим две таблицы накопительной выручки для построения графика относительной выручки группы B к A\n",
    "merged_cum_rev = cum_rev_a.merge(cum_rev_b, on='date', how='left', suffixes=['_a', '_b'])"
   ]
  },
  {
   "cell_type": "code",
   "execution_count": 37,
   "metadata": {},
   "outputs": [
    {
     "data": {
      "text/html": [
       "<div>\n",
       "<style scoped>\n",
       "    .dataframe tbody tr th:only-of-type {\n",
       "        vertical-align: middle;\n",
       "    }\n",
       "\n",
       "    .dataframe tbody tr th {\n",
       "        vertical-align: top;\n",
       "    }\n",
       "\n",
       "    .dataframe thead th {\n",
       "        text-align: right;\n",
       "    }\n",
       "</style>\n",
       "<table border=\"1\" class=\"dataframe\">\n",
       "  <thead>\n",
       "    <tr style=\"text-align: right;\">\n",
       "      <th></th>\n",
       "      <th>date</th>\n",
       "      <th>group_a</th>\n",
       "      <th>revenue_a</th>\n",
       "      <th>group_b</th>\n",
       "      <th>revenue_b</th>\n",
       "    </tr>\n",
       "  </thead>\n",
       "  <tbody>\n",
       "    <tr>\n",
       "      <td>0</td>\n",
       "      <td>2019-08-01</td>\n",
       "      <td>A</td>\n",
       "      <td>142779</td>\n",
       "      <td>B</td>\n",
       "      <td>59758</td>\n",
       "    </tr>\n",
       "    <tr>\n",
       "      <td>1</td>\n",
       "      <td>2019-08-02</td>\n",
       "      <td>A</td>\n",
       "      <td>234381</td>\n",
       "      <td>B</td>\n",
       "      <td>221801</td>\n",
       "    </tr>\n",
       "    <tr>\n",
       "      <td>2</td>\n",
       "      <td>2019-08-03</td>\n",
       "      <td>A</td>\n",
       "      <td>346854</td>\n",
       "      <td>B</td>\n",
       "      <td>288850</td>\n",
       "    </tr>\n",
       "    <tr>\n",
       "      <td>3</td>\n",
       "      <td>2019-08-04</td>\n",
       "      <td>A</td>\n",
       "      <td>388030</td>\n",
       "      <td>B</td>\n",
       "      <td>385740</td>\n",
       "    </tr>\n",
       "    <tr>\n",
       "      <td>4</td>\n",
       "      <td>2019-08-05</td>\n",
       "      <td>A</td>\n",
       "      <td>474413</td>\n",
       "      <td>B</td>\n",
       "      <td>475648</td>\n",
       "    </tr>\n",
       "  </tbody>\n",
       "</table>\n",
       "</div>"
      ],
      "text/plain": [
       "        date group_a  revenue_a group_b  revenue_b\n",
       "0 2019-08-01       A     142779       B      59758\n",
       "1 2019-08-02       A     234381       B     221801\n",
       "2 2019-08-03       A     346854       B     288850\n",
       "3 2019-08-04       A     388030       B     385740\n",
       "4 2019-08-05       A     474413       B     475648"
      ]
     },
     "execution_count": 37,
     "metadata": {},
     "output_type": "execute_result"
    }
   ],
   "source": [
    "merged_cum_rev.head()"
   ]
  },
  {
   "cell_type": "code",
   "execution_count": 38,
   "metadata": {
    "scrolled": true
   },
   "outputs": [
    {
     "data": {
      "image/png": "[encoded data removed]",
      "text/plain": [
       "<Figure size 1440x720 with 1 Axes>"
      ]
     },
     "metadata": {
      "needs_background": "light"
     },
     "output_type": "display_data"
    }
   ],
   "source": [
    "plt.subplots(figsize=(20, 10))\n",
    "plt.plot(merged_cum_rev['date'], merged_cum_rev['revenue_b'] / merged_cum_rev['revenue_a']-1)\n",
    "plt.xticks(merged_cum_rev['date'], rotation =90)\n",
    "plt.grid()\n",
    "plt.title('Относительная кумулятивная выручка группы B к группе A', fontsize = 25)\n",
    "plt.axhline(y=0, color='black', linestyle='--')\n",
    "plt.xlabel('Даты', fontsize=20)\n",
    "plt.ylabel('Изменение накопительной выручки в процентах', fontsize=15)\n",
    "plt.show()"
   ]
  },
  {
   "cell_type": "markdown",
   "metadata": {},
   "source": [
    "С пятого числа относительная кумулятивная выручка группы B становится на уровень с группой A и начинает рост, достигая пика в 40 процентов 8 числа. Затем падает вплоть до 13 числа, выравнивая с группой A. Далее происходит рост относительной выручки до 20 процентов к 15 числу, далее сохраняет свой уровень до 18 числа. И 18 на 19 числа опять видим резкий всплеск показателя до 80 процентов. И далее постепенное снижение до уровня 50 процентов к 29 числу. Как мы утверждаи ранее, с 18 на 19 числа быи совершены крайне дорогие покупки. Но добавились даты ещё одной возможной крупной покупки - с 5 на 6 числа. "
   ]
  },
  {
   "cell_type": "markdown",
   "metadata": {},
   "source": [
    "### Средний чек"
   ]
  },
  {
   "cell_type": "markdown",
   "metadata": {},
   "source": [
    "Найдём кумулятивный средний чек. Для этого найдём средний чек по каждому дню и затем вычислим кумулятивный чек."
   ]
  },
  {
   "cell_type": "code",
   "execution_count": 39,
   "metadata": {},
   "outputs": [],
   "source": [
    "# Сгруппируем order_clean для дальнейших расчётов чека\n",
    "av_ch = (order_clean\n",
    "    .groupby(['date', 'group'])\n",
    "    .agg({'visitor_id' : 'nunique', 'revenue' : 'sum', 'transaction_id' : 'count'})\n",
    "    .reset_index()\n",
    "    .rename(columns={'visitor_id' : 'visitors_number', 'revenue' : 'rev_by_day', 'transaction_id' : 'transaction_number'}))"
   ]
  },
  {
   "cell_type": "code",
   "execution_count": 40,
   "metadata": {},
   "outputs": [],
   "source": [
    "av_ch['cum_rev'] = av_ch.groupby('group')['rev_by_day'].cumsum()"
   ]
  },
  {
   "cell_type": "code",
   "execution_count": 41,
   "metadata": {},
   "outputs": [],
   "source": [
    "av_ch['cum_transactions'] = av_ch.groupby('group')['transaction_number'].cumsum()"
   ]
  },
  {
   "cell_type": "code",
   "execution_count": 42,
   "metadata": {},
   "outputs": [],
   "source": [
    "av_ch['av_ch'] = (av_ch['rev_by_day'] / av_ch['transaction_number']).round(0).astype('int')"
   ]
  },
  {
   "cell_type": "code",
   "execution_count": 43,
   "metadata": {},
   "outputs": [],
   "source": [
    "av_ch['cum_av_ch'] = (av_ch['cum_rev'] / av_ch['cum_transactions']).round(0).astype('int')"
   ]
  },
  {
   "cell_type": "code",
   "execution_count": 44,
   "metadata": {
    "scrolled": true
   },
   "outputs": [
    {
     "data": {
      "text/html": [
       "<div>\n",
       "<style scoped>\n",
       "    .dataframe tbody tr th:only-of-type {\n",
       "        vertical-align: middle;\n",
       "    }\n",
       "\n",
       "    .dataframe tbody tr th {\n",
       "        vertical-align: top;\n",
       "    }\n",
       "\n",
       "    .dataframe thead th {\n",
       "        text-align: right;\n",
       "    }\n",
       "</style>\n",
       "<table border=\"1\" class=\"dataframe\">\n",
       "  <thead>\n",
       "    <tr style=\"text-align: right;\">\n",
       "      <th></th>\n",
       "      <th>date</th>\n",
       "      <th>group</th>\n",
       "      <th>visitors_number</th>\n",
       "      <th>rev_by_day</th>\n",
       "      <th>transaction_number</th>\n",
       "      <th>cum_rev</th>\n",
       "      <th>cum_transactions</th>\n",
       "      <th>av_ch</th>\n",
       "      <th>cum_av_ch</th>\n",
       "    </tr>\n",
       "  </thead>\n",
       "  <tbody>\n",
       "    <tr>\n",
       "      <td>0</td>\n",
       "      <td>2019-08-01</td>\n",
       "      <td>A</td>\n",
       "      <td>19</td>\n",
       "      <td>142779</td>\n",
       "      <td>23</td>\n",
       "      <td>142779</td>\n",
       "      <td>23</td>\n",
       "      <td>6208</td>\n",
       "      <td>6208</td>\n",
       "    </tr>\n",
       "    <tr>\n",
       "      <td>1</td>\n",
       "      <td>2019-08-01</td>\n",
       "      <td>B</td>\n",
       "      <td>17</td>\n",
       "      <td>59758</td>\n",
       "      <td>17</td>\n",
       "      <td>59758</td>\n",
       "      <td>17</td>\n",
       "      <td>3515</td>\n",
       "      <td>3515</td>\n",
       "    </tr>\n",
       "    <tr>\n",
       "      <td>2</td>\n",
       "      <td>2019-08-02</td>\n",
       "      <td>A</td>\n",
       "      <td>18</td>\n",
       "      <td>91602</td>\n",
       "      <td>19</td>\n",
       "      <td>234381</td>\n",
       "      <td>42</td>\n",
       "      <td>4821</td>\n",
       "      <td>5580</td>\n",
       "    </tr>\n",
       "    <tr>\n",
       "      <td>3</td>\n",
       "      <td>2019-08-02</td>\n",
       "      <td>B</td>\n",
       "      <td>22</td>\n",
       "      <td>162043</td>\n",
       "      <td>23</td>\n",
       "      <td>221801</td>\n",
       "      <td>40</td>\n",
       "      <td>7045</td>\n",
       "      <td>5545</td>\n",
       "    </tr>\n",
       "    <tr>\n",
       "      <td>4</td>\n",
       "      <td>2019-08-03</td>\n",
       "      <td>A</td>\n",
       "      <td>24</td>\n",
       "      <td>112473</td>\n",
       "      <td>24</td>\n",
       "      <td>346854</td>\n",
       "      <td>66</td>\n",
       "      <td>4686</td>\n",
       "      <td>5255</td>\n",
       "    </tr>\n",
       "    <tr>\n",
       "      <td>...</td>\n",
       "      <td>...</td>\n",
       "      <td>...</td>\n",
       "      <td>...</td>\n",
       "      <td>...</td>\n",
       "      <td>...</td>\n",
       "      <td>...</td>\n",
       "      <td>...</td>\n",
       "      <td>...</td>\n",
       "      <td>...</td>\n",
       "    </tr>\n",
       "    <tr>\n",
       "      <td>57</td>\n",
       "      <td>2019-08-29</td>\n",
       "      <td>B</td>\n",
       "      <td>15</td>\n",
       "      <td>106100</td>\n",
       "      <td>15</td>\n",
       "      <td>4746610</td>\n",
       "      <td>510</td>\n",
       "      <td>7073</td>\n",
       "      <td>9307</td>\n",
       "    </tr>\n",
       "    <tr>\n",
       "      <td>58</td>\n",
       "      <td>2019-08-30</td>\n",
       "      <td>A</td>\n",
       "      <td>8</td>\n",
       "      <td>78180</td>\n",
       "      <td>9</td>\n",
       "      <td>3311413</td>\n",
       "      <td>460</td>\n",
       "      <td>8687</td>\n",
       "      <td>7199</td>\n",
       "    </tr>\n",
       "    <tr>\n",
       "      <td>59</td>\n",
       "      <td>2019-08-30</td>\n",
       "      <td>B</td>\n",
       "      <td>21</td>\n",
       "      <td>209223</td>\n",
       "      <td>21</td>\n",
       "      <td>4955833</td>\n",
       "      <td>531</td>\n",
       "      <td>9963</td>\n",
       "      <td>9333</td>\n",
       "    </tr>\n",
       "    <tr>\n",
       "      <td>60</td>\n",
       "      <td>2019-08-31</td>\n",
       "      <td>A</td>\n",
       "      <td>8</td>\n",
       "      <td>53243</td>\n",
       "      <td>8</td>\n",
       "      <td>3364656</td>\n",
       "      <td>468</td>\n",
       "      <td>6655</td>\n",
       "      <td>7189</td>\n",
       "    </tr>\n",
       "    <tr>\n",
       "      <td>61</td>\n",
       "      <td>2019-08-31</td>\n",
       "      <td>B</td>\n",
       "      <td>17</td>\n",
       "      <td>113139</td>\n",
       "      <td>17</td>\n",
       "      <td>5068972</td>\n",
       "      <td>548</td>\n",
       "      <td>6655</td>\n",
       "      <td>9250</td>\n",
       "    </tr>\n",
       "  </tbody>\n",
       "</table>\n",
       "<p>62 rows × 9 columns</p>\n",
       "</div>"
      ],
      "text/plain": [
       "         date group  visitors_number  rev_by_day  transaction_number  cum_rev  \\\n",
       "0  2019-08-01     A               19      142779                  23   142779   \n",
       "1  2019-08-01     B               17       59758                  17    59758   \n",
       "2  2019-08-02     A               18       91602                  19   234381   \n",
       "3  2019-08-02     B               22      162043                  23   221801   \n",
       "4  2019-08-03     A               24      112473                  24   346854   \n",
       "..        ...   ...              ...         ...                 ...      ...   \n",
       "57 2019-08-29     B               15      106100                  15  4746610   \n",
       "58 2019-08-30     A                8       78180                   9  3311413   \n",
       "59 2019-08-30     B               21      209223                  21  4955833   \n",
       "60 2019-08-31     A                8       53243                   8  3364656   \n",
       "61 2019-08-31     B               17      113139                  17  5068972   \n",
       "\n",
       "    cum_transactions  av_ch  cum_av_ch  \n",
       "0                 23   6208       6208  \n",
       "1                 17   3515       3515  \n",
       "2                 42   4821       5580  \n",
       "3                 40   7045       5545  \n",
       "4                 66   4686       5255  \n",
       "..               ...    ...        ...  \n",
       "57               510   7073       9307  \n",
       "58               460   8687       7199  \n",
       "59               531   9963       9333  \n",
       "60               468   6655       7189  \n",
       "61               548   6655       9250  \n",
       "\n",
       "[62 rows x 9 columns]"
      ]
     },
     "execution_count": 44,
     "metadata": {},
     "output_type": "execute_result"
    }
   ],
   "source": [
    "av_ch"
   ]
  },
  {
   "cell_type": "code",
   "execution_count": 45,
   "metadata": {},
   "outputs": [
    {
     "data": {
      "image/png": "[encoded data removed]",
      "text/plain": [
       "<Figure size 1440x720 with 1 Axes>"
      ]
     },
     "metadata": {
      "needs_background": "light"
     },
     "output_type": "display_data"
    }
   ],
   "source": [
    "ax = (av_ch.pivot_table(index='date', columns='group', values='cum_av_ch')\n",
    "      .plot(style='o-', grid=True, figsize=(20, 10), linewidth=3, title='Кумулятивный средний чек по группам'))\n",
    "plt.xlabel('Даты', fontsize=20)\n",
    "plt.ylabel('Средний чек', fontsize=20)\n",
    "plt.show()"
   ]
  },
  {
   "cell_type": "markdown",
   "metadata": {},
   "source": [
    "Наблюдаем максимум кумулятивного среднего чека группы A в районе 7000, а группа B находит свой максимум на отметке в 10500. Как и с кумулятивной выручкой, с 18 на 19 числа происходит резкий скачок среднего чека в группе B с отметки 6800 до отметки в 10500. Как мы предполагали раньше, это выбивающаяся крупная покупка. С 5 по 7 числа виден рост среднего чека в группе B, но затем группы выравниваются на 11 число, а далее группа A делает скачок с 11 по 13 числа. После пика в 10500 группа постепенно падает, но остаётся выше группы A, минимум, на 2000."
   ]
  },
  {
   "cell_type": "markdown",
   "metadata": {},
   "source": [
    "Вычислим все оставшиеся показатели, создадим общую таблицу с разделением всех значений по группам, затем вычислим кумулятивные метрики и относительные показатели между группами, и закончим статистической обработкой."
   ]
  },
  {
   "cell_type": "markdown",
   "metadata": {},
   "source": [
    "Создадим таблицу со средним чеком в группах A и B"
   ]
  },
  {
   "cell_type": "code",
   "execution_count": 46,
   "metadata": {},
   "outputs": [],
   "source": [
    "av_ch_a_b = av_ch[av_ch['group']=='A'][['date', 'group', 'av_ch', 'cum_av_ch']]\\\n",
    ".merge(av_ch[av_ch['group']=='B'][['date', 'group', 'av_ch', 'cum_av_ch']], on='date', how='left', suffixes=['_a', '_b'])"
   ]
  },
  {
   "cell_type": "code",
   "execution_count": 47,
   "metadata": {
    "scrolled": true
   },
   "outputs": [
    {
     "data": {
      "text/html": [
       "<div>\n",
       "<style scoped>\n",
       "    .dataframe tbody tr th:only-of-type {\n",
       "        vertical-align: middle;\n",
       "    }\n",
       "\n",
       "    .dataframe tbody tr th {\n",
       "        vertical-align: top;\n",
       "    }\n",
       "\n",
       "    .dataframe thead th {\n",
       "        text-align: right;\n",
       "    }\n",
       "</style>\n",
       "<table border=\"1\" class=\"dataframe\">\n",
       "  <thead>\n",
       "    <tr style=\"text-align: right;\">\n",
       "      <th></th>\n",
       "      <th>date</th>\n",
       "      <th>group_a</th>\n",
       "      <th>av_ch_a</th>\n",
       "      <th>cum_av_ch_a</th>\n",
       "      <th>group_b</th>\n",
       "      <th>av_ch_b</th>\n",
       "      <th>cum_av_ch_b</th>\n",
       "    </tr>\n",
       "  </thead>\n",
       "  <tbody>\n",
       "    <tr>\n",
       "      <td>0</td>\n",
       "      <td>2019-08-01</td>\n",
       "      <td>A</td>\n",
       "      <td>6208</td>\n",
       "      <td>6208</td>\n",
       "      <td>B</td>\n",
       "      <td>3515</td>\n",
       "      <td>3515</td>\n",
       "    </tr>\n",
       "    <tr>\n",
       "      <td>1</td>\n",
       "      <td>2019-08-02</td>\n",
       "      <td>A</td>\n",
       "      <td>4821</td>\n",
       "      <td>5580</td>\n",
       "      <td>B</td>\n",
       "      <td>7045</td>\n",
       "      <td>5545</td>\n",
       "    </tr>\n",
       "    <tr>\n",
       "      <td>2</td>\n",
       "      <td>2019-08-03</td>\n",
       "      <td>A</td>\n",
       "      <td>4686</td>\n",
       "      <td>5255</td>\n",
       "      <td>B</td>\n",
       "      <td>4789</td>\n",
       "      <td>5349</td>\n",
       "    </tr>\n",
       "    <tr>\n",
       "      <td>3</td>\n",
       "      <td>2019-08-04</td>\n",
       "      <td>A</td>\n",
       "      <td>3743</td>\n",
       "      <td>5039</td>\n",
       "      <td>B</td>\n",
       "      <td>6921</td>\n",
       "      <td>5673</td>\n",
       "    </tr>\n",
       "    <tr>\n",
       "      <td>4</td>\n",
       "      <td>2019-08-05</td>\n",
       "      <td>A</td>\n",
       "      <td>3926</td>\n",
       "      <td>4792</td>\n",
       "      <td>B</td>\n",
       "      <td>4281</td>\n",
       "      <td>5344</td>\n",
       "    </tr>\n",
       "  </tbody>\n",
       "</table>\n",
       "</div>"
      ],
      "text/plain": [
       "        date group_a  av_ch_a  cum_av_ch_a group_b  av_ch_b  cum_av_ch_b\n",
       "0 2019-08-01       A     6208         6208       B     3515         3515\n",
       "1 2019-08-02       A     4821         5580       B     7045         5545\n",
       "2 2019-08-03       A     4686         5255       B     4789         5349\n",
       "3 2019-08-04       A     3743         5039       B     6921         5673\n",
       "4 2019-08-05       A     3926         4792       B     4281         5344"
      ]
     },
     "execution_count": 47,
     "metadata": {},
     "output_type": "execute_result"
    }
   ],
   "source": [
    "av_ch_a_b.head()"
   ]
  },
  {
   "cell_type": "code",
   "execution_count": 48,
   "metadata": {},
   "outputs": [],
   "source": [
    "av_ch_a_b['cum_av_ch_a_to_b'] = (av_ch_a_b['cum_av_ch_b'] / av_ch_a_b['cum_av_ch_a'] - 1).round(2)"
   ]
  },
  {
   "cell_type": "code",
   "execution_count": 49,
   "metadata": {
    "scrolled": true
   },
   "outputs": [
    {
     "data": {
      "image/png": "[encoded data removed]",
      "text/plain": [
       "<Figure size 1440x720 with 1 Axes>"
      ]
     },
     "metadata": {
      "needs_background": "light"
     },
     "output_type": "display_data"
    }
   ],
   "source": [
    "plt.subplots(figsize=(20, 10))\n",
    "plt.plot(av_ch_a_b['date'], av_ch_a_b['cum_av_ch_a_to_b'])\n",
    "plt.xticks(av_ch_a_b['date'], rotation =90)\n",
    "plt.grid()\n",
    "plt.title('Кумулятивный относительный средний чек группы B к группе A', fontsize=20)\n",
    "plt.axhline(y=0, color='black', linestyle='--')\n",
    "plt.xlabel('Даты', fontsize=20)\n",
    "plt.ylabel('Процентное изменение группы B к группе A', fontsize=20)\n",
    "plt.show()"
   ]
  },
  {
   "cell_type": "markdown",
   "metadata": {},
   "source": [
    "Со второго числа группа B вырывается вперёд и растёт до 7 числа. Затем видим ппадение группы B до выравнивания с группой A с 11 на 12 числа. С 12 до 18 числа группа B остаётся ниже группы B по среднему чеку. И затем ппроисходит резкий рост группы B с 18 на 19 числа. И затем видим постепенное снижение среднего чека группы B."
   ]
  },
  {
   "cell_type": "markdown",
   "metadata": {},
   "source": [
    "##### Конверсия, количество заказов по пользователям, стоимость заказов"
   ]
  },
  {
   "cell_type": "code",
   "execution_count": 50,
   "metadata": {},
   "outputs": [
    {
     "data": {
      "text/html": [
       "<div>\n",
       "<style scoped>\n",
       "    .dataframe tbody tr th:only-of-type {\n",
       "        vertical-align: middle;\n",
       "    }\n",
       "\n",
       "    .dataframe tbody tr th {\n",
       "        vertical-align: top;\n",
       "    }\n",
       "\n",
       "    .dataframe thead th {\n",
       "        text-align: right;\n",
       "    }\n",
       "</style>\n",
       "<table border=\"1\" class=\"dataframe\">\n",
       "  <thead>\n",
       "    <tr style=\"text-align: right;\">\n",
       "      <th></th>\n",
       "      <th>date</th>\n",
       "      <th>group</th>\n",
       "      <th>visitors</th>\n",
       "    </tr>\n",
       "  </thead>\n",
       "  <tbody>\n",
       "    <tr>\n",
       "      <td>0</td>\n",
       "      <td>2019-08-01</td>\n",
       "      <td>A</td>\n",
       "      <td>719</td>\n",
       "    </tr>\n",
       "    <tr>\n",
       "      <td>1</td>\n",
       "      <td>2019-08-02</td>\n",
       "      <td>A</td>\n",
       "      <td>619</td>\n",
       "    </tr>\n",
       "    <tr>\n",
       "      <td>2</td>\n",
       "      <td>2019-08-03</td>\n",
       "      <td>A</td>\n",
       "      <td>507</td>\n",
       "    </tr>\n",
       "    <tr>\n",
       "      <td>3</td>\n",
       "      <td>2019-08-04</td>\n",
       "      <td>A</td>\n",
       "      <td>717</td>\n",
       "    </tr>\n",
       "    <tr>\n",
       "      <td>4</td>\n",
       "      <td>2019-08-05</td>\n",
       "      <td>A</td>\n",
       "      <td>756</td>\n",
       "    </tr>\n",
       "    <tr>\n",
       "      <td>...</td>\n",
       "      <td>...</td>\n",
       "      <td>...</td>\n",
       "      <td>...</td>\n",
       "    </tr>\n",
       "    <tr>\n",
       "      <td>57</td>\n",
       "      <td>2019-08-27</td>\n",
       "      <td>B</td>\n",
       "      <td>720</td>\n",
       "    </tr>\n",
       "    <tr>\n",
       "      <td>58</td>\n",
       "      <td>2019-08-28</td>\n",
       "      <td>B</td>\n",
       "      <td>654</td>\n",
       "    </tr>\n",
       "    <tr>\n",
       "      <td>59</td>\n",
       "      <td>2019-08-29</td>\n",
       "      <td>B</td>\n",
       "      <td>531</td>\n",
       "    </tr>\n",
       "    <tr>\n",
       "      <td>60</td>\n",
       "      <td>2019-08-30</td>\n",
       "      <td>B</td>\n",
       "      <td>490</td>\n",
       "    </tr>\n",
       "    <tr>\n",
       "      <td>61</td>\n",
       "      <td>2019-08-31</td>\n",
       "      <td>B</td>\n",
       "      <td>718</td>\n",
       "    </tr>\n",
       "  </tbody>\n",
       "</table>\n",
       "<p>62 rows × 3 columns</p>\n",
       "</div>"
      ],
      "text/plain": [
       "         date group  visitors\n",
       "0  2019-08-01     A       719\n",
       "1  2019-08-02     A       619\n",
       "2  2019-08-03     A       507\n",
       "3  2019-08-04     A       717\n",
       "4  2019-08-05     A       756\n",
       "..        ...   ...       ...\n",
       "57 2019-08-27     B       720\n",
       "58 2019-08-28     B       654\n",
       "59 2019-08-29     B       531\n",
       "60 2019-08-30     B       490\n",
       "61 2019-08-31     B       718\n",
       "\n",
       "[62 rows x 3 columns]"
      ]
     },
     "execution_count": 50,
     "metadata": {},
     "output_type": "execute_result"
    }
   ],
   "source": [
    "visitor"
   ]
  },
  {
   "cell_type": "code",
   "execution_count": 51,
   "metadata": {},
   "outputs": [
    {
     "data": {
      "text/html": [
       "<div>\n",
       "<style scoped>\n",
       "    .dataframe tbody tr th:only-of-type {\n",
       "        vertical-align: middle;\n",
       "    }\n",
       "\n",
       "    .dataframe tbody tr th {\n",
       "        vertical-align: top;\n",
       "    }\n",
       "\n",
       "    .dataframe thead th {\n",
       "        text-align: right;\n",
       "    }\n",
       "</style>\n",
       "<table border=\"1\" class=\"dataframe\">\n",
       "  <thead>\n",
       "    <tr style=\"text-align: right;\">\n",
       "      <th></th>\n",
       "      <th>date</th>\n",
       "      <th>group</th>\n",
       "      <th>visitors_number</th>\n",
       "      <th>rev_by_day</th>\n",
       "      <th>transaction_number</th>\n",
       "      <th>cum_rev</th>\n",
       "      <th>cum_transactions</th>\n",
       "      <th>av_ch</th>\n",
       "      <th>cum_av_ch</th>\n",
       "    </tr>\n",
       "  </thead>\n",
       "  <tbody>\n",
       "    <tr>\n",
       "      <td>0</td>\n",
       "      <td>2019-08-01</td>\n",
       "      <td>A</td>\n",
       "      <td>19</td>\n",
       "      <td>142779</td>\n",
       "      <td>23</td>\n",
       "      <td>142779</td>\n",
       "      <td>23</td>\n",
       "      <td>6208</td>\n",
       "      <td>6208</td>\n",
       "    </tr>\n",
       "    <tr>\n",
       "      <td>1</td>\n",
       "      <td>2019-08-01</td>\n",
       "      <td>B</td>\n",
       "      <td>17</td>\n",
       "      <td>59758</td>\n",
       "      <td>17</td>\n",
       "      <td>59758</td>\n",
       "      <td>17</td>\n",
       "      <td>3515</td>\n",
       "      <td>3515</td>\n",
       "    </tr>\n",
       "    <tr>\n",
       "      <td>2</td>\n",
       "      <td>2019-08-02</td>\n",
       "      <td>A</td>\n",
       "      <td>18</td>\n",
       "      <td>91602</td>\n",
       "      <td>19</td>\n",
       "      <td>234381</td>\n",
       "      <td>42</td>\n",
       "      <td>4821</td>\n",
       "      <td>5580</td>\n",
       "    </tr>\n",
       "    <tr>\n",
       "      <td>3</td>\n",
       "      <td>2019-08-02</td>\n",
       "      <td>B</td>\n",
       "      <td>22</td>\n",
       "      <td>162043</td>\n",
       "      <td>23</td>\n",
       "      <td>221801</td>\n",
       "      <td>40</td>\n",
       "      <td>7045</td>\n",
       "      <td>5545</td>\n",
       "    </tr>\n",
       "    <tr>\n",
       "      <td>4</td>\n",
       "      <td>2019-08-03</td>\n",
       "      <td>A</td>\n",
       "      <td>24</td>\n",
       "      <td>112473</td>\n",
       "      <td>24</td>\n",
       "      <td>346854</td>\n",
       "      <td>66</td>\n",
       "      <td>4686</td>\n",
       "      <td>5255</td>\n",
       "    </tr>\n",
       "    <tr>\n",
       "      <td>...</td>\n",
       "      <td>...</td>\n",
       "      <td>...</td>\n",
       "      <td>...</td>\n",
       "      <td>...</td>\n",
       "      <td>...</td>\n",
       "      <td>...</td>\n",
       "      <td>...</td>\n",
       "      <td>...</td>\n",
       "      <td>...</td>\n",
       "    </tr>\n",
       "    <tr>\n",
       "      <td>57</td>\n",
       "      <td>2019-08-29</td>\n",
       "      <td>B</td>\n",
       "      <td>15</td>\n",
       "      <td>106100</td>\n",
       "      <td>15</td>\n",
       "      <td>4746610</td>\n",
       "      <td>510</td>\n",
       "      <td>7073</td>\n",
       "      <td>9307</td>\n",
       "    </tr>\n",
       "    <tr>\n",
       "      <td>58</td>\n",
       "      <td>2019-08-30</td>\n",
       "      <td>A</td>\n",
       "      <td>8</td>\n",
       "      <td>78180</td>\n",
       "      <td>9</td>\n",
       "      <td>3311413</td>\n",
       "      <td>460</td>\n",
       "      <td>8687</td>\n",
       "      <td>7199</td>\n",
       "    </tr>\n",
       "    <tr>\n",
       "      <td>59</td>\n",
       "      <td>2019-08-30</td>\n",
       "      <td>B</td>\n",
       "      <td>21</td>\n",
       "      <td>209223</td>\n",
       "      <td>21</td>\n",
       "      <td>4955833</td>\n",
       "      <td>531</td>\n",
       "      <td>9963</td>\n",
       "      <td>9333</td>\n",
       "    </tr>\n",
       "    <tr>\n",
       "      <td>60</td>\n",
       "      <td>2019-08-31</td>\n",
       "      <td>A</td>\n",
       "      <td>8</td>\n",
       "      <td>53243</td>\n",
       "      <td>8</td>\n",
       "      <td>3364656</td>\n",
       "      <td>468</td>\n",
       "      <td>6655</td>\n",
       "      <td>7189</td>\n",
       "    </tr>\n",
       "    <tr>\n",
       "      <td>61</td>\n",
       "      <td>2019-08-31</td>\n",
       "      <td>B</td>\n",
       "      <td>17</td>\n",
       "      <td>113139</td>\n",
       "      <td>17</td>\n",
       "      <td>5068972</td>\n",
       "      <td>548</td>\n",
       "      <td>6655</td>\n",
       "      <td>9250</td>\n",
       "    </tr>\n",
       "  </tbody>\n",
       "</table>\n",
       "<p>62 rows × 9 columns</p>\n",
       "</div>"
      ],
      "text/plain": [
       "         date group  visitors_number  rev_by_day  transaction_number  cum_rev  \\\n",
       "0  2019-08-01     A               19      142779                  23   142779   \n",
       "1  2019-08-01     B               17       59758                  17    59758   \n",
       "2  2019-08-02     A               18       91602                  19   234381   \n",
       "3  2019-08-02     B               22      162043                  23   221801   \n",
       "4  2019-08-03     A               24      112473                  24   346854   \n",
       "..        ...   ...              ...         ...                 ...      ...   \n",
       "57 2019-08-29     B               15      106100                  15  4746610   \n",
       "58 2019-08-30     A                8       78180                   9  3311413   \n",
       "59 2019-08-30     B               21      209223                  21  4955833   \n",
       "60 2019-08-31     A                8       53243                   8  3364656   \n",
       "61 2019-08-31     B               17      113139                  17  5068972   \n",
       "\n",
       "    cum_transactions  av_ch  cum_av_ch  \n",
       "0                 23   6208       6208  \n",
       "1                 17   3515       3515  \n",
       "2                 42   4821       5580  \n",
       "3                 40   7045       5545  \n",
       "4                 66   4686       5255  \n",
       "..               ...    ...        ...  \n",
       "57               510   7073       9307  \n",
       "58               460   8687       7199  \n",
       "59               531   9963       9333  \n",
       "60               468   6655       7189  \n",
       "61               548   6655       9250  \n",
       "\n",
       "[62 rows x 9 columns]"
      ]
     },
     "execution_count": 51,
     "metadata": {},
     "output_type": "execute_result"
    }
   ],
   "source": [
    "av_ch"
   ]
  },
  {
   "cell_type": "markdown",
   "metadata": {},
   "source": [
    "Соединим таблицы av_ch и visitor для дальнейших расчётов"
   ]
  },
  {
   "cell_type": "code",
   "execution_count": 52,
   "metadata": {
    "scrolled": true
   },
   "outputs": [
    {
     "data": {
      "text/html": [
       "<div>\n",
       "<style scoped>\n",
       "    .dataframe tbody tr th:only-of-type {\n",
       "        vertical-align: middle;\n",
       "    }\n",
       "\n",
       "    .dataframe tbody tr th {\n",
       "        vertical-align: top;\n",
       "    }\n",
       "\n",
       "    .dataframe thead th {\n",
       "        text-align: right;\n",
       "    }\n",
       "</style>\n",
       "<table border=\"1\" class=\"dataframe\">\n",
       "  <thead>\n",
       "    <tr style=\"text-align: right;\">\n",
       "      <th></th>\n",
       "      <th>date</th>\n",
       "      <th>group</th>\n",
       "      <th>visitors_number</th>\n",
       "      <th>rev_by_day</th>\n",
       "      <th>transaction_number</th>\n",
       "      <th>cum_rev</th>\n",
       "      <th>cum_transactions</th>\n",
       "      <th>av_ch</th>\n",
       "      <th>cum_av_ch</th>\n",
       "      <th>visitors</th>\n",
       "    </tr>\n",
       "  </thead>\n",
       "  <tbody>\n",
       "    <tr>\n",
       "      <td>0</td>\n",
       "      <td>2019-08-01</td>\n",
       "      <td>A</td>\n",
       "      <td>19</td>\n",
       "      <td>142779</td>\n",
       "      <td>23</td>\n",
       "      <td>142779</td>\n",
       "      <td>23</td>\n",
       "      <td>6208</td>\n",
       "      <td>6208</td>\n",
       "      <td>719</td>\n",
       "    </tr>\n",
       "    <tr>\n",
       "      <td>1</td>\n",
       "      <td>2019-08-01</td>\n",
       "      <td>B</td>\n",
       "      <td>17</td>\n",
       "      <td>59758</td>\n",
       "      <td>17</td>\n",
       "      <td>59758</td>\n",
       "      <td>17</td>\n",
       "      <td>3515</td>\n",
       "      <td>3515</td>\n",
       "      <td>713</td>\n",
       "    </tr>\n",
       "    <tr>\n",
       "      <td>2</td>\n",
       "      <td>2019-08-02</td>\n",
       "      <td>A</td>\n",
       "      <td>18</td>\n",
       "      <td>91602</td>\n",
       "      <td>19</td>\n",
       "      <td>234381</td>\n",
       "      <td>42</td>\n",
       "      <td>4821</td>\n",
       "      <td>5580</td>\n",
       "      <td>619</td>\n",
       "    </tr>\n",
       "    <tr>\n",
       "      <td>3</td>\n",
       "      <td>2019-08-02</td>\n",
       "      <td>B</td>\n",
       "      <td>22</td>\n",
       "      <td>162043</td>\n",
       "      <td>23</td>\n",
       "      <td>221801</td>\n",
       "      <td>40</td>\n",
       "      <td>7045</td>\n",
       "      <td>5545</td>\n",
       "      <td>581</td>\n",
       "    </tr>\n",
       "    <tr>\n",
       "      <td>4</td>\n",
       "      <td>2019-08-03</td>\n",
       "      <td>A</td>\n",
       "      <td>24</td>\n",
       "      <td>112473</td>\n",
       "      <td>24</td>\n",
       "      <td>346854</td>\n",
       "      <td>66</td>\n",
       "      <td>4686</td>\n",
       "      <td>5255</td>\n",
       "      <td>507</td>\n",
       "    </tr>\n",
       "    <tr>\n",
       "      <td>...</td>\n",
       "      <td>...</td>\n",
       "      <td>...</td>\n",
       "      <td>...</td>\n",
       "      <td>...</td>\n",
       "      <td>...</td>\n",
       "      <td>...</td>\n",
       "      <td>...</td>\n",
       "      <td>...</td>\n",
       "      <td>...</td>\n",
       "      <td>...</td>\n",
       "    </tr>\n",
       "    <tr>\n",
       "      <td>57</td>\n",
       "      <td>2019-08-29</td>\n",
       "      <td>B</td>\n",
       "      <td>15</td>\n",
       "      <td>106100</td>\n",
       "      <td>15</td>\n",
       "      <td>4746610</td>\n",
       "      <td>510</td>\n",
       "      <td>7073</td>\n",
       "      <td>9307</td>\n",
       "      <td>531</td>\n",
       "    </tr>\n",
       "    <tr>\n",
       "      <td>58</td>\n",
       "      <td>2019-08-30</td>\n",
       "      <td>A</td>\n",
       "      <td>8</td>\n",
       "      <td>78180</td>\n",
       "      <td>9</td>\n",
       "      <td>3311413</td>\n",
       "      <td>460</td>\n",
       "      <td>8687</td>\n",
       "      <td>7199</td>\n",
       "      <td>490</td>\n",
       "    </tr>\n",
       "    <tr>\n",
       "      <td>59</td>\n",
       "      <td>2019-08-30</td>\n",
       "      <td>B</td>\n",
       "      <td>21</td>\n",
       "      <td>209223</td>\n",
       "      <td>21</td>\n",
       "      <td>4955833</td>\n",
       "      <td>531</td>\n",
       "      <td>9963</td>\n",
       "      <td>9333</td>\n",
       "      <td>490</td>\n",
       "    </tr>\n",
       "    <tr>\n",
       "      <td>60</td>\n",
       "      <td>2019-08-31</td>\n",
       "      <td>A</td>\n",
       "      <td>8</td>\n",
       "      <td>53243</td>\n",
       "      <td>8</td>\n",
       "      <td>3364656</td>\n",
       "      <td>468</td>\n",
       "      <td>6655</td>\n",
       "      <td>7189</td>\n",
       "      <td>699</td>\n",
       "    </tr>\n",
       "    <tr>\n",
       "      <td>61</td>\n",
       "      <td>2019-08-31</td>\n",
       "      <td>B</td>\n",
       "      <td>17</td>\n",
       "      <td>113139</td>\n",
       "      <td>17</td>\n",
       "      <td>5068972</td>\n",
       "      <td>548</td>\n",
       "      <td>6655</td>\n",
       "      <td>9250</td>\n",
       "      <td>718</td>\n",
       "    </tr>\n",
       "  </tbody>\n",
       "</table>\n",
       "<p>62 rows × 10 columns</p>\n",
       "</div>"
      ],
      "text/plain": [
       "         date group  visitors_number  rev_by_day  transaction_number  cum_rev  \\\n",
       "0  2019-08-01     A               19      142779                  23   142779   \n",
       "1  2019-08-01     B               17       59758                  17    59758   \n",
       "2  2019-08-02     A               18       91602                  19   234381   \n",
       "3  2019-08-02     B               22      162043                  23   221801   \n",
       "4  2019-08-03     A               24      112473                  24   346854   \n",
       "..        ...   ...              ...         ...                 ...      ...   \n",
       "57 2019-08-29     B               15      106100                  15  4746610   \n",
       "58 2019-08-30     A                8       78180                   9  3311413   \n",
       "59 2019-08-30     B               21      209223                  21  4955833   \n",
       "60 2019-08-31     A                8       53243                   8  3364656   \n",
       "61 2019-08-31     B               17      113139                  17  5068972   \n",
       "\n",
       "    cum_transactions  av_ch  cum_av_ch  visitors  \n",
       "0                 23   6208       6208       719  \n",
       "1                 17   3515       3515       713  \n",
       "2                 42   4821       5580       619  \n",
       "3                 40   7045       5545       581  \n",
       "4                 66   4686       5255       507  \n",
       "..               ...    ...        ...       ...  \n",
       "57               510   7073       9307       531  \n",
       "58               460   8687       7199       490  \n",
       "59               531   9963       9333       490  \n",
       "60               468   6655       7189       699  \n",
       "61               548   6655       9250       718  \n",
       "\n",
       "[62 rows x 10 columns]"
      ]
     },
     "execution_count": 52,
     "metadata": {},
     "output_type": "execute_result"
    }
   ],
   "source": [
    "ab_test = av_ch.merge(visitor, on=['date', 'group'], how='left')\n",
    "ab_test"
   ]
  },
  {
   "cell_type": "markdown",
   "metadata": {},
   "source": [
    "Вычислим конверсию"
   ]
  },
  {
   "cell_type": "code",
   "execution_count": 53,
   "metadata": {},
   "outputs": [],
   "source": [
    "ab_test['conversion'] = (ab_test['transaction_number'] / ab_test['visitors']).round(3)"
   ]
  },
  {
   "cell_type": "code",
   "execution_count": 54,
   "metadata": {},
   "outputs": [],
   "source": [
    "ab_test = ab_test.rename(columns={'visitors_number' : 'buyers_number'})"
   ]
  },
  {
   "cell_type": "code",
   "execution_count": 55,
   "metadata": {},
   "outputs": [
    {
     "data": {
      "text/html": [
       "<div>\n",
       "<style scoped>\n",
       "    .dataframe tbody tr th:only-of-type {\n",
       "        vertical-align: middle;\n",
       "    }\n",
       "\n",
       "    .dataframe tbody tr th {\n",
       "        vertical-align: top;\n",
       "    }\n",
       "\n",
       "    .dataframe thead th {\n",
       "        text-align: right;\n",
       "    }\n",
       "</style>\n",
       "<table border=\"1\" class=\"dataframe\">\n",
       "  <thead>\n",
       "    <tr style=\"text-align: right;\">\n",
       "      <th></th>\n",
       "      <th>date</th>\n",
       "      <th>group</th>\n",
       "      <th>buyers_number</th>\n",
       "      <th>rev_by_day</th>\n",
       "      <th>transaction_number</th>\n",
       "      <th>cum_rev</th>\n",
       "      <th>cum_transactions</th>\n",
       "      <th>av_ch</th>\n",
       "      <th>cum_av_ch</th>\n",
       "      <th>visitors</th>\n",
       "      <th>conversion</th>\n",
       "    </tr>\n",
       "  </thead>\n",
       "  <tbody>\n",
       "    <tr>\n",
       "      <td>0</td>\n",
       "      <td>2019-08-01</td>\n",
       "      <td>A</td>\n",
       "      <td>19</td>\n",
       "      <td>142779</td>\n",
       "      <td>23</td>\n",
       "      <td>142779</td>\n",
       "      <td>23</td>\n",
       "      <td>6208</td>\n",
       "      <td>6208</td>\n",
       "      <td>719</td>\n",
       "      <td>0.032</td>\n",
       "    </tr>\n",
       "    <tr>\n",
       "      <td>1</td>\n",
       "      <td>2019-08-01</td>\n",
       "      <td>B</td>\n",
       "      <td>17</td>\n",
       "      <td>59758</td>\n",
       "      <td>17</td>\n",
       "      <td>59758</td>\n",
       "      <td>17</td>\n",
       "      <td>3515</td>\n",
       "      <td>3515</td>\n",
       "      <td>713</td>\n",
       "      <td>0.024</td>\n",
       "    </tr>\n",
       "    <tr>\n",
       "      <td>2</td>\n",
       "      <td>2019-08-02</td>\n",
       "      <td>A</td>\n",
       "      <td>18</td>\n",
       "      <td>91602</td>\n",
       "      <td>19</td>\n",
       "      <td>234381</td>\n",
       "      <td>42</td>\n",
       "      <td>4821</td>\n",
       "      <td>5580</td>\n",
       "      <td>619</td>\n",
       "      <td>0.031</td>\n",
       "    </tr>\n",
       "    <tr>\n",
       "      <td>3</td>\n",
       "      <td>2019-08-02</td>\n",
       "      <td>B</td>\n",
       "      <td>22</td>\n",
       "      <td>162043</td>\n",
       "      <td>23</td>\n",
       "      <td>221801</td>\n",
       "      <td>40</td>\n",
       "      <td>7045</td>\n",
       "      <td>5545</td>\n",
       "      <td>581</td>\n",
       "      <td>0.040</td>\n",
       "    </tr>\n",
       "    <tr>\n",
       "      <td>4</td>\n",
       "      <td>2019-08-03</td>\n",
       "      <td>A</td>\n",
       "      <td>24</td>\n",
       "      <td>112473</td>\n",
       "      <td>24</td>\n",
       "      <td>346854</td>\n",
       "      <td>66</td>\n",
       "      <td>4686</td>\n",
       "      <td>5255</td>\n",
       "      <td>507</td>\n",
       "      <td>0.047</td>\n",
       "    </tr>\n",
       "    <tr>\n",
       "      <td>...</td>\n",
       "      <td>...</td>\n",
       "      <td>...</td>\n",
       "      <td>...</td>\n",
       "      <td>...</td>\n",
       "      <td>...</td>\n",
       "      <td>...</td>\n",
       "      <td>...</td>\n",
       "      <td>...</td>\n",
       "      <td>...</td>\n",
       "      <td>...</td>\n",
       "      <td>...</td>\n",
       "    </tr>\n",
       "    <tr>\n",
       "      <td>57</td>\n",
       "      <td>2019-08-29</td>\n",
       "      <td>B</td>\n",
       "      <td>15</td>\n",
       "      <td>106100</td>\n",
       "      <td>15</td>\n",
       "      <td>4746610</td>\n",
       "      <td>510</td>\n",
       "      <td>7073</td>\n",
       "      <td>9307</td>\n",
       "      <td>531</td>\n",
       "      <td>0.028</td>\n",
       "    </tr>\n",
       "    <tr>\n",
       "      <td>58</td>\n",
       "      <td>2019-08-30</td>\n",
       "      <td>A</td>\n",
       "      <td>8</td>\n",
       "      <td>78180</td>\n",
       "      <td>9</td>\n",
       "      <td>3311413</td>\n",
       "      <td>460</td>\n",
       "      <td>8687</td>\n",
       "      <td>7199</td>\n",
       "      <td>490</td>\n",
       "      <td>0.018</td>\n",
       "    </tr>\n",
       "    <tr>\n",
       "      <td>59</td>\n",
       "      <td>2019-08-30</td>\n",
       "      <td>B</td>\n",
       "      <td>21</td>\n",
       "      <td>209223</td>\n",
       "      <td>21</td>\n",
       "      <td>4955833</td>\n",
       "      <td>531</td>\n",
       "      <td>9963</td>\n",
       "      <td>9333</td>\n",
       "      <td>490</td>\n",
       "      <td>0.043</td>\n",
       "    </tr>\n",
       "    <tr>\n",
       "      <td>60</td>\n",
       "      <td>2019-08-31</td>\n",
       "      <td>A</td>\n",
       "      <td>8</td>\n",
       "      <td>53243</td>\n",
       "      <td>8</td>\n",
       "      <td>3364656</td>\n",
       "      <td>468</td>\n",
       "      <td>6655</td>\n",
       "      <td>7189</td>\n",
       "      <td>699</td>\n",
       "      <td>0.011</td>\n",
       "    </tr>\n",
       "    <tr>\n",
       "      <td>61</td>\n",
       "      <td>2019-08-31</td>\n",
       "      <td>B</td>\n",
       "      <td>17</td>\n",
       "      <td>113139</td>\n",
       "      <td>17</td>\n",
       "      <td>5068972</td>\n",
       "      <td>548</td>\n",
       "      <td>6655</td>\n",
       "      <td>9250</td>\n",
       "      <td>718</td>\n",
       "      <td>0.024</td>\n",
       "    </tr>\n",
       "  </tbody>\n",
       "</table>\n",
       "<p>62 rows × 11 columns</p>\n",
       "</div>"
      ],
      "text/plain": [
       "         date group  buyers_number  rev_by_day  transaction_number  cum_rev  \\\n",
       "0  2019-08-01     A             19      142779                  23   142779   \n",
       "1  2019-08-01     B             17       59758                  17    59758   \n",
       "2  2019-08-02     A             18       91602                  19   234381   \n",
       "3  2019-08-02     B             22      162043                  23   221801   \n",
       "4  2019-08-03     A             24      112473                  24   346854   \n",
       "..        ...   ...            ...         ...                 ...      ...   \n",
       "57 2019-08-29     B             15      106100                  15  4746610   \n",
       "58 2019-08-30     A              8       78180                   9  3311413   \n",
       "59 2019-08-30     B             21      209223                  21  4955833   \n",
       "60 2019-08-31     A              8       53243                   8  3364656   \n",
       "61 2019-08-31     B             17      113139                  17  5068972   \n",
       "\n",
       "    cum_transactions  av_ch  cum_av_ch  visitors  conversion  \n",
       "0                 23   6208       6208       719       0.032  \n",
       "1                 17   3515       3515       713       0.024  \n",
       "2                 42   4821       5580       619       0.031  \n",
       "3                 40   7045       5545       581       0.040  \n",
       "4                 66   4686       5255       507       0.047  \n",
       "..               ...    ...        ...       ...         ...  \n",
       "57               510   7073       9307       531       0.028  \n",
       "58               460   8687       7199       490       0.018  \n",
       "59               531   9963       9333       490       0.043  \n",
       "60               468   6655       7189       699       0.011  \n",
       "61               548   6655       9250       718       0.024  \n",
       "\n",
       "[62 rows x 11 columns]"
      ]
     },
     "execution_count": 55,
     "metadata": {},
     "output_type": "execute_result"
    }
   ],
   "source": [
    "ab_test"
   ]
  },
  {
   "cell_type": "markdown",
   "metadata": {},
   "source": [
    "Вычислим количество заказов на пользователя"
   ]
  },
  {
   "cell_type": "code",
   "execution_count": 56,
   "metadata": {},
   "outputs": [],
   "source": [
    "ab_test['mean_transactions'] = ab_test['transaction_number'] / ab_test['buyers_number']"
   ]
  },
  {
   "cell_type": "markdown",
   "metadata": {},
   "source": [
    "Вычислим стоимость среднего заказа"
   ]
  },
  {
   "cell_type": "code",
   "execution_count": 57,
   "metadata": {},
   "outputs": [],
   "source": [
    "ab_test['mean_trans_cost'] = (ab_test['rev_by_day'] / ab_test['transaction_number']).round(0).astype('int')"
   ]
  },
  {
   "cell_type": "markdown",
   "metadata": {},
   "source": [
    "### Кумулятивная конверсия"
   ]
  },
  {
   "cell_type": "markdown",
   "metadata": {},
   "source": [
    "Для расчёта кумулятивной конверсии расчитаем кумулятивных покупателей  и кумулятивное число посетителей, и первое значение поделим на второе"
   ]
  },
  {
   "cell_type": "code",
   "execution_count": 58,
   "metadata": {},
   "outputs": [],
   "source": [
    "ab_test['cum_visitors'] = ab_test.groupby('group')['visitors'].cumsum().round(3)"
   ]
  },
  {
   "cell_type": "code",
   "execution_count": 59,
   "metadata": {},
   "outputs": [],
   "source": [
    "ab_test['cum_conversion'] = (ab_test['cum_transactions'] / ab_test['cum_visitors']).round(3)"
   ]
  },
  {
   "cell_type": "code",
   "execution_count": 60,
   "metadata": {},
   "outputs": [
    {
     "data": {
      "text/html": [
       "<div>\n",
       "<style scoped>\n",
       "    .dataframe tbody tr th:only-of-type {\n",
       "        vertical-align: middle;\n",
       "    }\n",
       "\n",
       "    .dataframe tbody tr th {\n",
       "        vertical-align: top;\n",
       "    }\n",
       "\n",
       "    .dataframe thead th {\n",
       "        text-align: right;\n",
       "    }\n",
       "</style>\n",
       "<table border=\"1\" class=\"dataframe\">\n",
       "  <thead>\n",
       "    <tr style=\"text-align: right;\">\n",
       "      <th></th>\n",
       "      <th>date</th>\n",
       "      <th>group</th>\n",
       "      <th>buyers_number</th>\n",
       "      <th>rev_by_day</th>\n",
       "      <th>transaction_number</th>\n",
       "      <th>cum_rev</th>\n",
       "      <th>cum_transactions</th>\n",
       "      <th>av_ch</th>\n",
       "      <th>cum_av_ch</th>\n",
       "      <th>visitors</th>\n",
       "      <th>conversion</th>\n",
       "      <th>mean_transactions</th>\n",
       "      <th>mean_trans_cost</th>\n",
       "      <th>cum_visitors</th>\n",
       "      <th>cum_conversion</th>\n",
       "    </tr>\n",
       "  </thead>\n",
       "  <tbody>\n",
       "    <tr>\n",
       "      <td>0</td>\n",
       "      <td>2019-08-01</td>\n",
       "      <td>A</td>\n",
       "      <td>19</td>\n",
       "      <td>142779</td>\n",
       "      <td>23</td>\n",
       "      <td>142779</td>\n",
       "      <td>23</td>\n",
       "      <td>6208</td>\n",
       "      <td>6208</td>\n",
       "      <td>719</td>\n",
       "      <td>0.032</td>\n",
       "      <td>1.210526</td>\n",
       "      <td>6208</td>\n",
       "      <td>719</td>\n",
       "      <td>0.032</td>\n",
       "    </tr>\n",
       "    <tr>\n",
       "      <td>1</td>\n",
       "      <td>2019-08-01</td>\n",
       "      <td>B</td>\n",
       "      <td>17</td>\n",
       "      <td>59758</td>\n",
       "      <td>17</td>\n",
       "      <td>59758</td>\n",
       "      <td>17</td>\n",
       "      <td>3515</td>\n",
       "      <td>3515</td>\n",
       "      <td>713</td>\n",
       "      <td>0.024</td>\n",
       "      <td>1.000000</td>\n",
       "      <td>3515</td>\n",
       "      <td>713</td>\n",
       "      <td>0.024</td>\n",
       "    </tr>\n",
       "    <tr>\n",
       "      <td>2</td>\n",
       "      <td>2019-08-02</td>\n",
       "      <td>A</td>\n",
       "      <td>18</td>\n",
       "      <td>91602</td>\n",
       "      <td>19</td>\n",
       "      <td>234381</td>\n",
       "      <td>42</td>\n",
       "      <td>4821</td>\n",
       "      <td>5580</td>\n",
       "      <td>619</td>\n",
       "      <td>0.031</td>\n",
       "      <td>1.055556</td>\n",
       "      <td>4821</td>\n",
       "      <td>1338</td>\n",
       "      <td>0.031</td>\n",
       "    </tr>\n",
       "    <tr>\n",
       "      <td>3</td>\n",
       "      <td>2019-08-02</td>\n",
       "      <td>B</td>\n",
       "      <td>22</td>\n",
       "      <td>162043</td>\n",
       "      <td>23</td>\n",
       "      <td>221801</td>\n",
       "      <td>40</td>\n",
       "      <td>7045</td>\n",
       "      <td>5545</td>\n",
       "      <td>581</td>\n",
       "      <td>0.040</td>\n",
       "      <td>1.045455</td>\n",
       "      <td>7045</td>\n",
       "      <td>1294</td>\n",
       "      <td>0.031</td>\n",
       "    </tr>\n",
       "    <tr>\n",
       "      <td>4</td>\n",
       "      <td>2019-08-03</td>\n",
       "      <td>A</td>\n",
       "      <td>24</td>\n",
       "      <td>112473</td>\n",
       "      <td>24</td>\n",
       "      <td>346854</td>\n",
       "      <td>66</td>\n",
       "      <td>4686</td>\n",
       "      <td>5255</td>\n",
       "      <td>507</td>\n",
       "      <td>0.047</td>\n",
       "      <td>1.000000</td>\n",
       "      <td>4686</td>\n",
       "      <td>1845</td>\n",
       "      <td>0.036</td>\n",
       "    </tr>\n",
       "    <tr>\n",
       "      <td>...</td>\n",
       "      <td>...</td>\n",
       "      <td>...</td>\n",
       "      <td>...</td>\n",
       "      <td>...</td>\n",
       "      <td>...</td>\n",
       "      <td>...</td>\n",
       "      <td>...</td>\n",
       "      <td>...</td>\n",
       "      <td>...</td>\n",
       "      <td>...</td>\n",
       "      <td>...</td>\n",
       "      <td>...</td>\n",
       "      <td>...</td>\n",
       "      <td>...</td>\n",
       "      <td>...</td>\n",
       "    </tr>\n",
       "    <tr>\n",
       "      <td>57</td>\n",
       "      <td>2019-08-29</td>\n",
       "      <td>B</td>\n",
       "      <td>15</td>\n",
       "      <td>106100</td>\n",
       "      <td>15</td>\n",
       "      <td>4746610</td>\n",
       "      <td>510</td>\n",
       "      <td>7073</td>\n",
       "      <td>9307</td>\n",
       "      <td>531</td>\n",
       "      <td>0.028</td>\n",
       "      <td>1.000000</td>\n",
       "      <td>7073</td>\n",
       "      <td>17708</td>\n",
       "      <td>0.029</td>\n",
       "    </tr>\n",
       "    <tr>\n",
       "      <td>58</td>\n",
       "      <td>2019-08-30</td>\n",
       "      <td>A</td>\n",
       "      <td>8</td>\n",
       "      <td>78180</td>\n",
       "      <td>9</td>\n",
       "      <td>3311413</td>\n",
       "      <td>460</td>\n",
       "      <td>8687</td>\n",
       "      <td>7199</td>\n",
       "      <td>490</td>\n",
       "      <td>0.018</td>\n",
       "      <td>1.125000</td>\n",
       "      <td>8687</td>\n",
       "      <td>18037</td>\n",
       "      <td>0.026</td>\n",
       "    </tr>\n",
       "    <tr>\n",
       "      <td>59</td>\n",
       "      <td>2019-08-30</td>\n",
       "      <td>B</td>\n",
       "      <td>21</td>\n",
       "      <td>209223</td>\n",
       "      <td>21</td>\n",
       "      <td>4955833</td>\n",
       "      <td>531</td>\n",
       "      <td>9963</td>\n",
       "      <td>9333</td>\n",
       "      <td>490</td>\n",
       "      <td>0.043</td>\n",
       "      <td>1.000000</td>\n",
       "      <td>9963</td>\n",
       "      <td>18198</td>\n",
       "      <td>0.029</td>\n",
       "    </tr>\n",
       "    <tr>\n",
       "      <td>60</td>\n",
       "      <td>2019-08-31</td>\n",
       "      <td>A</td>\n",
       "      <td>8</td>\n",
       "      <td>53243</td>\n",
       "      <td>8</td>\n",
       "      <td>3364656</td>\n",
       "      <td>468</td>\n",
       "      <td>6655</td>\n",
       "      <td>7189</td>\n",
       "      <td>699</td>\n",
       "      <td>0.011</td>\n",
       "      <td>1.000000</td>\n",
       "      <td>6655</td>\n",
       "      <td>18736</td>\n",
       "      <td>0.025</td>\n",
       "    </tr>\n",
       "    <tr>\n",
       "      <td>61</td>\n",
       "      <td>2019-08-31</td>\n",
       "      <td>B</td>\n",
       "      <td>17</td>\n",
       "      <td>113139</td>\n",
       "      <td>17</td>\n",
       "      <td>5068972</td>\n",
       "      <td>548</td>\n",
       "      <td>6655</td>\n",
       "      <td>9250</td>\n",
       "      <td>718</td>\n",
       "      <td>0.024</td>\n",
       "      <td>1.000000</td>\n",
       "      <td>6655</td>\n",
       "      <td>18916</td>\n",
       "      <td>0.029</td>\n",
       "    </tr>\n",
       "  </tbody>\n",
       "</table>\n",
       "<p>62 rows × 15 columns</p>\n",
       "</div>"
      ],
      "text/plain": [
       "         date group  buyers_number  rev_by_day  transaction_number  cum_rev  \\\n",
       "0  2019-08-01     A             19      142779                  23   142779   \n",
       "1  2019-08-01     B             17       59758                  17    59758   \n",
       "2  2019-08-02     A             18       91602                  19   234381   \n",
       "3  2019-08-02     B             22      162043                  23   221801   \n",
       "4  2019-08-03     A             24      112473                  24   346854   \n",
       "..        ...   ...            ...         ...                 ...      ...   \n",
       "57 2019-08-29     B             15      106100                  15  4746610   \n",
       "58 2019-08-30     A              8       78180                   9  3311413   \n",
       "59 2019-08-30     B             21      209223                  21  4955833   \n",
       "60 2019-08-31     A              8       53243                   8  3364656   \n",
       "61 2019-08-31     B             17      113139                  17  5068972   \n",
       "\n",
       "    cum_transactions  av_ch  cum_av_ch  visitors  conversion  \\\n",
       "0                 23   6208       6208       719       0.032   \n",
       "1                 17   3515       3515       713       0.024   \n",
       "2                 42   4821       5580       619       0.031   \n",
       "3                 40   7045       5545       581       0.040   \n",
       "4                 66   4686       5255       507       0.047   \n",
       "..               ...    ...        ...       ...         ...   \n",
       "57               510   7073       9307       531       0.028   \n",
       "58               460   8687       7199       490       0.018   \n",
       "59               531   9963       9333       490       0.043   \n",
       "60               468   6655       7189       699       0.011   \n",
       "61               548   6655       9250       718       0.024   \n",
       "\n",
       "    mean_transactions  mean_trans_cost  cum_visitors  cum_conversion  \n",
       "0            1.210526             6208           719           0.032  \n",
       "1            1.000000             3515           713           0.024  \n",
       "2            1.055556             4821          1338           0.031  \n",
       "3            1.045455             7045          1294           0.031  \n",
       "4            1.000000             4686          1845           0.036  \n",
       "..                ...              ...           ...             ...  \n",
       "57           1.000000             7073         17708           0.029  \n",
       "58           1.125000             8687         18037           0.026  \n",
       "59           1.000000             9963         18198           0.029  \n",
       "60           1.000000             6655         18736           0.025  \n",
       "61           1.000000             6655         18916           0.029  \n",
       "\n",
       "[62 rows x 15 columns]"
      ]
     },
     "execution_count": 60,
     "metadata": {},
     "output_type": "execute_result"
    }
   ],
   "source": [
    "ab_test"
   ]
  },
  {
   "cell_type": "code",
   "execution_count": 61,
   "metadata": {},
   "outputs": [],
   "source": [
    "# Создадим таблицу с кумулятивной конверсией по группам для дальнейшего построения графиков\n",
    "ab_test_conversion = ab_test[ab_test['group']=='A'][['date', 'cum_conversion','conversion']]\\\n",
    ".merge(ab_test[ab_test['group']=='B'][['date', 'cum_conversion', 'conversion']],\\\n",
    "       on='date', how='left', suffixes=['_a', '_b'])"
   ]
  },
  {
   "cell_type": "code",
   "execution_count": 62,
   "metadata": {},
   "outputs": [
    {
     "data": {
      "text/html": [
       "<div>\n",
       "<style scoped>\n",
       "    .dataframe tbody tr th:only-of-type {\n",
       "        vertical-align: middle;\n",
       "    }\n",
       "\n",
       "    .dataframe tbody tr th {\n",
       "        vertical-align: top;\n",
       "    }\n",
       "\n",
       "    .dataframe thead th {\n",
       "        text-align: right;\n",
       "    }\n",
       "</style>\n",
       "<table border=\"1\" class=\"dataframe\">\n",
       "  <thead>\n",
       "    <tr style=\"text-align: right;\">\n",
       "      <th></th>\n",
       "      <th>date</th>\n",
       "      <th>cum_conversion_a</th>\n",
       "      <th>conversion_a</th>\n",
       "      <th>cum_conversion_b</th>\n",
       "      <th>conversion_b</th>\n",
       "    </tr>\n",
       "  </thead>\n",
       "  <tbody>\n",
       "    <tr>\n",
       "      <td>0</td>\n",
       "      <td>2019-08-01</td>\n",
       "      <td>0.032</td>\n",
       "      <td>0.032</td>\n",
       "      <td>0.024</td>\n",
       "      <td>0.024</td>\n",
       "    </tr>\n",
       "    <tr>\n",
       "      <td>1</td>\n",
       "      <td>2019-08-02</td>\n",
       "      <td>0.031</td>\n",
       "      <td>0.031</td>\n",
       "      <td>0.031</td>\n",
       "      <td>0.040</td>\n",
       "    </tr>\n",
       "    <tr>\n",
       "      <td>2</td>\n",
       "      <td>2019-08-03</td>\n",
       "      <td>0.036</td>\n",
       "      <td>0.047</td>\n",
       "      <td>0.030</td>\n",
       "      <td>0.028</td>\n",
       "    </tr>\n",
       "    <tr>\n",
       "      <td>3</td>\n",
       "      <td>2019-08-04</td>\n",
       "      <td>0.030</td>\n",
       "      <td>0.015</td>\n",
       "      <td>0.026</td>\n",
       "      <td>0.018</td>\n",
       "    </tr>\n",
       "    <tr>\n",
       "      <td>4</td>\n",
       "      <td>2019-08-05</td>\n",
       "      <td>0.030</td>\n",
       "      <td>0.029</td>\n",
       "      <td>0.027</td>\n",
       "      <td>0.030</td>\n",
       "    </tr>\n",
       "  </tbody>\n",
       "</table>\n",
       "</div>"
      ],
      "text/plain": [
       "        date  cum_conversion_a  conversion_a  cum_conversion_b  conversion_b\n",
       "0 2019-08-01             0.032         0.032             0.024         0.024\n",
       "1 2019-08-02             0.031         0.031             0.031         0.040\n",
       "2 2019-08-03             0.036         0.047             0.030         0.028\n",
       "3 2019-08-04             0.030         0.015             0.026         0.018\n",
       "4 2019-08-05             0.030         0.029             0.027         0.030"
      ]
     },
     "execution_count": 62,
     "metadata": {},
     "output_type": "execute_result"
    }
   ],
   "source": [
    "ab_test_conversion.head()"
   ]
  },
  {
   "cell_type": "code",
   "execution_count": 63,
   "metadata": {},
   "outputs": [
    {
     "data": {
      "image/png": "[encoded data removed]",
      "text/plain": [
       "<Figure size 1440x720 with 1 Axes>"
      ]
     },
     "metadata": {
      "needs_background": "light"
     },
     "output_type": "display_data"
    }
   ],
   "source": [
    "plt.subplots(figsize=(20, 10))\n",
    "plt.plot(ab_test_conversion['date'], ab_test_conversion['cum_conversion_a'], label='A')\n",
    "plt.plot(ab_test_conversion['date'], ab_test_conversion['cum_conversion_b'], label='B')\n",
    "plt.legend()\n",
    "plt.xticks(ab_test_conversion['date'], rotation =90)\n",
    "plt.grid()\n",
    "plt.title('Кумулятивная конверсия по группам', fontsize=20)\n",
    "plt.xlabel('Даты', fontsize=20)\n",
    "plt.ylabel('Процентное изменение группы B к группе A', fontsize=20)\n",
    "plt.show()"
   ]
  },
  {
   "cell_type": "markdown",
   "metadata": {},
   "source": [
    "Конверсия группы B с 6 на 7 числа пересекается с группой A и продолжает свой рост до 10 числа. И далее группа B стабильно сохраняет значение в 29 - 31 процент. Группа A к 8 числу устанавливает уровень конверсии в 25 - 26 процентов. Группа A к третьему числу достигает своего пика в 36 процентов и затем падает вплоть до 9 числа, где и устанавливает свой стабильный уровень."
   ]
  },
  {
   "cell_type": "code",
   "execution_count": 64,
   "metadata": {},
   "outputs": [
    {
     "data": {
      "image/png": "[encoded data removed]",
      "text/plain": [
       "<Figure size 1440x720 with 1 Axes>"
      ]
     },
     "metadata": {
      "needs_background": "light"
     },
     "output_type": "display_data"
    }
   ],
   "source": [
    "plt.subplots(figsize=(20, 10))\n",
    "plt.plot(ab_test_conversion['date'], ab_test_conversion['cum_conversion_b'] / ab_test_conversion['cum_conversion_a']-1)\n",
    "plt.xticks(ab_test_conversion['date'], rotation = 90)\n",
    "plt.grid()\n",
    "plt.title('Кумулятивная конверсия группы B к группе A', fontsize=20)\n",
    "plt.axhline(y=0, linestyle='--', color='black')\n",
    "plt.xlabel('Даты', fontsize=20)\n",
    "plt.ylabel('Процентное изменение группы B к группе A', fontsize=20)\n",
    "plt.show()"
   ]
  },
  {
   "cell_type": "markdown",
   "metadata": {},
   "source": [
    "Картина с 6 на 7 числа подтверждается. И с 9 числа конверсия группы B превышает конверсию группы A 10 - 20 процентов до конца месяца, с одной пиковой точкой 17 числа, превышающей отметку в 20 процентов."
   ]
  },
  {
   "cell_type": "markdown",
   "metadata": {},
   "source": [
    "### Точечный график количества заказов по пользователям и перцентили заказов"
   ]
  },
  {
   "cell_type": "code",
   "execution_count": 65,
   "metadata": {
    "scrolled": true
   },
   "outputs": [
    {
     "data": {
      "text/html": [
       "<div>\n",
       "<style scoped>\n",
       "    .dataframe tbody tr th:only-of-type {\n",
       "        vertical-align: middle;\n",
       "    }\n",
       "\n",
       "    .dataframe tbody tr th {\n",
       "        vertical-align: top;\n",
       "    }\n",
       "\n",
       "    .dataframe thead th {\n",
       "        text-align: right;\n",
       "    }\n",
       "</style>\n",
       "<table border=\"1\" class=\"dataframe\">\n",
       "  <thead>\n",
       "    <tr style=\"text-align: right;\">\n",
       "      <th></th>\n",
       "      <th>transaction_id</th>\n",
       "      <th>visitor_id</th>\n",
       "      <th>date</th>\n",
       "      <th>revenue</th>\n",
       "      <th>group</th>\n",
       "    </tr>\n",
       "  </thead>\n",
       "  <tbody>\n",
       "    <tr>\n",
       "      <td>0</td>\n",
       "      <td>3667963787</td>\n",
       "      <td>3312258926</td>\n",
       "      <td>2019-08-15</td>\n",
       "      <td>1650</td>\n",
       "      <td>B</td>\n",
       "    </tr>\n",
       "    <tr>\n",
       "      <td>1</td>\n",
       "      <td>2804400009</td>\n",
       "      <td>3642806036</td>\n",
       "      <td>2019-08-15</td>\n",
       "      <td>730</td>\n",
       "      <td>B</td>\n",
       "    </tr>\n",
       "    <tr>\n",
       "      <td>3</td>\n",
       "      <td>3797467345</td>\n",
       "      <td>1196621759</td>\n",
       "      <td>2019-08-15</td>\n",
       "      <td>9759</td>\n",
       "      <td>B</td>\n",
       "    </tr>\n",
       "    <tr>\n",
       "      <td>4</td>\n",
       "      <td>2282983706</td>\n",
       "      <td>2322279887</td>\n",
       "      <td>2019-08-15</td>\n",
       "      <td>2308</td>\n",
       "      <td>B</td>\n",
       "    </tr>\n",
       "    <tr>\n",
       "      <td>5</td>\n",
       "      <td>182168103</td>\n",
       "      <td>935554773</td>\n",
       "      <td>2019-08-15</td>\n",
       "      <td>2210</td>\n",
       "      <td>B</td>\n",
       "    </tr>\n",
       "    <tr>\n",
       "      <td>...</td>\n",
       "      <td>...</td>\n",
       "      <td>...</td>\n",
       "      <td>...</td>\n",
       "      <td>...</td>\n",
       "      <td>...</td>\n",
       "    </tr>\n",
       "    <tr>\n",
       "      <td>1191</td>\n",
       "      <td>3592955527</td>\n",
       "      <td>608641596</td>\n",
       "      <td>2019-08-14</td>\n",
       "      <td>16490</td>\n",
       "      <td>B</td>\n",
       "    </tr>\n",
       "    <tr>\n",
       "      <td>1192</td>\n",
       "      <td>2662137336</td>\n",
       "      <td>3733762160</td>\n",
       "      <td>2019-08-14</td>\n",
       "      <td>6490</td>\n",
       "      <td>B</td>\n",
       "    </tr>\n",
       "    <tr>\n",
       "      <td>1193</td>\n",
       "      <td>2203539145</td>\n",
       "      <td>370388673</td>\n",
       "      <td>2019-08-14</td>\n",
       "      <td>3190</td>\n",
       "      <td>A</td>\n",
       "    </tr>\n",
       "    <tr>\n",
       "      <td>1194</td>\n",
       "      <td>1807773912</td>\n",
       "      <td>573423106</td>\n",
       "      <td>2019-08-14</td>\n",
       "      <td>10550</td>\n",
       "      <td>A</td>\n",
       "    </tr>\n",
       "    <tr>\n",
       "      <td>1196</td>\n",
       "      <td>3936777065</td>\n",
       "      <td>2108080724</td>\n",
       "      <td>2019-08-15</td>\n",
       "      <td>202740</td>\n",
       "      <td>B</td>\n",
       "    </tr>\n",
       "  </tbody>\n",
       "</table>\n",
       "<p>1016 rows × 5 columns</p>\n",
       "</div>"
      ],
      "text/plain": [
       "      transaction_id  visitor_id       date  revenue group\n",
       "0         3667963787  3312258926 2019-08-15     1650     B\n",
       "1         2804400009  3642806036 2019-08-15      730     B\n",
       "3         3797467345  1196621759 2019-08-15     9759     B\n",
       "4         2282983706  2322279887 2019-08-15     2308     B\n",
       "5          182168103   935554773 2019-08-15     2210     B\n",
       "...              ...         ...        ...      ...   ...\n",
       "1191      3592955527   608641596 2019-08-14    16490     B\n",
       "1192      2662137336  3733762160 2019-08-14     6490     B\n",
       "1193      2203539145   370388673 2019-08-14     3190     A\n",
       "1194      1807773912   573423106 2019-08-14    10550     A\n",
       "1196      3936777065  2108080724 2019-08-15   202740     B\n",
       "\n",
       "[1016 rows x 5 columns]"
      ]
     },
     "execution_count": 65,
     "metadata": {},
     "output_type": "execute_result"
    }
   ],
   "source": [
    "order_clean"
   ]
  },
  {
   "cell_type": "code",
   "execution_count": 66,
   "metadata": {},
   "outputs": [],
   "source": [
    "orders_by_users = order_clean.groupby('visitor_id')['transaction_id'].nunique().reset_index()\n",
    "orders_by_users.columns = ['visitor_id', 'n_transactions']"
   ]
  },
  {
   "cell_type": "code",
   "execution_count": 67,
   "metadata": {
    "scrolled": false
   },
   "outputs": [
    {
     "data": {
      "image/png": "[encoded data removed]",
      "text/plain": [
       "<Figure size 720x720 with 1 Axes>"
      ]
     },
     "metadata": {
      "needs_background": "light"
     },
     "output_type": "display_data"
    }
   ],
   "source": [
    "len_ord = pd.Series(range(0, len(orders_by_users['n_transactions'])))\n",
    "plt.subplots(figsize=(10, 10))\n",
    "plt.scatter(len_ord, orders_by_users['n_transactions'], alpha=0.3)\n",
    "plt.title('Количество заказов на пользователя', fontsize=22)\n",
    "plt.xlabel('Количество пользователей', fontsize=20)\n",
    "plt.ylabel('Количество заказов', fontsize=20)\n",
    "plt.show()"
   ]
  },
  {
   "cell_type": "markdown",
   "metadata": {},
   "source": [
    "Большинство пользователей сделали один заказ. Небольшое количество пользователей сделали 2 заказа, а 3 заказа единичны."
   ]
  },
  {
   "cell_type": "code",
   "execution_count": 68,
   "metadata": {},
   "outputs": [
    {
     "name": "stdout",
     "output_type": "stream",
     "text": [
      "[1. 2.]\n"
     ]
    }
   ],
   "source": [
    "print(np.percentile(orders_by_users['n_transactions'], [95, 99]))"
   ]
  },
  {
   "cell_type": "markdown",
   "metadata": {},
   "source": [
    "99 перцентиль - 2 заказа. Возьмём 1 заказ за границу "
   ]
  },
  {
   "cell_type": "markdown",
   "metadata": {},
   "source": [
    "Построим "
   ]
  },
  {
   "cell_type": "code",
   "execution_count": 69,
   "metadata": {},
   "outputs": [
    {
     "data": {
      "image/png": "[encoded data removed]",
      "text/plain": [
       "<Figure size 720x720 with 1 Axes>"
      ]
     },
     "metadata": {
      "needs_background": "light"
     },
     "output_type": "display_data"
    }
   ],
   "source": [
    "len_rev = pd.Series(range(0, len(order_clean['revenue'])))\n",
    "plt.subplots(figsize=(10, 10))\n",
    "plt.scatter(len_rev, order_clean['revenue'], alpha=0.2)\n",
    "plt.title('Стоимость заказов на пользователя', fontsize=22)\n",
    "plt.xlabel('Количество пользователей', fontsize=20)\n",
    "plt.ylabel('Стоимость заказов', fontsize=20)\n",
    "plt.show()"
   ]
  },
  {
   "cell_type": "markdown",
   "metadata": {},
   "source": [
    "Большинство значений укладываются в 100000. Посмотрим более детально"
   ]
  },
  {
   "cell_type": "code",
   "execution_count": 70,
   "metadata": {},
   "outputs": [
    {
     "data": {
      "image/png": "[encoded data removed]",
      "text/plain": [
       "<Figure size 720x720 with 1 Axes>"
      ]
     },
     "metadata": {
      "needs_background": "light"
     },
     "output_type": "display_data"
    }
   ],
   "source": [
    "plt.subplots(figsize=(10, 10))\n",
    "plt.scatter(len_rev, order_clean['revenue'], alpha=0.2)\n",
    "plt.ylim(0, 100000)\n",
    "plt.title('Стоимость заказов на пользователя', fontsize=22)\n",
    "plt.xlabel('Количество пользователей', fontsize=20)\n",
    "plt.ylabel('Стоимость заказов', fontsize=20)\n",
    "plt.show()"
   ]
  },
  {
   "cell_type": "code",
   "execution_count": 71,
   "metadata": {},
   "outputs": [
    {
     "name": "stdout",
     "output_type": "stream",
     "text": [
      "[26785. 53904.]\n"
     ]
    }
   ],
   "source": [
    "print(np.percentile(order_clean['revenue'], [95, 99]))"
   ]
  },
  {
   "cell_type": "markdown",
   "metadata": {},
   "source": [
    "95 перцентиль - 26785, а на графике видим достаточно мало значений уже после 30000. Последнее число и возьмём за границу перед выбросами"
   ]
  },
  {
   "cell_type": "markdown",
   "metadata": {},
   "source": [
    "### Статистическая значимость различий конверсии сырых данных"
   ]
  },
  {
   "cell_type": "markdown",
   "metadata": {},
   "source": [
    "Необходимо проверить следующие гипотезы:\n",
    "\n",
    "\n",
    "    1. Конверсии групп A и B различаются\n",
    "        \n",
    "    2. Средний чек групп A и B различаются"
   ]
  },
  {
   "cell_type": "code",
   "execution_count": 72,
   "metadata": {
    "scrolled": true
   },
   "outputs": [
    {
     "data": {
      "text/html": [
       "<div>\n",
       "<style scoped>\n",
       "    .dataframe tbody tr th:only-of-type {\n",
       "        vertical-align: middle;\n",
       "    }\n",
       "\n",
       "    .dataframe tbody tr th {\n",
       "        vertical-align: top;\n",
       "    }\n",
       "\n",
       "    .dataframe thead th {\n",
       "        text-align: right;\n",
       "    }\n",
       "</style>\n",
       "<table border=\"1\" class=\"dataframe\">\n",
       "  <thead>\n",
       "    <tr style=\"text-align: right;\">\n",
       "      <th></th>\n",
       "      <th>date</th>\n",
       "      <th>group_a</th>\n",
       "      <th>av_ch_a</th>\n",
       "      <th>cum_av_ch_a</th>\n",
       "      <th>group_b</th>\n",
       "      <th>av_ch_b</th>\n",
       "      <th>cum_av_ch_b</th>\n",
       "      <th>cum_av_ch_a_to_b</th>\n",
       "    </tr>\n",
       "  </thead>\n",
       "  <tbody>\n",
       "    <tr>\n",
       "      <td>0</td>\n",
       "      <td>2019-08-01</td>\n",
       "      <td>A</td>\n",
       "      <td>6208</td>\n",
       "      <td>6208</td>\n",
       "      <td>B</td>\n",
       "      <td>3515</td>\n",
       "      <td>3515</td>\n",
       "      <td>-0.43</td>\n",
       "    </tr>\n",
       "    <tr>\n",
       "      <td>1</td>\n",
       "      <td>2019-08-02</td>\n",
       "      <td>A</td>\n",
       "      <td>4821</td>\n",
       "      <td>5580</td>\n",
       "      <td>B</td>\n",
       "      <td>7045</td>\n",
       "      <td>5545</td>\n",
       "      <td>-0.01</td>\n",
       "    </tr>\n",
       "    <tr>\n",
       "      <td>2</td>\n",
       "      <td>2019-08-03</td>\n",
       "      <td>A</td>\n",
       "      <td>4686</td>\n",
       "      <td>5255</td>\n",
       "      <td>B</td>\n",
       "      <td>4789</td>\n",
       "      <td>5349</td>\n",
       "      <td>0.02</td>\n",
       "    </tr>\n",
       "    <tr>\n",
       "      <td>3</td>\n",
       "      <td>2019-08-04</td>\n",
       "      <td>A</td>\n",
       "      <td>3743</td>\n",
       "      <td>5039</td>\n",
       "      <td>B</td>\n",
       "      <td>6921</td>\n",
       "      <td>5673</td>\n",
       "      <td>0.13</td>\n",
       "    </tr>\n",
       "    <tr>\n",
       "      <td>4</td>\n",
       "      <td>2019-08-05</td>\n",
       "      <td>A</td>\n",
       "      <td>3926</td>\n",
       "      <td>4792</td>\n",
       "      <td>B</td>\n",
       "      <td>4281</td>\n",
       "      <td>5344</td>\n",
       "      <td>0.12</td>\n",
       "    </tr>\n",
       "  </tbody>\n",
       "</table>\n",
       "</div>"
      ],
      "text/plain": [
       "        date group_a  av_ch_a  cum_av_ch_a group_b  av_ch_b  cum_av_ch_b  \\\n",
       "0 2019-08-01       A     6208         6208       B     3515         3515   \n",
       "1 2019-08-02       A     4821         5580       B     7045         5545   \n",
       "2 2019-08-03       A     4686         5255       B     4789         5349   \n",
       "3 2019-08-04       A     3743         5039       B     6921         5673   \n",
       "4 2019-08-05       A     3926         4792       B     4281         5344   \n",
       "\n",
       "   cum_av_ch_a_to_b  \n",
       "0             -0.43  \n",
       "1             -0.01  \n",
       "2              0.02  \n",
       "3              0.13  \n",
       "4              0.12  "
      ]
     },
     "execution_count": 72,
     "metadata": {},
     "output_type": "execute_result"
    }
   ],
   "source": [
    "# Средний чек по группам\n",
    "av_ch_a_b.head()"
   ]
  },
  {
   "cell_type": "code",
   "execution_count": 73,
   "metadata": {},
   "outputs": [
    {
     "data": {
      "text/html": [
       "<div>\n",
       "<style scoped>\n",
       "    .dataframe tbody tr th:only-of-type {\n",
       "        vertical-align: middle;\n",
       "    }\n",
       "\n",
       "    .dataframe tbody tr th {\n",
       "        vertical-align: top;\n",
       "    }\n",
       "\n",
       "    .dataframe thead th {\n",
       "        text-align: right;\n",
       "    }\n",
       "</style>\n",
       "<table border=\"1\" class=\"dataframe\">\n",
       "  <thead>\n",
       "    <tr style=\"text-align: right;\">\n",
       "      <th></th>\n",
       "      <th>transaction_id</th>\n",
       "      <th>visitor_id</th>\n",
       "      <th>date</th>\n",
       "      <th>revenue</th>\n",
       "      <th>group</th>\n",
       "    </tr>\n",
       "  </thead>\n",
       "  <tbody>\n",
       "    <tr>\n",
       "      <td>0</td>\n",
       "      <td>3667963787</td>\n",
       "      <td>3312258926</td>\n",
       "      <td>2019-08-15</td>\n",
       "      <td>1650</td>\n",
       "      <td>B</td>\n",
       "    </tr>\n",
       "    <tr>\n",
       "      <td>1</td>\n",
       "      <td>2804400009</td>\n",
       "      <td>3642806036</td>\n",
       "      <td>2019-08-15</td>\n",
       "      <td>730</td>\n",
       "      <td>B</td>\n",
       "    </tr>\n",
       "    <tr>\n",
       "      <td>3</td>\n",
       "      <td>3797467345</td>\n",
       "      <td>1196621759</td>\n",
       "      <td>2019-08-15</td>\n",
       "      <td>9759</td>\n",
       "      <td>B</td>\n",
       "    </tr>\n",
       "    <tr>\n",
       "      <td>4</td>\n",
       "      <td>2282983706</td>\n",
       "      <td>2322279887</td>\n",
       "      <td>2019-08-15</td>\n",
       "      <td>2308</td>\n",
       "      <td>B</td>\n",
       "    </tr>\n",
       "    <tr>\n",
       "      <td>5</td>\n",
       "      <td>182168103</td>\n",
       "      <td>935554773</td>\n",
       "      <td>2019-08-15</td>\n",
       "      <td>2210</td>\n",
       "      <td>B</td>\n",
       "    </tr>\n",
       "    <tr>\n",
       "      <td>...</td>\n",
       "      <td>...</td>\n",
       "      <td>...</td>\n",
       "      <td>...</td>\n",
       "      <td>...</td>\n",
       "      <td>...</td>\n",
       "    </tr>\n",
       "    <tr>\n",
       "      <td>1191</td>\n",
       "      <td>3592955527</td>\n",
       "      <td>608641596</td>\n",
       "      <td>2019-08-14</td>\n",
       "      <td>16490</td>\n",
       "      <td>B</td>\n",
       "    </tr>\n",
       "    <tr>\n",
       "      <td>1192</td>\n",
       "      <td>2662137336</td>\n",
       "      <td>3733762160</td>\n",
       "      <td>2019-08-14</td>\n",
       "      <td>6490</td>\n",
       "      <td>B</td>\n",
       "    </tr>\n",
       "    <tr>\n",
       "      <td>1193</td>\n",
       "      <td>2203539145</td>\n",
       "      <td>370388673</td>\n",
       "      <td>2019-08-14</td>\n",
       "      <td>3190</td>\n",
       "      <td>A</td>\n",
       "    </tr>\n",
       "    <tr>\n",
       "      <td>1194</td>\n",
       "      <td>1807773912</td>\n",
       "      <td>573423106</td>\n",
       "      <td>2019-08-14</td>\n",
       "      <td>10550</td>\n",
       "      <td>A</td>\n",
       "    </tr>\n",
       "    <tr>\n",
       "      <td>1196</td>\n",
       "      <td>3936777065</td>\n",
       "      <td>2108080724</td>\n",
       "      <td>2019-08-15</td>\n",
       "      <td>202740</td>\n",
       "      <td>B</td>\n",
       "    </tr>\n",
       "  </tbody>\n",
       "</table>\n",
       "<p>1016 rows × 5 columns</p>\n",
       "</div>"
      ],
      "text/plain": [
       "      transaction_id  visitor_id       date  revenue group\n",
       "0         3667963787  3312258926 2019-08-15     1650     B\n",
       "1         2804400009  3642806036 2019-08-15      730     B\n",
       "3         3797467345  1196621759 2019-08-15     9759     B\n",
       "4         2282983706  2322279887 2019-08-15     2308     B\n",
       "5          182168103   935554773 2019-08-15     2210     B\n",
       "...              ...         ...        ...      ...   ...\n",
       "1191      3592955527   608641596 2019-08-14    16490     B\n",
       "1192      2662137336  3733762160 2019-08-14     6490     B\n",
       "1193      2203539145   370388673 2019-08-14     3190     A\n",
       "1194      1807773912   573423106 2019-08-14    10550     A\n",
       "1196      3936777065  2108080724 2019-08-15   202740     B\n",
       "\n",
       "[1016 rows x 5 columns]"
      ]
     },
     "execution_count": 73,
     "metadata": {},
     "output_type": "execute_result"
    }
   ],
   "source": [
    "order_clean"
   ]
  },
  {
   "cell_type": "code",
   "execution_count": 74,
   "metadata": {
    "scrolled": true
   },
   "outputs": [
    {
     "data": {
      "text/html": [
       "<div>\n",
       "<style scoped>\n",
       "    .dataframe tbody tr th:only-of-type {\n",
       "        vertical-align: middle;\n",
       "    }\n",
       "\n",
       "    .dataframe tbody tr th {\n",
       "        vertical-align: top;\n",
       "    }\n",
       "\n",
       "    .dataframe thead th {\n",
       "        text-align: right;\n",
       "    }\n",
       "</style>\n",
       "<table border=\"1\" class=\"dataframe\">\n",
       "  <thead>\n",
       "    <tr style=\"text-align: right;\">\n",
       "      <th></th>\n",
       "      <th>date</th>\n",
       "      <th>group</th>\n",
       "      <th>buyers_number</th>\n",
       "      <th>rev_by_day</th>\n",
       "      <th>transaction_number</th>\n",
       "      <th>cum_rev</th>\n",
       "      <th>cum_transactions</th>\n",
       "      <th>av_ch</th>\n",
       "      <th>cum_av_ch</th>\n",
       "      <th>visitors</th>\n",
       "      <th>conversion</th>\n",
       "      <th>mean_transactions</th>\n",
       "      <th>mean_trans_cost</th>\n",
       "      <th>cum_visitors</th>\n",
       "      <th>cum_conversion</th>\n",
       "    </tr>\n",
       "  </thead>\n",
       "  <tbody>\n",
       "    <tr>\n",
       "      <td>0</td>\n",
       "      <td>2019-08-01</td>\n",
       "      <td>A</td>\n",
       "      <td>19</td>\n",
       "      <td>142779</td>\n",
       "      <td>23</td>\n",
       "      <td>142779</td>\n",
       "      <td>23</td>\n",
       "      <td>6208</td>\n",
       "      <td>6208</td>\n",
       "      <td>719</td>\n",
       "      <td>0.032</td>\n",
       "      <td>1.210526</td>\n",
       "      <td>6208</td>\n",
       "      <td>719</td>\n",
       "      <td>0.032</td>\n",
       "    </tr>\n",
       "    <tr>\n",
       "      <td>1</td>\n",
       "      <td>2019-08-01</td>\n",
       "      <td>B</td>\n",
       "      <td>17</td>\n",
       "      <td>59758</td>\n",
       "      <td>17</td>\n",
       "      <td>59758</td>\n",
       "      <td>17</td>\n",
       "      <td>3515</td>\n",
       "      <td>3515</td>\n",
       "      <td>713</td>\n",
       "      <td>0.024</td>\n",
       "      <td>1.000000</td>\n",
       "      <td>3515</td>\n",
       "      <td>713</td>\n",
       "      <td>0.024</td>\n",
       "    </tr>\n",
       "    <tr>\n",
       "      <td>2</td>\n",
       "      <td>2019-08-02</td>\n",
       "      <td>A</td>\n",
       "      <td>18</td>\n",
       "      <td>91602</td>\n",
       "      <td>19</td>\n",
       "      <td>234381</td>\n",
       "      <td>42</td>\n",
       "      <td>4821</td>\n",
       "      <td>5580</td>\n",
       "      <td>619</td>\n",
       "      <td>0.031</td>\n",
       "      <td>1.055556</td>\n",
       "      <td>4821</td>\n",
       "      <td>1338</td>\n",
       "      <td>0.031</td>\n",
       "    </tr>\n",
       "    <tr>\n",
       "      <td>3</td>\n",
       "      <td>2019-08-02</td>\n",
       "      <td>B</td>\n",
       "      <td>22</td>\n",
       "      <td>162043</td>\n",
       "      <td>23</td>\n",
       "      <td>221801</td>\n",
       "      <td>40</td>\n",
       "      <td>7045</td>\n",
       "      <td>5545</td>\n",
       "      <td>581</td>\n",
       "      <td>0.040</td>\n",
       "      <td>1.045455</td>\n",
       "      <td>7045</td>\n",
       "      <td>1294</td>\n",
       "      <td>0.031</td>\n",
       "    </tr>\n",
       "    <tr>\n",
       "      <td>4</td>\n",
       "      <td>2019-08-03</td>\n",
       "      <td>A</td>\n",
       "      <td>24</td>\n",
       "      <td>112473</td>\n",
       "      <td>24</td>\n",
       "      <td>346854</td>\n",
       "      <td>66</td>\n",
       "      <td>4686</td>\n",
       "      <td>5255</td>\n",
       "      <td>507</td>\n",
       "      <td>0.047</td>\n",
       "      <td>1.000000</td>\n",
       "      <td>4686</td>\n",
       "      <td>1845</td>\n",
       "      <td>0.036</td>\n",
       "    </tr>\n",
       "    <tr>\n",
       "      <td>...</td>\n",
       "      <td>...</td>\n",
       "      <td>...</td>\n",
       "      <td>...</td>\n",
       "      <td>...</td>\n",
       "      <td>...</td>\n",
       "      <td>...</td>\n",
       "      <td>...</td>\n",
       "      <td>...</td>\n",
       "      <td>...</td>\n",
       "      <td>...</td>\n",
       "      <td>...</td>\n",
       "      <td>...</td>\n",
       "      <td>...</td>\n",
       "      <td>...</td>\n",
       "      <td>...</td>\n",
       "    </tr>\n",
       "    <tr>\n",
       "      <td>57</td>\n",
       "      <td>2019-08-29</td>\n",
       "      <td>B</td>\n",
       "      <td>15</td>\n",
       "      <td>106100</td>\n",
       "      <td>15</td>\n",
       "      <td>4746610</td>\n",
       "      <td>510</td>\n",
       "      <td>7073</td>\n",
       "      <td>9307</td>\n",
       "      <td>531</td>\n",
       "      <td>0.028</td>\n",
       "      <td>1.000000</td>\n",
       "      <td>7073</td>\n",
       "      <td>17708</td>\n",
       "      <td>0.029</td>\n",
       "    </tr>\n",
       "    <tr>\n",
       "      <td>58</td>\n",
       "      <td>2019-08-30</td>\n",
       "      <td>A</td>\n",
       "      <td>8</td>\n",
       "      <td>78180</td>\n",
       "      <td>9</td>\n",
       "      <td>3311413</td>\n",
       "      <td>460</td>\n",
       "      <td>8687</td>\n",
       "      <td>7199</td>\n",
       "      <td>490</td>\n",
       "      <td>0.018</td>\n",
       "      <td>1.125000</td>\n",
       "      <td>8687</td>\n",
       "      <td>18037</td>\n",
       "      <td>0.026</td>\n",
       "    </tr>\n",
       "    <tr>\n",
       "      <td>59</td>\n",
       "      <td>2019-08-30</td>\n",
       "      <td>B</td>\n",
       "      <td>21</td>\n",
       "      <td>209223</td>\n",
       "      <td>21</td>\n",
       "      <td>4955833</td>\n",
       "      <td>531</td>\n",
       "      <td>9963</td>\n",
       "      <td>9333</td>\n",
       "      <td>490</td>\n",
       "      <td>0.043</td>\n",
       "      <td>1.000000</td>\n",
       "      <td>9963</td>\n",
       "      <td>18198</td>\n",
       "      <td>0.029</td>\n",
       "    </tr>\n",
       "    <tr>\n",
       "      <td>60</td>\n",
       "      <td>2019-08-31</td>\n",
       "      <td>A</td>\n",
       "      <td>8</td>\n",
       "      <td>53243</td>\n",
       "      <td>8</td>\n",
       "      <td>3364656</td>\n",
       "      <td>468</td>\n",
       "      <td>6655</td>\n",
       "      <td>7189</td>\n",
       "      <td>699</td>\n",
       "      <td>0.011</td>\n",
       "      <td>1.000000</td>\n",
       "      <td>6655</td>\n",
       "      <td>18736</td>\n",
       "      <td>0.025</td>\n",
       "    </tr>\n",
       "    <tr>\n",
       "      <td>61</td>\n",
       "      <td>2019-08-31</td>\n",
       "      <td>B</td>\n",
       "      <td>17</td>\n",
       "      <td>113139</td>\n",
       "      <td>17</td>\n",
       "      <td>5068972</td>\n",
       "      <td>548</td>\n",
       "      <td>6655</td>\n",
       "      <td>9250</td>\n",
       "      <td>718</td>\n",
       "      <td>0.024</td>\n",
       "      <td>1.000000</td>\n",
       "      <td>6655</td>\n",
       "      <td>18916</td>\n",
       "      <td>0.029</td>\n",
       "    </tr>\n",
       "  </tbody>\n",
       "</table>\n",
       "<p>62 rows × 15 columns</p>\n",
       "</div>"
      ],
      "text/plain": [
       "         date group  buyers_number  rev_by_day  transaction_number  cum_rev  \\\n",
       "0  2019-08-01     A             19      142779                  23   142779   \n",
       "1  2019-08-01     B             17       59758                  17    59758   \n",
       "2  2019-08-02     A             18       91602                  19   234381   \n",
       "3  2019-08-02     B             22      162043                  23   221801   \n",
       "4  2019-08-03     A             24      112473                  24   346854   \n",
       "..        ...   ...            ...         ...                 ...      ...   \n",
       "57 2019-08-29     B             15      106100                  15  4746610   \n",
       "58 2019-08-30     A              8       78180                   9  3311413   \n",
       "59 2019-08-30     B             21      209223                  21  4955833   \n",
       "60 2019-08-31     A              8       53243                   8  3364656   \n",
       "61 2019-08-31     B             17      113139                  17  5068972   \n",
       "\n",
       "    cum_transactions  av_ch  cum_av_ch  visitors  conversion  \\\n",
       "0                 23   6208       6208       719       0.032   \n",
       "1                 17   3515       3515       713       0.024   \n",
       "2                 42   4821       5580       619       0.031   \n",
       "3                 40   7045       5545       581       0.040   \n",
       "4                 66   4686       5255       507       0.047   \n",
       "..               ...    ...        ...       ...         ...   \n",
       "57               510   7073       9307       531       0.028   \n",
       "58               460   8687       7199       490       0.018   \n",
       "59               531   9963       9333       490       0.043   \n",
       "60               468   6655       7189       699       0.011   \n",
       "61               548   6655       9250       718       0.024   \n",
       "\n",
       "    mean_transactions  mean_trans_cost  cum_visitors  cum_conversion  \n",
       "0            1.210526             6208           719           0.032  \n",
       "1            1.000000             3515           713           0.024  \n",
       "2            1.055556             4821          1338           0.031  \n",
       "3            1.045455             7045          1294           0.031  \n",
       "4            1.000000             4686          1845           0.036  \n",
       "..                ...              ...           ...             ...  \n",
       "57           1.000000             7073         17708           0.029  \n",
       "58           1.125000             8687         18037           0.026  \n",
       "59           1.000000             9963         18198           0.029  \n",
       "60           1.000000             6655         18736           0.025  \n",
       "61           1.000000             6655         18916           0.029  \n",
       "\n",
       "[62 rows x 15 columns]"
      ]
     },
     "execution_count": 74,
     "metadata": {},
     "output_type": "execute_result"
    }
   ],
   "source": [
    "ab_test"
   ]
  },
  {
   "cell_type": "markdown",
   "metadata": {},
   "source": [
    "Для статистического анализа конверсии создадим переменные sample_a и sample_b, в которых пользователям из разных групп будет соотвествовать количество заказов. Для создания этих переменных нам нужны данные о количестве посетителей по группам и данные о количестве заказов по каждому покупателю"
   ]
  },
  {
   "cell_type": "code",
   "execution_count": 75,
   "metadata": {},
   "outputs": [],
   "source": [
    "ab_test_a = ab_test[ab_test['group']=='A'].reset_index()\n",
    "ab_test_b = ab_test[ab_test['group']=='B'].reset_index()"
   ]
  },
  {
   "cell_type": "code",
   "execution_count": 76,
   "metadata": {},
   "outputs": [],
   "source": [
    "orders_by_buyers_a = order_clean[order_clean['group']=='A'].groupby('visitor_id', as_index=False)\\\n",
    ".agg({'transaction_id' : 'nunique'})\n",
    "orders_by_buyers_b = order_clean[order_clean['group']=='B'].groupby('visitor_id', as_index=False)\\\n",
    ".agg({'transaction_id' : 'nunique'})"
   ]
  },
  {
   "cell_type": "markdown",
   "metadata": {},
   "source": [
    "Объединим число заказов, соответствующее покупателями и посетителям. Последних найдём с помощью разницы между количеством посетителей и количеством покупателей."
   ]
  },
  {
   "cell_type": "code",
   "execution_count": 77,
   "metadata": {},
   "outputs": [],
   "source": [
    "sample_a = pd.concat([orders_by_buyers_a['transaction_id'],\\\n",
    "pd.Series(0, index=np.arange(ab_test_a['visitors'].sum() - len(orders_by_buyers_a['transaction_id'])),\\\n",
    "name='transaction_id')],axis=0)"
   ]
  },
  {
   "cell_type": "code",
   "execution_count": 78,
   "metadata": {},
   "outputs": [],
   "source": [
    "sample_b = pd.concat([orders_by_buyers_b['transaction_id'],\\\n",
    "pd.Series(0, index=np.arange(ab_test_b['visitors'].sum() - len(orders_by_buyers_b['transaction_id'])),\\\n",
    "name='transaction_id')],axis=0)"
   ]
  },
  {
   "cell_type": "markdown",
   "metadata": {},
   "source": [
    "Прежде статистического анализа узнаем нормально ли распределены выборки"
   ]
  },
  {
   "cell_type": "code",
   "execution_count": 79,
   "metadata": {},
   "outputs": [
    {
     "name": "stdout",
     "output_type": "stream",
     "text": [
      "p-значение:  0.0\n",
      "Отвергаем нулевую гипотезу: распределение конверсии группы А  не нормально\n"
     ]
    },
    {
     "name": "stderr",
     "output_type": "stream",
     "text": [
      "/opt/conda/lib/python3.7/site-packages/scipy/stats/morestats.py:1676: UserWarning: p-value may not be accurate for N > 5000.\n",
      "  warnings.warn(\"p-value may not be accurate for N > 5000.\")\n"
     ]
    }
   ],
   "source": [
    "alpha = 0.05\n",
    "results_conv_a = st.shapiro(sample_a)\n",
    "p_value_conv_a = results_conv_a[1]\n",
    "print('p-значение: ', p_value_conv_a)\n",
    "if p_value_conv_a < alpha:\n",
    "    print('Отвергаем нулевую гипотезу: распределение конверсии группы А  не нормально')\n",
    "else:\n",
    "    print('Не получилось отвергнуть нулевую гипотезу: распределение конверсии группы А нормально') "
   ]
  },
  {
   "cell_type": "code",
   "execution_count": 80,
   "metadata": {},
   "outputs": [
    {
     "name": "stdout",
     "output_type": "stream",
     "text": [
      "p-значение:  0.0\n",
      "Отвергаем нулевую гипотезу: распределение конверсии группы B  не нормально\n"
     ]
    }
   ],
   "source": [
    "results_cum_conv_b = st.shapiro(sample_b)\n",
    "p_value_cum_conv_b = results_cum_conv_b[1]\n",
    "print('p-значение: ', p_value_cum_conv_b)\n",
    "if p_value_cum_conv_b < alpha:\n",
    "    print('Отвергаем нулевую гипотезу: распределение конверсии группы B  не нормально')\n",
    "else:\n",
    "    print('Не получилось отвергнуть нулевую гипотезу: распределение конверсии группы B нормально') \n"
   ]
  },
  {
   "cell_type": "markdown",
   "metadata": {},
   "source": [
    "Так как распределения не получились нормального вида, мы можем проанализировать группы с помощью непараметрического теста Манна-Уитни"
   ]
  },
  {
   "cell_type": "markdown",
   "metadata": {},
   "source": [
    "Сформулируем нулевую и альтернативную гипотезы:"
   ]
  },
  {
   "cell_type": "markdown",
   "metadata": {},
   "source": [
    "*Гипотеза 0: Различия в конверсии двух групп статистически не значимы*\n",
    "\n",
    "*Альтернативная гипотеза: Различия в конверсии групп A и B статистически значимы.* "
   ]
  },
  {
   "cell_type": "code",
   "execution_count": 81,
   "metadata": {
    "scrolled": false
   },
   "outputs": [
    {
     "name": "stdout",
     "output_type": "stream",
     "text": [
      "p-значение:  0.011018084110014691\n",
      "Отвергаем нулевую гипотезу: разница статистически значима\n",
      "Конверсия сырых данных группы B выше конверсии группы A на 16.0%\n"
     ]
    }
   ],
   "source": [
    "results = st.mannwhitneyu(sample_a, \\\n",
    "                             sample_b, alternative='two-sided' )\n",
    "print('p-значение: ', results.pvalue)\n",
    "if results.pvalue < alpha:\n",
    "    print('Отвергаем нулевую гипотезу: разница статистически значима')\n",
    "else:\n",
    "    print('Не получилось отвергнуть нулевую гипотезу: разница статистически не значима')\n",
    "print('Конверсия сырых данных группы B выше конверсии группы A на {:.1%}'\\\n",
    "      .format(sample_b.mean() / sample_a.mean() - 1))"
   ]
  },
  {
   "cell_type": "markdown",
   "metadata": {},
   "source": [
    "### Статистическая значимость различий среднего чека по сырым данным"
   ]
  },
  {
   "cell_type": "markdown",
   "metadata": {},
   "source": [
    "*Гипотеза 0: Различия по среднему чеку двух групп статистически не значимы*\n",
    "\n",
    "*Альтернативная гипотеза: Различия по среднему чеку групп A и B статистически значимы.* "
   ]
  },
  {
   "cell_type": "markdown",
   "metadata": {},
   "source": [
    "Проверим распределения по среднему чеку на нормальность"
   ]
  },
  {
   "cell_type": "code",
   "execution_count": 82,
   "metadata": {},
   "outputs": [
    {
     "name": "stdout",
     "output_type": "stream",
     "text": [
      "p-значение:  0.017008859664201736\n",
      "Отвергаем нулевую гипотезу: распределение среднего чека группы А  не нормально\n"
     ]
    }
   ],
   "source": [
    "alpha = 0.05\n",
    "results_av_ch_a_b = st.shapiro(av_ch_a_b['av_ch_a'])\n",
    "p_value_av_ch_a_b = results_av_ch_a_b[1]\n",
    "print('p-значение: ', p_value_av_ch_a_b)\n",
    "if p_value_av_ch_a_b < alpha:\n",
    "    print('Отвергаем нулевую гипотезу: распределение среднего чека группы А  не нормально')\n",
    "else:\n",
    "    print('Не получилось отвергнуть нулевую гипотезу: распределение среднего чека группы А нормально') "
   ]
  },
  {
   "cell_type": "code",
   "execution_count": 83,
   "metadata": {},
   "outputs": [
    {
     "name": "stdout",
     "output_type": "stream",
     "text": [
      "p-значение:  1.0025143909464518e-10\n",
      "Отвергаем нулевую гипотезу: распределение среднего чека группы B  не нормально\n"
     ]
    }
   ],
   "source": [
    "results_av_ch_a_b = st.shapiro(av_ch_a_b['av_ch_b'])\n",
    "p_value_av_ch_a_b = results_av_ch_a_b[1]\n",
    "print('p-значение: ', p_value_av_ch_a_b)\n",
    "if p_value_av_ch_a_b < alpha:\n",
    "    print('Отвергаем нулевую гипотезу: распределение среднего чека группы B  не нормально')\n",
    "else:\n",
    "    print('Не получилось отвергнуть нулевую гипотезу: распределение среднего чека группы B нормально') "
   ]
  },
  {
   "cell_type": "code",
   "execution_count": 84,
   "metadata": {},
   "outputs": [
    {
     "name": "stdout",
     "output_type": "stream",
     "text": [
      "p-значение:  0.9606996420323641\n",
      "Не получилось отвергнуть нулевую гипотезу: разница статистически не значима\n",
      "Средний чек группы B выше среднего чека группы A на 20.3%\n"
     ]
    }
   ],
   "source": [
    "results = st.mannwhitneyu(av_ch_a_b['av_ch_b'], \\\n",
    "                             av_ch_a_b['av_ch_a'], alternative='two-sided' )\n",
    "print('p-значение: ', results.pvalue)\n",
    "if results.pvalue < alpha:\n",
    "    print('Отвергаем нулевую гипотезу: разница статистически значима')\n",
    "else:\n",
    "    print('Не получилось отвергнуть нулевую гипотезу: разница статистически не значима')\n",
    "print('Средний чек группы B выше среднего чека группы A на {:.1%}'\\\n",
    "      .format(av_ch_a_b['av_ch_b'].mean() /  av_ch_a_b['av_ch_a'].mean() - 1))"
   ]
  },
  {
   "cell_type": "markdown",
   "metadata": {},
   "source": [
    "Разница среднего чека сырых данных статистически не значима"
   ]
  },
  {
   "cell_type": "markdown",
   "metadata": {},
   "source": [
    "### Фильтрация сырых данных"
   ]
  },
  {
   "cell_type": "markdown",
   "metadata": {},
   "source": [
    "Теперь отфильтруем таблицу по выбранным границам в 1 заказ на покупателя и в стоимость заказа не более 30000"
   ]
  },
  {
   "cell_type": "code",
   "execution_count": 85,
   "metadata": {},
   "outputs": [
    {
     "data": {
      "text/html": [
       "<div>\n",
       "<style scoped>\n",
       "    .dataframe tbody tr th:only-of-type {\n",
       "        vertical-align: middle;\n",
       "    }\n",
       "\n",
       "    .dataframe tbody tr th {\n",
       "        vertical-align: top;\n",
       "    }\n",
       "\n",
       "    .dataframe thead th {\n",
       "        text-align: right;\n",
       "    }\n",
       "</style>\n",
       "<table border=\"1\" class=\"dataframe\">\n",
       "  <thead>\n",
       "    <tr style=\"text-align: right;\">\n",
       "      <th></th>\n",
       "      <th>transaction_id</th>\n",
       "      <th>visitor_id</th>\n",
       "      <th>date</th>\n",
       "      <th>revenue</th>\n",
       "      <th>group</th>\n",
       "    </tr>\n",
       "  </thead>\n",
       "  <tbody>\n",
       "    <tr>\n",
       "      <td>0</td>\n",
       "      <td>3667963787</td>\n",
       "      <td>3312258926</td>\n",
       "      <td>2019-08-15</td>\n",
       "      <td>1650</td>\n",
       "      <td>B</td>\n",
       "    </tr>\n",
       "    <tr>\n",
       "      <td>1</td>\n",
       "      <td>2804400009</td>\n",
       "      <td>3642806036</td>\n",
       "      <td>2019-08-15</td>\n",
       "      <td>730</td>\n",
       "      <td>B</td>\n",
       "    </tr>\n",
       "    <tr>\n",
       "      <td>3</td>\n",
       "      <td>3797467345</td>\n",
       "      <td>1196621759</td>\n",
       "      <td>2019-08-15</td>\n",
       "      <td>9759</td>\n",
       "      <td>B</td>\n",
       "    </tr>\n",
       "    <tr>\n",
       "      <td>4</td>\n",
       "      <td>2282983706</td>\n",
       "      <td>2322279887</td>\n",
       "      <td>2019-08-15</td>\n",
       "      <td>2308</td>\n",
       "      <td>B</td>\n",
       "    </tr>\n",
       "    <tr>\n",
       "      <td>5</td>\n",
       "      <td>182168103</td>\n",
       "      <td>935554773</td>\n",
       "      <td>2019-08-15</td>\n",
       "      <td>2210</td>\n",
       "      <td>B</td>\n",
       "    </tr>\n",
       "    <tr>\n",
       "      <td>...</td>\n",
       "      <td>...</td>\n",
       "      <td>...</td>\n",
       "      <td>...</td>\n",
       "      <td>...</td>\n",
       "      <td>...</td>\n",
       "    </tr>\n",
       "    <tr>\n",
       "      <td>1191</td>\n",
       "      <td>3592955527</td>\n",
       "      <td>608641596</td>\n",
       "      <td>2019-08-14</td>\n",
       "      <td>16490</td>\n",
       "      <td>B</td>\n",
       "    </tr>\n",
       "    <tr>\n",
       "      <td>1192</td>\n",
       "      <td>2662137336</td>\n",
       "      <td>3733762160</td>\n",
       "      <td>2019-08-14</td>\n",
       "      <td>6490</td>\n",
       "      <td>B</td>\n",
       "    </tr>\n",
       "    <tr>\n",
       "      <td>1193</td>\n",
       "      <td>2203539145</td>\n",
       "      <td>370388673</td>\n",
       "      <td>2019-08-14</td>\n",
       "      <td>3190</td>\n",
       "      <td>A</td>\n",
       "    </tr>\n",
       "    <tr>\n",
       "      <td>1194</td>\n",
       "      <td>1807773912</td>\n",
       "      <td>573423106</td>\n",
       "      <td>2019-08-14</td>\n",
       "      <td>10550</td>\n",
       "      <td>A</td>\n",
       "    </tr>\n",
       "    <tr>\n",
       "      <td>1196</td>\n",
       "      <td>3936777065</td>\n",
       "      <td>2108080724</td>\n",
       "      <td>2019-08-15</td>\n",
       "      <td>202740</td>\n",
       "      <td>B</td>\n",
       "    </tr>\n",
       "  </tbody>\n",
       "</table>\n",
       "<p>1016 rows × 5 columns</p>\n",
       "</div>"
      ],
      "text/plain": [
       "      transaction_id  visitor_id       date  revenue group\n",
       "0         3667963787  3312258926 2019-08-15     1650     B\n",
       "1         2804400009  3642806036 2019-08-15      730     B\n",
       "3         3797467345  1196621759 2019-08-15     9759     B\n",
       "4         2282983706  2322279887 2019-08-15     2308     B\n",
       "5          182168103   935554773 2019-08-15     2210     B\n",
       "...              ...         ...        ...      ...   ...\n",
       "1191      3592955527   608641596 2019-08-14    16490     B\n",
       "1192      2662137336  3733762160 2019-08-14     6490     B\n",
       "1193      2203539145   370388673 2019-08-14     3190     A\n",
       "1194      1807773912   573423106 2019-08-14    10550     A\n",
       "1196      3936777065  2108080724 2019-08-15   202740     B\n",
       "\n",
       "[1016 rows x 5 columns]"
      ]
     },
     "execution_count": 85,
     "metadata": {},
     "output_type": "execute_result"
    }
   ],
   "source": [
    "order_clean"
   ]
  },
  {
   "cell_type": "markdown",
   "metadata": {},
   "source": [
    "Найдём покупателей, количество покупок которых больше одного"
   ]
  },
  {
   "cell_type": "code",
   "execution_count": 86,
   "metadata": {},
   "outputs": [],
   "source": [
    "number_of_orders = order_clean.groupby('visitor_id')['revenue']\\\n",
    ".count()\\\n",
    ".reset_index()\\\n",
    ".rename(columns={'revenue' : 'number_of_orders'})"
   ]
  },
  {
   "cell_type": "code",
   "execution_count": 87,
   "metadata": {},
   "outputs": [
    {
     "data": {
      "text/html": [
       "<div>\n",
       "<style scoped>\n",
       "    .dataframe tbody tr th:only-of-type {\n",
       "        vertical-align: middle;\n",
       "    }\n",
       "\n",
       "    .dataframe tbody tr th {\n",
       "        vertical-align: top;\n",
       "    }\n",
       "\n",
       "    .dataframe thead th {\n",
       "        text-align: right;\n",
       "    }\n",
       "</style>\n",
       "<table border=\"1\" class=\"dataframe\">\n",
       "  <thead>\n",
       "    <tr style=\"text-align: right;\">\n",
       "      <th></th>\n",
       "      <th>visitor_id</th>\n",
       "      <th>number_of_orders</th>\n",
       "    </tr>\n",
       "  </thead>\n",
       "  <tbody>\n",
       "    <tr>\n",
       "      <td>55</td>\n",
       "      <td>249864742</td>\n",
       "      <td>3</td>\n",
       "    </tr>\n",
       "    <tr>\n",
       "      <td>82</td>\n",
       "      <td>366673373</td>\n",
       "      <td>2</td>\n",
       "    </tr>\n",
       "    <tr>\n",
       "      <td>94</td>\n",
       "      <td>406208401</td>\n",
       "      <td>2</td>\n",
       "    </tr>\n",
       "    <tr>\n",
       "      <td>118</td>\n",
       "      <td>522292794</td>\n",
       "      <td>2</td>\n",
       "    </tr>\n",
       "    <tr>\n",
       "      <td>138</td>\n",
       "      <td>611059232</td>\n",
       "      <td>3</td>\n",
       "    </tr>\n",
       "  </tbody>\n",
       "</table>\n",
       "</div>"
      ],
      "text/plain": [
       "     visitor_id  number_of_orders\n",
       "55    249864742                 3\n",
       "82    366673373                 2\n",
       "94    406208401                 2\n",
       "118   522292794                 2\n",
       "138   611059232                 3"
      ]
     },
     "execution_count": 87,
     "metadata": {},
     "output_type": "execute_result"
    }
   ],
   "source": [
    "abnormal_users = number_of_orders[number_of_orders['number_of_orders'] > 1]\n",
    "abnormal_users.head()"
   ]
  },
  {
   "cell_type": "markdown",
   "metadata": {},
   "source": [
    "Уберём из таблицы order_clean выбросы"
   ]
  },
  {
   "cell_type": "code",
   "execution_count": 88,
   "metadata": {},
   "outputs": [],
   "source": [
    "order_w_out = order_clean[(order_clean['revenue'] <= 30000) & (~order_clean['visitor_id'].isin(abnormal_users['visitor_id']))]"
   ]
  },
  {
   "cell_type": "code",
   "execution_count": 89,
   "metadata": {
    "scrolled": false
   },
   "outputs": [
    {
     "data": {
      "text/html": [
       "<div>\n",
       "<style scoped>\n",
       "    .dataframe tbody tr th:only-of-type {\n",
       "        vertical-align: middle;\n",
       "    }\n",
       "\n",
       "    .dataframe tbody tr th {\n",
       "        vertical-align: top;\n",
       "    }\n",
       "\n",
       "    .dataframe thead th {\n",
       "        text-align: right;\n",
       "    }\n",
       "</style>\n",
       "<table border=\"1\" class=\"dataframe\">\n",
       "  <thead>\n",
       "    <tr style=\"text-align: right;\">\n",
       "      <th></th>\n",
       "      <th>transaction_id</th>\n",
       "      <th>visitor_id</th>\n",
       "      <th>date</th>\n",
       "      <th>revenue</th>\n",
       "      <th>group</th>\n",
       "    </tr>\n",
       "  </thead>\n",
       "  <tbody>\n",
       "    <tr>\n",
       "      <td>0</td>\n",
       "      <td>3667963787</td>\n",
       "      <td>3312258926</td>\n",
       "      <td>2019-08-15</td>\n",
       "      <td>1650</td>\n",
       "      <td>B</td>\n",
       "    </tr>\n",
       "    <tr>\n",
       "      <td>1</td>\n",
       "      <td>2804400009</td>\n",
       "      <td>3642806036</td>\n",
       "      <td>2019-08-15</td>\n",
       "      <td>730</td>\n",
       "      <td>B</td>\n",
       "    </tr>\n",
       "    <tr>\n",
       "      <td>3</td>\n",
       "      <td>3797467345</td>\n",
       "      <td>1196621759</td>\n",
       "      <td>2019-08-15</td>\n",
       "      <td>9759</td>\n",
       "      <td>B</td>\n",
       "    </tr>\n",
       "    <tr>\n",
       "      <td>4</td>\n",
       "      <td>2282983706</td>\n",
       "      <td>2322279887</td>\n",
       "      <td>2019-08-15</td>\n",
       "      <td>2308</td>\n",
       "      <td>B</td>\n",
       "    </tr>\n",
       "    <tr>\n",
       "      <td>5</td>\n",
       "      <td>182168103</td>\n",
       "      <td>935554773</td>\n",
       "      <td>2019-08-15</td>\n",
       "      <td>2210</td>\n",
       "      <td>B</td>\n",
       "    </tr>\n",
       "    <tr>\n",
       "      <td>...</td>\n",
       "      <td>...</td>\n",
       "      <td>...</td>\n",
       "      <td>...</td>\n",
       "      <td>...</td>\n",
       "      <td>...</td>\n",
       "    </tr>\n",
       "    <tr>\n",
       "      <td>1190</td>\n",
       "      <td>38478481</td>\n",
       "      <td>1197745035</td>\n",
       "      <td>2019-08-14</td>\n",
       "      <td>8600</td>\n",
       "      <td>B</td>\n",
       "    </tr>\n",
       "    <tr>\n",
       "      <td>1191</td>\n",
       "      <td>3592955527</td>\n",
       "      <td>608641596</td>\n",
       "      <td>2019-08-14</td>\n",
       "      <td>16490</td>\n",
       "      <td>B</td>\n",
       "    </tr>\n",
       "    <tr>\n",
       "      <td>1192</td>\n",
       "      <td>2662137336</td>\n",
       "      <td>3733762160</td>\n",
       "      <td>2019-08-14</td>\n",
       "      <td>6490</td>\n",
       "      <td>B</td>\n",
       "    </tr>\n",
       "    <tr>\n",
       "      <td>1193</td>\n",
       "      <td>2203539145</td>\n",
       "      <td>370388673</td>\n",
       "      <td>2019-08-14</td>\n",
       "      <td>3190</td>\n",
       "      <td>A</td>\n",
       "    </tr>\n",
       "    <tr>\n",
       "      <td>1194</td>\n",
       "      <td>1807773912</td>\n",
       "      <td>573423106</td>\n",
       "      <td>2019-08-14</td>\n",
       "      <td>10550</td>\n",
       "      <td>A</td>\n",
       "    </tr>\n",
       "  </tbody>\n",
       "</table>\n",
       "<p>896 rows × 5 columns</p>\n",
       "</div>"
      ],
      "text/plain": [
       "      transaction_id  visitor_id       date  revenue group\n",
       "0         3667963787  3312258926 2019-08-15     1650     B\n",
       "1         2804400009  3642806036 2019-08-15      730     B\n",
       "3         3797467345  1196621759 2019-08-15     9759     B\n",
       "4         2282983706  2322279887 2019-08-15     2308     B\n",
       "5          182168103   935554773 2019-08-15     2210     B\n",
       "...              ...         ...        ...      ...   ...\n",
       "1190        38478481  1197745035 2019-08-14     8600     B\n",
       "1191      3592955527   608641596 2019-08-14    16490     B\n",
       "1192      2662137336  3733762160 2019-08-14     6490     B\n",
       "1193      2203539145   370388673 2019-08-14     3190     A\n",
       "1194      1807773912   573423106 2019-08-14    10550     A\n",
       "\n",
       "[896 rows x 5 columns]"
      ]
     },
     "execution_count": 89,
     "metadata": {},
     "output_type": "execute_result"
    }
   ],
   "source": [
    "order_w_out"
   ]
  },
  {
   "cell_type": "code",
   "execution_count": 90,
   "metadata": {},
   "outputs": [],
   "source": [
    "order_w_out_grouped = order_w_out.groupby(['date', 'group'])\\\n",
    ".agg({'visitor_id' : 'nunique', 'revenue' : 'sum', 'transaction_id' : 'count'})\\\n",
    ".reset_index()\\\n",
    ".rename(columns={'visitor_id' : 'buyers_count', 'revenue' : 'rev_by_day', 'transaction_id' : 'transaction_count'})"
   ]
  },
  {
   "cell_type": "code",
   "execution_count": 91,
   "metadata": {},
   "outputs": [],
   "source": [
    "ab_w_out = order_w_out_grouped.merge(visitor, on=['date', 'group'], how='left')"
   ]
  },
  {
   "cell_type": "code",
   "execution_count": 92,
   "metadata": {},
   "outputs": [
    {
     "data": {
      "text/html": [
       "<div>\n",
       "<style scoped>\n",
       "    .dataframe tbody tr th:only-of-type {\n",
       "        vertical-align: middle;\n",
       "    }\n",
       "\n",
       "    .dataframe tbody tr th {\n",
       "        vertical-align: top;\n",
       "    }\n",
       "\n",
       "    .dataframe thead th {\n",
       "        text-align: right;\n",
       "    }\n",
       "</style>\n",
       "<table border=\"1\" class=\"dataframe\">\n",
       "  <thead>\n",
       "    <tr style=\"text-align: right;\">\n",
       "      <th></th>\n",
       "      <th>date</th>\n",
       "      <th>group</th>\n",
       "      <th>buyers_count</th>\n",
       "      <th>rev_by_day</th>\n",
       "      <th>transaction_count</th>\n",
       "      <th>visitors</th>\n",
       "    </tr>\n",
       "  </thead>\n",
       "  <tbody>\n",
       "    <tr>\n",
       "      <td>0</td>\n",
       "      <td>2019-08-01</td>\n",
       "      <td>A</td>\n",
       "      <td>15</td>\n",
       "      <td>89858</td>\n",
       "      <td>15</td>\n",
       "      <td>719</td>\n",
       "    </tr>\n",
       "    <tr>\n",
       "      <td>1</td>\n",
       "      <td>2019-08-01</td>\n",
       "      <td>B</td>\n",
       "      <td>17</td>\n",
       "      <td>59758</td>\n",
       "      <td>17</td>\n",
       "      <td>713</td>\n",
       "    </tr>\n",
       "    <tr>\n",
       "      <td>2</td>\n",
       "      <td>2019-08-02</td>\n",
       "      <td>A</td>\n",
       "      <td>15</td>\n",
       "      <td>46483</td>\n",
       "      <td>15</td>\n",
       "      <td>619</td>\n",
       "    </tr>\n",
       "    <tr>\n",
       "      <td>3</td>\n",
       "      <td>2019-08-02</td>\n",
       "      <td>B</td>\n",
       "      <td>18</td>\n",
       "      <td>84864</td>\n",
       "      <td>18</td>\n",
       "      <td>581</td>\n",
       "    </tr>\n",
       "    <tr>\n",
       "      <td>4</td>\n",
       "      <td>2019-08-03</td>\n",
       "      <td>A</td>\n",
       "      <td>24</td>\n",
       "      <td>112473</td>\n",
       "      <td>24</td>\n",
       "      <td>507</td>\n",
       "    </tr>\n",
       "    <tr>\n",
       "      <td>...</td>\n",
       "      <td>...</td>\n",
       "      <td>...</td>\n",
       "      <td>...</td>\n",
       "      <td>...</td>\n",
       "      <td>...</td>\n",
       "      <td>...</td>\n",
       "    </tr>\n",
       "    <tr>\n",
       "      <td>57</td>\n",
       "      <td>2019-08-29</td>\n",
       "      <td>B</td>\n",
       "      <td>14</td>\n",
       "      <td>104466</td>\n",
       "      <td>14</td>\n",
       "      <td>531</td>\n",
       "    </tr>\n",
       "    <tr>\n",
       "      <td>58</td>\n",
       "      <td>2019-08-30</td>\n",
       "      <td>A</td>\n",
       "      <td>7</td>\n",
       "      <td>33030</td>\n",
       "      <td>7</td>\n",
       "      <td>490</td>\n",
       "    </tr>\n",
       "    <tr>\n",
       "      <td>59</td>\n",
       "      <td>2019-08-30</td>\n",
       "      <td>B</td>\n",
       "      <td>18</td>\n",
       "      <td>94503</td>\n",
       "      <td>18</td>\n",
       "      <td>490</td>\n",
       "    </tr>\n",
       "    <tr>\n",
       "      <td>60</td>\n",
       "      <td>2019-08-31</td>\n",
       "      <td>A</td>\n",
       "      <td>8</td>\n",
       "      <td>53243</td>\n",
       "      <td>8</td>\n",
       "      <td>699</td>\n",
       "    </tr>\n",
       "    <tr>\n",
       "      <td>61</td>\n",
       "      <td>2019-08-31</td>\n",
       "      <td>B</td>\n",
       "      <td>17</td>\n",
       "      <td>113139</td>\n",
       "      <td>17</td>\n",
       "      <td>718</td>\n",
       "    </tr>\n",
       "  </tbody>\n",
       "</table>\n",
       "<p>62 rows × 6 columns</p>\n",
       "</div>"
      ],
      "text/plain": [
       "         date group  buyers_count  rev_by_day  transaction_count  visitors\n",
       "0  2019-08-01     A            15       89858                 15       719\n",
       "1  2019-08-01     B            17       59758                 17       713\n",
       "2  2019-08-02     A            15       46483                 15       619\n",
       "3  2019-08-02     B            18       84864                 18       581\n",
       "4  2019-08-03     A            24      112473                 24       507\n",
       "..        ...   ...           ...         ...                ...       ...\n",
       "57 2019-08-29     B            14      104466                 14       531\n",
       "58 2019-08-30     A             7       33030                  7       490\n",
       "59 2019-08-30     B            18       94503                 18       490\n",
       "60 2019-08-31     A             8       53243                  8       699\n",
       "61 2019-08-31     B            17      113139                 17       718\n",
       "\n",
       "[62 rows x 6 columns]"
      ]
     },
     "execution_count": 92,
     "metadata": {},
     "output_type": "execute_result"
    }
   ],
   "source": [
    "ab_w_out"
   ]
  },
  {
   "cell_type": "code",
   "execution_count": 93,
   "metadata": {},
   "outputs": [],
   "source": [
    "ab_w_out['av_ch'] = (ab_w_out['rev_by_day'] / ab_w_out['transaction_count']).round().astype('int')"
   ]
  },
  {
   "cell_type": "markdown",
   "metadata": {},
   "source": [
    "Разделим таблицы по группам A и B"
   ]
  },
  {
   "cell_type": "code",
   "execution_count": 94,
   "metadata": {},
   "outputs": [],
   "source": [
    "ab_w_out_separated = ab_w_out[ab_w_out['group']=='A'][['date', 'group', 'av_ch']]\\\n",
    ".merge(ab_w_out[ab_w_out['group']=='B'][['date', 'group', 'av_ch']],\\\n",
    "       on='date', how='left', suffixes=['_a', '_b'])"
   ]
  },
  {
   "cell_type": "code",
   "execution_count": 95,
   "metadata": {
    "scrolled": true
   },
   "outputs": [
    {
     "data": {
      "text/html": [
       "<div>\n",
       "<style scoped>\n",
       "    .dataframe tbody tr th:only-of-type {\n",
       "        vertical-align: middle;\n",
       "    }\n",
       "\n",
       "    .dataframe tbody tr th {\n",
       "        vertical-align: top;\n",
       "    }\n",
       "\n",
       "    .dataframe thead th {\n",
       "        text-align: right;\n",
       "    }\n",
       "</style>\n",
       "<table border=\"1\" class=\"dataframe\">\n",
       "  <thead>\n",
       "    <tr style=\"text-align: right;\">\n",
       "      <th></th>\n",
       "      <th>date</th>\n",
       "      <th>group_a</th>\n",
       "      <th>av_ch_a</th>\n",
       "      <th>group_b</th>\n",
       "      <th>av_ch_b</th>\n",
       "    </tr>\n",
       "  </thead>\n",
       "  <tbody>\n",
       "    <tr>\n",
       "      <td>0</td>\n",
       "      <td>2019-08-01</td>\n",
       "      <td>A</td>\n",
       "      <td>5991</td>\n",
       "      <td>B</td>\n",
       "      <td>3515</td>\n",
       "    </tr>\n",
       "    <tr>\n",
       "      <td>1</td>\n",
       "      <td>2019-08-02</td>\n",
       "      <td>A</td>\n",
       "      <td>3099</td>\n",
       "      <td>B</td>\n",
       "      <td>4715</td>\n",
       "    </tr>\n",
       "    <tr>\n",
       "      <td>2</td>\n",
       "      <td>2019-08-03</td>\n",
       "      <td>A</td>\n",
       "      <td>4686</td>\n",
       "      <td>B</td>\n",
       "      <td>4789</td>\n",
       "    </tr>\n",
       "    <tr>\n",
       "      <td>3</td>\n",
       "      <td>2019-08-04</td>\n",
       "      <td>A</td>\n",
       "      <td>4107</td>\n",
       "      <td>B</td>\n",
       "      <td>4790</td>\n",
       "    </tr>\n",
       "    <tr>\n",
       "      <td>4</td>\n",
       "      <td>2019-08-05</td>\n",
       "      <td>A</td>\n",
       "      <td>3980</td>\n",
       "      <td>B</td>\n",
       "      <td>4281</td>\n",
       "    </tr>\n",
       "  </tbody>\n",
       "</table>\n",
       "</div>"
      ],
      "text/plain": [
       "        date group_a  av_ch_a group_b  av_ch_b\n",
       "0 2019-08-01       A     5991       B     3515\n",
       "1 2019-08-02       A     3099       B     4715\n",
       "2 2019-08-03       A     4686       B     4789\n",
       "3 2019-08-04       A     4107       B     4790\n",
       "4 2019-08-05       A     3980       B     4281"
      ]
     },
     "execution_count": 95,
     "metadata": {},
     "output_type": "execute_result"
    }
   ],
   "source": [
    "ab_w_out_separated.head()"
   ]
  },
  {
   "cell_type": "code",
   "execution_count": 96,
   "metadata": {},
   "outputs": [],
   "source": [
    "ab_w_out_a = ab_w_out[ab_w_out['group']=='A'].reset_index()\n",
    "ab_w_out_b = ab_w_out[ab_w_out['group']=='B'].reset_index()"
   ]
  },
  {
   "cell_type": "code",
   "execution_count": 97,
   "metadata": {},
   "outputs": [],
   "source": [
    "orders_by_buyers_w_out_a = order_w_out[order_w_out['group']=='A'].groupby('visitor_id', as_index=False).agg({'transaction_id' : 'nunique'})\n",
    "orders_by_buyers_w_out_b = order_w_out[order_w_out['group']=='B'].groupby('visitor_id', as_index=False).agg({'transaction_id' : 'nunique'})"
   ]
  },
  {
   "cell_type": "code",
   "execution_count": 98,
   "metadata": {},
   "outputs": [],
   "source": [
    "sample_w_out_a = pd.concat([orders_by_buyers_w_out_a['transaction_id'],\\\n",
    "pd.Series(0, index=np.arange(ab_w_out_a['visitors'].sum() - len(orders_by_buyers_w_out_a['transaction_id'])),\\\n",
    "name='transaction_id')],axis=0)"
   ]
  },
  {
   "cell_type": "code",
   "execution_count": 99,
   "metadata": {},
   "outputs": [],
   "source": [
    "sample_w_out_b = pd.concat([orders_by_buyers_w_out_b['transaction_id'],\\\n",
    "pd.Series(0, index=np.arange(ab_w_out_b['visitors'].sum() - len(orders_by_buyers_w_out_b['transaction_id'])),\\\n",
    "name='transaction_id')],axis=0)"
   ]
  },
  {
   "cell_type": "markdown",
   "metadata": {},
   "source": [
    "### Статистическая значимость различия конверсии"
   ]
  },
  {
   "cell_type": "markdown",
   "metadata": {},
   "source": [
    "Проведём статистический анализ групп. Для начала сформулируем гипотезы и проверим нормальность распределения конверсий и средних чеков"
   ]
  },
  {
   "cell_type": "markdown",
   "metadata": {},
   "source": [
    "*Гипотеза 0: Различия в конверсии двух групп по очищенным данным статистически не значимы*\n",
    "\n",
    "*Альтернативная гипотеза: Разниличия в конверсии групп A и B по очищенным данным статистически значимы.* "
   ]
  },
  {
   "cell_type": "code",
   "execution_count": 100,
   "metadata": {},
   "outputs": [
    {
     "name": "stdout",
     "output_type": "stream",
     "text": [
      "p-значение:  0.0\n",
      "Отвергаем нулевую гипотезу: распределение конверсии группы А  не нормально\n"
     ]
    }
   ],
   "source": [
    "alpha = 0.05\n",
    "results_conv_a = st.shapiro(sample_w_out_a)\n",
    "p_value_conv_a = results_conv_a[1]\n",
    "print('p-значение: ', p_value_conv_a)\n",
    "if p_value_conv_a < alpha:\n",
    "    print('Отвергаем нулевую гипотезу: распределение конверсии группы А  не нормально')\n",
    "else:\n",
    "    print('Не получилось отвергнуть нулевую гипотезу: распределение конверсии группы А нормально') "
   ]
  },
  {
   "cell_type": "code",
   "execution_count": 101,
   "metadata": {},
   "outputs": [
    {
     "name": "stdout",
     "output_type": "stream",
     "text": [
      "p-значение:  0.0\n",
      "Отвергаем нулевую гипотезу: распределение конверсии группы B  не нормально\n"
     ]
    }
   ],
   "source": [
    "results_conv_b = st.shapiro(sample_w_out_b)\n",
    "p_value_conv_b = results_conv_b[1]\n",
    "print('p-значение: ', p_value_conv_b)\n",
    "if p_value_conv_b < alpha:\n",
    "    print('Отвергаем нулевую гипотезу: распределение конверсии группы B  не нормально')\n",
    "else:\n",
    "    print('Не получилось отвергнуть нулевую гипотезу: распределение конверсии группы B нормально') \n"
   ]
  },
  {
   "cell_type": "code",
   "execution_count": 102,
   "metadata": {},
   "outputs": [
    {
     "name": "stdout",
     "output_type": "stream",
     "text": [
      "p-значение:  0.01268377207021448\n",
      "Отвергаем нулевую гипотезу: разница статистически значима\n",
      "Конверсия группы B выше конверсии группы A на 17.9%\n"
     ]
    }
   ],
   "source": [
    "results = st.mannwhitneyu(sample_w_out_a, \\\n",
    "                             sample_w_out_b, alternative='two-sided' )\n",
    "print('p-значение: ', results.pvalue)\n",
    "if results.pvalue < alpha:\n",
    "    print('Отвергаем нулевую гипотезу: разница статистически значима')\n",
    "else:\n",
    "    print('Не получилось отвергнуть нулевую гипотезу: разница статистически не значима')\n",
    "print('Конверсия группы B выше конверсии группы A на {:.1%}'\\\n",
    "      .format(sample_w_out_b.mean() /  sample_w_out_a.mean() - 1))"
   ]
  },
  {
   "cell_type": "markdown",
   "metadata": {},
   "source": [
    "### Статистическая значимость различия среднего чека"
   ]
  },
  {
   "cell_type": "markdown",
   "metadata": {},
   "source": [
    "*Гипотеза 0: Различия по среднему чеку двух групп очищенных данных статистически не значимы*\n",
    "\n",
    "*Альтернативная гипотеза: Разничия в конверсии групп A и B очищенных данных статистически значимы.* "
   ]
  },
  {
   "cell_type": "code",
   "execution_count": 103,
   "metadata": {},
   "outputs": [
    {
     "name": "stdout",
     "output_type": "stream",
     "text": [
      "p-значение:  0.4615726172924042\n",
      "Не получилось отвергнуть нулевую гипотезу: распределение среднего чека группы А нормально\n"
     ]
    }
   ],
   "source": [
    "alpha = 0.05\n",
    "results_av_ch_a = st.shapiro(ab_w_out_separated['av_ch_a'])\n",
    "p_value_av_ch_a = results_av_ch_a[1]\n",
    "print('p-значение: ', p_value_av_ch_a)\n",
    "if p_value_av_ch_a < alpha:\n",
    "    print('Отвергаем нулевую гипотезу: распределение среднего чека группы А  не нормально')\n",
    "else:\n",
    "    print('Не получилось отвергнуть нулевую гипотезу: распределение среднего чека группы А нормально') "
   ]
  },
  {
   "cell_type": "code",
   "execution_count": 104,
   "metadata": {},
   "outputs": [
    {
     "name": "stdout",
     "output_type": "stream",
     "text": [
      "p-значение:  0.5311033129692078\n",
      "Не получилось отвергнуть нулевую гипотезу: распределение среднего чека группы B нормально\n"
     ]
    }
   ],
   "source": [
    "results_av_ch_b = st.shapiro(ab_w_out_separated['av_ch_b'])\n",
    "p_value_av_ch_b = results_av_ch_b[1]\n",
    "print('p-значение: ', p_value_av_ch_b)\n",
    "if p_value_av_ch_b < alpha:\n",
    "    print('Отвергаем нулевую гипотезу: распределение среднего чека группы B  не нормально')\n",
    "else:\n",
    "    print('Не получилось отвергнуть нулевую гипотезу: распределение среднего чека группы B нормально') "
   ]
  },
  {
   "cell_type": "markdown",
   "metadata": {},
   "source": [
    "Так как распределения нормальны, можем применить тест Стьюдента. "
   ]
  },
  {
   "cell_type": "code",
   "execution_count": 105,
   "metadata": {},
   "outputs": [
    {
     "name": "stdout",
     "output_type": "stream",
     "text": [
      "p-значение:  0.7001578037972114\n",
      "Не получилось отвергнуть нулевую гипотезу: разница статистически не значима\n",
      "Средний чек группы B выше среднего чека группы A на -3.2%\n"
     ]
    }
   ],
   "source": [
    "results = st.ttest_ind(ab_w_out_separated['av_ch_b'], ab_w_out_separated['av_ch_a'], equal_var = True)\n",
    "print('p-значение: ', results.pvalue)\n",
    "if results.pvalue < alpha:\n",
    "    print('Отвергаем нулевую гипотезу: разница статистически значима')\n",
    "else:\n",
    "    print('Не получилось отвергнуть нулевую гипотезу: разница статистически не значима')\n",
    "print('Средний чек группы B выше среднего чека группы A на {:.1%}'\\\n",
    "      .format(ab_w_out_separated['av_ch_b'].mean() /  ab_w_out_separated['av_ch_a'].mean() - 1))"
   ]
  },
  {
   "cell_type": "markdown",
   "metadata": {},
   "source": [
    "По среднему чеку ничего не изменилось. Разница так же статистически не значима."
   ]
  },
  {
   "cell_type": "markdown",
   "metadata": {},
   "source": [
    "# Выводы:"
   ]
  },
  {
   "cell_type": "markdown",
   "metadata": {},
   "source": [
    "В данной работе переда нами стояли следующие цели:\n",
    "    1. Выбор перспективных гипотез\n",
    "    2. Оценить влияние факторов, отличающих группу B от группы A, на кумулятивную конверсию, кумулятивный средний чек и кумулятивную выручку.\n",
    "    3. Произвести статистическую оценку различия групп по конверсии и среднему чеку. А также посмотреть, как меняются эти   показатели после удаления выбросов по количеству заказов и стоимости заказов."
   ]
  },
  {
   "cell_type": "markdown",
   "metadata": {},
   "source": [
    "Данные, по большей части были чистыми: не было обнаружено дубликатов или пропусков, но  были найдены 58 покупателей, попавших в обе группы. Их пришлось удалить, так как это могло существенно повлиять на результаты теста."
   ]
  },
  {
   "cell_type": "markdown",
   "metadata": {},
   "source": [
    "Для приоритизации гипотез использовались метрики ICE и RICE. "
   ]
  },
  {
   "cell_type": "code",
   "execution_count": 106,
   "metadata": {
    "scrolled": false
   },
   "outputs": [
    {
     "data": {
      "text/html": [
       "<div>\n",
       "<style scoped>\n",
       "    .dataframe tbody tr th:only-of-type {\n",
       "        vertical-align: middle;\n",
       "    }\n",
       "\n",
       "    .dataframe tbody tr th {\n",
       "        vertical-align: top;\n",
       "    }\n",
       "\n",
       "    .dataframe thead th {\n",
       "        text-align: right;\n",
       "    }\n",
       "</style>\n",
       "<table border=\"1\" class=\"dataframe\">\n",
       "  <thead>\n",
       "    <tr style=\"text-align: right;\">\n",
       "      <th></th>\n",
       "      <th>hypothesis</th>\n",
       "      <th>rice</th>\n",
       "    </tr>\n",
       "  </thead>\n",
       "  <tbody>\n",
       "    <tr>\n",
       "      <td>7</td>\n",
       "      <td>Добавить форму подписки на все основные страницы, чтобы собрать базу клиентов для email-рассылок</td>\n",
       "      <td>112.0</td>\n",
       "    </tr>\n",
       "    <tr>\n",
       "      <td>2</td>\n",
       "      <td>Добавить блоки рекомендаций товаров на сайт интернет магазина, чтобы повысить конверсию и средний чек заказа</td>\n",
       "      <td>56.0</td>\n",
       "    </tr>\n",
       "    <tr>\n",
       "      <td>0</td>\n",
       "      <td>Добавить два новых канала привлечения трафика, что позволит привлекать на 30% больше пользователей</td>\n",
       "      <td>40.0</td>\n",
       "    </tr>\n",
       "    <tr>\n",
       "      <td>6</td>\n",
       "      <td>Показать на главной странице баннеры с актуальными акциями и распродажами, чтобы увеличить конверсию</td>\n",
       "      <td>40.0</td>\n",
       "    </tr>\n",
       "    <tr>\n",
       "      <td>8</td>\n",
       "      <td>Запустить акцию, дающую скидку на товар в день рождения</td>\n",
       "      <td>16.2</td>\n",
       "    </tr>\n",
       "    <tr>\n",
       "      <td>3</td>\n",
       "      <td>Изменить структура категорий, что увеличит конверсию, т.к. пользователи быстрее найдут нужный товар</td>\n",
       "      <td>9.0</td>\n",
       "    </tr>\n",
       "    <tr>\n",
       "      <td>1</td>\n",
       "      <td>Запустить собственную службу доставки, что сократит срок доставки заказов</td>\n",
       "      <td>4.0</td>\n",
       "    </tr>\n",
       "    <tr>\n",
       "      <td>5</td>\n",
       "      <td>Добавить страницу отзывов клиентов о магазине, что позволит увеличить количество заказов</td>\n",
       "      <td>4.0</td>\n",
       "    </tr>\n",
       "    <tr>\n",
       "      <td>4</td>\n",
       "      <td>Изменить цвет фона главной страницы, чтобы увеличить вовлеченность пользователей</td>\n",
       "      <td>3.0</td>\n",
       "    </tr>\n",
       "  </tbody>\n",
       "</table>\n",
       "</div>"
      ],
      "text/plain": [
       "                                                                                                     hypothesis  \\\n",
       "7              Добавить форму подписки на все основные страницы, чтобы собрать базу клиентов для email-рассылок   \n",
       "2  Добавить блоки рекомендаций товаров на сайт интернет магазина, чтобы повысить конверсию и средний чек заказа   \n",
       "0            Добавить два новых канала привлечения трафика, что позволит привлекать на 30% больше пользователей   \n",
       "6          Показать на главной странице баннеры с актуальными акциями и распродажами, чтобы увеличить конверсию   \n",
       "8                                                       Запустить акцию, дающую скидку на товар в день рождения   \n",
       "3           Изменить структура категорий, что увеличит конверсию, т.к. пользователи быстрее найдут нужный товар   \n",
       "1                                     Запустить собственную службу доставки, что сократит срок доставки заказов   \n",
       "5                      Добавить страницу отзывов клиентов о магазине, что позволит увеличить количество заказов   \n",
       "4                              Изменить цвет фона главной страницы, чтобы увеличить вовлеченность пользователей   \n",
       "\n",
       "    rice  \n",
       "7  112.0  \n",
       "2   56.0  \n",
       "0   40.0  \n",
       "6   40.0  \n",
       "8   16.2  \n",
       "3    9.0  \n",
       "1    4.0  \n",
       "5    4.0  \n",
       "4    3.0  "
      ]
     },
     "execution_count": 106,
     "metadata": {},
     "output_type": "execute_result"
    }
   ],
   "source": [
    "rice"
   ]
  },
  {
   "cell_type": "markdown",
   "metadata": {},
   "source": [
    "Для дальнейшей работы были выбраны гипотезы 7 и 2, так как они затрагивают наибольшее количество пользователей. Также выделили гипотезы 0 и 6, которые можно проверить при достаточном объёме ресурсов."
   ]
  },
  {
   "cell_type": "markdown",
   "metadata": {},
   "source": [
    "Дальше были произведены расчёты кумулятивной выручки, среднего чека, кумулятивного среднего чека и кумулятивной конверсии. Получили следующие результаты:\n",
    "    1. Общая выручка группы A достигает 3 миллионов 400 тысяч, а группа B к концу теста достигла 5 миллионов. Причём резкий скачок по  выручке в группе B произошёл с 18 на 19 числа. А далее идёт стабильный рост, особенно не отличающийся от группы A. Можем предположить, что произошла единичная большая покупка. Также был найден резкий скачок по выручке с 5 на 6 числа, что тоже может являться большой покупкой. С пятого числа кумулятивная выручка группы B Становится выше выручки группы A. \n",
    "    С пятого числа кумулятивная выручка группы B становится на уровень с группой A и начинает рост, достигая пика в 40 процентов 8 числа. Затем падает вплоть до 13 числа, выравниваясь с группой A. Далее происходит рост относительной выручки до 20 процентов к 15 числу, далее сохраняет свой уровень до 18 числа. И с 18 на 19 числа опять видим резкий всплеск показателя до 80 процентов. И далее постепенное снижение до уровня 50 процентов к 29 числу.\n",
    "    2. Максимум кумулятивного среднего чека группы A в районе 7000, а максимум группы B - 10500. Как и с кумулятивной выручкой, с 18 на 19 числа происходит резкий скачок среднего чека в группе B с отметки 6800 до отметки в 10500. Как мы предполагали раньше, это выбивающаяся крупная покупка. С 5 по 7 числа виден рост среднего чека в группе B, но затем группы выравниваются на 11 число, а далее группа A делает скачок с 11 по 13 числа. После пика в 10500 группа B постепенно падает, но остаётся выше группы A, минимум, на 2000.\n",
    "    3. Кумулятивная конверсия группы B с 6 на 7 числа пересекается с группой A и продолжает свой рост до 10 числа. И далее группа B стабильно сохраняет значение в 29 - 31 процент. Группа A к 8 числу устанавливает уровень конверсии в 25 - 26 процентов. Группа A к третьему числу достигает своего пика в 36 процентов и затем падает вплоть до 9 числа, где устанавливает свой стабильный уровень в 25-26 процентов. C 9 числа конверсия группы B превышает конверсию группы A на 10 - 20 процентов до конца месяца, с одной пиковой точкой 17 числа, превышающей отметку в 20 процентов."
   ]
  },
  {
   "cell_type": "markdown",
   "metadata": {},
   "source": [
    "Далее были найдены выбросы по количеству заказов на пользователя и стоимости заказов с помощью графиков и 95 и 99 перцентилей. На основании этих данных мы выбрали 1 заказ на пользователя и стоимость заказа не более 30000."
   ]
  },
  {
   "cell_type": "markdown",
   "metadata": {},
   "source": [
    "Затем мы произвели статистическую обработку не очищенных от выбросов данных по группам и очищенных данных по группам. Показателями для статистической обработки были конверсия в покупку и средний чек. Статистическая значимость различий по среднему чеку до обработки и после обработки данных между группами отсутствует. Различия в конверсии групп в покупку в обоих случаях признали значимой. По не обработанным конверсия составила 16 процентов, по обработанным даже выше - 17,9 процентов."
   ]
  },
  {
   "cell_type": "markdown",
   "metadata": {},
   "source": [
    "Необходимо остановить тест и зафиксировать победу группы B, так как была зафиксирована статистическая значимость различий конверсии в покупку. "
   ]
  },
  {
   "cell_type": "markdown",
   "metadata": {},
   "source": [
    "# Информация о проделанной работе:"
   ]
  },
  {
   "cell_type": "markdown",
   "metadata": {},
   "source": [
    "    1. Приоритизировали гипотезы\n",
    "    2. Проделали предобработку данных\n",
    "    3. Построили графики кумулятивной выручки и относительной кумулятивной выручки по группам\n",
    "    4. Построили графики среднего чека и относительного среднего чека по группам\n",
    "    5. Построили графики кумулятивной конверсии и относительной кумулятивной конверсии по группам\n",
    "    6. Построили точечные графики выбросов по количеству заказов и сумме заказов\n",
    "    7. Оценили статистическую значимость различий групп по конверсии и среднему чеку сырых и очищенных данных"
   ]
  }
 ],
 "metadata": {
  "ExecuteTimeLog": [
   {
    "duration": 1340,
    "start_time": "2021-07-01T13:40:31.901Z"
   },
   {
    "duration": 18,
    "start_time": "2021-07-01T13:40:33.244Z"
   },
   {
    "duration": 16,
    "start_time": "2021-07-01T13:40:33.686Z"
   },
   {
    "duration": 5,
    "start_time": "2021-07-01T13:40:33.877Z"
   },
   {
    "duration": 11,
    "start_time": "2021-07-01T13:40:34.581Z"
   },
   {
    "duration": 6,
    "start_time": "2021-07-01T13:40:35.181Z"
   },
   {
    "duration": 15,
    "start_time": "2021-07-01T13:40:35.509Z"
   },
   {
    "duration": 6,
    "start_time": "2021-07-01T13:40:35.798Z"
   },
   {
    "duration": 10,
    "start_time": "2021-07-01T13:40:35.974Z"
   },
   {
    "duration": 10,
    "start_time": "2021-07-01T13:40:36.414Z"
   },
   {
    "duration": 11,
    "start_time": "2021-07-01T13:40:37.101Z"
   },
   {
    "duration": 66,
    "start_time": "2021-07-01T13:40:39.470Z"
   },
   {
    "duration": 9,
    "start_time": "2021-07-01T13:40:42.750Z"
   },
   {
    "duration": 7,
    "start_time": "2021-07-01T13:40:42.958Z"
   },
   {
    "duration": 28,
    "start_time": "2021-07-01T13:40:43.174Z"
   },
   {
    "duration": 10,
    "start_time": "2021-07-01T13:40:45.943Z"
   },
   {
    "duration": 8,
    "start_time": "2021-07-01T13:40:45.956Z"
   },
   {
    "duration": 6,
    "start_time": "2021-07-01T13:40:47.918Z"
   },
   {
    "duration": 7,
    "start_time": "2021-07-01T13:40:48.126Z"
   },
   {
    "duration": 6,
    "start_time": "2021-07-01T13:40:48.349Z"
   },
   {
    "duration": 17,
    "start_time": "2021-07-01T13:40:48.615Z"
   },
   {
    "duration": 9,
    "start_time": "2021-07-01T13:40:52.398Z"
   },
   {
    "duration": 23,
    "start_time": "2021-07-01T13:41:52.778Z"
   },
   {
    "duration": 10,
    "start_time": "2021-07-01T13:44:31.923Z"
   },
   {
    "duration": 11,
    "start_time": "2021-07-01T13:44:32.474Z"
   },
   {
    "duration": 11,
    "start_time": "2021-07-01T13:44:32.688Z"
   },
   {
    "duration": 6,
    "start_time": "2021-07-01T13:44:33.379Z"
   },
   {
    "duration": 8,
    "start_time": "2021-07-01T13:45:06.916Z"
   },
   {
    "duration": 6,
    "start_time": "2021-07-01T13:45:13.605Z"
   },
   {
    "duration": 6,
    "start_time": "2021-07-01T13:45:26.598Z"
   },
   {
    "duration": 8,
    "start_time": "2021-07-01T13:46:56.610Z"
   },
   {
    "duration": 9,
    "start_time": "2021-07-01T13:47:53.893Z"
   },
   {
    "duration": 10,
    "start_time": "2021-07-01T13:49:57.396Z"
   },
   {
    "duration": 9,
    "start_time": "2021-07-01T13:49:58.588Z"
   },
   {
    "duration": 10,
    "start_time": "2021-07-01T13:50:04.606Z"
   },
   {
    "duration": 11,
    "start_time": "2021-07-01T13:50:06.933Z"
   },
   {
    "duration": 12,
    "start_time": "2021-07-01T13:50:07.140Z"
   },
   {
    "duration": 6,
    "start_time": "2021-07-01T13:50:07.580Z"
   },
   {
    "duration": 10,
    "start_time": "2021-07-01T13:50:08.644Z"
   },
   {
    "duration": 9,
    "start_time": "2021-07-01T13:50:08.964Z"
   },
   {
    "duration": 11,
    "start_time": "2021-07-01T13:50:18.045Z"
   },
   {
    "duration": 12,
    "start_time": "2021-07-01T13:50:18.325Z"
   },
   {
    "duration": 13,
    "start_time": "2021-07-01T13:50:18.596Z"
   },
   {
    "duration": 6,
    "start_time": "2021-07-01T13:50:19.013Z"
   },
   {
    "duration": 9,
    "start_time": "2021-07-01T13:50:19.373Z"
   },
   {
    "duration": 11,
    "start_time": "2021-07-01T13:50:38.622Z"
   },
   {
    "duration": 11,
    "start_time": "2021-07-01T13:50:38.830Z"
   },
   {
    "duration": 12,
    "start_time": "2021-07-01T13:50:39.054Z"
   },
   {
    "duration": 6,
    "start_time": "2021-07-01T13:50:39.270Z"
   },
   {
    "duration": 9,
    "start_time": "2021-07-01T13:50:39.478Z"
   },
   {
    "duration": 8,
    "start_time": "2021-07-01T13:50:39.887Z"
   },
   {
    "duration": 11,
    "start_time": "2021-07-01T13:52:46.023Z"
   },
   {
    "duration": 15,
    "start_time": "2021-07-01T13:52:46.718Z"
   },
   {
    "duration": 8,
    "start_time": "2021-07-01T13:53:12.066Z"
   },
   {
    "duration": 6,
    "start_time": "2021-07-01T13:53:15.775Z"
   },
   {
    "duration": 8,
    "start_time": "2021-07-01T13:53:16.223Z"
   },
   {
    "duration": 1844,
    "start_time": "2021-07-01T20:16:53.332Z"
   },
   {
    "duration": 22,
    "start_time": "2021-07-01T20:16:55.179Z"
   },
   {
    "duration": 25,
    "start_time": "2021-07-01T20:16:55.204Z"
   },
   {
    "duration": 5,
    "start_time": "2021-07-01T20:16:55.233Z"
   },
   {
    "duration": 11,
    "start_time": "2021-07-01T20:16:55.240Z"
   },
   {
    "duration": 6,
    "start_time": "2021-07-01T20:16:55.254Z"
   },
   {
    "duration": 14,
    "start_time": "2021-07-01T20:16:55.286Z"
   },
   {
    "duration": 7,
    "start_time": "2021-07-01T20:16:55.304Z"
   },
   {
    "duration": 10,
    "start_time": "2021-07-01T20:16:55.314Z"
   },
   {
    "duration": 15,
    "start_time": "2021-07-01T20:16:55.326Z"
   },
   {
    "duration": 47,
    "start_time": "2021-07-01T20:16:55.343Z"
   },
   {
    "duration": 57,
    "start_time": "2021-07-01T20:16:55.392Z"
   },
   {
    "duration": 9,
    "start_time": "2021-07-01T20:16:55.451Z"
   },
   {
    "duration": 12,
    "start_time": "2021-07-01T20:16:55.463Z"
   },
   {
    "duration": 44,
    "start_time": "2021-07-01T20:16:55.478Z"
   },
   {
    "duration": 8,
    "start_time": "2021-07-01T20:16:55.525Z"
   },
   {
    "duration": 10,
    "start_time": "2021-07-01T20:16:55.536Z"
   },
   {
    "duration": 5,
    "start_time": "2021-07-01T20:16:55.549Z"
   },
   {
    "duration": 12,
    "start_time": "2021-07-01T20:16:55.557Z"
   },
   {
    "duration": 6,
    "start_time": "2021-07-01T20:16:55.585Z"
   },
   {
    "duration": 14,
    "start_time": "2021-07-01T20:16:55.594Z"
   },
   {
    "duration": 12,
    "start_time": "2021-07-01T20:16:55.611Z"
   },
   {
    "duration": 10,
    "start_time": "2021-07-01T20:16:55.630Z"
   },
   {
    "duration": 43,
    "start_time": "2021-07-01T20:16:55.644Z"
   },
   {
    "duration": 9,
    "start_time": "2021-07-01T20:16:55.690Z"
   },
   {
    "duration": 16,
    "start_time": "2021-07-01T20:16:55.702Z"
   },
   {
    "duration": 16,
    "start_time": "2021-07-01T20:16:55.721Z"
   },
   {
    "duration": 21,
    "start_time": "2021-07-01T20:16:55.739Z"
   },
   {
    "duration": 24,
    "start_time": "2021-07-01T20:16:55.763Z"
   },
   {
    "duration": 8,
    "start_time": "2021-07-01T20:16:55.790Z"
   },
   {
    "duration": 21,
    "start_time": "2021-07-01T20:16:55.801Z"
   },
   {
    "duration": 20,
    "start_time": "2021-07-01T20:16:55.825Z"
   },
   {
    "duration": 45,
    "start_time": "2021-07-01T20:16:55.848Z"
   },
   {
    "duration": 10,
    "start_time": "2021-07-01T20:16:55.896Z"
   },
   {
    "duration": 1141,
    "start_time": "2021-07-01T20:16:55.908Z"
   },
   {
    "duration": 9,
    "start_time": "2021-07-01T20:16:57.052Z"
   },
   {
    "duration": 32,
    "start_time": "2021-07-01T20:16:57.064Z"
   },
   {
    "duration": 976,
    "start_time": "2021-07-01T20:16:57.099Z"
   },
   {
    "duration": 21,
    "start_time": "2021-07-01T20:16:58.077Z"
   },
   {
    "duration": 9,
    "start_time": "2021-07-01T20:16:58.101Z"
   },
   {
    "duration": 21,
    "start_time": "2021-07-01T20:16:58.113Z"
   },
   {
    "duration": 10,
    "start_time": "2021-07-01T20:16:58.137Z"
   },
   {
    "duration": 42,
    "start_time": "2021-07-01T20:16:58.150Z"
   },
   {
    "duration": 32,
    "start_time": "2021-07-01T20:16:58.195Z"
   },
   {
    "duration": 1255,
    "start_time": "2021-07-01T20:16:58.230Z"
   },
   {
    "duration": 22,
    "start_time": "2021-07-01T20:16:59.488Z"
   },
   {
    "duration": 25,
    "start_time": "2021-07-01T20:16:59.513Z"
   },
   {
    "duration": 7,
    "start_time": "2021-07-01T20:16:59.541Z"
   },
   {
    "duration": 1241,
    "start_time": "2021-07-01T20:16:59.551Z"
   },
   {
    "duration": 20,
    "start_time": "2021-07-01T20:17:00.795Z"
   },
   {
    "duration": 41,
    "start_time": "2021-07-01T20:17:00.817Z"
   },
   {
    "duration": 55,
    "start_time": "2021-07-01T20:17:00.861Z"
   },
   {
    "duration": 7,
    "start_time": "2021-07-01T20:17:00.919Z"
   },
   {
    "duration": 24,
    "start_time": "2021-07-01T20:17:00.929Z"
   },
   {
    "duration": 40,
    "start_time": "2021-07-01T20:17:00.955Z"
   },
   {
    "duration": 16,
    "start_time": "2021-07-01T20:17:00.997Z"
   },
   {
    "duration": 13,
    "start_time": "2021-07-01T20:17:01.016Z"
   },
   {
    "duration": 27,
    "start_time": "2021-07-01T20:17:01.032Z"
   },
   {
    "duration": 23,
    "start_time": "2021-07-01T20:17:01.062Z"
   },
   {
    "duration": 53,
    "start_time": "2021-07-01T20:17:01.088Z"
   },
   {
    "duration": 34,
    "start_time": "2021-07-01T20:17:01.144Z"
   },
   {
    "duration": 23,
    "start_time": "2021-07-01T20:17:01.181Z"
   },
   {
    "duration": 805,
    "start_time": "2021-07-01T20:17:01.207Z"
   },
   {
    "duration": 901,
    "start_time": "2021-07-01T20:17:02.014Z"
   },
   {
    "duration": 19,
    "start_time": "2021-07-01T20:17:02.917Z"
   },
   {
    "duration": 17,
    "start_time": "2021-07-01T20:17:02.938Z"
   },
   {
    "duration": 582,
    "start_time": "2021-07-01T20:17:02.958Z"
   },
   {
    "duration": 6,
    "start_time": "2021-07-01T20:17:03.550Z"
   },
   {
    "duration": 598,
    "start_time": "2021-07-01T20:17:03.560Z"
   },
   {
    "duration": 677,
    "start_time": "2021-07-01T20:17:04.162Z"
   },
   {
    "duration": 6,
    "start_time": "2021-07-01T20:17:04.841Z"
   },
   {
    "duration": 37,
    "start_time": "2021-07-01T20:17:04.850Z"
   },
   {
    "duration": 18,
    "start_time": "2021-07-01T20:17:04.890Z"
   },
   {
    "duration": 31,
    "start_time": "2021-07-01T20:17:04.911Z"
   },
   {
    "duration": 9,
    "start_time": "2021-07-01T20:17:04.945Z"
   },
   {
    "duration": 18,
    "start_time": "2021-07-01T20:17:04.986Z"
   },
   {
    "duration": 16,
    "start_time": "2021-07-01T20:17:05.007Z"
   },
   {
    "duration": 28,
    "start_time": "2021-07-01T20:17:05.026Z"
   },
   {
    "duration": 15,
    "start_time": "2021-07-01T20:17:05.056Z"
   },
   {
    "duration": 26,
    "start_time": "2021-07-01T20:17:05.074Z"
   },
   {
    "duration": 19,
    "start_time": "2021-07-01T20:17:05.103Z"
   },
   {
    "duration": 14,
    "start_time": "2021-07-01T20:17:05.125Z"
   },
   {
    "duration": 57,
    "start_time": "2021-07-01T20:17:05.142Z"
   },
   {
    "duration": 27,
    "start_time": "2021-07-01T20:17:05.201Z"
   },
   {
    "duration": 40,
    "start_time": "2021-07-01T20:17:05.230Z"
   },
   {
    "duration": 12,
    "start_time": "2021-07-01T20:17:05.272Z"
   },
   {
    "duration": 30,
    "start_time": "2021-07-01T20:17:05.286Z"
   },
   {
    "duration": 22,
    "start_time": "2021-07-01T20:17:05.318Z"
   },
   {
    "duration": 37,
    "start_time": "2021-07-01T20:17:05.343Z"
   },
   {
    "duration": 27,
    "start_time": "2021-07-01T20:17:05.382Z"
   },
   {
    "duration": 11,
    "start_time": "2021-07-01T20:17:05.412Z"
   },
   {
    "duration": 23,
    "start_time": "2021-07-01T20:17:05.426Z"
   },
   {
    "duration": 18,
    "start_time": "2021-07-01T20:17:05.452Z"
   },
   {
    "duration": 26,
    "start_time": "2021-07-01T20:17:05.472Z"
   },
   {
    "duration": 26,
    "start_time": "2021-07-01T20:17:05.500Z"
   },
   {
    "duration": 12,
    "start_time": "2021-07-01T20:17:05.529Z"
   },
   {
    "duration": 25,
    "start_time": "2021-07-01T20:17:05.543Z"
   },
   {
    "duration": 6,
    "start_time": "2021-07-01T20:17:05.586Z"
   },
   {
    "duration": 20,
    "start_time": "2021-07-01T20:17:05.594Z"
   },
   {
    "duration": 19,
    "start_time": "2021-07-01T20:17:05.616Z"
   },
   {
    "duration": 22,
    "start_time": "2021-07-01T20:17:05.638Z"
   },
   {
    "duration": 21,
    "start_time": "2021-07-01T20:17:05.662Z"
   },
   {
    "duration": 28,
    "start_time": "2021-07-01T20:17:05.686Z"
   },
   {
    "duration": 24,
    "start_time": "2021-07-01T20:17:05.717Z"
   },
   {
    "duration": 24,
    "start_time": "2021-07-01T20:17:05.744Z"
   },
   {
    "duration": 16,
    "start_time": "2021-07-01T20:17:05.771Z"
   },
   {
    "duration": 1376,
    "start_time": "2021-07-02T11:11:49.934Z"
   },
   {
    "duration": 19,
    "start_time": "2021-07-02T11:11:51.314Z"
   },
   {
    "duration": 25,
    "start_time": "2021-07-02T11:11:51.337Z"
   },
   {
    "duration": 6,
    "start_time": "2021-07-02T11:11:51.382Z"
   },
   {
    "duration": 11,
    "start_time": "2021-07-02T11:11:51.391Z"
   },
   {
    "duration": 8,
    "start_time": "2021-07-02T11:11:51.405Z"
   },
   {
    "duration": 18,
    "start_time": "2021-07-02T11:11:51.415Z"
   },
   {
    "duration": 5,
    "start_time": "2021-07-02T11:11:51.437Z"
   },
   {
    "duration": 9,
    "start_time": "2021-07-02T11:11:51.485Z"
   },
   {
    "duration": 18,
    "start_time": "2021-07-02T11:11:51.497Z"
   },
   {
    "duration": 16,
    "start_time": "2021-07-02T11:11:51.517Z"
   },
   {
    "duration": 56,
    "start_time": "2021-07-02T11:11:51.536Z"
   },
   {
    "duration": 8,
    "start_time": "2021-07-02T11:11:51.594Z"
   },
   {
    "duration": 16,
    "start_time": "2021-07-02T11:11:51.605Z"
   },
   {
    "duration": 29,
    "start_time": "2021-07-02T11:11:51.624Z"
   },
   {
    "duration": 36,
    "start_time": "2021-07-02T11:11:51.655Z"
   },
   {
    "duration": 20,
    "start_time": "2021-07-02T11:11:51.694Z"
   },
   {
    "duration": 15,
    "start_time": "2021-07-02T11:11:51.717Z"
   },
   {
    "duration": 14,
    "start_time": "2021-07-02T11:11:51.735Z"
   },
   {
    "duration": 27,
    "start_time": "2021-07-02T11:11:51.751Z"
   },
   {
    "duration": 25,
    "start_time": "2021-07-02T11:11:51.781Z"
   },
   {
    "duration": 12,
    "start_time": "2021-07-02T11:11:51.808Z"
   },
   {
    "duration": 14,
    "start_time": "2021-07-02T11:11:51.827Z"
   },
   {
    "duration": 20,
    "start_time": "2021-07-02T11:11:51.844Z"
   },
   {
    "duration": 32,
    "start_time": "2021-07-02T11:11:51.866Z"
   },
   {
    "duration": 34,
    "start_time": "2021-07-02T11:11:51.901Z"
   },
   {
    "duration": 16,
    "start_time": "2021-07-02T11:11:51.938Z"
   },
   {
    "duration": 17,
    "start_time": "2021-07-02T11:11:51.956Z"
   },
   {
    "duration": 11,
    "start_time": "2021-07-02T11:11:51.975Z"
   },
   {
    "duration": 11,
    "start_time": "2021-07-02T11:11:51.989Z"
   },
   {
    "duration": 20,
    "start_time": "2021-07-02T11:11:52.002Z"
   },
   {
    "duration": 17,
    "start_time": "2021-07-02T11:11:52.026Z"
   },
   {
    "duration": 44,
    "start_time": "2021-07-02T11:11:52.045Z"
   },
   {
    "duration": 8,
    "start_time": "2021-07-02T11:11:52.091Z"
   },
   {
    "duration": 1089,
    "start_time": "2021-07-02T11:11:52.101Z"
   },
   {
    "duration": 10,
    "start_time": "2021-07-02T11:11:53.193Z"
   },
   {
    "duration": 23,
    "start_time": "2021-07-02T11:11:53.205Z"
   },
   {
    "duration": 1376,
    "start_time": "2021-07-02T11:11:53.230Z"
   },
   {
    "duration": 17,
    "start_time": "2021-07-02T11:11:54.608Z"
   },
   {
    "duration": 6,
    "start_time": "2021-07-02T11:11:54.627Z"
   },
   {
    "duration": 10,
    "start_time": "2021-07-02T11:11:54.635Z"
   },
   {
    "duration": 36,
    "start_time": "2021-07-02T11:11:54.647Z"
   },
   {
    "duration": 11,
    "start_time": "2021-07-02T11:11:54.686Z"
   },
   {
    "duration": 24,
    "start_time": "2021-07-02T11:11:54.699Z"
   },
   {
    "duration": 777,
    "start_time": "2021-07-02T11:11:54.725Z"
   },
   {
    "duration": 15,
    "start_time": "2021-07-02T11:11:55.504Z"
   },
   {
    "duration": 17,
    "start_time": "2021-07-02T11:11:55.522Z"
   },
   {
    "duration": 7,
    "start_time": "2021-07-02T11:11:55.541Z"
   },
   {
    "duration": 865,
    "start_time": "2021-07-02T11:11:55.551Z"
   },
   {
    "duration": 14,
    "start_time": "2021-07-02T11:11:56.419Z"
   },
   {
    "duration": 20,
    "start_time": "2021-07-02T11:11:56.436Z"
   },
   {
    "duration": 51,
    "start_time": "2021-07-02T11:11:56.459Z"
   },
   {
    "duration": 5,
    "start_time": "2021-07-02T11:11:56.512Z"
   },
   {
    "duration": 7,
    "start_time": "2021-07-02T11:11:56.519Z"
   },
   {
    "duration": 57,
    "start_time": "2021-07-02T11:11:56.528Z"
   },
   {
    "duration": 6,
    "start_time": "2021-07-02T11:11:56.587Z"
   },
   {
    "duration": 12,
    "start_time": "2021-07-02T11:11:56.595Z"
   },
   {
    "duration": 11,
    "start_time": "2021-07-02T11:11:56.610Z"
   },
   {
    "duration": 14,
    "start_time": "2021-07-02T11:11:56.623Z"
   },
   {
    "duration": 60,
    "start_time": "2021-07-02T11:11:56.639Z"
   },
   {
    "duration": 16,
    "start_time": "2021-07-02T11:11:56.702Z"
   },
   {
    "duration": 20,
    "start_time": "2021-07-02T11:11:56.721Z"
   },
   {
    "duration": 1175,
    "start_time": "2021-07-02T11:11:56.745Z"
   },
   {
    "duration": 879,
    "start_time": "2021-07-02T11:11:57.924Z"
   },
   {
    "duration": 19,
    "start_time": "2021-07-02T11:11:58.805Z"
   },
   {
    "duration": 9,
    "start_time": "2021-07-02T11:11:58.827Z"
   },
   {
    "duration": 577,
    "start_time": "2021-07-02T11:11:58.838Z"
   },
   {
    "duration": 6,
    "start_time": "2021-07-02T11:11:59.423Z"
   },
   {
    "duration": 530,
    "start_time": "2021-07-02T11:11:59.432Z"
   },
   {
    "duration": 646,
    "start_time": "2021-07-02T11:11:59.966Z"
   },
   {
    "duration": 7,
    "start_time": "2021-07-02T11:12:00.615Z"
   },
   {
    "duration": 22,
    "start_time": "2021-07-02T11:12:00.625Z"
   },
   {
    "duration": 46,
    "start_time": "2021-07-02T11:12:00.650Z"
   },
   {
    "duration": 39,
    "start_time": "2021-07-02T11:12:00.699Z"
   },
   {
    "duration": 12,
    "start_time": "2021-07-02T11:12:00.741Z"
   },
   {
    "duration": 37,
    "start_time": "2021-07-02T11:12:00.755Z"
   },
   {
    "duration": 8,
    "start_time": "2021-07-02T11:12:00.795Z"
   },
   {
    "duration": 18,
    "start_time": "2021-07-02T11:12:00.805Z"
   },
   {
    "duration": 25,
    "start_time": "2021-07-02T11:12:00.825Z"
   },
   {
    "duration": 32,
    "start_time": "2021-07-02T11:12:00.853Z"
   },
   {
    "duration": 17,
    "start_time": "2021-07-02T11:12:00.888Z"
   },
   {
    "duration": 16,
    "start_time": "2021-07-02T11:12:00.908Z"
   },
   {
    "duration": 23,
    "start_time": "2021-07-02T11:12:00.926Z"
   },
   {
    "duration": 18,
    "start_time": "2021-07-02T11:12:00.952Z"
   },
   {
    "duration": 29,
    "start_time": "2021-07-02T11:12:00.973Z"
   },
   {
    "duration": 19,
    "start_time": "2021-07-02T11:12:01.004Z"
   },
   {
    "duration": 23,
    "start_time": "2021-07-02T11:12:01.025Z"
   },
   {
    "duration": 37,
    "start_time": "2021-07-02T11:12:01.051Z"
   },
   {
    "duration": 44,
    "start_time": "2021-07-02T11:12:01.091Z"
   },
   {
    "duration": 27,
    "start_time": "2021-07-02T11:12:01.138Z"
   },
   {
    "duration": 19,
    "start_time": "2021-07-02T11:12:01.168Z"
   },
   {
    "duration": 22,
    "start_time": "2021-07-02T11:12:01.190Z"
   },
   {
    "duration": 6,
    "start_time": "2021-07-02T11:12:01.214Z"
   },
   {
    "duration": 27,
    "start_time": "2021-07-02T11:12:01.222Z"
   },
   {
    "duration": 41,
    "start_time": "2021-07-02T11:12:01.251Z"
   },
   {
    "duration": 17,
    "start_time": "2021-07-02T11:12:01.295Z"
   },
   {
    "duration": 33,
    "start_time": "2021-07-02T11:12:01.315Z"
   },
   {
    "duration": 16,
    "start_time": "2021-07-02T11:12:01.351Z"
   },
   {
    "duration": 18,
    "start_time": "2021-07-02T11:12:01.370Z"
   },
   {
    "duration": 34,
    "start_time": "2021-07-02T11:12:01.391Z"
   },
   {
    "duration": 17,
    "start_time": "2021-07-02T11:12:01.427Z"
   },
   {
    "duration": 16,
    "start_time": "2021-07-02T11:12:01.447Z"
   },
   {
    "duration": 12,
    "start_time": "2021-07-02T11:12:01.465Z"
   },
   {
    "duration": 23,
    "start_time": "2021-07-02T11:12:01.480Z"
   },
   {
    "duration": 12,
    "start_time": "2021-07-02T11:12:01.506Z"
   },
   {
    "duration": 16,
    "start_time": "2021-07-02T11:12:01.520Z"
   },
   {
    "duration": 1369,
    "start_time": "2021-07-02T11:23:05.362Z"
   },
   {
    "duration": 20,
    "start_time": "2021-07-02T11:23:06.734Z"
   },
   {
    "duration": 25,
    "start_time": "2021-07-02T11:23:06.758Z"
   },
   {
    "duration": 5,
    "start_time": "2021-07-02T11:23:06.787Z"
   },
   {
    "duration": 11,
    "start_time": "2021-07-02T11:23:06.795Z"
   },
   {
    "duration": 13,
    "start_time": "2021-07-02T11:23:06.809Z"
   },
   {
    "duration": 21,
    "start_time": "2021-07-02T11:23:06.824Z"
   },
   {
    "duration": 9,
    "start_time": "2021-07-02T11:23:06.848Z"
   },
   {
    "duration": 10,
    "start_time": "2021-07-02T11:23:06.884Z"
   },
   {
    "duration": 14,
    "start_time": "2021-07-02T11:23:06.897Z"
   },
   {
    "duration": 20,
    "start_time": "2021-07-02T11:23:06.914Z"
   },
   {
    "duration": 52,
    "start_time": "2021-07-02T11:23:06.937Z"
   },
   {
    "duration": 10,
    "start_time": "2021-07-02T11:23:06.992Z"
   },
   {
    "duration": 12,
    "start_time": "2021-07-02T11:23:07.005Z"
   },
   {
    "duration": 28,
    "start_time": "2021-07-02T11:23:07.020Z"
   },
   {
    "duration": 39,
    "start_time": "2021-07-02T11:23:07.050Z"
   },
   {
    "duration": 13,
    "start_time": "2021-07-02T11:23:07.091Z"
   },
   {
    "duration": 14,
    "start_time": "2021-07-02T11:23:07.106Z"
   },
   {
    "duration": 15,
    "start_time": "2021-07-02T11:23:07.123Z"
   },
   {
    "duration": 16,
    "start_time": "2021-07-02T11:23:07.140Z"
   },
   {
    "duration": 25,
    "start_time": "2021-07-02T11:23:07.159Z"
   },
   {
    "duration": 18,
    "start_time": "2021-07-02T11:23:07.187Z"
   },
   {
    "duration": 19,
    "start_time": "2021-07-02T11:23:07.211Z"
   },
   {
    "duration": 12,
    "start_time": "2021-07-02T11:23:07.234Z"
   },
   {
    "duration": 26,
    "start_time": "2021-07-02T11:23:07.248Z"
   },
   {
    "duration": 25,
    "start_time": "2021-07-02T11:23:07.276Z"
   },
   {
    "duration": 21,
    "start_time": "2021-07-02T11:23:07.303Z"
   },
   {
    "duration": 20,
    "start_time": "2021-07-02T11:23:07.327Z"
   },
   {
    "duration": 19,
    "start_time": "2021-07-02T11:23:07.350Z"
   },
   {
    "duration": 23,
    "start_time": "2021-07-02T11:23:07.371Z"
   },
   {
    "duration": 25,
    "start_time": "2021-07-02T11:23:07.396Z"
   },
   {
    "duration": 20,
    "start_time": "2021-07-02T11:23:07.424Z"
   },
   {
    "duration": 16,
    "start_time": "2021-07-02T11:23:07.447Z"
   },
   {
    "duration": 25,
    "start_time": "2021-07-02T11:23:07.465Z"
   },
   {
    "duration": 1042,
    "start_time": "2021-07-02T11:23:07.493Z"
   },
   {
    "duration": 9,
    "start_time": "2021-07-02T11:23:08.538Z"
   },
   {
    "duration": 39,
    "start_time": "2021-07-02T11:23:08.550Z"
   },
   {
    "duration": 842,
    "start_time": "2021-07-02T11:23:08.591Z"
   },
   {
    "duration": 15,
    "start_time": "2021-07-02T11:23:09.436Z"
   },
   {
    "duration": 29,
    "start_time": "2021-07-02T11:23:09.454Z"
   },
   {
    "duration": 8,
    "start_time": "2021-07-02T11:23:09.485Z"
   },
   {
    "duration": 9,
    "start_time": "2021-07-02T11:23:09.496Z"
   },
   {
    "duration": 9,
    "start_time": "2021-07-02T11:23:09.508Z"
   },
   {
    "duration": 25,
    "start_time": "2021-07-02T11:23:09.520Z"
   },
   {
    "duration": 771,
    "start_time": "2021-07-02T11:23:09.547Z"
   },
   {
    "duration": 16,
    "start_time": "2021-07-02T11:23:10.320Z"
   },
   {
    "duration": 16,
    "start_time": "2021-07-02T11:23:10.338Z"
   },
   {
    "duration": 29,
    "start_time": "2021-07-02T11:23:10.356Z"
   },
   {
    "duration": 821,
    "start_time": "2021-07-02T11:23:10.387Z"
   },
   {
    "duration": 15,
    "start_time": "2021-07-02T11:23:11.210Z"
   },
   {
    "duration": 27,
    "start_time": "2021-07-02T11:23:11.227Z"
   },
   {
    "duration": 50,
    "start_time": "2021-07-02T11:23:11.256Z"
   },
   {
    "duration": 13,
    "start_time": "2021-07-02T11:23:11.309Z"
   },
   {
    "duration": 13,
    "start_time": "2021-07-02T11:23:11.325Z"
   },
   {
    "duration": 49,
    "start_time": "2021-07-02T11:23:11.341Z"
   },
   {
    "duration": 8,
    "start_time": "2021-07-02T11:23:11.392Z"
   },
   {
    "duration": 19,
    "start_time": "2021-07-02T11:23:11.402Z"
   },
   {
    "duration": 13,
    "start_time": "2021-07-02T11:23:11.423Z"
   },
   {
    "duration": 10,
    "start_time": "2021-07-02T11:23:11.439Z"
   },
   {
    "duration": 44,
    "start_time": "2021-07-02T11:23:11.451Z"
   },
   {
    "duration": 15,
    "start_time": "2021-07-02T11:23:11.498Z"
   },
   {
    "duration": 26,
    "start_time": "2021-07-02T11:23:11.516Z"
   },
   {
    "duration": 762,
    "start_time": "2021-07-02T11:23:11.544Z"
   },
   {
    "duration": 854,
    "start_time": "2021-07-02T11:23:12.308Z"
   },
   {
    "duration": 26,
    "start_time": "2021-07-02T11:23:13.164Z"
   },
   {
    "duration": 9,
    "start_time": "2021-07-02T11:23:13.192Z"
   },
   {
    "duration": 531,
    "start_time": "2021-07-02T11:23:13.204Z"
   },
   {
    "duration": 6,
    "start_time": "2021-07-02T11:23:13.744Z"
   },
   {
    "duration": 558,
    "start_time": "2021-07-02T11:23:13.753Z"
   },
   {
    "duration": 619,
    "start_time": "2021-07-02T11:23:14.313Z"
   },
   {
    "duration": 7,
    "start_time": "2021-07-02T11:23:14.934Z"
   },
   {
    "duration": 17,
    "start_time": "2021-07-02T11:23:14.943Z"
   },
   {
    "duration": 18,
    "start_time": "2021-07-02T11:23:14.983Z"
   },
   {
    "duration": 37,
    "start_time": "2021-07-02T11:23:15.004Z"
   },
   {
    "duration": 9,
    "start_time": "2021-07-02T11:23:15.044Z"
   },
   {
    "duration": 40,
    "start_time": "2021-07-02T11:23:15.056Z"
   },
   {
    "duration": 6,
    "start_time": "2021-07-02T11:23:15.098Z"
   },
   {
    "duration": 9,
    "start_time": "2021-07-02T11:23:15.106Z"
   },
   {
    "duration": 10,
    "start_time": "2021-07-02T11:23:15.117Z"
   },
   {
    "duration": 7,
    "start_time": "2021-07-02T11:23:15.129Z"
   },
   {
    "duration": 12,
    "start_time": "2021-07-02T11:23:15.184Z"
   },
   {
    "duration": 7,
    "start_time": "2021-07-02T11:23:15.198Z"
   },
   {
    "duration": 7,
    "start_time": "2021-07-02T11:23:15.208Z"
   },
   {
    "duration": 10,
    "start_time": "2021-07-02T11:23:15.217Z"
   },
   {
    "duration": 65,
    "start_time": "2021-07-02T11:23:15.230Z"
   },
   {
    "duration": 14,
    "start_time": "2021-07-02T11:23:15.298Z"
   },
   {
    "duration": 14,
    "start_time": "2021-07-02T11:23:15.315Z"
   },
   {
    "duration": 10,
    "start_time": "2021-07-02T11:23:15.332Z"
   },
   {
    "duration": 51,
    "start_time": "2021-07-02T11:23:15.344Z"
   },
   {
    "duration": 15,
    "start_time": "2021-07-02T11:23:15.398Z"
   },
   {
    "duration": 9,
    "start_time": "2021-07-02T11:23:15.415Z"
   },
   {
    "duration": 23,
    "start_time": "2021-07-02T11:23:15.426Z"
   },
   {
    "duration": 31,
    "start_time": "2021-07-02T11:23:15.452Z"
   },
   {
    "duration": 16,
    "start_time": "2021-07-02T11:23:15.486Z"
   },
   {
    "duration": 13,
    "start_time": "2021-07-02T11:23:15.505Z"
   },
   {
    "duration": 10,
    "start_time": "2021-07-02T11:23:15.521Z"
   },
   {
    "duration": 17,
    "start_time": "2021-07-02T11:23:15.533Z"
   },
   {
    "duration": 35,
    "start_time": "2021-07-02T11:23:15.552Z"
   },
   {
    "duration": 11,
    "start_time": "2021-07-02T11:23:15.589Z"
   },
   {
    "duration": 8,
    "start_time": "2021-07-02T11:23:15.603Z"
   },
   {
    "duration": 11,
    "start_time": "2021-07-02T11:23:15.614Z"
   },
   {
    "duration": 13,
    "start_time": "2021-07-02T11:23:15.628Z"
   },
   {
    "duration": 41,
    "start_time": "2021-07-02T11:23:15.644Z"
   },
   {
    "duration": 8,
    "start_time": "2021-07-02T11:23:15.687Z"
   },
   {
    "duration": 10,
    "start_time": "2021-07-02T11:23:15.697Z"
   },
   {
    "duration": 19,
    "start_time": "2021-07-02T11:23:15.709Z"
   },
   {
    "duration": 1013,
    "start_time": "2021-07-04T20:46:50.942Z"
   },
   {
    "duration": 17,
    "start_time": "2021-07-04T20:46:51.957Z"
   },
   {
    "duration": 12,
    "start_time": "2021-07-04T20:46:51.976Z"
   },
   {
    "duration": 3,
    "start_time": "2021-07-04T20:46:51.990Z"
   },
   {
    "duration": 7,
    "start_time": "2021-07-04T20:46:51.994Z"
   },
   {
    "duration": 4,
    "start_time": "2021-07-04T20:46:52.003Z"
   },
   {
    "duration": 11,
    "start_time": "2021-07-04T20:46:52.009Z"
   },
   {
    "duration": 4,
    "start_time": "2021-07-04T20:46:52.022Z"
   },
   {
    "duration": 7,
    "start_time": "2021-07-04T20:46:52.028Z"
   },
   {
    "duration": 9,
    "start_time": "2021-07-04T20:46:52.037Z"
   },
   {
    "duration": 41,
    "start_time": "2021-07-04T20:46:52.047Z"
   },
   {
    "duration": 58,
    "start_time": "2021-07-04T20:46:52.089Z"
   },
   {
    "duration": 6,
    "start_time": "2021-07-04T20:46:52.148Z"
   },
   {
    "duration": 10,
    "start_time": "2021-07-04T20:46:52.155Z"
   },
   {
    "duration": 21,
    "start_time": "2021-07-04T20:46:52.166Z"
   },
   {
    "duration": 7,
    "start_time": "2021-07-04T20:46:52.189Z"
   },
   {
    "duration": 7,
    "start_time": "2021-07-04T20:46:52.197Z"
   },
   {
    "duration": 4,
    "start_time": "2021-07-04T20:46:52.205Z"
   },
   {
    "duration": 6,
    "start_time": "2021-07-04T20:46:52.210Z"
   },
   {
    "duration": 5,
    "start_time": "2021-07-04T20:46:52.217Z"
   },
   {
    "duration": 9,
    "start_time": "2021-07-04T20:46:52.223Z"
   },
   {
    "duration": 9,
    "start_time": "2021-07-04T20:46:52.233Z"
   },
   {
    "duration": 6,
    "start_time": "2021-07-04T20:46:52.246Z"
   },
   {
    "duration": 35,
    "start_time": "2021-07-04T20:46:52.254Z"
   },
   {
    "duration": 5,
    "start_time": "2021-07-04T20:46:52.290Z"
   },
   {
    "duration": 9,
    "start_time": "2021-07-04T20:46:52.296Z"
   },
   {
    "duration": 10,
    "start_time": "2021-07-04T20:46:52.306Z"
   },
   {
    "duration": 6,
    "start_time": "2021-07-04T20:46:52.318Z"
   },
   {
    "duration": 5,
    "start_time": "2021-07-04T20:46:52.326Z"
   },
   {
    "duration": 7,
    "start_time": "2021-07-04T20:46:52.332Z"
   },
   {
    "duration": 11,
    "start_time": "2021-07-04T20:46:52.341Z"
   },
   {
    "duration": 44,
    "start_time": "2021-07-04T20:46:52.354Z"
   },
   {
    "duration": 10,
    "start_time": "2021-07-04T20:46:52.399Z"
   },
   {
    "duration": 4,
    "start_time": "2021-07-04T20:46:52.410Z"
   },
   {
    "duration": 696,
    "start_time": "2021-07-04T20:46:52.416Z"
   },
   {
    "duration": 6,
    "start_time": "2021-07-04T20:46:53.114Z"
   },
   {
    "duration": 10,
    "start_time": "2021-07-04T20:46:53.121Z"
   },
   {
    "duration": 636,
    "start_time": "2021-07-04T20:46:53.133Z"
   },
   {
    "duration": 19,
    "start_time": "2021-07-04T20:46:53.771Z"
   },
   {
    "duration": 4,
    "start_time": "2021-07-04T20:46:53.792Z"
   },
   {
    "duration": 6,
    "start_time": "2021-07-04T20:46:53.797Z"
   },
   {
    "duration": 6,
    "start_time": "2021-07-04T20:46:53.805Z"
   },
   {
    "duration": 7,
    "start_time": "2021-07-04T20:46:53.812Z"
   },
   {
    "duration": 16,
    "start_time": "2021-07-04T20:46:53.820Z"
   },
   {
    "duration": 474,
    "start_time": "2021-07-04T20:46:53.837Z"
   },
   {
    "duration": 11,
    "start_time": "2021-07-04T20:46:54.313Z"
   },
   {
    "duration": 11,
    "start_time": "2021-07-04T20:46:54.326Z"
   },
   {
    "duration": 5,
    "start_time": "2021-07-04T20:46:54.339Z"
   },
   {
    "duration": 630,
    "start_time": "2021-07-04T20:46:54.345Z"
   },
   {
    "duration": 16,
    "start_time": "2021-07-04T20:46:54.977Z"
   },
   {
    "duration": 12,
    "start_time": "2021-07-04T20:46:54.995Z"
   },
   {
    "duration": 17,
    "start_time": "2021-07-04T20:46:55.009Z"
   },
   {
    "duration": 4,
    "start_time": "2021-07-04T20:46:55.028Z"
   },
   {
    "duration": 6,
    "start_time": "2021-07-04T20:46:55.034Z"
   },
   {
    "duration": 47,
    "start_time": "2021-07-04T20:46:55.042Z"
   },
   {
    "duration": 4,
    "start_time": "2021-07-04T20:46:55.091Z"
   },
   {
    "duration": 21,
    "start_time": "2021-07-04T20:46:55.097Z"
   },
   {
    "duration": 9,
    "start_time": "2021-07-04T20:46:55.120Z"
   },
   {
    "duration": 6,
    "start_time": "2021-07-04T20:46:55.130Z"
   },
   {
    "duration": 20,
    "start_time": "2021-07-04T20:46:55.137Z"
   },
   {
    "duration": 28,
    "start_time": "2021-07-04T20:46:55.159Z"
   },
   {
    "duration": 11,
    "start_time": "2021-07-04T20:46:55.188Z"
   },
   {
    "duration": 490,
    "start_time": "2021-07-04T20:46:55.201Z"
   },
   {
    "duration": 569,
    "start_time": "2021-07-04T20:46:55.693Z"
   },
   {
    "duration": 12,
    "start_time": "2021-07-04T20:46:56.264Z"
   },
   {
    "duration": 10,
    "start_time": "2021-07-04T20:46:56.285Z"
   },
   {
    "duration": 394,
    "start_time": "2021-07-04T20:46:56.297Z"
   },
   {
    "duration": 4,
    "start_time": "2021-07-04T20:46:56.697Z"
   },
   {
    "duration": 390,
    "start_time": "2021-07-04T20:46:56.703Z"
   },
   {
    "duration": 466,
    "start_time": "2021-07-04T20:46:57.094Z"
   },
   {
    "duration": 4,
    "start_time": "2021-07-04T20:46:57.561Z"
   },
   {
    "duration": 23,
    "start_time": "2021-07-04T20:46:57.567Z"
   },
   {
    "duration": 10,
    "start_time": "2021-07-04T20:46:57.592Z"
   },
   {
    "duration": 19,
    "start_time": "2021-07-04T20:46:57.604Z"
   },
   {
    "duration": 6,
    "start_time": "2021-07-04T20:46:57.624Z"
   },
   {
    "duration": 11,
    "start_time": "2021-07-04T20:46:57.631Z"
   },
   {
    "duration": 4,
    "start_time": "2021-07-04T20:46:57.643Z"
   },
   {
    "duration": 4,
    "start_time": "2021-07-04T20:46:57.648Z"
   },
   {
    "duration": 34,
    "start_time": "2021-07-04T20:46:57.654Z"
   },
   {
    "duration": 7,
    "start_time": "2021-07-04T20:46:57.689Z"
   },
   {
    "duration": 9,
    "start_time": "2021-07-04T20:46:57.697Z"
   },
   {
    "duration": 4,
    "start_time": "2021-07-04T20:46:57.707Z"
   },
   {
    "duration": 7,
    "start_time": "2021-07-04T20:46:57.712Z"
   },
   {
    "duration": 7,
    "start_time": "2021-07-04T20:46:57.721Z"
   },
   {
    "duration": 11,
    "start_time": "2021-07-04T20:46:57.730Z"
   },
   {
    "duration": 43,
    "start_time": "2021-07-04T20:46:57.742Z"
   },
   {
    "duration": 7,
    "start_time": "2021-07-04T20:46:57.787Z"
   },
   {
    "duration": 6,
    "start_time": "2021-07-04T20:46:57.796Z"
   },
   {
    "duration": 15,
    "start_time": "2021-07-04T20:46:57.803Z"
   },
   {
    "duration": 10,
    "start_time": "2021-07-04T20:46:57.820Z"
   },
   {
    "duration": 6,
    "start_time": "2021-07-04T20:46:57.832Z"
   },
   {
    "duration": 13,
    "start_time": "2021-07-04T20:46:57.840Z"
   },
   {
    "duration": 33,
    "start_time": "2021-07-04T20:46:57.854Z"
   },
   {
    "duration": 12,
    "start_time": "2021-07-04T20:46:57.888Z"
   },
   {
    "duration": 11,
    "start_time": "2021-07-04T20:46:57.901Z"
   },
   {
    "duration": 5,
    "start_time": "2021-07-04T20:46:57.914Z"
   },
   {
    "duration": 10,
    "start_time": "2021-07-04T20:46:57.921Z"
   },
   {
    "duration": 3,
    "start_time": "2021-07-04T20:46:57.932Z"
   },
   {
    "duration": 5,
    "start_time": "2021-07-04T20:46:57.937Z"
   },
   {
    "duration": 6,
    "start_time": "2021-07-04T20:46:57.944Z"
   },
   {
    "duration": 34,
    "start_time": "2021-07-04T20:46:57.952Z"
   },
   {
    "duration": 8,
    "start_time": "2021-07-04T20:46:57.987Z"
   },
   {
    "duration": 4,
    "start_time": "2021-07-04T20:46:57.997Z"
   },
   {
    "duration": 7,
    "start_time": "2021-07-04T20:46:58.002Z"
   },
   {
    "duration": 6,
    "start_time": "2021-07-04T20:46:58.011Z"
   },
   {
    "duration": 9,
    "start_time": "2021-07-04T20:46:58.018Z"
   }
  ],
  "kernelspec": {
   "display_name": "Python 3",
   "language": "python",
   "name": "python3"
  },
  "language_info": {
   "codemirror_mode": {
    "name": "ipython",
    "version": 3
   },
   "file_extension": ".py",
   "mimetype": "text/x-python",
   "name": "python",
   "nbconvert_exporter": "python",
   "pygments_lexer": "ipython3",
   "version": "3.7.8"
  },
  "toc": {
   "base_numbering": 1,
   "nav_menu": {},
   "number_sections": true,
   "sideBar": true,
   "skip_h1_title": true,
   "title_cell": "Table of Contents",
   "title_sidebar": "Contents",
   "toc_cell": false,
   "toc_position": {},
   "toc_section_display": true,
   "toc_window_display": false
  }
 },
 "nbformat": 4,
 "nbformat_minor": 2
}
